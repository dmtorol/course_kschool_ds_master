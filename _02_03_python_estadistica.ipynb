{
 "cells": [
  {
   "cell_type": "markdown",
   "metadata": {},
   "source": [
    "# 1. Estadística con Python"
   ]
  },
  {
   "cell_type": "markdown",
   "metadata": {},
   "source": [
    "## 1.1. Intro\n",
    "\n",
    "La estadística es una disciplina científica que se ocupa de la obtención, orden y análisis de un conjunto de datos con el fin de obtener explicaciones y predicciones sobre fenómenos observados.\n",
    "\n",
    "La estadística consiste en métodos, procedimientos y fórmulas que permiten recolectar información para luego analizarla y extraer de ella conclusiones relevantes. Se puede decir que es la Ciencia de los Datos y que su principal objetivo es mejorar la comprensión de los hechos a partir de la información disponible.\n",
    "\n",
    "La estadística se divide en dos grandes áreas:\n",
    "\n",
    "- Estadística descriptiva: Se refiere a los métodos de recolección, organización, resumen y presentación de un conjunto de datos. Se trata principalmente de describir las características fundamentales de los datos y para ellos se suelen utilizar indicadores, gráficos y tablas.\n",
    "\n",
    "- Estadística inferencial: Se trata de un paso más allá de la mera descripción. Se refiere a los métodos utilizados para poder hacer predicciones, generalizaciones y obtener conclusiones a partir de los datos analizados teniendo en cuenta el grado de incertidumbre existente.\n",
    "\n",
    "La estadística inferencial se subdivide a su vez en dos grandes tipos: estadística paramétrica y no paramétrica.\n",
    "\n",
    "- Estadística paramétrica: Se caracteriza porque asume que los datos tienen una determinada distribución o se especifican determinados parámetros que deberían cumplirse. Así por ejemplo, en un análisis paramétrico podemos trabajar bajo el supuesto de que la población se distribuye como una Normal (hay que justificar nuestro supuesto) y luego sacar conclusiones bajo el supuesto que esta condición se cumple.\n",
    "\n",
    "- Estadística no paramétrica: En ella no es posible asumir ningún tipo de distribución subyacente en los datos ni tampoco un parámetro específico. Un ejemplo de este tipo de análisis es la prueba binomial."
   ]
  },
  {
   "cell_type": "markdown",
   "metadata": {},
   "source": [
    "## 1.2. Terminología básica\n",
    "\n",
    "Existen algunos términos que se utilizan con mucha frecuencia en el ámbito estadístico, y que es necesario conocer ya que tienen implicaciones diferentes a la hora de realizar un análisis de un tipo u otro.\n",
    "\n",
    "- Población: conjunto de elementos a los que se les estudia una característica.\n",
    "- Individuo: cada uno de los elementos de la población.\n",
    "- Muestra: subconjunto representativo de la población.\n",
    "- Tamaño: número de elementos o de la muestra. Cuando la muestra es del mismo tamaño que la población, se denomina censo.\n",
    "- Variable estadística: característica propia del individuo objeto del estudio estadístico.\n",
    "\n",
    "Tipos de variables estadísticas:\n",
    "\n",
    "- Cualitativas o categóricas: también llamados atributos, son aquellas variables que no podemos representar numéricamente y describen cualidades:\n",
    "    - Dicotómicas $\\rightarrow$ Género: masculino o femenino.\n",
    "    - Nominales $\\rightarrow$ País de origen: España, Colombia, Indonesia...etc.\n",
    "    - Ordinales $\\rightarrow$ Severida de una patología: leve, moderada, severa.\n",
    "    \n",
    "    \n",
    "- Cuantitativas o numéricas: aquellas que toman valores numéricos\n",
    "    - Discretas $\\rightarrow$ Los valores de un dado, están acotados del 1 al 6.\n",
    "    - Continuas $\\rightarrow$ Resultado de mediciones: la estatura o el peso."
   ]
  },
  {
   "cell_type": "markdown",
   "metadata": {},
   "source": [
    "## 1.3. Estadística descriptiva"
   ]
  },
  {
   "cell_type": "markdown",
   "metadata": {},
   "source": [
    "### 1.3.1. Medidas de centralidad\n",
    "\n",
    "Entre las medidas características de una distribución destacan las llamadas medidas de centralización, que nos indicarán el valor promedio de los datos, o en torno a qué valor se distribuyen estos.\n",
    "\n",
    "**Media aritmética:**\n",
    "\n",
    "Supongamos que tenemos una muestra de tamaño $N$, donde la variable estadística $x$ toma los valores: $x_1$, $x_2$, ... $x_n$, la media aritmética $\\bar x$.\n",
    "\n",
    "$$\\bar{x} = \\frac{\\sum_{i=1}^{n}x_i}{n}$$\n",
    "\n",
    "Una propiedad importante de la media aritmética es que la suma de las desviaciones de un conjunto de datos respecto a su media es cero. Es decir, la media equilibra las desviaciones positivas y negativas respecto a su valor.\n",
    "\n",
    "La media representa entonces una especie de centro de gravedad, o centro geométrico, del conjunto de medidas. Una característica importante de la media como medida de tendencia central es que es muy poco robusta, es decir depende mucho de valores particulares de los datos.\n",
    "\n",
    "**Mediana:**\n",
    "\n",
    "Una medida de centralización importante es la mediana $M_e$. Se define ésta como una medida central tal que, con los datos ordenados de menor a mayor, el 50% de los datos son inferiores a su valor y el 50% de los datos tienen valores superiores. Es decir, la mediana divide en dos partes iguales la distribución de frecuencias o, gráficamente, divide el histograma en dos partes de áreas iguales.\n",
    "\n",
    "La fórmula general para calcular la mediana de una muestra de tamaño $N$ dependerá de sí $N$ es par o impar. Si es impar la fórmula es $M_e = N/2$, mientras que si $N$ es par, la mediana se calculará como la media aritmética de los dos valores centrales de la muestra.\n",
    "\n",
    "En comparacióon con la media aritmética la mediana, como medida de centralización, tiene propiedades muy distintas, presentando sus ventajas e inconvenientes. Por un lado, la mayor ventaja de la media es que se utiliza toda la información de la distribución de frecuencias (todos los valores particulares de la variable), en contraste con la mediana, que solo utiliza el orden en que se distribuyen los valores. Podría pues considerarse, desde este punto de vista, que la media aritmética es una medida más fiable del valor central de los datos. Sin embargo, como hemos visto anteriormente, la media es muy poco robusta, en el sentidode que es muy sensible a valores extremos de la variable y, por lo tanto, a posibles errores en las medidas. La mediana, por otro lado, es una medida robusta, siendo muy insensible a valores que se desvíen mucho.\n",
    "\n",
    "En general, lo mejor es considerar media aritmética y mediana como medidas complementarias. Es más, la comparación de sus valores puede suministrar información muy útil sobre la distribución de los datos.\n",
    "\n",
    "**Moda:**\n",
    "\n",
    "Se define la moda $M_o$ de una muestra como aquel valor de la variable que tiene una frecuencia maxima. En otras palabras, es el valor que más se repite. Hay que indicar que puede suceder que la moda no sea única, es decir que aparezcan varios máximos en la distribución de frecuencias. En ese caso diremos que tenemos una distribución bimodal, trimodal, etc. Evidentemente, en el caso de una variable discreta que no toma valores repetidos, la moda no tiene sentido. Cuando sí existen valores repetidos su cálculo es directo ya que puede leerse directamente de la tabla de distribución de frecuencias.\n",
    "\n",
    "**Cuartiles, deciles y percentiles:**\n",
    "\n",
    "Vamos a generalizar ahora el concepto de mediana. Vimos que ésta era el valor de la variable que dividía a la muestra (ordenada) en dos mitades iguales. Definimos ahora los cuartiles como los tres valores que divididen la muestra en cuatro partes iguales.\n",
    "\n",
    "Así el primer cuartil $Q_{1/4}$ será la medida tal que el 25% de los datos sean inferiores a su valor y el 75% de los datos sean superiores. El segundo cuartil $Q_{2/4}$ coincide con la mediana, mientras que el tercer cuartil $Q_{3/4}$ marcará el valor tal que las tres cuartas partes de las observaciones sean inferiores a él y una cuarta parte sea superior.\n",
    "\n",
    "La forma de calcular los cuartiles es igual a la ya vista para la mediana pero sustituyendo $N/2$, por $N/4$ y $3N/4$ para $Q_{1/4}$ y $Q_{3/4}$ respectivamente.\n",
    "\n",
    "De la misma forma podemos definir los deciles como aquellos valores de la variable que dividen la muestra, ordenada, en 10 partes iguales, y los percentiles, también llamados centiles, como aquellos valores que dividen la muestra en 100 partes iguales.\n",
    "\n",
    "La forma de calcular deciles y percentiles es igual a la de la mediana y los cuartiles, sustituyendo $N/2$ por la fracción del número total de datos correspondiente. Evidentemente algunos valores de cuartiles, deciles y centiles coinciden, cumpliéndose por ejemplo:\n",
    "\n",
    "$$ P_{50} = D_5 = Q_{1/2} = M_e $$"
   ]
  },
  {
   "cell_type": "markdown",
   "metadata": {},
   "source": [
    "**Ejercicio:**\n",
    "\n",
    "Vamos a analizar mediante un ejercicio, las medidas de centralidad de un conjunto de datos. Los datos:\n",
    "\n",
    "National Survey of Family Growth, taken from https://github.com/AllenDowney/ThinkStats2. También se encuentra en el directorio *_data* de este repositorio.\n",
    "\n",
    "- `caseid`: is the integer ID of the respondent.\n",
    "- `prglngth` is the integer duration of the pregnancy in weeks.\n",
    "- `outcome` is an integer code for the outcome of the pregnancy. The code 1 indicates a live birth.\n",
    "- `pregordr` is a pregnancy serial number; for example, the code for a respondent’s first pregnancy is 1, for the second pregnancy is 2, and so on.\n",
    "- `birthord` is a serial number for live births; the code for a respondent’s first child is 1, and so on. For outcomes other than live birth, this field is blank.\n",
    "- `birthwgt_lb` and `birthwgt_oz` contain the pounds and ounces parts of the birth weight of the baby.\n",
    "- `agepreg` is the mother’s age at the end of the pregnancy.\n",
    "- `finalwgt` is the statistical weight associated with the respondent. It is a floating-point value that indicates the number of people in the U.S. population this respondent represents.\n",
    "- `poverty`: poverty level income\n",
    "\n",
    "Cargamos los siguientes módulos:"
   ]
  },
  {
   "cell_type": "code",
   "execution_count": 4,
   "metadata": {},
   "outputs": [],
   "source": [
    "import pandas as pd                                           # Módulo de data wrangling\n",
    "import matplotlib.pyplot as plt; plt.style.use('seaborn')     # Módulo de visualización, estilo 'seaborn'\n",
    "import seaborn as sns                                         # Módulo de visualización\n",
    "import numpy as np                                            # Módulo de álgebra\n",
    "import scipy as sp                                            # Módulo de operaciones matemáticas\n",
    "from scipy import stats                                       # Módulo de datos estadísticos\n",
    "import statsmodels.api as sm                                  # Módulo de datos estadísticos"
   ]
  },
  {
   "cell_type": "markdown",
   "metadata": {},
   "source": [
    "Cargar los datos. Como en los ejemplos se va a trabajar con las variables *birthwgt_lb* y *birthwgt_oz* que vienen dadas en libras y en onzas, vamos a crear una variable que contenga esta información en gramos, que permite una lectura de los datos adaptada a las unidades de medida del SI y por lo tanto, más legibles."
   ]
  },
  {
   "cell_type": "code",
   "execution_count": 11,
   "metadata": {},
   "outputs": [
    {
     "data": {
      "image/png": "[encoded data removed]",
      "text/plain": [
       "<Figure size 576x396 with 1 Axes>"
      ]
     },
     "metadata": {},
     "output_type": "display_data"
    }
   ],
   "source": [
    "# Cargamos los datos de la carpeta _data/_national_survey_family_growth\n",
    "df = pd.read_csv('_data/_national_survey_family_growth/nsfg.csv')\n",
    "\n",
    "# Creamos una variable nueva para tener el peso de nacimiento en gramos.\n",
    "df['birthwgt_g'] = df['birthwgt_lb']*454 + df['birthwgt_oz']*28.35\n",
    "\n",
    "# Graficamos en forma de histograma la nueva variable, e incluimos la media y la mediana\n",
    "plt.hist(df['birthwgt_g'], bins = range(0, 7000, 100));\n",
    "plt.axvline(df['birthwgt_g'].mean(), color = 'orange')\n",
    "plt.axvline(df['birthwgt_g'].median(), color = 'green');"
   ]
  },
  {
   "cell_type": "markdown",
   "metadata": {},
   "source": [
    "### 1.3.2. Medidas de dispersión\n",
    "\n",
    "Las medidas de centralización vistas anteriormente reducen la información recogida de la muestra a un solo valor. Sin embargo, dicho valor central, o medio, será más o menos representativo de los valores de la muestra dependiendo de la dispersión que las medidas individuales tengan respecto a dicho centro. Para analizar la representatividad de las medidas de centralización se definen las llamadas medidas de dispersión.\n",
    "\n",
    "Estas nos indican la variabilidad de los datos en torno a su valor promedio, es decir si se encuentran muy o poco esparcidos en torno a su centro. Se pueden definir entonces, diversas medidas de desviación o dispersión, siendo éstas fundamentales para la descripción estadística de la muestra.\n",
    "\n",
    "**Recorrido:**\n",
    "\n",
    "Una evaluación rápida de la dispersión de los datos se puede realizar calculando el recorrido (también llamado rango), o diferencia entre el valor máximo y mínimo que toma la variable estadística. Con el fin de eliminar la excesiva influencia de los valores extremos en el recorrido, se define el recorrido intercuartílico como la diferencia entre el trecer y primer cuartil.\n",
    "\n",
    "$$ R_I = Q_{3/4} - Q_{1/4} $$\n",
    "\n",
    "**Varianza y desviación típica:**\n",
    "\n",
    "Sin lugar a dudas la medida más usada para estimar la dispersión de los datos es la desviación típica. Esta es especialmente aconsejable cuando se usa la media aritmética como medida de tendencia central. Al igual que la desviación media, está basada en un valor promedio de las desviaciones respecto a la media.\n",
    "\n",
    "En este caso, en vez de tomar valores absolutos de las desviaciones, para evitar así que se compensen desviaciones positivas y negativas, se usan los cuadrados de las desviaciones. Esto hace además que los datos con desviaciones grandes influyan mucho en el resultado final. Se define entonces la varianza de una muestra como:\n",
    "\n",
    "$$s^2 = \\frac{\\sum_{i=1}^{n}(x_i - \\bar{x})^2}{n-1}$$\n",
    "\n",
    "Evidentemente la varianza no tiene las mismas unidades que los datos de la muestra. Para conseguir las mismas unidades se define la desviación típica (algunas veces llamada desviación estándar) como la raíz cuadrada de la varianza:\n",
    "\n",
    "$$s = \\sigma = \\sqrt{s^2}$$\n",
    "\n",
    "En muchas ocasiones se definen varianza y desviación típica utilizando $N$ en vez de $N − 1$ en el denominador, representando entonces la varianza una verdadera media aritmética del cuadrado de las desviaciones. \n",
    "\n",
    "El motivo de haber optado aquí por la definición con $N − 1$ es que ésta da una mejor estimación de la dispersión de los datos.\n",
    "Téngase en cuenta que como la suma de las desviaciones $x_i − \\bar x$ es siempre 0, la desviación del último dato puede calcularse una vez que se conozcan las $N − 1$ anteriores. Es decir, sólo se tienen $N − 1$ desviaciones independientes (se dice que el sistema tiene $N − 1$ grados de libertad) y se promedia entonces dividiendo por $N−1$, ya que no tiene mucho sentido promediar $N$ números no independientes. Está claro que ambas definiciones llevan a valores muy parecidos cuando $N$ es grande.\n",
    "\n",
    "Hay que indicar que la desviación típica no es una medida robusta de la dispersión. El hecho de que se calcule evaluando los cuadrados de las desviaciones hace que sea muy sensible a observaciones extremas, bastante más que la desviación media (dado que aparece un cuadrado). En definitiva, la desviación típica no es una buena medida de dispersión cuando se tiene algún dato muy alejado de la media. El rango intercuartílico nos daría en ese caso una idea más aproximada de cuál es la dispersión de los datos. El que la desviación típica sea la medida de dispersión más común se debe a su íntima conexión con la distribución normal, como se verá en los siguientes apartados."
   ]
  },
  {
   "cell_type": "markdown",
   "metadata": {},
   "source": [
    "**Ejercicio:**\n",
    "\n",
    "Vamos a analizar mediante un ejercicio, las medidas de dispersión del conjunto de datos anterior."
   ]
  },
  {
   "cell_type": "code",
   "execution_count": 12,
   "metadata": {},
   "outputs": [
    {
     "data": {
      "text/plain": [
       "408728.8667588338"
      ]
     },
     "execution_count": 12,
     "metadata": {},
     "output_type": "execute_result"
    }
   ],
   "source": [
    "## Calculamos para cada observación la diferencia entre la media y su valor\n",
    "diffs = (df['birthwgt_g'] - df['birthwgt_g'].mean()).dropna()\n",
    "\n",
    "## Calculamos la varianza (el numerador es un producto escalar)\n",
    "varianza = diffs.dot(diffs) / diffs.size\n",
    "varianza"
   ]
  },
  {
   "cell_type": "code",
   "execution_count": 14,
   "metadata": {},
   "outputs": [
    {
     "data": {
      "text/plain": [
       "639.3190649111239"
      ]
     },
     "execution_count": 14,
     "metadata": {},
     "output_type": "execute_result"
    }
   ],
   "source": [
    "desv_tip = np.sqrt(varianza)\n",
    "desv_tip"
   ]
  },
  {
   "cell_type": "code",
   "execution_count": 16,
   "metadata": {},
   "outputs": [
    {
     "name": "stdout",
     "output_type": "stream",
     "text": [
      "La variable birthwgt_g tiene una media aritmética de 3298.4223722062566 y una desviación típica de 639.3190649111239.\n"
     ]
    }
   ],
   "source": [
    "print(f\"La variable birthwgt_g tiene una media aritmética de {df['birthwgt_g'].mean()} y una desviación típica de {desv_tip}.\")"
   ]
  },
  {
   "cell_type": "markdown",
   "metadata": {},
   "source": [
    "### 1.3.3. Asimetría y curtosis\n",
    "\n",
    "La descripción estadística de una muestra de datos no concluye con el cálculo de su tendencia central y su dispersión. Para dar una descripción completa es necesario estudiar también el grado de simetríaa de los datos respecto a su medida central y la concentración de los datos alrededor de dicho valor.\n",
    "\n",
    "**Asimetría:**\n",
    "\n",
    "Se dice que una distribución de medidas es simétrica cuando valores de la variable equidistantes, a uno y otro lado, del valor central tienen la misma frecuencia.\n",
    "\n",
    "En caso de una distribución perfectamente simétrica los valores de media aritmética, mediana y moda coinciden.\n",
    "\n",
    "Existen diferentes coeficientes como el de Fisher o de Pearson para cuantificar la asimetría de una variable. La asimetría de una varibale puede diferir ligeramente en función del coeficiente utilizado, pero los resultados se interpretran de la misma forma:\n",
    "\n",
    "- Asimetría positiva: mayor concentración de valores a la derecha de la media\n",
    "- Asimetría negativa: mayor concentración de valores a la izquierda de la media\n",
    "- Asimetría nula: distribución simétrica\n",
    "\n",
    "**Curtosis:**"
   ]
  },
  {
   "cell_type": "markdown",
   "metadata": {},
   "source": [
    "# X. Bibliografía.\n",
    "\n",
    "- https://es.wikipedia.org/wiki/Estad%C3%ADstica\n",
    "- Estadística Básica para Estudiantes de Ciencia. ISBN: 978-84-691-8981-8."
   ]
  }
 ],
 "metadata": {
  "kernelspec": {
   "display_name": "Python 3",
   "language": "python",
   "name": "python3"
  },
  "language_info": {
   "codemirror_mode": {
    "name": "ipython",
    "version": 3
   },
   "file_extension": ".py",
   "mimetype": "text/x-python",
   "name": "python",
   "nbconvert_exporter": "python",
   "pygments_lexer": "ipython3",
   "version": "3.7.6"
  }
 },
 "nbformat": 4,
 "nbformat_minor": 4
}
