{
  "nbformat": 4,
  "nbformat_minor": 0,
  "metadata": {
    "anaconda-cloud": {},
    "kernelspec": {
      "display_name": "Python 3",
      "language": "python",
      "name": "python3"
    },
    "language_info": {
      "codemirror_mode": {
        "name": "ipython",
        "version": 3
      },
      "file_extension": ".py",
      "mimetype": "text/x-python",
      "name": "python",
      "nbconvert_exporter": "python",
      "pygments_lexer": "ipython3",
      "version": "3.7.10"
    },
    "colab": {
      "name": "02-SparkSQL-DataFrames.inclass.ipynb",
      "provenance": [],
      "collapsed_sections": []
    }
  },
  "cells": [
    {
      "cell_type": "markdown",
      "metadata": {
        "id": "9TVtfZEvryne"
      },
      "source": [
        "# SparkSQL and DataFrames \n",
        "\n",
        "<a href = \"http://yogen.io\"><img src=\"http://yogen.io/assets/logo.svg\" alt=\"yogen\" style=\"width: 200px; float: right;\"/></a>"
      ]
    },
    {
      "cell_type": "markdown",
      "metadata": {
        "id": "48ULrStfrynh"
      },
      "source": [
        "## RDDs, DataSets, and DataFrames\n",
        "\n",
        "RDDs are the original interface for Spark programming.\n",
        "\n",
        "DataFrames were introduced in 1.3\n",
        "\n",
        "Datasets were introduced in 1.6, and unified with DataFrames in 2.0"
      ]
    },
    {
      "cell_type": "markdown",
      "metadata": {
        "id": "J5h1cD9Zryni"
      },
      "source": [
        "### Advantages of DataFrames:\n",
        "\n",
        "from https://www.datacamp.com/community/tutorials/apache-spark-python:\n",
        "\n",
        "> More specifically, the performance improvements are due to two things, which you’ll often come across when you’re reading up DataFrames: custom memory management (project Tungsten), which will make sure that your Spark jobs much faster given CPU constraints, and optimized execution plans (Catalyst optimizer), of which the logical plan of the DataFrame is a part."
      ]
    },
    {
      "cell_type": "markdown",
      "metadata": {
        "id": "NFJJaBKorynx"
      },
      "source": [
        "## SparkSQL and DataFrames \n",
        "\n",
        "\n",
        "pyspark does not have the Dataset API, which is available only if you use Spark from a statically typed language: Scala or Java.\n",
        "\n",
        "From https://spark.apache.org/docs/2.4.4/sql-programming-guide.html\n",
        "\n",
        "> A DataFrame is a Dataset organized into named columns. It is conceptually equivalent to a table in a relational database or a data frame in R/Python, but with richer optimizations under the hood. DataFrames can be constructed from a wide array of sources such as: structured data files, tables in Hive, external databases, or existing RDDs. The DataFrame API is available in Scala, Java, Python, and R. In Scala and Java, a DataFrame is represented by a Dataset of Rows. In the Scala API, DataFrame is simply a type alias of Dataset[Row]. While, in Java API, users need to use Dataset&lt;Row> to represent a DataFrame.\n"
      ]
    },
    {
      "cell_type": "markdown",
      "metadata": {
        "id": "a4y3VgsLrynx"
      },
      "source": [
        "### The pyspark.sql module"
      ]
    },
    {
      "cell_type": "markdown",
      "metadata": {
        "id": "X9yc9uznryny"
      },
      "source": [
        "Important classes of Spark SQL and DataFrames:\n",
        "\n",
        "* `pyspark.sql.SparkSession` Main entry point for DataFrame and SQL functionality.\n",
        "\n",
        "* `pyspark.sql.DataFrame` A distributed collection of data grouped into named columns.\n",
        "\n",
        "* `pyspark.sql.Column` A column expression in a DataFrame.\n",
        "\n",
        "* `pyspark.sql.Row` A row of data in a DataFrame.\n",
        "\n",
        "* `pyspark.sql.GroupedData` Aggregation methods, returned by DataFrame.groupBy().\n",
        "\n",
        "* `pyspark.sql.DataFrameNaFunctions` Methods for handling missing data (null values).\n",
        "\n",
        "* `pyspark.sql.DataFrameStatFunctions` Methods for statistics functionality.\n",
        "\n",
        "* `pyspark.sql.functions` List of built-in functions available for DataFrame.\n",
        "\n",
        "* `pyspark.sql.types` List of data types available.\n",
        "\n",
        "* `pyspark.sql.Window` For working with window functions."
      ]
    },
    {
      "cell_type": "markdown",
      "metadata": {
        "id": "KcZnIckLrynz"
      },
      "source": [
        "http://spark.apache.org/docs/2.4.4/api/python/pyspark.sql.html\n",
        "\n",
        "https://spark.apache.org/docs/2.4.4/sql-programming-guide.html"
      ]
    },
    {
      "cell_type": "markdown",
      "metadata": {
        "id": "9wtvXuXrrynz"
      },
      "source": [
        "## SparkSession\n",
        "\n",
        "The traditional way to interact with Spark is the SparkContext. In the notebooks we get that from the pyspark driver.\n",
        "\n",
        "From 2.0 we can use SparkSession to replace SparkConf, SparkContext and SQLContext"
      ]
    },
    {
      "cell_type": "markdown",
      "metadata": {
        "id": "O266pJ2Nrynz"
      },
      "source": [
        "### If you are running this notebook in Google Colab\n",
        "\n",
        "Copy the following to a code cell and run it. It will install and set up Spark for you.\n",
        "\n",
        "```python\n",
        "!pip install pyspark==3.1.1\n",
        "from pyspark.sql import SparkSession\n",
        "spark = SparkSession.builder.master(\"local[*]\").config(\"spark.ui.port\", \"4050\").getOrCreate() ## For ngrok to tunnel to\n",
        "```"
      ]
    },
    {
      "cell_type": "code",
      "metadata": {
        "colab": {
          "base_uri": "https://localhost:8080/"
        },
        "id": "y2LdHNtDryn0",
        "outputId": "65140d05-45f1-4b36-c007-5973c95940ef"
      },
      "source": [
        "!pip install pyspark==3.1.1\n",
        "from pyspark.sql import SparkSession\n",
        "spark = SparkSession.builder.master(\"local[*]\").config(\"spark.ui.port\", \"4050\").getOrCreate() ## For ngrok to tunnel to\n"
      ],
      "execution_count": 1,
      "outputs": [
        {
          "output_type": "stream",
          "text": [
            "Collecting pyspark==3.1.1\n",
            "\u001b[?25l  Downloading https://files.pythonhosted.org/packages/45/b0/9d6860891ab14a39d4bddf80ba26ce51c2f9dc4805e5c6978ac0472c120a/pyspark-3.1.1.tar.gz (212.3MB)\n",
            "\u001b[K     |████████████████████████████████| 212.3MB 65kB/s \n",
            "\u001b[?25hCollecting py4j==0.10.9\n",
            "\u001b[?25l  Downloading https://files.pythonhosted.org/packages/9e/b6/6a4fb90cd235dc8e265a6a2067f2a2c99f0d91787f06aca4bcf7c23f3f80/py4j-0.10.9-py2.py3-none-any.whl (198kB)\n",
            "\u001b[K     |████████████████████████████████| 204kB 19.1MB/s \n",
            "\u001b[?25hBuilding wheels for collected packages: pyspark\n",
            "  Building wheel for pyspark (setup.py) ... \u001b[?25l\u001b[?25hdone\n",
            "  Created wheel for pyspark: filename=pyspark-3.1.1-py2.py3-none-any.whl size=212767604 sha256=d7cfde67d916a51d5a6a157b19ad7ebfa33d5f0f97c3bee4f11a1cb053d4067c\n",
            "  Stored in directory: /root/.cache/pip/wheels/0b/90/c0/01de724414ef122bd05f056541fb6a0ecf47c7ca655f8b3c0f\n",
            "Successfully built pyspark\n",
            "Installing collected packages: py4j, pyspark\n",
            "Successfully installed py4j-0.10.9 pyspark-3.1.1\n"
          ],
          "name": "stdout"
        }
      ]
    },
    {
      "cell_type": "markdown",
      "metadata": {
        "id": "SNID3OmPryn0"
      },
      "source": [
        "#### Passing other options to spark session:\n",
        "    \n",
        "    "
      ]
    },
    {
      "cell_type": "code",
      "metadata": {
        "colab": {
          "base_uri": "https://localhost:8080/"
        },
        "id": "lyZ0HuVcryn1",
        "outputId": "88ba63fa-be06-4a8a-e008-e6a5c51a0983"
      },
      "source": [
        "spark.sparkContext.getConf().getAll()"
      ],
      "execution_count": 2,
      "outputs": [
        {
          "output_type": "execute_result",
          "data": {
            "text/plain": [
              "[('spark.driver.port', '34001'),\n",
              " ('spark.app.id', 'local-1616227333579'),\n",
              " ('spark.executor.id', 'driver'),\n",
              " ('spark.sql.warehouse.dir', 'file:/content/spark-warehouse'),\n",
              " ('spark.app.name', 'pyspark-shell'),\n",
              " ('spark.app.startTime', '1616227332038'),\n",
              " ('spark.ui.port', '4050'),\n",
              " ('spark.driver.host', '8b5e457f5ba7'),\n",
              " ('spark.rdd.compress', 'True'),\n",
              " ('spark.serializer.objectStreamReset', '100'),\n",
              " ('spark.master', 'local[*]'),\n",
              " ('spark.submit.pyFiles', ''),\n",
              " ('spark.submit.deployMode', 'client'),\n",
              " ('spark.ui.showConsoleProgress', 'true')]"
            ]
          },
          "metadata": {
            "tags": []
          },
          "execution_count": 2
        }
      ]
    },
    {
      "cell_type": "code",
      "metadata": {
        "id": "Mebi6xytwdZb"
      },
      "source": [
        ""
      ],
      "execution_count": 2,
      "outputs": []
    },
    {
      "cell_type": "markdown",
      "metadata": {
        "id": "_wSwwi--ryn1"
      },
      "source": [
        "We can check option values in the resulting session like this:"
      ]
    },
    {
      "cell_type": "code",
      "metadata": {
        "id": "3wAmMdNWryn1"
      },
      "source": [
        ""
      ],
      "execution_count": 2,
      "outputs": []
    },
    {
      "cell_type": "markdown",
      "metadata": {
        "id": "tee3LeiDryn2"
      },
      "source": [
        "### Creating DataFrames\n",
        "\n",
        "SparkSession.createDataFrame: from an RDD, a list or a pandas.DataFrame."
      ]
    },
    {
      "cell_type": "code",
      "metadata": {
        "colab": {
          "base_uri": "https://localhost:8080/"
        },
        "id": "sZ-5p9ggwpyn",
        "outputId": "eb5422b4-15af-4b97-ee28-b14f0226a997"
      },
      "source": [
        "import random\n",
        "\n",
        "random.seed(7)\n",
        "ids = range(15)\n",
        "species = random.choices(['capibara', 'naked mole rat', 'axolotl', 'flying fox'], k=15)\n",
        "\n",
        "data = list(zip(ids, species))\n",
        "data"
      ],
      "execution_count": 3,
      "outputs": [
        {
          "output_type": "execute_result",
          "data": {
            "text/plain": [
              "[(0, 'naked mole rat'),\n",
              " (1, 'capibara'),\n",
              " (2, 'axolotl'),\n",
              " (3, 'capibara'),\n",
              " (4, 'axolotl'),\n",
              " (5, 'naked mole rat'),\n",
              " (6, 'capibara'),\n",
              " (7, 'axolotl'),\n",
              " (8, 'capibara'),\n",
              " (9, 'naked mole rat'),\n",
              " (10, 'capibara'),\n",
              " (11, 'capibara'),\n",
              " (12, 'naked mole rat'),\n",
              " (13, 'flying fox'),\n",
              " (14, 'capibara')]"
            ]
          },
          "metadata": {
            "tags": []
          },
          "execution_count": 3
        }
      ]
    },
    {
      "cell_type": "code",
      "metadata": {
        "colab": {
          "base_uri": "https://localhost:8080/"
        },
        "id": "uWYn-qxFryn2",
        "outputId": "bd819632-73eb-4ae5-c28f-f314b12798e6"
      },
      "source": [
        "df = spark.createDataFrame(data)\n",
        "df"
      ],
      "execution_count": 4,
      "outputs": [
        {
          "output_type": "execute_result",
          "data": {
            "text/plain": [
              "DataFrame[_1: bigint, _2: string]"
            ]
          },
          "metadata": {
            "tags": []
          },
          "execution_count": 4
        }
      ]
    },
    {
      "cell_type": "code",
      "metadata": {
        "colab": {
          "base_uri": "https://localhost:8080/"
        },
        "id": "jTlnPwg2x5G5",
        "outputId": "019e4e19-06c2-4627-c6b7-b8abd3ca90df"
      },
      "source": [
        "df.show()"
      ],
      "execution_count": 5,
      "outputs": [
        {
          "output_type": "stream",
          "text": [
            "+---+--------------+\n",
            "| _1|            _2|\n",
            "+---+--------------+\n",
            "|  0|naked mole rat|\n",
            "|  1|      capibara|\n",
            "|  2|       axolotl|\n",
            "|  3|      capibara|\n",
            "|  4|       axolotl|\n",
            "|  5|naked mole rat|\n",
            "|  6|      capibara|\n",
            "|  7|       axolotl|\n",
            "|  8|      capibara|\n",
            "|  9|naked mole rat|\n",
            "| 10|      capibara|\n",
            "| 11|      capibara|\n",
            "| 12|naked mole rat|\n",
            "| 13|    flying fox|\n",
            "| 14|      capibara|\n",
            "+---+--------------+\n",
            "\n"
          ],
          "name": "stdout"
        }
      ]
    },
    {
      "cell_type": "code",
      "metadata": {
        "colab": {
          "base_uri": "https://localhost:8080/"
        },
        "id": "cLmcGAKbyIkI",
        "outputId": "d65462db-9c8a-4248-ceca-7f3292ad6be1"
      },
      "source": [
        "df.take(5)"
      ],
      "execution_count": 6,
      "outputs": [
        {
          "output_type": "execute_result",
          "data": {
            "text/plain": [
              "[Row(_1=0, _2='naked mole rat'),\n",
              " Row(_1=1, _2='capibara'),\n",
              " Row(_1=2, _2='axolotl'),\n",
              " Row(_1=3, _2='capibara'),\n",
              " Row(_1=4, _2='axolotl')]"
            ]
          },
          "metadata": {
            "tags": []
          },
          "execution_count": 6
        }
      ]
    },
    {
      "cell_type": "code",
      "metadata": {
        "colab": {
          "base_uri": "https://localhost:8080/"
        },
        "id": "e11UADs0yPeQ",
        "outputId": "49bd05f3-7e81-47ab-e7d4-5438e3b206fd"
      },
      "source": [
        "first_row = df.first()\n",
        "first_row"
      ],
      "execution_count": 7,
      "outputs": [
        {
          "output_type": "execute_result",
          "data": {
            "text/plain": [
              "Row(_1=0, _2='naked mole rat')"
            ]
          },
          "metadata": {
            "tags": []
          },
          "execution_count": 7
        }
      ]
    },
    {
      "cell_type": "code",
      "metadata": {
        "colab": {
          "base_uri": "https://localhost:8080/",
          "height": 35
        },
        "id": "lp4WK895yS1_",
        "outputId": "31bc3941-b048-4666-e9d4-436585d7119e"
      },
      "source": [
        "first_row['_2']"
      ],
      "execution_count": 8,
      "outputs": [
        {
          "output_type": "execute_result",
          "data": {
            "application/vnd.google.colaboratory.intrinsic+json": {
              "type": "string"
            },
            "text/plain": [
              "'naked mole rat'"
            ]
          },
          "metadata": {
            "tags": []
          },
          "execution_count": 8
        }
      ]
    },
    {
      "cell_type": "markdown",
      "metadata": {
        "id": "9a5eFgFbryn2"
      },
      "source": [
        "### Creating DataFrames\n",
        "\n",
        "* From RDDs\n",
        "* from Hive tables\n",
        "* From Spark sources: parquet (default), json, jdbc, orc, libsvm, csv, text\n"
      ]
    },
    {
      "cell_type": "markdown",
      "metadata": {
        "id": "mXgm5-rxryn2"
      },
      "source": [
        "#### From RDDs\n",
        "\n",
        "This is what we did on the previous notebook:\n",
        "\n",
        "```python\n",
        "import re\n",
        "\n",
        "def remove_punctuation(line):\n",
        "    return re.sub('[^a-z0-9 ]', '', line.lower())\n",
        "\n",
        "shakespeare = spark.sparkContext.textFile('shakespeare.txt')\n",
        "\n",
        "freqs = shakespeare.map(remove_punctuation)\\\n",
        "                   .flatMap(str.split)\\\n",
        "                   .map(lambda word: (word, 1))\\\n",
        "                   .reduceByKey(lambda x, y: x + y)\n",
        "\n",
        "```"
      ]
    },
    {
      "cell_type": "code",
      "metadata": {
        "id": "479skkWHryn3"
      },
      "source": [
        ""
      ],
      "execution_count": 8,
      "outputs": []
    },
    {
      "cell_type": "markdown",
      "metadata": {
        "id": "zrjlVhirryn3"
      },
      "source": [
        "We can put that on a DataFrame in order to further analyze it:"
      ]
    },
    {
      "cell_type": "code",
      "metadata": {
        "id": "loMSj8arryn3"
      },
      "source": [
        ""
      ],
      "execution_count": 8,
      "outputs": []
    },
    {
      "cell_type": "markdown",
      "metadata": {
        "id": "4N994rbRryn4"
      },
      "source": [
        "### Inferring and specifying schemas"
      ]
    },
    {
      "cell_type": "code",
      "metadata": {
        "colab": {
          "base_uri": "https://localhost:8080/"
        },
        "id": "J1T0mBjTryn4",
        "outputId": "03d780d8-a2ec-43a2-9958-9c8a972b0fdf"
      },
      "source": [
        "df = spark.createDataFrame(data, schema=['id', 'species'])\n",
        "df"
      ],
      "execution_count": 9,
      "outputs": [
        {
          "output_type": "execute_result",
          "data": {
            "text/plain": [
              "DataFrame[id: bigint, species: string]"
            ]
          },
          "metadata": {
            "tags": []
          },
          "execution_count": 9
        }
      ]
    },
    {
      "cell_type": "code",
      "metadata": {
        "colab": {
          "base_uri": "https://localhost:8080/"
        },
        "id": "GGAI9NZYzmGg",
        "outputId": "7a598452-fc40-4e6e-a725-f1d37f1f334d"
      },
      "source": [
        "from pyspark.sql import types\n",
        "\n",
        "types.StringType()\n",
        "types.IntegerType()\n",
        "types.ShortType()"
      ],
      "execution_count": 10,
      "outputs": [
        {
          "output_type": "execute_result",
          "data": {
            "text/plain": [
              "ShortType"
            ]
          },
          "metadata": {
            "tags": []
          },
          "execution_count": 10
        }
      ]
    },
    {
      "cell_type": "code",
      "metadata": {
        "colab": {
          "base_uri": "https://localhost:8080/"
        },
        "id": "C-LsRfq00BA2",
        "outputId": "93e357ce-f236-4489-87d6-e0176441c696"
      },
      "source": [
        "df.printSchema()"
      ],
      "execution_count": 11,
      "outputs": [
        {
          "output_type": "stream",
          "text": [
            "root\n",
            " |-- id: long (nullable = true)\n",
            " |-- species: string (nullable = true)\n",
            "\n"
          ],
          "name": "stdout"
        }
      ]
    },
    {
      "cell_type": "markdown",
      "metadata": {
        "id": "fGwhb0_jryn4"
      },
      "source": [
        "#### Fully specifying a schema\n",
        "\n",
        "We need to create a `StructType` composed of `StructField`s. each of those specifies afiled with name, type and `nullable` properties. "
      ]
    },
    {
      "cell_type": "code",
      "metadata": {
        "colab": {
          "base_uri": "https://localhost:8080/"
        },
        "id": "DXBDZbEHryn4",
        "outputId": "36cd9f0d-b9d9-42ba-bdbb-4c81d2766a5d"
      },
      "source": [
        "df = spark.createDataFrame(data, schema='id SHORT, species STRING')\n",
        "df.printSchema()\n",
        "df.show()"
      ],
      "execution_count": 12,
      "outputs": [
        {
          "output_type": "stream",
          "text": [
            "root\n",
            " |-- id: short (nullable = true)\n",
            " |-- species: string (nullable = true)\n",
            "\n",
            "+---+--------------+\n",
            "| id|       species|\n",
            "+---+--------------+\n",
            "|  0|naked mole rat|\n",
            "|  1|      capibara|\n",
            "|  2|       axolotl|\n",
            "|  3|      capibara|\n",
            "|  4|       axolotl|\n",
            "|  5|naked mole rat|\n",
            "|  6|      capibara|\n",
            "|  7|       axolotl|\n",
            "|  8|      capibara|\n",
            "|  9|naked mole rat|\n",
            "| 10|      capibara|\n",
            "| 11|      capibara|\n",
            "| 12|naked mole rat|\n",
            "| 13|    flying fox|\n",
            "| 14|      capibara|\n",
            "+---+--------------+\n",
            "\n"
          ],
          "name": "stdout"
        }
      ]
    },
    {
      "cell_type": "code",
      "metadata": {
        "colab": {
          "base_uri": "https://localhost:8080/"
        },
        "id": "4uJNlKV61zoR",
        "outputId": "ac28f6ab-ea86-4c84-9b33-6061dd35163d"
      },
      "source": [
        "df.schema"
      ],
      "execution_count": 13,
      "outputs": [
        {
          "output_type": "execute_result",
          "data": {
            "text/plain": [
              "StructType(List(StructField(id,ShortType,true),StructField(species,StringType,true)))"
            ]
          },
          "metadata": {
            "tags": []
          },
          "execution_count": 13
        }
      ]
    },
    {
      "cell_type": "markdown",
      "metadata": {
        "id": "GoNJqG2Lryn5"
      },
      "source": [
        "#### From csv files\n",
        "\n",
        "We can either read them directly into dataframes or read them as RDDs and transform that into a DataFrame. This second way will be very useful if we have unstructured data like web server logs."
      ]
    },
    {
      "cell_type": "code",
      "metadata": {
        "colab": {
          "base_uri": "https://localhost:8080/"
        },
        "id": "AqU0PkOeryn5",
        "outputId": "b5fd05ac-bdc3-4b6a-a6fe-3e6e56165110"
      },
      "source": [
        "coupons = spark.read.csv('coupon150720.csv.gz')\n",
        "coupons.show(5)"
      ],
      "execution_count": 15,
      "outputs": [
        {
          "output_type": "stream",
          "text": [
            "+--------------+---+---+---+---+---+------+---+---+---+----+----+------+----+----+\n",
            "|           _c0|_c1|_c2|_c3|_c4|_c5|   _c6|_c7|_c8|_c9|_c10|_c11|  _c12|_c13|_c14|\n",
            "+--------------+---+---+---+---+---+------+---+---+---+----+----+------+----+----+\n",
            "|79062005698500|  1|MAA|AUH| 9W| 9W| 56.79|USD|  1|  H|   H|0526|150904|  OK|IAF0|\n",
            "|79062005698500|  2|AUH|CDG| 9W| 9W| 84.34|USD|  1|  H|   H|6120|150905|  OK|IAF0|\n",
            "|79062005924069|  1|CJB|MAA| 9W| 9W|  60.0|USD|  1|  H|   H|2768|150721|  OK|IAA0|\n",
            "|79065668570385|  1|DEL|DXB| 9W| 9W|160.63|USD|  2|  S|   S|0546|150804|  OK|INA0|\n",
            "|79065668737021|  1|AUH|IXE| 9W| 9W|152.46|USD|  1|  V|   V|0501|150803|  OK|INA0|\n",
            "+--------------+---+---+---+---+---+------+---+---+---+----+----+------+----+----+\n",
            "only showing top 5 rows\n",
            "\n"
          ],
          "name": "stdout"
        }
      ]
    },
    {
      "cell_type": "markdown",
      "metadata": {
        "id": "K-vFob1Pryn5"
      },
      "source": [
        "#### From other types of data"
      ]
    },
    {
      "cell_type": "markdown",
      "metadata": {
        "id": "_aT9LwxRryn6"
      },
      "source": [
        "Apache Parquet is a free and open-source column-oriented data store of the Apache Hadoop ecosystem. It is similar to the other columnar storage file formats available in Hadoop namely RCFile and Optimized RCFile. It is compatible with most of the data processing frameworks in the Hadoop environment."
      ]
    },
    {
      "cell_type": "code",
      "metadata": {
        "colab": {
          "base_uri": "https://localhost:8080/"
        },
        "id": "I_7yxLuCryn6",
        "outputId": "742866b5-3c23-455c-bd47-bb93a62e7868"
      },
      "source": [
        "spark.read.json\n",
        "spark.read.parquet"
      ],
      "execution_count": 16,
      "outputs": [
        {
          "output_type": "execute_result",
          "data": {
            "text/plain": [
              "<bound method DataFrameReader.parquet of <pyspark.sql.readwriter.DataFrameReader object at 0x7f2856922c90>>"
            ]
          },
          "metadata": {
            "tags": []
          },
          "execution_count": 16
        }
      ]
    },
    {
      "cell_type": "markdown",
      "metadata": {
        "id": "2BVZvDoYryn6"
      },
      "source": [
        "### Basic operations with DataFrames"
      ]
    },
    {
      "cell_type": "code",
      "metadata": {
        "colab": {
          "base_uri": "https://localhost:8080/"
        },
        "id": "AOoY_VCQryn6",
        "outputId": "a1b27a8a-624a-4623-d5d2-88eff93dbc95"
      },
      "source": [
        "df.select('id').show()"
      ],
      "execution_count": 18,
      "outputs": [
        {
          "output_type": "stream",
          "text": [
            "+---+\n",
            "| id|\n",
            "+---+\n",
            "|  0|\n",
            "|  1|\n",
            "|  2|\n",
            "|  3|\n",
            "|  4|\n",
            "|  5|\n",
            "|  6|\n",
            "|  7|\n",
            "|  8|\n",
            "|  9|\n",
            "| 10|\n",
            "| 11|\n",
            "| 12|\n",
            "| 13|\n",
            "| 14|\n",
            "+---+\n",
            "\n"
          ],
          "name": "stdout"
        }
      ]
    },
    {
      "cell_type": "markdown",
      "metadata": {
        "id": "XQ9bvXWBryn7"
      },
      "source": [
        "### Filtering and selecting\n",
        "\n",
        "Syntax inspired in SQL."
      ]
    },
    {
      "cell_type": "code",
      "metadata": {
        "colab": {
          "base_uri": "https://localhost:8080/"
        },
        "id": "4KBBdlHWryn7",
        "outputId": "b3cdbc2a-b0b2-4ab4-813f-0848fe57fca2"
      },
      "source": [
        "from pyspark.sql import Column\n",
        "\n",
        "df['id'] > 5"
      ],
      "execution_count": 19,
      "outputs": [
        {
          "output_type": "execute_result",
          "data": {
            "text/plain": [
              "Column<'(id > 5)'>"
            ]
          },
          "metadata": {
            "tags": []
          },
          "execution_count": 19
        }
      ]
    },
    {
      "cell_type": "markdown",
      "metadata": {
        "id": "DkGzuta4ryn7"
      },
      "source": [
        "If we want to filter, we will need to build an instance of `Column`, using square bracket notation."
      ]
    },
    {
      "cell_type": "code",
      "metadata": {
        "colab": {
          "base_uri": "https://localhost:8080/"
        },
        "id": "BV2uH-DVryn7",
        "outputId": "0d4fe047-d8c1-43e0-a262-270d952dded0"
      },
      "source": [
        "df.filter(df['id'] > 5).show()"
      ],
      "execution_count": 20,
      "outputs": [
        {
          "output_type": "stream",
          "text": [
            "+---+--------------+\n",
            "| id|       species|\n",
            "+---+--------------+\n",
            "|  6|      capibara|\n",
            "|  7|       axolotl|\n",
            "|  8|      capibara|\n",
            "|  9|naked mole rat|\n",
            "| 10|      capibara|\n",
            "| 11|      capibara|\n",
            "| 12|naked mole rat|\n",
            "| 13|    flying fox|\n",
            "| 14|      capibara|\n",
            "+---+--------------+\n",
            "\n"
          ],
          "name": "stdout"
        }
      ]
    },
    {
      "cell_type": "markdown",
      "metadata": {
        "id": "yK2QXNNXryn8"
      },
      "source": [
        "That's because a comparison between str and int will error out, so spark will not even get the chance to infer to which column we are referring."
      ]
    },
    {
      "cell_type": "code",
      "metadata": {
        "tags": [
          "raises-exception"
        ],
        "colab": {
          "base_uri": "https://localhost:8080/",
          "height": 165
        },
        "id": "idxDbSFYryn8",
        "outputId": "e2d420fd-9dfa-4026-a3f5-a2410737a6e1"
      },
      "source": [
        "df.filter('id' > 5)"
      ],
      "execution_count": 21,
      "outputs": [
        {
          "output_type": "error",
          "ename": "TypeError",
          "evalue": "ignored",
          "traceback": [
            "\u001b[0;31m---------------------------------------------------------------------------\u001b[0m",
            "\u001b[0;31mTypeError\u001b[0m                                 Traceback (most recent call last)",
            "\u001b[0;32m<ipython-input-21-e66a87b87cf6>\u001b[0m in \u001b[0;36m<module>\u001b[0;34m()\u001b[0m\n\u001b[0;32m----> 1\u001b[0;31m \u001b[0mdf\u001b[0m\u001b[0;34m.\u001b[0m\u001b[0mfilter\u001b[0m\u001b[0;34m(\u001b[0m\u001b[0;34m'id'\u001b[0m \u001b[0;34m>\u001b[0m \u001b[0;36m5\u001b[0m\u001b[0;34m)\u001b[0m\u001b[0;34m\u001b[0m\u001b[0;34m\u001b[0m\u001b[0m\n\u001b[0m",
            "\u001b[0;31mTypeError\u001b[0m: '>' not supported between instances of 'str' and 'int'"
          ]
        }
      ]
    },
    {
      "cell_type": "markdown",
      "metadata": {
        "id": "BBLU6R5sryn8"
      },
      "source": [
        "`where` is exactly synonimous with `filter`"
      ]
    },
    {
      "cell_type": "code",
      "metadata": {
        "colab": {
          "base_uri": "https://localhost:8080/"
        },
        "id": "R_F-OZzRryn8",
        "outputId": "fb8b7fca-f60e-4ed7-eb46-b3ccd0025fac"
      },
      "source": [
        "df.where(df['id'] > 5).show()"
      ],
      "execution_count": 22,
      "outputs": [
        {
          "output_type": "stream",
          "text": [
            "+---+--------------+\n",
            "| id|       species|\n",
            "+---+--------------+\n",
            "|  6|      capibara|\n",
            "|  7|       axolotl|\n",
            "|  8|      capibara|\n",
            "|  9|naked mole rat|\n",
            "| 10|      capibara|\n",
            "| 11|      capibara|\n",
            "| 12|naked mole rat|\n",
            "| 13|    flying fox|\n",
            "| 14|      capibara|\n",
            "+---+--------------+\n",
            "\n"
          ],
          "name": "stdout"
        }
      ]
    },
    {
      "cell_type": "code",
      "metadata": {
        "colab": {
          "base_uri": "https://localhost:8080/"
        },
        "id": "H6O0exBJ5sW-",
        "outputId": "3fdbf261-3185-43cb-a5bf-ec4033856ee1"
      },
      "source": [
        "df.where((df['id']> 5) & (df['id']<10)).show()"
      ],
      "execution_count": 23,
      "outputs": [
        {
          "output_type": "stream",
          "text": [
            "+---+--------------+\n",
            "| id|       species|\n",
            "+---+--------------+\n",
            "|  6|      capibara|\n",
            "|  7|       axolotl|\n",
            "|  8|      capibara|\n",
            "|  9|naked mole rat|\n",
            "+---+--------------+\n",
            "\n"
          ],
          "name": "stdout"
        }
      ]
    },
    {
      "cell_type": "code",
      "metadata": {
        "colab": {
          "base_uri": "https://localhost:8080/"
        },
        "id": "B1VrVXlV5_MH",
        "outputId": "4e7afa7c-aef1-48a7-e7e8-0a728209fbda"
      },
      "source": [
        "df.filter('id > 5')"
      ],
      "execution_count": 24,
      "outputs": [
        {
          "output_type": "execute_result",
          "data": {
            "text/plain": [
              "DataFrame[id: smallint, species: string]"
            ]
          },
          "metadata": {
            "tags": []
          },
          "execution_count": 24
        }
      ]
    },
    {
      "cell_type": "code",
      "metadata": {
        "colab": {
          "base_uri": "https://localhost:8080/"
        },
        "id": "Rbtssuvm6LEJ",
        "outputId": "5027e530-7ada-4d66-dea6-925137707876"
      },
      "source": [
        "df[df['id'] > 5]"
      ],
      "execution_count": 25,
      "outputs": [
        {
          "output_type": "execute_result",
          "data": {
            "text/plain": [
              "DataFrame[id: smallint, species: string]"
            ]
          },
          "metadata": {
            "tags": []
          },
          "execution_count": 25
        }
      ]
    },
    {
      "cell_type": "markdown",
      "metadata": {
        "id": "UlfiPsRkryn9"
      },
      "source": [
        "A column is quite different to a Pandas Series. It is just a reference to a column, and can only be used to construct sparkSQL expressions (select, where...). It can't be collected or taken as a one-dimensional sequence:"
      ]
    },
    {
      "cell_type": "code",
      "metadata": {
        "tags": [
          "raises-exception"
        ],
        "colab": {
          "base_uri": "https://localhost:8080/",
          "height": 165
        },
        "id": "T49Pov3Vryn9",
        "outputId": "5b0d63e6-dcbc-4491-c70c-b33566f9bb8e"
      },
      "source": [
        "df['id'].show()"
      ],
      "execution_count": 26,
      "outputs": [
        {
          "output_type": "error",
          "ename": "TypeError",
          "evalue": "ignored",
          "traceback": [
            "\u001b[0;31m---------------------------------------------------------------------------\u001b[0m",
            "\u001b[0;31mTypeError\u001b[0m                                 Traceback (most recent call last)",
            "\u001b[0;32m<ipython-input-26-1f772950feca>\u001b[0m in \u001b[0;36m<module>\u001b[0;34m()\u001b[0m\n\u001b[0;32m----> 1\u001b[0;31m \u001b[0mdf\u001b[0m\u001b[0;34m[\u001b[0m\u001b[0;34m'id'\u001b[0m\u001b[0;34m]\u001b[0m\u001b[0;34m.\u001b[0m\u001b[0mshow\u001b[0m\u001b[0;34m(\u001b[0m\u001b[0;34m)\u001b[0m\u001b[0;34m\u001b[0m\u001b[0;34m\u001b[0m\u001b[0m\n\u001b[0m",
            "\u001b[0;31mTypeError\u001b[0m: 'Column' object is not callable"
          ]
        }
      ]
    },
    {
      "cell_type": "code",
      "metadata": {
        "colab": {
          "base_uri": "https://localhost:8080/"
        },
        "id": "4r_ayUw18fgN",
        "outputId": "c32511e5-6d96-4704-cfd3-b192822e9445"
      },
      "source": [
        "!wget https://bin.equinox.io/c/4VmDzA7iaHb/ngrok-stable-linux-amd64.zip\n",
        "!unzip -qq ngrok-stable-linux-amd64.zip\n",
        "get_ipython().system_raw('./ngrok http 4050 &')\n",
        "!curl -s http://localhost:4040/api/tunnels | python3 -c \\\n",
        "    \"import sys, json; print(json.load(sys.stdin)['tunnels'][0]['public_url'])\""
      ],
      "execution_count": 27,
      "outputs": [
        {
          "output_type": "stream",
          "text": [
            "--2021-03-20 08:06:02--  https://bin.equinox.io/c/4VmDzA7iaHb/ngrok-stable-linux-amd64.zip\n",
            "Resolving bin.equinox.io (bin.equinox.io)... 3.211.152.205, 52.200.34.95, 3.217.26.81, ...\n",
            "Connecting to bin.equinox.io (bin.equinox.io)|3.211.152.205|:443... connected.\n",
            "HTTP request sent, awaiting response... 200 OK\n",
            "Length: 13773305 (13M) [application/octet-stream]\n",
            "Saving to: ‘ngrok-stable-linux-amd64.zip’\n",
            "\n",
            "ngrok-stable-linux- 100%[===================>]  13.13M  51.2MB/s    in 0.3s    \n",
            "\n",
            "2021-03-20 08:06:03 (51.2 MB/s) - ‘ngrok-stable-linux-amd64.zip’ saved [13773305/13773305]\n",
            "\n",
            "Traceback (most recent call last):\n",
            "  File \"<string>\", line 1, in <module>\n",
            "IndexError: list index out of range\n"
          ],
          "name": "stdout"
        }
      ]
    },
    {
      "cell_type": "code",
      "metadata": {
        "colab": {
          "base_uri": "https://localhost:8080/"
        },
        "id": "8QCehaC8q5as",
        "outputId": "39693608-ba6e-4e24-b890-18e52453518b"
      },
      "source": [
        "!curl -s http://localhost:4040/api/tunnels | python3 -c \\\n",
        "    \"import sys, json; print(json.load(sys.stdin)['tunnels'][0]['public_url'])\""
      ],
      "execution_count": 28,
      "outputs": [
        {
          "output_type": "stream",
          "text": [
            "https://b7175f8d1382.ngrok.io\n"
          ],
          "name": "stdout"
        }
      ]
    },
    {
      "cell_type": "code",
      "metadata": {
        "colab": {
          "base_uri": "https://localhost:8080/"
        },
        "id": "QxQUFXn-8uwd",
        "outputId": "f83dbc05-826f-4ad8-94bb-075901cd82b1"
      },
      "source": [
        "df.rdd"
      ],
      "execution_count": 29,
      "outputs": [
        {
          "output_type": "execute_result",
          "data": {
            "text/plain": [
              "MapPartitionsRDD[49] at javaToPython at NativeMethodAccessorImpl.java:0"
            ]
          },
          "metadata": {
            "tags": []
          },
          "execution_count": 29
        }
      ]
    },
    {
      "cell_type": "markdown",
      "metadata": {
        "id": "Xvr30E-7ryn-"
      },
      "source": [
        "#### Exercise\n",
        "\n",
        "Extract all zoo animal ids which correspond to capibaras"
      ]
    },
    {
      "cell_type": "code",
      "metadata": {
        "colab": {
          "base_uri": "https://localhost:8080/"
        },
        "id": "lT2Dwvt9ryn-",
        "outputId": "852ea946-f902-48eb-adb9-93ff9e8d7672"
      },
      "source": [
        "df.select('id')\\\n",
        "  .where(df['species']=='capibara')\\\n",
        "  .show()"
      ],
      "execution_count": 30,
      "outputs": [
        {
          "output_type": "stream",
          "text": [
            "+---+\n",
            "| id|\n",
            "+---+\n",
            "|  1|\n",
            "|  3|\n",
            "|  6|\n",
            "|  8|\n",
            "| 10|\n",
            "| 11|\n",
            "| 14|\n",
            "+---+\n",
            "\n"
          ],
          "name": "stdout"
        }
      ]
    },
    {
      "cell_type": "markdown",
      "metadata": {
        "id": "RnffJ7Y1ryn-"
      },
      "source": [
        "### Adding columns\n",
        "\n",
        "Dataframes are immutable, since they are built on top of RDDs, so we can not assign to them. We need to create new DataFrames with the appropriate columns."
      ]
    },
    {
      "cell_type": "code",
      "metadata": {
        "tags": [
          "raises-exception"
        ],
        "colab": {
          "base_uri": "https://localhost:8080/"
        },
        "id": "QGez28FZryn-",
        "outputId": "ea696e52-bd33-4f64-ab59-f1eb53013440"
      },
      "source": [
        "from pyspark.sql import functions\n",
        "\n",
        "df.withColumn('whateva', functions.sqrt('id')).show()"
      ],
      "execution_count": 31,
      "outputs": [
        {
          "output_type": "stream",
          "text": [
            "+---+--------------+------------------+\n",
            "| id|       species|           whateva|\n",
            "+---+--------------+------------------+\n",
            "|  0|naked mole rat|               0.0|\n",
            "|  1|      capibara|               1.0|\n",
            "|  2|       axolotl|1.4142135623730951|\n",
            "|  3|      capibara|1.7320508075688772|\n",
            "|  4|       axolotl|               2.0|\n",
            "|  5|naked mole rat|  2.23606797749979|\n",
            "|  6|      capibara| 2.449489742783178|\n",
            "|  7|       axolotl|2.6457513110645907|\n",
            "|  8|      capibara|2.8284271247461903|\n",
            "|  9|naked mole rat|               3.0|\n",
            "| 10|      capibara|3.1622776601683795|\n",
            "| 11|      capibara|   3.3166247903554|\n",
            "| 12|naked mole rat|3.4641016151377544|\n",
            "| 13|    flying fox| 3.605551275463989|\n",
            "| 14|      capibara|3.7416573867739413|\n",
            "+---+--------------+------------------+\n",
            "\n"
          ],
          "name": "stdout"
        }
      ]
    },
    {
      "cell_type": "code",
      "metadata": {
        "colab": {
          "base_uri": "https://localhost:8080/",
          "height": 199
        },
        "id": "Pd9KIHUH92N3",
        "outputId": "e938b612-c226-43cd-af15-a15640408fab"
      },
      "source": [
        "import math\n",
        "\n",
        "math.log1p(df['id'])"
      ],
      "execution_count": 32,
      "outputs": [
        {
          "output_type": "error",
          "ename": "TypeError",
          "evalue": "ignored",
          "traceback": [
            "\u001b[0;31m---------------------------------------------------------------------------\u001b[0m",
            "\u001b[0;31mTypeError\u001b[0m                                 Traceback (most recent call last)",
            "\u001b[0;32m<ipython-input-32-7e593c69eaa9>\u001b[0m in \u001b[0;36m<module>\u001b[0;34m()\u001b[0m\n\u001b[1;32m      1\u001b[0m \u001b[0;32mimport\u001b[0m \u001b[0mmath\u001b[0m\u001b[0;34m\u001b[0m\u001b[0;34m\u001b[0m\u001b[0m\n\u001b[1;32m      2\u001b[0m \u001b[0;34m\u001b[0m\u001b[0m\n\u001b[0;32m----> 3\u001b[0;31m \u001b[0mmath\u001b[0m\u001b[0;34m.\u001b[0m\u001b[0mlog1p\u001b[0m\u001b[0;34m(\u001b[0m\u001b[0mdf\u001b[0m\u001b[0;34m[\u001b[0m\u001b[0;34m'id'\u001b[0m\u001b[0;34m]\u001b[0m\u001b[0;34m)\u001b[0m\u001b[0;34m\u001b[0m\u001b[0;34m\u001b[0m\u001b[0m\n\u001b[0m",
            "\u001b[0;31mTypeError\u001b[0m: must be real number, not Column"
          ]
        }
      ]
    },
    {
      "cell_type": "markdown",
      "metadata": {
        "id": "MlkluNJUryn_"
      },
      "source": [
        "### User defined functions\n",
        "\n",
        "There are many useful functions in pyspark.sql.functions. These work on columns, that is, they are vectorial.\n",
        "\n",
        "We can write User Defined Functions (`udf`s), which allow us to \"vectorize\" operations: write a standard function to process single elements, then build a udf with that that works on columns in a DataFrame, like a SQL function."
      ]
    },
    {
      "cell_type": "code",
      "metadata": {
        "colab": {
          "base_uri": "https://localhost:8080/"
        },
        "id": "eXATG2tNryn_",
        "outputId": "fd213519-9b4f-4c90-f0ae-097db41a640f"
      },
      "source": [
        "my_new_udf = functions.udf(math.log1p)\n",
        "my_new_udf(df['id'])"
      ],
      "execution_count": 33,
      "outputs": [
        {
          "output_type": "execute_result",
          "data": {
            "text/plain": [
              "Column<'log1p(id)'>"
            ]
          },
          "metadata": {
            "tags": []
          },
          "execution_count": 33
        }
      ]
    },
    {
      "cell_type": "code",
      "metadata": {
        "colab": {
          "base_uri": "https://localhost:8080/"
        },
        "id": "dUbp8k8m-V9J",
        "outputId": "b790ebd8-4727-444d-bcd8-f4a834d6f88f"
      },
      "source": [
        "df.withColumn('yeah_baby',\n",
        "              my_new_udf(df['id'])).show()"
      ],
      "execution_count": 34,
      "outputs": [
        {
          "output_type": "stream",
          "text": [
            "+---+--------------+------------------+\n",
            "| id|       species|         yeah_baby|\n",
            "+---+--------------+------------------+\n",
            "|  0|naked mole rat|               0.0|\n",
            "|  1|      capibara|0.6931471805599453|\n",
            "|  2|       axolotl|1.0986122886681096|\n",
            "|  3|      capibara|1.3862943611198906|\n",
            "|  4|       axolotl|1.6094379124341003|\n",
            "|  5|naked mole rat| 1.791759469228055|\n",
            "|  6|      capibara|1.9459101490553132|\n",
            "|  7|       axolotl|2.0794415416798357|\n",
            "|  8|      capibara|2.1972245773362196|\n",
            "|  9|naked mole rat| 2.302585092994046|\n",
            "| 10|      capibara|2.3978952727983707|\n",
            "| 11|      capibara|2.4849066497880004|\n",
            "| 12|naked mole rat|2.5649493574615367|\n",
            "| 13|    flying fox| 2.639057329615259|\n",
            "| 14|      capibara|  2.70805020110221|\n",
            "+---+--------------+------------------+\n",
            "\n"
          ],
          "name": "stdout"
        }
      ]
    },
    {
      "cell_type": "markdown",
      "metadata": {
        "id": "rbQsF9cnryn_"
      },
      "source": [
        "This errors out because \n",
        "\n",
        "```python\n",
        "math.log1p\n",
        "```\n",
        "\n",
        "is not a udf: it doesn't know how to work with strings or Column objects:"
      ]
    },
    {
      "cell_type": "code",
      "metadata": {
        "tags": [
          "raises-exception"
        ],
        "id": "mb8jd8smryoA"
      },
      "source": [
        ""
      ],
      "execution_count": 34,
      "outputs": []
    },
    {
      "cell_type": "markdown",
      "metadata": {
        "id": "FrqaudVmryoA"
      },
      "source": [
        "But we can transform it into a udf:"
      ]
    },
    {
      "cell_type": "code",
      "metadata": {
        "id": "o0w1Z342ryoA"
      },
      "source": [
        ""
      ],
      "execution_count": 34,
      "outputs": []
    },
    {
      "cell_type": "markdown",
      "metadata": {
        "id": "FvUE-0omryoA"
      },
      "source": [
        "We can do the same with any function we dream up:"
      ]
    },
    {
      "cell_type": "code",
      "metadata": {
        "colab": {
          "base_uri": "https://localhost:8080/"
        },
        "id": "Nzp8Qgr1ryoA",
        "outputId": "27a440e1-77fd-4559-bc98-2a8eb546234a"
      },
      "source": [
        "very_specific_function = functions.udf(lambda word: word[::2])\n",
        "\n",
        "df.select('*', \n",
        "          very_specific_function('species')).show()"
      ],
      "execution_count": 35,
      "outputs": [
        {
          "output_type": "stream",
          "text": [
            "+---+--------------+-----------------+\n",
            "| id|       species|<lambda>(species)|\n",
            "+---+--------------+-----------------+\n",
            "|  0|naked mole rat|          nkdml a|\n",
            "|  1|      capibara|             cpbr|\n",
            "|  2|       axolotl|             aool|\n",
            "|  3|      capibara|             cpbr|\n",
            "|  4|       axolotl|             aool|\n",
            "|  5|naked mole rat|          nkdml a|\n",
            "|  6|      capibara|             cpbr|\n",
            "|  7|       axolotl|             aool|\n",
            "|  8|      capibara|             cpbr|\n",
            "|  9|naked mole rat|          nkdml a|\n",
            "| 10|      capibara|             cpbr|\n",
            "| 11|      capibara|             cpbr|\n",
            "| 12|naked mole rat|          nkdml a|\n",
            "| 13|    flying fox|            fyn o|\n",
            "| 14|      capibara|             cpbr|\n",
            "+---+--------------+-----------------+\n",
            "\n"
          ],
          "name": "stdout"
        }
      ]
    },
    {
      "cell_type": "markdown",
      "metadata": {
        "id": "2pI_9F_mryoB"
      },
      "source": [
        "If we want the resulting columns to be of a particular type, we need to specify the return type. This is because in Python return types can not be inferred."
      ]
    },
    {
      "cell_type": "code",
      "metadata": {
        "colab": {
          "base_uri": "https://localhost:8080/"
        },
        "id": "Tsq2KhnPryoB",
        "outputId": "55fa56df-9d5b-4814-f83c-d8c9dc726694"
      },
      "source": [
        "df.withColumn('yeah_baby',\n",
        "              my_new_udf(df['id']))"
      ],
      "execution_count": 36,
      "outputs": [
        {
          "output_type": "execute_result",
          "data": {
            "text/plain": [
              "DataFrame[id: smallint, species: string, yeah_baby: string]"
            ]
          },
          "metadata": {
            "tags": []
          },
          "execution_count": 36
        }
      ]
    },
    {
      "cell_type": "code",
      "metadata": {
        "colab": {
          "base_uri": "https://localhost:8080/"
        },
        "id": "zYAubn3C_uvx",
        "outputId": "9d579926-bd06-4458-dc9d-2fce739a818a"
      },
      "source": [
        "typed_udf = functions.udf(math.log1p, returnType=types.FloatType())\n",
        "df.withColumn('yeah_baby',\n",
        "              typed_udf(df['id']))"
      ],
      "execution_count": 37,
      "outputs": [
        {
          "output_type": "execute_result",
          "data": {
            "text/plain": [
              "DataFrame[id: smallint, species: string, yeah_baby: float]"
            ]
          },
          "metadata": {
            "tags": []
          },
          "execution_count": 37
        }
      ]
    },
    {
      "cell_type": "code",
      "metadata": {
        "colab": {
          "base_uri": "https://localhost:8080/"
        },
        "id": "BzR3kDlZAYRI",
        "outputId": "8ed29f27-e2bb-4a4c-c111-df8ecfcb542c"
      },
      "source": [
        "@functions.udf('float')\n",
        "def myfun(a): \n",
        "  return math.log1p(a)\n",
        "\n",
        "df.select(myfun('id')).show()"
      ],
      "execution_count": 41,
      "outputs": [
        {
          "output_type": "stream",
          "text": [
            "+---------+\n",
            "|myfun(id)|\n",
            "+---------+\n",
            "|      0.0|\n",
            "|0.6931472|\n",
            "|1.0986123|\n",
            "|1.3862944|\n",
            "| 1.609438|\n",
            "|1.7917595|\n",
            "|1.9459101|\n",
            "|2.0794415|\n",
            "|2.1972246|\n",
            "|2.3025851|\n",
            "|2.3978953|\n",
            "|2.4849067|\n",
            "|2.5649493|\n",
            "|2.6390574|\n",
            "|2.7080503|\n",
            "+---------+\n",
            "\n"
          ],
          "name": "stdout"
        }
      ]
    },
    {
      "cell_type": "markdown",
      "metadata": {
        "id": "_Z68g0t-ryoB"
      },
      "source": [
        "Think about this function: what is its return type?"
      ]
    },
    {
      "cell_type": "code",
      "metadata": {
        "id": "4NBu69qkryoB"
      },
      "source": [
        "def x(a, b):\n",
        "  return a + b"
      ],
      "execution_count": 42,
      "outputs": []
    },
    {
      "cell_type": "markdown",
      "metadata": {
        "id": "XK67hrrcryoC"
      },
      "source": [
        "#### Exercise: \n",
        "\n",
        "Create a 'body_weight' field in our df. make it 18 for naked mole rat, 25000 for capibaras and 14 for axolotls, and 8000 for flying foxes.\n",
        "\n"
      ]
    },
    {
      "cell_type": "code",
      "metadata": {
        "colab": {
          "base_uri": "https://localhost:8080/"
        },
        "id": "akQvmUQdE7Vg",
        "outputId": "50fcdfd6-2009-487b-f9eb-6a58ef60b9e5"
      },
      "source": [
        "@functions.udf('int')\n",
        "def body_weight(animal):\n",
        "  weights = {'naked mole rat' : 18,\n",
        "             'capibara' : 25000,\n",
        "             'axolotl' : 14,\n",
        "             'flying fox' : 8000}\n",
        "\n",
        "  return weights.get(animal)\n",
        "\n",
        "df2 = df.withColumn('bw', body_weight('species'))\n",
        "df2"
      ],
      "execution_count": 43,
      "outputs": [
        {
          "output_type": "execute_result",
          "data": {
            "text/plain": [
              "DataFrame[id: smallint, species: string, bw: int]"
            ]
          },
          "metadata": {
            "tags": []
          },
          "execution_count": 43
        }
      ]
    },
    {
      "cell_type": "markdown",
      "metadata": {
        "id": "6eaxbXxUryoC"
      },
      "source": [
        "If we have a column that is not the desired type, we can convert it after the fact with `.cast()`. We can also change its name using `.alias()`"
      ]
    },
    {
      "cell_type": "code",
      "metadata": {
        "colab": {
          "base_uri": "https://localhost:8080/"
        },
        "id": "0Ek7nCcIryoC",
        "outputId": "dd546135-89d6-433b-ae26-af9e11916a8b"
      },
      "source": [
        "df2.select(df2['bw'].cast(types.FloatType()).alias('yuhuuu')).show()"
      ],
      "execution_count": 44,
      "outputs": [
        {
          "output_type": "stream",
          "text": [
            "+-------+\n",
            "| yuhuuu|\n",
            "+-------+\n",
            "|   18.0|\n",
            "|25000.0|\n",
            "|   14.0|\n",
            "|25000.0|\n",
            "|   14.0|\n",
            "|   18.0|\n",
            "|25000.0|\n",
            "|   14.0|\n",
            "|25000.0|\n",
            "|   18.0|\n",
            "|25000.0|\n",
            "|25000.0|\n",
            "|   18.0|\n",
            "| 8000.0|\n",
            "|25000.0|\n",
            "+-------+\n",
            "\n"
          ],
          "name": "stdout"
        }
      ]
    },
    {
      "cell_type": "markdown",
      "metadata": {
        "id": "v2vcDcT1ryoC"
      },
      "source": [
        "### Summary statistics\n",
        "\n",
        "https://databricks.com/blog/2015/06/02/statistical-and-mathematical-functions-with-dataframes-in-spark.html"
      ]
    },
    {
      "cell_type": "code",
      "metadata": {
        "colab": {
          "base_uri": "https://localhost:8080/"
        },
        "id": "awzruFATryoD",
        "outputId": "a7e88397-ad6a-4716-87b4-1b435d267e83"
      },
      "source": [
        "df2.stat.corr('id', 'bw')"
      ],
      "execution_count": 45,
      "outputs": [
        {
          "output_type": "execute_result",
          "data": {
            "text/plain": [
              "0.18822612115250822"
            ]
          },
          "metadata": {
            "tags": []
          },
          "execution_count": 45
        }
      ]
    },
    {
      "cell_type": "code",
      "metadata": {
        "id": "W2LklKYdJQ5L",
        "colab": {
          "base_uri": "https://localhost:8080/"
        },
        "outputId": "15e33a30-9fe0-4ab9-f633-ee5fe8de95b7"
      },
      "source": [
        "df2.stat.cov('id', 'bw')"
      ],
      "execution_count": 46,
      "outputs": [
        {
          "output_type": "execute_result",
          "data": {
            "text/plain": [
              "10560.857142857145"
            ]
          },
          "metadata": {
            "tags": []
          },
          "execution_count": 46
        }
      ]
    },
    {
      "cell_type": "code",
      "metadata": {
        "colab": {
          "base_uri": "https://localhost:8080/"
        },
        "id": "QMZDwK7NJXMT",
        "outputId": "978064b0-5d56-41f5-e1d9-0d67838d60a0"
      },
      "source": [
        "df2.stat.approxQuantile('bw', [.2, .4], 1e-4)"
      ],
      "execution_count": 47,
      "outputs": [
        {
          "output_type": "execute_result",
          "data": {
            "text/plain": [
              "[14.0, 18.0]"
            ]
          },
          "metadata": {
            "tags": []
          },
          "execution_count": 47
        }
      ]
    },
    {
      "cell_type": "markdown",
      "metadata": {
        "id": "I2k3rLYiryoD"
      },
      "source": [
        "### .crosstab()\n",
        "\n",
        "Crosstab returns the contingency table for two columns, as a DataFrame."
      ]
    },
    {
      "cell_type": "code",
      "metadata": {
        "colab": {
          "base_uri": "https://localhost:8080/"
        },
        "id": "6NZL2cMMKOQR",
        "outputId": "d204751b-2509-4879-f24e-2811b2fff863"
      },
      "source": [
        "random.seed(12)\n",
        "\n",
        "@functions.udf\n",
        "def enclosure():\n",
        "  return random.choice(['froopyland', 'magic kingdom'])\n",
        "\n",
        "df3 = df2.withColumn('enclosure', enclosure())\n",
        "df3.cache().show()"
      ],
      "execution_count": 48,
      "outputs": [
        {
          "output_type": "stream",
          "text": [
            "+---+--------------+-----+-------------+\n",
            "| id|       species|   bw|    enclosure|\n",
            "+---+--------------+-----+-------------+\n",
            "|  0|naked mole rat|   18|   froopyland|\n",
            "|  1|      capibara|25000|   froopyland|\n",
            "|  2|       axolotl|   14|magic kingdom|\n",
            "|  3|      capibara|25000|magic kingdom|\n",
            "|  4|       axolotl|   14|magic kingdom|\n",
            "|  5|naked mole rat|   18|   froopyland|\n",
            "|  6|      capibara|25000|   froopyland|\n",
            "|  7|       axolotl|   14|magic kingdom|\n",
            "|  8|      capibara|25000|   froopyland|\n",
            "|  9|naked mole rat|   18|   froopyland|\n",
            "| 10|      capibara|25000|magic kingdom|\n",
            "| 11|      capibara|25000|   froopyland|\n",
            "| 12|naked mole rat|   18|magic kingdom|\n",
            "| 13|    flying fox| 8000|   froopyland|\n",
            "| 14|      capibara|25000|magic kingdom|\n",
            "+---+--------------+-----+-------------+\n",
            "\n"
          ],
          "name": "stdout"
        }
      ]
    },
    {
      "cell_type": "code",
      "metadata": {
        "colab": {
          "base_uri": "https://localhost:8080/"
        },
        "id": "FPKUkAI8ryoD",
        "outputId": "233a3cce-4aa2-42e2-f731-f754b9d49793"
      },
      "source": [
        "df3.stat.crosstab('species', 'enclosure').show()"
      ],
      "execution_count": 53,
      "outputs": [
        {
          "output_type": "stream",
          "text": [
            "+-----------------+----------+-------------+\n",
            "|species_enclosure|froopyland|magic kingdom|\n",
            "+-----------------+----------+-------------+\n",
            "|   naked mole rat|         3|            1|\n",
            "|         capibara|         4|            3|\n",
            "|       flying fox|         1|            0|\n",
            "|          axolotl|         0|            3|\n",
            "+-----------------+----------+-------------+\n",
            "\n"
          ],
          "name": "stdout"
        }
      ]
    },
    {
      "cell_type": "markdown",
      "metadata": {
        "id": "goaLBWODryoD"
      },
      "source": [
        "### Grouping\n",
        "\n",
        "Grouping works very similarly to Pandas: executing groupby (or groupBy) on a DataFrame will return an object (a GroupedData) that can then be aggregated to obtain the results."
      ]
    },
    {
      "cell_type": "code",
      "metadata": {
        "colab": {
          "base_uri": "https://localhost:8080/"
        },
        "id": "twlF0as6ryoD",
        "outputId": "9603e4b2-d8f5-48e6-df47-759421a3481c"
      },
      "source": [
        "result = df3.groupby('species')\\\n",
        "   .agg(functions.max('id').alias('max_id'),\n",
        "        functions.min('id').alias('min_id'))\\\n",
        "   .show()"
      ],
      "execution_count": 67,
      "outputs": [
        {
          "output_type": "stream",
          "text": [
            "+--------------+------+------+\n",
            "|       species|max_id|min_id|\n",
            "+--------------+------+------+\n",
            "|      capibara|    14|     1|\n",
            "|       axolotl|     7|     2|\n",
            "|    flying fox|    13|    13|\n",
            "|naked mole rat|    12|     0|\n",
            "+--------------+------+------+\n",
            "\n"
          ],
          "name": "stdout"
        }
      ]
    },
    {
      "cell_type": "code",
      "metadata": {
        "colab": {
          "base_uri": "https://localhost:8080/"
        },
        "id": "hh3rE4mkw3S_",
        "outputId": "af22788d-40d6-4790-c127-267b4b211fc8"
      },
      "source": [
        "print(result)"
      ],
      "execution_count": 68,
      "outputs": [
        {
          "output_type": "stream",
          "text": [
            "None\n"
          ],
          "name": "stdout"
        }
      ]
    },
    {
      "cell_type": "code",
      "metadata": {
        "colab": {
          "base_uri": "https://localhost:8080/"
        },
        "id": "ZhFNR1zPMGo_",
        "outputId": "2e6dc46a-8689-44ff-ef02-c21c2db2efb6"
      },
      "source": [
        "df3"
      ],
      "execution_count": 55,
      "outputs": [
        {
          "output_type": "execute_result",
          "data": {
            "text/plain": [
              "DataFrame[id: smallint, species: string, bw: int, enclosure: string]"
            ]
          },
          "metadata": {
            "tags": []
          },
          "execution_count": 55
        }
      ]
    },
    {
      "cell_type": "markdown",
      "metadata": {
        "id": "RqnwMA6bryoE"
      },
      "source": [
        "GroupedData has several aggregation functions defined:"
      ]
    },
    {
      "cell_type": "code",
      "metadata": {
        "colab": {
          "base_uri": "https://localhost:8080/"
        },
        "id": "DXj_TEmmryoE",
        "outputId": "980cff74-e442-4ea6-993b-880ee59769c2"
      },
      "source": [
        "grouped_data = df3.groupby('species')\n",
        "grouped_data.max()"
      ],
      "execution_count": 56,
      "outputs": [
        {
          "output_type": "execute_result",
          "data": {
            "text/plain": [
              "DataFrame[species: string, max(id): smallint, max(bw): int]"
            ]
          },
          "metadata": {
            "tags": []
          },
          "execution_count": 56
        }
      ]
    },
    {
      "cell_type": "markdown",
      "metadata": {
        "id": "PRVoT83ZryoE"
      },
      "source": [
        "We can do several aggregations in a single step, with a number of different syntaxes:"
      ]
    },
    {
      "cell_type": "code",
      "metadata": {
        "id": "uhWWZUgdryoE"
      },
      "source": [
        ""
      ],
      "execution_count": null,
      "outputs": []
    },
    {
      "cell_type": "markdown",
      "metadata": {
        "id": "JCd-vXORryoE"
      },
      "source": [
        "### Intersections\n",
        "\n",
        "Ver much like SQL joins. We can specify the columns and the join method (left, right, inner, outer) or we can let Spark infer them."
      ]
    },
    {
      "cell_type": "code",
      "metadata": {
        "colab": {
          "base_uri": "https://localhost:8080/"
        },
        "id": "NYNQ521WryoF",
        "outputId": "674f705a-25fa-4402-d1d4-da3b27c46b93"
      },
      "source": [
        "random.seed(12)\n",
        "\n",
        "data = list(zip(random.choices(['froopyland', 'magic kingdom', 'neverland'], k = 10),\n",
        "                 random.choices([3,5,7, None], k=10)))\n",
        "\n",
        "data\n",
        "\n",
        "other_df = spark.createDataFrame(data, schema=['enclosure', 'id'])\n",
        "other_df"
      ],
      "execution_count": 57,
      "outputs": [
        {
          "output_type": "execute_result",
          "data": {
            "text/plain": [
              "DataFrame[enclosure: string, id: bigint]"
            ]
          },
          "metadata": {
            "tags": []
          },
          "execution_count": 57
        }
      ]
    },
    {
      "cell_type": "markdown",
      "metadata": {
        "id": "m_HiRgq3ryoF"
      },
      "source": [
        "Spark refuses to do cross joins by default. To perform them, we can \n",
        "\n",
        "a) Allow then explicitly:\n",
        "\n",
        "```python\n",
        "spark.conf.set(\"spark.sql.crossJoin.enabled\", \"true\")\n",
        "```\n",
        "\n",
        "b) Specify the join criterion\n",
        "\n",
        "```python\n",
        "df4.join(new_df, on='id').show()\n",
        "```"
      ]
    },
    {
      "cell_type": "code",
      "metadata": {
        "tags": [
          "raises-exception"
        ],
        "colab": {
          "base_uri": "https://localhost:8080/"
        },
        "id": "-iKN4o_4ryoF",
        "outputId": "023800eb-edd2-4322-e53e-a7f18bd5ea8f"
      },
      "source": [
        "df3.join(other_df).count() # Cross join"
      ],
      "execution_count": 58,
      "outputs": [
        {
          "output_type": "execute_result",
          "data": {
            "text/plain": [
              "150"
            ]
          },
          "metadata": {
            "tags": []
          },
          "execution_count": 58
        }
      ]
    },
    {
      "cell_type": "code",
      "metadata": {
        "colab": {
          "base_uri": "https://localhost:8080/"
        },
        "id": "dD07gBvLOkfP",
        "outputId": "367931fd-7ceb-4a23-b569-00b649f6a48a"
      },
      "source": [
        "duplicate_columns = df3.join(other_df, on='enclosure', how='inner')\n",
        "duplicate_columns.show()"
      ],
      "execution_count": 59,
      "outputs": [
        {
          "output_type": "stream",
          "text": [
            "+-------------+---+--------------+-----+---+\n",
            "|    enclosure| id|       species|   bw| id|\n",
            "+-------------+---+--------------+-----+---+\n",
            "|magic kingdom| 14|      capibara|25000|  7|\n",
            "|magic kingdom| 12|naked mole rat|   18|  7|\n",
            "|magic kingdom| 10|      capibara|25000|  7|\n",
            "|magic kingdom|  7|       axolotl|   14|  7|\n",
            "|magic kingdom|  4|       axolotl|   14|  7|\n",
            "|magic kingdom|  3|      capibara|25000|  7|\n",
            "|magic kingdom|  2|       axolotl|   14|  7|\n",
            "|magic kingdom| 14|      capibara|25000|  7|\n",
            "|magic kingdom| 12|naked mole rat|   18|  7|\n",
            "|magic kingdom| 10|      capibara|25000|  7|\n",
            "|magic kingdom|  7|       axolotl|   14|  7|\n",
            "|magic kingdom|  4|       axolotl|   14|  7|\n",
            "|magic kingdom|  3|      capibara|25000|  7|\n",
            "|magic kingdom|  2|       axolotl|   14|  7|\n",
            "|magic kingdom| 14|      capibara|25000|  3|\n",
            "|magic kingdom| 12|naked mole rat|   18|  3|\n",
            "|magic kingdom| 10|      capibara|25000|  3|\n",
            "|magic kingdom|  7|       axolotl|   14|  3|\n",
            "|magic kingdom|  4|       axolotl|   14|  3|\n",
            "|magic kingdom|  3|      capibara|25000|  3|\n",
            "+-------------+---+--------------+-----+---+\n",
            "only showing top 20 rows\n",
            "\n"
          ],
          "name": "stdout"
        }
      ]
    },
    {
      "cell_type": "code",
      "metadata": {
        "colab": {
          "base_uri": "https://localhost:8080/"
        },
        "id": "qPduVrIPO-6E",
        "outputId": "41512a0e-b25f-4afd-c32c-7b338c596f61"
      },
      "source": [
        "duplicate_columns.select(other_df['id']).show()"
      ],
      "execution_count": 60,
      "outputs": [
        {
          "output_type": "stream",
          "text": [
            "+---+\n",
            "| id|\n",
            "+---+\n",
            "|  7|\n",
            "|  7|\n",
            "|  7|\n",
            "|  7|\n",
            "|  7|\n",
            "|  7|\n",
            "|  7|\n",
            "|  7|\n",
            "|  7|\n",
            "|  7|\n",
            "|  7|\n",
            "|  7|\n",
            "|  7|\n",
            "|  7|\n",
            "|  3|\n",
            "|  3|\n",
            "|  3|\n",
            "|  3|\n",
            "|  3|\n",
            "|  3|\n",
            "+---+\n",
            "only showing top 20 rows\n",
            "\n"
          ],
          "name": "stdout"
        }
      ]
    },
    {
      "cell_type": "code",
      "metadata": {
        "colab": {
          "base_uri": "https://localhost:8080/"
        },
        "id": "oovKwhm9OwLO",
        "outputId": "9f2ff886-54f7-4106-b96c-4aca448c887d"
      },
      "source": [
        "df3.join(other_df, on=['enclosure', 'id'], how='inner').show()"
      ],
      "execution_count": 61,
      "outputs": [
        {
          "output_type": "stream",
          "text": [
            "+-------------+---+--------------+-----+\n",
            "|    enclosure| id|       species|   bw|\n",
            "+-------------+---+--------------+-----+\n",
            "|magic kingdom|  7|       axolotl|   14|\n",
            "|magic kingdom|  7|       axolotl|   14|\n",
            "|magic kingdom|  3|      capibara|25000|\n",
            "|   froopyland|  5|naked mole rat|   18|\n",
            "|magic kingdom|  7|       axolotl|   14|\n",
            "+-------------+---+--------------+-----+\n",
            "\n"
          ],
          "name": "stdout"
        }
      ]
    },
    {
      "cell_type": "markdown",
      "metadata": {
        "collapsed": true,
        "id": "wBlrOtQyryoF"
      },
      "source": [
        "#### Digression\n",
        "\n",
        "We can monitor our running jobs and storage used at the Spark Web UI. We can get its url with sc.uiWebUrl.\n",
        "\n",
        "StorageLevels represent how our DataFrame is cached: we can save the results of the computation up to that point, so that if we process several times the same data only the subsequent steps will be recomputed.\n",
        "\n",
        "In Google Colab, we need to do additional work to expose it. We need a Spark session with a web UI port other than 4040. In this example we are using 4050.\n",
        "\n",
        "\n",
        "```python\n",
        "!wget https://bin.equinox.io/c/4VmDzA7iaHb/ngrok-stable-linux-amd64.zip\n",
        "!unzip -qq ngrok-stable-linux-amd64.zip\n",
        "get_ipython().system_raw('./ngrok http 4050 &')\n",
        "!curl -s http://localhost:4040/api/tunnels | python3 -c \\\n",
        "    \"import sys, json; print(json.load(sys.stdin)['tunnels'][0]['public_url'])\"\n",
        "```        \n",
        "        "
      ]
    },
    {
      "cell_type": "markdown",
      "metadata": {
        "id": "acg8ZWfkryoG"
      },
      "source": [
        "We can erase it with `unpersist`"
      ]
    },
    {
      "cell_type": "markdown",
      "metadata": {
        "id": "eQgHd5tcryoG"
      },
      "source": [
        "#### Exercise\n",
        "\n",
        "Calculate the [z-score](http://www.statisticshowto.com/probability-and-statistics/z-score/) of each creature's body weight for their enclosure."
      ]
    },
    {
      "cell_type": "code",
      "metadata": {
        "colab": {
          "base_uri": "https://localhost:8080/"
        },
        "id": "mBb_1VlyryoH",
        "outputId": "6695b813-87a4-4735-83e8-bef6ad4c637f"
      },
      "source": [
        "df3.show()"
      ],
      "execution_count": 62,
      "outputs": [
        {
          "output_type": "stream",
          "text": [
            "+---+--------------+-----+-------------+\n",
            "| id|       species|   bw|    enclosure|\n",
            "+---+--------------+-----+-------------+\n",
            "|  0|naked mole rat|   18|   froopyland|\n",
            "|  1|      capibara|25000|   froopyland|\n",
            "|  2|       axolotl|   14|magic kingdom|\n",
            "|  3|      capibara|25000|magic kingdom|\n",
            "|  4|       axolotl|   14|magic kingdom|\n",
            "|  5|naked mole rat|   18|   froopyland|\n",
            "|  6|      capibara|25000|   froopyland|\n",
            "|  7|       axolotl|   14|magic kingdom|\n",
            "|  8|      capibara|25000|   froopyland|\n",
            "|  9|naked mole rat|   18|   froopyland|\n",
            "| 10|      capibara|25000|magic kingdom|\n",
            "| 11|      capibara|25000|   froopyland|\n",
            "| 12|naked mole rat|   18|magic kingdom|\n",
            "| 13|    flying fox| 8000|   froopyland|\n",
            "| 14|      capibara|25000|magic kingdom|\n",
            "+---+--------------+-----+-------------+\n",
            "\n"
          ],
          "name": "stdout"
        }
      ]
    },
    {
      "cell_type": "markdown",
      "metadata": {
        "id": "mNy2c955ryoH"
      },
      "source": [
        "1) Calculate the mean and std of hitpoints for each location"
      ]
    },
    {
      "cell_type": "code",
      "metadata": {
        "colab": {
          "base_uri": "https://localhost:8080/"
        },
        "id": "dM_Mbju_ryoH",
        "outputId": "28adc76b-37c6-4757-cff9-9bfa9ee4117c"
      },
      "source": [
        "stats = df3.groupby('enclosure').agg(functions.mean('bw'),\n",
        "                                     functions.stddev('bw'))\n",
        "\n",
        "stats.show()"
      ],
      "execution_count": 72,
      "outputs": [
        {
          "output_type": "stream",
          "text": [
            "+-------------+------------------+------------------+\n",
            "|    enclosure|           avg(bw)|   stddev_samp(bw)|\n",
            "+-------------+------------------+------------------+\n",
            "|magic kingdom|10722.857142857143|13355.044333241922|\n",
            "|   froopyland|          13506.75|12561.520651236002|\n",
            "+-------------+------------------+------------------+\n",
            "\n"
          ],
          "name": "stdout"
        }
      ]
    },
    {
      "cell_type": "markdown",
      "metadata": {
        "id": "1EqFn2tIryoH"
      },
      "source": [
        "2) Annotate each creature with the stats corresponding to their location"
      ]
    },
    {
      "cell_type": "code",
      "metadata": {
        "colab": {
          "base_uri": "https://localhost:8080/"
        },
        "id": "H9rXdIaAryoH",
        "outputId": "f55af8c8-c57a-41b5-c03a-bad317f616a0"
      },
      "source": [
        "annotated = df3.join(stats, on='enclosure')\n",
        "annotated.show()"
      ],
      "execution_count": 77,
      "outputs": [
        {
          "output_type": "stream",
          "text": [
            "+-------------+---+--------------+-----+------------------+------------------+\n",
            "|    enclosure| id|       species|   bw|           avg(bw)|   stddev_samp(bw)|\n",
            "+-------------+---+--------------+-----+------------------+------------------+\n",
            "|   froopyland|  0|naked mole rat|   18|          13506.75|12561.520651236002|\n",
            "|   froopyland|  1|      capibara|25000|          13506.75|12561.520651236002|\n",
            "|magic kingdom|  2|       axolotl|   14|10722.857142857143|13355.044333241922|\n",
            "|magic kingdom|  3|      capibara|25000|10722.857142857143|13355.044333241922|\n",
            "|magic kingdom|  4|       axolotl|   14|10722.857142857143|13355.044333241922|\n",
            "|   froopyland|  5|naked mole rat|   18|          13506.75|12561.520651236002|\n",
            "|   froopyland|  6|      capibara|25000|          13506.75|12561.520651236002|\n",
            "|magic kingdom|  7|       axolotl|   14|10722.857142857143|13355.044333241922|\n",
            "|   froopyland|  8|      capibara|25000|          13506.75|12561.520651236002|\n",
            "|   froopyland|  9|naked mole rat|   18|          13506.75|12561.520651236002|\n",
            "|magic kingdom| 10|      capibara|25000|10722.857142857143|13355.044333241922|\n",
            "|   froopyland| 11|      capibara|25000|          13506.75|12561.520651236002|\n",
            "|magic kingdom| 12|naked mole rat|   18|10722.857142857143|13355.044333241922|\n",
            "|   froopyland| 13|    flying fox| 8000|          13506.75|12561.520651236002|\n",
            "|magic kingdom| 14|      capibara|25000|10722.857142857143|13355.044333241922|\n",
            "+-------------+---+--------------+-----+------------------+------------------+\n",
            "\n"
          ],
          "name": "stdout"
        }
      ]
    },
    {
      "cell_type": "markdown",
      "metadata": {
        "id": "UQvKqqMCryoI"
      },
      "source": [
        "3) Calculate the z-score"
      ]
    },
    {
      "cell_type": "code",
      "metadata": {
        "colab": {
          "base_uri": "https://localhost:8080/"
        },
        "id": "o3QYDSy6ryoI",
        "outputId": "8b176272-646d-450d-85ae-01eef92c94a7"
      },
      "source": [
        "result = annotated.withColumn('zscore', \n",
        "                              (annotated['bw'] - annotated['avg(bw)'])/ annotated['stddev_samp(bw)'])\n",
        "\n",
        "result.cache().show()"
      ],
      "execution_count": 78,
      "outputs": [
        {
          "output_type": "stream",
          "text": [
            "+-------------+---+--------------+-----+------------------+------------------+--------------------+\n",
            "|    enclosure| id|       species|   bw|           avg(bw)|   stddev_samp(bw)|              zscore|\n",
            "+-------------+---+--------------+-----+------------------+------------------+--------------------+\n",
            "|   froopyland|  0|naked mole rat|   18|          13506.75|12561.520651236002| -1.0738150558764366|\n",
            "|   froopyland|  1|      capibara|25000|          13506.75|12561.520651236002|  0.9149569004505128|\n",
            "|magic kingdom|  2|       axolotl|   14|10722.857142857143|13355.044333241922| -0.8018585993160519|\n",
            "|magic kingdom|  3|      capibara|25000|10722.857142857143|13355.044333241922|  1.0690449616558553|\n",
            "|magic kingdom|  4|       axolotl|   14|10722.857142857143|13355.044333241922| -0.8018585993160519|\n",
            "|   froopyland|  5|naked mole rat|   18|          13506.75|12561.520651236002| -1.0738150558764366|\n",
            "|   froopyland|  6|      capibara|25000|          13506.75|12561.520651236002|  0.9149569004505128|\n",
            "|magic kingdom|  7|       axolotl|   14|10722.857142857143|13355.044333241922| -0.8018585993160519|\n",
            "|   froopyland|  8|      capibara|25000|          13506.75|12561.520651236002|  0.9149569004505128|\n",
            "|   froopyland|  9|naked mole rat|   18|          13506.75|12561.520651236002| -1.0738150558764366|\n",
            "|magic kingdom| 10|      capibara|25000|10722.857142857143|13355.044333241922|  1.0690449616558553|\n",
            "|   froopyland| 11|      capibara|25000|          13506.75|12561.520651236002|  0.9149569004505128|\n",
            "|magic kingdom| 12|naked mole rat|   18|10722.857142857143|13355.044333241922| -0.8015590870194103|\n",
            "|   froopyland| 13|    flying fox| 8000|          13506.75|12561.520651236002|-0.43838243417274153|\n",
            "|magic kingdom| 14|      capibara|25000|10722.857142857143|13355.044333241922|  1.0690449616558553|\n",
            "+-------------+---+--------------+-----+------------------+------------------+--------------------+\n",
            "\n"
          ],
          "name": "stdout"
        }
      ]
    },
    {
      "cell_type": "markdown",
      "metadata": {
        "id": "0jG8UB7KryoI"
      },
      "source": [
        "Note that we can build more complex boolean conditions for joining, as well as joining on columns that do not have the same name:"
      ]
    },
    {
      "cell_type": "code",
      "metadata": {
        "colab": {
          "base_uri": "https://localhost:8080/"
        },
        "id": "rzquu1HrryoI",
        "outputId": "52ddf60f-de1e-4f4f-e5b0-3259d266fe38"
      },
      "source": [
        "df3.join(stats, on=df3['bw']<stats['avg(bw)']).show()"
      ],
      "execution_count": 81,
      "outputs": [
        {
          "output_type": "stream",
          "text": [
            "+---+--------------+----+-------------+-------------+------------------+------------------+\n",
            "| id|       species|  bw|    enclosure|    enclosure|           avg(bw)|   stddev_samp(bw)|\n",
            "+---+--------------+----+-------------+-------------+------------------+------------------+\n",
            "|  0|naked mole rat|  18|   froopyland|magic kingdom|10722.857142857143|13355.044333241922|\n",
            "|  0|naked mole rat|  18|   froopyland|   froopyland|          13506.75|12561.520651236002|\n",
            "|  2|       axolotl|  14|magic kingdom|magic kingdom|10722.857142857143|13355.044333241922|\n",
            "|  2|       axolotl|  14|magic kingdom|   froopyland|          13506.75|12561.520651236002|\n",
            "|  4|       axolotl|  14|magic kingdom|magic kingdom|10722.857142857143|13355.044333241922|\n",
            "|  4|       axolotl|  14|magic kingdom|   froopyland|          13506.75|12561.520651236002|\n",
            "|  5|naked mole rat|  18|   froopyland|magic kingdom|10722.857142857143|13355.044333241922|\n",
            "|  5|naked mole rat|  18|   froopyland|   froopyland|          13506.75|12561.520651236002|\n",
            "|  7|       axolotl|  14|magic kingdom|magic kingdom|10722.857142857143|13355.044333241922|\n",
            "|  7|       axolotl|  14|magic kingdom|   froopyland|          13506.75|12561.520651236002|\n",
            "|  9|naked mole rat|  18|   froopyland|magic kingdom|10722.857142857143|13355.044333241922|\n",
            "|  9|naked mole rat|  18|   froopyland|   froopyland|          13506.75|12561.520651236002|\n",
            "| 12|naked mole rat|  18|magic kingdom|magic kingdom|10722.857142857143|13355.044333241922|\n",
            "| 12|naked mole rat|  18|magic kingdom|   froopyland|          13506.75|12561.520651236002|\n",
            "| 13|    flying fox|8000|   froopyland|magic kingdom|10722.857142857143|13355.044333241922|\n",
            "| 13|    flying fox|8000|   froopyland|   froopyland|          13506.75|12561.520651236002|\n",
            "+---+--------------+----+-------------+-------------+------------------+------------------+\n",
            "\n"
          ],
          "name": "stdout"
        }
      ]
    },
    {
      "cell_type": "markdown",
      "metadata": {
        "id": "i40wqC5-ryoI"
      },
      "source": [
        "### Handling null values"
      ]
    },
    {
      "cell_type": "code",
      "metadata": {
        "colab": {
          "base_uri": "https://localhost:8080/"
        },
        "id": "gJjakJmLryoJ",
        "outputId": "7a11e762-b0c7-4574-abb0-3147782f9ce1"
      },
      "source": [
        "random.seed(15)\n",
        "\n",
        "data = list(zip(random.choices(['x', 'y', None], k=15),\n",
        "                random.choices([8, 2, 3, None], k=15),\n",
        "                random.choices([99., 45.3, 12.3, None], k=15)))\n",
        "data"
      ],
      "execution_count": 97,
      "outputs": [
        {
          "output_type": "execute_result",
          "data": {
            "text/plain": [
              "[(None, 8, 12.3),\n",
              " ('x', None, 45.3),\n",
              " (None, None, None),\n",
              " ('x', None, None),\n",
              " (None, 8, 45.3),\n",
              " ('x', None, None),\n",
              " (None, 3, 99.0),\n",
              " (None, 8, 99.0),\n",
              " (None, 2, 99.0),\n",
              " (None, 2, None),\n",
              " ('x', 8, 12.3),\n",
              " ('y', 3, 12.3),\n",
              " (None, 2, 45.3),\n",
              " ('x', 3, 45.3),\n",
              " ('x', None, None)]"
            ]
          },
          "metadata": {
            "tags": []
          },
          "execution_count": 97
        }
      ]
    },
    {
      "cell_type": "code",
      "metadata": {
        "colab": {
          "base_uri": "https://localhost:8080/"
        },
        "id": "otgldghm3Vau",
        "outputId": "f6a4e1ff-fbfa-4c72-d13b-26ab132865ac"
      },
      "source": [
        "with_nulls = spark.createDataFrame(data, schema=['a', 'b', 'c']).cache()\n",
        "with_nulls.show()"
      ],
      "execution_count": 98,
      "outputs": [
        {
          "output_type": "stream",
          "text": [
            "+----+----+----+\n",
            "|   a|   b|   c|\n",
            "+----+----+----+\n",
            "|null|   8|12.3|\n",
            "|   x|null|45.3|\n",
            "|null|null|null|\n",
            "|   x|null|null|\n",
            "|null|   8|45.3|\n",
            "|   x|null|null|\n",
            "|null|   3|99.0|\n",
            "|null|   8|99.0|\n",
            "|null|   2|99.0|\n",
            "|null|   2|null|\n",
            "|   x|   8|12.3|\n",
            "|   y|   3|12.3|\n",
            "|null|   2|45.3|\n",
            "|   x|   3|45.3|\n",
            "|   x|null|null|\n",
            "+----+----+----+\n",
            "\n"
          ],
          "name": "stdout"
        }
      ]
    },
    {
      "cell_type": "code",
      "metadata": {
        "colab": {
          "base_uri": "https://localhost:8080/"
        },
        "id": "dFnVzGVV24Lh",
        "outputId": "8301f3ae-8e27-4621-e356-579bb7a42c29"
      },
      "source": [
        "with_nulls.fillna('z').show()"
      ],
      "execution_count": 100,
      "outputs": [
        {
          "output_type": "stream",
          "text": [
            "+---+----+----+\n",
            "|  a|   b|   c|\n",
            "+---+----+----+\n",
            "|  z|   8|12.3|\n",
            "|  x|null|45.3|\n",
            "|  z|null|null|\n",
            "|  x|null|null|\n",
            "|  z|   8|45.3|\n",
            "|  x|null|null|\n",
            "|  z|   3|99.0|\n",
            "|  z|   8|99.0|\n",
            "|  z|   2|99.0|\n",
            "|  z|   2|null|\n",
            "|  x|   8|12.3|\n",
            "|  y|   3|12.3|\n",
            "|  z|   2|45.3|\n",
            "|  x|   3|45.3|\n",
            "|  x|null|null|\n",
            "+---+----+----+\n",
            "\n"
          ],
          "name": "stdout"
        }
      ]
    },
    {
      "cell_type": "code",
      "metadata": {
        "colab": {
          "base_uri": "https://localhost:8080/"
        },
        "id": "luoEPYcC30gT",
        "outputId": "84d59b86-8470-4cee-dcd6-5b97fc0d0d17"
      },
      "source": [
        "with_nulls.fillna(0.2).show()"
      ],
      "execution_count": 102,
      "outputs": [
        {
          "output_type": "stream",
          "text": [
            "+----+---+----+\n",
            "|   a|  b|   c|\n",
            "+----+---+----+\n",
            "|null|  8|12.3|\n",
            "|   x|  0|45.3|\n",
            "|null|  0| 0.2|\n",
            "|   x|  0| 0.2|\n",
            "|null|  8|45.3|\n",
            "|   x|  0| 0.2|\n",
            "|null|  3|99.0|\n",
            "|null|  8|99.0|\n",
            "|null|  2|99.0|\n",
            "|null|  2| 0.2|\n",
            "|   x|  8|12.3|\n",
            "|   y|  3|12.3|\n",
            "|null|  2|45.3|\n",
            "|   x|  3|45.3|\n",
            "|   x|  0| 0.2|\n",
            "+----+---+----+\n",
            "\n"
          ],
          "name": "stdout"
        }
      ]
    },
    {
      "cell_type": "code",
      "metadata": {
        "colab": {
          "base_uri": "https://localhost:8080/"
        },
        "id": "RPbEedjm38rm",
        "outputId": "e08aff9e-d3a3-4a4b-b006-8dcf04e86d19"
      },
      "source": [
        "with_nulls.fillna({'a': 'supercalifragilisticoespialidoso', 'b': 7}).show()"
      ],
      "execution_count": 103,
      "outputs": [
        {
          "output_type": "stream",
          "text": [
            "+--------------------+---+----+\n",
            "|                   a|  b|   c|\n",
            "+--------------------+---+----+\n",
            "|supercalifragilis...|  8|12.3|\n",
            "|                   x|  7|45.3|\n",
            "|supercalifragilis...|  7|null|\n",
            "|                   x|  7|null|\n",
            "|supercalifragilis...|  8|45.3|\n",
            "|                   x|  7|null|\n",
            "|supercalifragilis...|  3|99.0|\n",
            "|supercalifragilis...|  8|99.0|\n",
            "|supercalifragilis...|  2|99.0|\n",
            "|supercalifragilis...|  2|null|\n",
            "|                   x|  8|12.3|\n",
            "|                   y|  3|12.3|\n",
            "|supercalifragilis...|  2|45.3|\n",
            "|                   x|  3|45.3|\n",
            "|                   x|  7|null|\n",
            "+--------------------+---+----+\n",
            "\n"
          ],
          "name": "stdout"
        }
      ]
    },
    {
      "cell_type": "code",
      "metadata": {
        "colab": {
          "base_uri": "https://localhost:8080/"
        },
        "id": "Jf58Y6wR4JRy",
        "outputId": "ab350d0a-dae3-4f1a-b735-657345978be9"
      },
      "source": [
        "with_nulls.dropna().show()"
      ],
      "execution_count": 104,
      "outputs": [
        {
          "output_type": "stream",
          "text": [
            "+---+---+----+\n",
            "|  a|  b|   c|\n",
            "+---+---+----+\n",
            "|  x|  8|12.3|\n",
            "|  y|  3|12.3|\n",
            "|  x|  3|45.3|\n",
            "+---+---+----+\n",
            "\n"
          ],
          "name": "stdout"
        }
      ]
    },
    {
      "cell_type": "code",
      "metadata": {
        "colab": {
          "base_uri": "https://localhost:8080/"
        },
        "id": "qXzaqM_l4O0W",
        "outputId": "92254e7a-6114-47cb-bfd6-1240af94f9d0"
      },
      "source": [
        "with_nulls.dropna(how='all').show()"
      ],
      "execution_count": 109,
      "outputs": [
        {
          "output_type": "stream",
          "text": [
            "+----+----+----+\n",
            "|   a|   b|   c|\n",
            "+----+----+----+\n",
            "|null|   8|12.3|\n",
            "|   x|null|45.3|\n",
            "|   x|null|null|\n",
            "|null|   8|45.3|\n",
            "|   x|null|null|\n",
            "|null|   3|99.0|\n",
            "|null|   8|99.0|\n",
            "|null|   2|99.0|\n",
            "|null|   2|null|\n",
            "|   x|   8|12.3|\n",
            "|   y|   3|12.3|\n",
            "|null|   2|45.3|\n",
            "|   x|   3|45.3|\n",
            "|   x|null|null|\n",
            "+----+----+----+\n",
            "\n"
          ],
          "name": "stdout"
        }
      ]
    },
    {
      "cell_type": "code",
      "metadata": {
        "colab": {
          "base_uri": "https://localhost:8080/"
        },
        "id": "T-YWxy9h4YAh",
        "outputId": "418d7e4e-e805-44c5-e82a-41cd2bbf48ce"
      },
      "source": [
        "with_nulls.dropna(subset=['b', 'c']).show()"
      ],
      "execution_count": 111,
      "outputs": [
        {
          "output_type": "stream",
          "text": [
            "+----+---+----+\n",
            "|   a|  b|   c|\n",
            "+----+---+----+\n",
            "|null|  8|12.3|\n",
            "|null|  8|45.3|\n",
            "|null|  3|99.0|\n",
            "|null|  8|99.0|\n",
            "|null|  2|99.0|\n",
            "|   x|  8|12.3|\n",
            "|   y|  3|12.3|\n",
            "|null|  2|45.3|\n",
            "|   x|  3|45.3|\n",
            "+----+---+----+\n",
            "\n"
          ],
          "name": "stdout"
        }
      ]
    },
    {
      "cell_type": "code",
      "metadata": {
        "colab": {
          "base_uri": "https://localhost:8080/"
        },
        "id": "yvzAe69T4iWf",
        "outputId": "b2549c78-ca75-41a6-d588-9eb42112f1d5"
      },
      "source": [
        "with_nulls.dropna(thresh=2).show()"
      ],
      "execution_count": 113,
      "outputs": [
        {
          "output_type": "stream",
          "text": [
            "+----+----+----+\n",
            "|   a|   b|   c|\n",
            "+----+----+----+\n",
            "|null|   8|12.3|\n",
            "|   x|null|45.3|\n",
            "|null|   8|45.3|\n",
            "|null|   3|99.0|\n",
            "|null|   8|99.0|\n",
            "|null|   2|99.0|\n",
            "|   x|   8|12.3|\n",
            "|   y|   3|12.3|\n",
            "|null|   2|45.3|\n",
            "|   x|   3|45.3|\n",
            "+----+----+----+\n",
            "\n"
          ],
          "name": "stdout"
        }
      ]
    },
    {
      "cell_type": "markdown",
      "metadata": {
        "id": "tv7dIlooryoJ"
      },
      "source": [
        "## SQL querying\n",
        "\n",
        "We need to register our DataFrame as a table in the SQL context in order to be able to query against it."
      ]
    },
    {
      "cell_type": "code",
      "metadata": {
        "colab": {
          "base_uri": "https://localhost:8080/"
        },
        "id": "oNU0Ts5nryoJ",
        "outputId": "bf07101e-bad4-4d51-d60c-853027b42b89"
      },
      "source": [
        "df3.registerTempTable('df3_table')\n",
        "spark.sql('SELECT * FROM df3_table')"
      ],
      "execution_count": 117,
      "outputs": [
        {
          "output_type": "execute_result",
          "data": {
            "text/plain": [
              "DataFrame[id: smallint, species: string, bw: int, enclosure: string]"
            ]
          },
          "metadata": {
            "tags": []
          },
          "execution_count": 117
        }
      ]
    },
    {
      "cell_type": "markdown",
      "metadata": {
        "id": "U3X0Te1pryoJ"
      },
      "source": [
        "Once registered, we can perform queries as complex as we want."
      ]
    },
    {
      "cell_type": "code",
      "metadata": {
        "colab": {
          "base_uri": "https://localhost:8080/"
        },
        "id": "sx2rdsMCryoJ",
        "outputId": "074de085-f2d9-4275-8b1c-32a945fc5109"
      },
      "source": [
        "spark.sql('SELECT enclosure, mean(bw), stddev(bw) FROM df3_table GROUP BY enclosure').show()"
      ],
      "execution_count": 125,
      "outputs": [
        {
          "output_type": "stream",
          "text": [
            "+-------------+------------------+--------------------------+\n",
            "|    enclosure|          mean(bw)|stddev(CAST(bw AS DOUBLE))|\n",
            "+-------------+------------------+--------------------------+\n",
            "|magic kingdom|10722.857142857143|        13355.044333241922|\n",
            "|   froopyland|          13506.75|        12561.520651236002|\n",
            "+-------------+------------------+--------------------------+\n",
            "\n"
          ],
          "name": "stdout"
        }
      ]
    },
    {
      "cell_type": "markdown",
      "metadata": {
        "id": "3o_YPrCnryoK"
      },
      "source": [
        "## Interoperation with Pandas\n",
        "\n",
        "Easy peasy. We can convert a spark DataFrame into a Pandas one, which will `collect` it, and viceversa, which will distribute it."
      ]
    },
    {
      "cell_type": "code",
      "metadata": {
        "colab": {
          "base_uri": "https://localhost:8080/",
          "height": 511
        },
        "id": "ubg_g0KxryoK",
        "outputId": "930d24f0-0f1d-4921-dcbd-fa0876242ff2"
      },
      "source": [
        "pd_df = result.toPandas()\n",
        "pd_df"
      ],
      "execution_count": 122,
      "outputs": [
        {
          "output_type": "execute_result",
          "data": {
            "text/html": [
              "<div>\n",
              "<style scoped>\n",
              "    .dataframe tbody tr th:only-of-type {\n",
              "        vertical-align: middle;\n",
              "    }\n",
              "\n",
              "    .dataframe tbody tr th {\n",
              "        vertical-align: top;\n",
              "    }\n",
              "\n",
              "    .dataframe thead th {\n",
              "        text-align: right;\n",
              "    }\n",
              "</style>\n",
              "<table border=\"1\" class=\"dataframe\">\n",
              "  <thead>\n",
              "    <tr style=\"text-align: right;\">\n",
              "      <th></th>\n",
              "      <th>enclosure</th>\n",
              "      <th>id</th>\n",
              "      <th>species</th>\n",
              "      <th>bw</th>\n",
              "      <th>avg(bw)</th>\n",
              "      <th>stddev_samp(bw)</th>\n",
              "      <th>zscore</th>\n",
              "    </tr>\n",
              "  </thead>\n",
              "  <tbody>\n",
              "    <tr>\n",
              "      <th>0</th>\n",
              "      <td>froopyland</td>\n",
              "      <td>0</td>\n",
              "      <td>naked mole rat</td>\n",
              "      <td>18</td>\n",
              "      <td>13506.750000</td>\n",
              "      <td>12561.520651</td>\n",
              "      <td>-1.073815</td>\n",
              "    </tr>\n",
              "    <tr>\n",
              "      <th>1</th>\n",
              "      <td>froopyland</td>\n",
              "      <td>1</td>\n",
              "      <td>capibara</td>\n",
              "      <td>25000</td>\n",
              "      <td>13506.750000</td>\n",
              "      <td>12561.520651</td>\n",
              "      <td>0.914957</td>\n",
              "    </tr>\n",
              "    <tr>\n",
              "      <th>2</th>\n",
              "      <td>magic kingdom</td>\n",
              "      <td>2</td>\n",
              "      <td>axolotl</td>\n",
              "      <td>14</td>\n",
              "      <td>10722.857143</td>\n",
              "      <td>13355.044333</td>\n",
              "      <td>-0.801859</td>\n",
              "    </tr>\n",
              "    <tr>\n",
              "      <th>3</th>\n",
              "      <td>magic kingdom</td>\n",
              "      <td>3</td>\n",
              "      <td>capibara</td>\n",
              "      <td>25000</td>\n",
              "      <td>10722.857143</td>\n",
              "      <td>13355.044333</td>\n",
              "      <td>1.069045</td>\n",
              "    </tr>\n",
              "    <tr>\n",
              "      <th>4</th>\n",
              "      <td>magic kingdom</td>\n",
              "      <td>4</td>\n",
              "      <td>axolotl</td>\n",
              "      <td>14</td>\n",
              "      <td>10722.857143</td>\n",
              "      <td>13355.044333</td>\n",
              "      <td>-0.801859</td>\n",
              "    </tr>\n",
              "    <tr>\n",
              "      <th>5</th>\n",
              "      <td>froopyland</td>\n",
              "      <td>5</td>\n",
              "      <td>naked mole rat</td>\n",
              "      <td>18</td>\n",
              "      <td>13506.750000</td>\n",
              "      <td>12561.520651</td>\n",
              "      <td>-1.073815</td>\n",
              "    </tr>\n",
              "    <tr>\n",
              "      <th>6</th>\n",
              "      <td>froopyland</td>\n",
              "      <td>6</td>\n",
              "      <td>capibara</td>\n",
              "      <td>25000</td>\n",
              "      <td>13506.750000</td>\n",
              "      <td>12561.520651</td>\n",
              "      <td>0.914957</td>\n",
              "    </tr>\n",
              "    <tr>\n",
              "      <th>7</th>\n",
              "      <td>magic kingdom</td>\n",
              "      <td>7</td>\n",
              "      <td>axolotl</td>\n",
              "      <td>14</td>\n",
              "      <td>10722.857143</td>\n",
              "      <td>13355.044333</td>\n",
              "      <td>-0.801859</td>\n",
              "    </tr>\n",
              "    <tr>\n",
              "      <th>8</th>\n",
              "      <td>froopyland</td>\n",
              "      <td>8</td>\n",
              "      <td>capibara</td>\n",
              "      <td>25000</td>\n",
              "      <td>13506.750000</td>\n",
              "      <td>12561.520651</td>\n",
              "      <td>0.914957</td>\n",
              "    </tr>\n",
              "    <tr>\n",
              "      <th>9</th>\n",
              "      <td>froopyland</td>\n",
              "      <td>9</td>\n",
              "      <td>naked mole rat</td>\n",
              "      <td>18</td>\n",
              "      <td>13506.750000</td>\n",
              "      <td>12561.520651</td>\n",
              "      <td>-1.073815</td>\n",
              "    </tr>\n",
              "    <tr>\n",
              "      <th>10</th>\n",
              "      <td>magic kingdom</td>\n",
              "      <td>10</td>\n",
              "      <td>capibara</td>\n",
              "      <td>25000</td>\n",
              "      <td>10722.857143</td>\n",
              "      <td>13355.044333</td>\n",
              "      <td>1.069045</td>\n",
              "    </tr>\n",
              "    <tr>\n",
              "      <th>11</th>\n",
              "      <td>froopyland</td>\n",
              "      <td>11</td>\n",
              "      <td>capibara</td>\n",
              "      <td>25000</td>\n",
              "      <td>13506.750000</td>\n",
              "      <td>12561.520651</td>\n",
              "      <td>0.914957</td>\n",
              "    </tr>\n",
              "    <tr>\n",
              "      <th>12</th>\n",
              "      <td>magic kingdom</td>\n",
              "      <td>12</td>\n",
              "      <td>naked mole rat</td>\n",
              "      <td>18</td>\n",
              "      <td>10722.857143</td>\n",
              "      <td>13355.044333</td>\n",
              "      <td>-0.801559</td>\n",
              "    </tr>\n",
              "    <tr>\n",
              "      <th>13</th>\n",
              "      <td>froopyland</td>\n",
              "      <td>13</td>\n",
              "      <td>flying fox</td>\n",
              "      <td>8000</td>\n",
              "      <td>13506.750000</td>\n",
              "      <td>12561.520651</td>\n",
              "      <td>-0.438382</td>\n",
              "    </tr>\n",
              "    <tr>\n",
              "      <th>14</th>\n",
              "      <td>magic kingdom</td>\n",
              "      <td>14</td>\n",
              "      <td>capibara</td>\n",
              "      <td>25000</td>\n",
              "      <td>10722.857143</td>\n",
              "      <td>13355.044333</td>\n",
              "      <td>1.069045</td>\n",
              "    </tr>\n",
              "  </tbody>\n",
              "</table>\n",
              "</div>"
            ],
            "text/plain": [
              "        enclosure  id         species  ...       avg(bw)  stddev_samp(bw)    zscore\n",
              "0      froopyland   0  naked mole rat  ...  13506.750000     12561.520651 -1.073815\n",
              "1      froopyland   1        capibara  ...  13506.750000     12561.520651  0.914957\n",
              "2   magic kingdom   2         axolotl  ...  10722.857143     13355.044333 -0.801859\n",
              "3   magic kingdom   3        capibara  ...  10722.857143     13355.044333  1.069045\n",
              "4   magic kingdom   4         axolotl  ...  10722.857143     13355.044333 -0.801859\n",
              "5      froopyland   5  naked mole rat  ...  13506.750000     12561.520651 -1.073815\n",
              "6      froopyland   6        capibara  ...  13506.750000     12561.520651  0.914957\n",
              "7   magic kingdom   7         axolotl  ...  10722.857143     13355.044333 -0.801859\n",
              "8      froopyland   8        capibara  ...  13506.750000     12561.520651  0.914957\n",
              "9      froopyland   9  naked mole rat  ...  13506.750000     12561.520651 -1.073815\n",
              "10  magic kingdom  10        capibara  ...  10722.857143     13355.044333  1.069045\n",
              "11     froopyland  11        capibara  ...  13506.750000     12561.520651  0.914957\n",
              "12  magic kingdom  12  naked mole rat  ...  10722.857143     13355.044333 -0.801559\n",
              "13     froopyland  13      flying fox  ...  13506.750000     12561.520651 -0.438382\n",
              "14  magic kingdom  14        capibara  ...  10722.857143     13355.044333  1.069045\n",
              "\n",
              "[15 rows x 7 columns]"
            ]
          },
          "metadata": {
            "tags": []
          },
          "execution_count": 122
        }
      ]
    },
    {
      "cell_type": "code",
      "metadata": {
        "colab": {
          "base_uri": "https://localhost:8080/"
        },
        "id": "ol6Bp6Xk7bx_",
        "outputId": "24d71dea-f3ad-4530-ac92-97134917d3bf"
      },
      "source": [
        "spark.createDataFrame(pd_df)"
      ],
      "execution_count": 123,
      "outputs": [
        {
          "output_type": "execute_result",
          "data": {
            "text/plain": [
              "DataFrame[enclosure: string, id: bigint, species: string, bw: bigint, avg(bw): double, stddev_samp(bw): double, zscore: double]"
            ]
          },
          "metadata": {
            "tags": []
          },
          "execution_count": 123
        }
      ]
    },
    {
      "cell_type": "markdown",
      "metadata": {
        "id": "76YsCn9PryoK"
      },
      "source": [
        "## Writing out\n"
      ]
    },
    {
      "cell_type": "code",
      "metadata": {
        "id": "nIqSl2UGryoK"
      },
      "source": [
        "result.write.csv('result.csv')"
      ],
      "execution_count": 124,
      "outputs": []
    },
    {
      "cell_type": "markdown",
      "metadata": {
        "id": "oJilTfVFryoL"
      },
      "source": [
        "#### Exercise\n",
        "\n",
        "Repeat the exercise from the previous notebook, but this time with DataFrames.\n",
        "\n",
        "Get stats for all tickets with destination MAD from `coupons150720.csv`.\n",
        "\n",
        "You will need to extract ticket amounts with destination MAD, and then calculate:\n",
        "\n",
        "1. Total ticket amounts per origin\n",
        "2. Top 10 airlines by average amount"
      ]
    },
    {
      "cell_type": "code",
      "metadata": {
        "colab": {
          "base_uri": "https://localhost:8080/"
        },
        "id": "TEin_xBIryoL",
        "outputId": "e55a7f52-3b8c-4f6a-feaa-e753dcfc052e"
      },
      "source": [
        "coupons = spark.read.csv('coupon150720.csv.gz')\n",
        "coupons.show(5)"
      ],
      "execution_count": 130,
      "outputs": [
        {
          "output_type": "stream",
          "text": [
            "+--------------+---+---+---+---+---+------+---+---+---+----+----+------+----+----+\n",
            "|           _c0|_c1|_c2|_c3|_c4|_c5|   _c6|_c7|_c8|_c9|_c10|_c11|  _c12|_c13|_c14|\n",
            "+--------------+---+---+---+---+---+------+---+---+---+----+----+------+----+----+\n",
            "|79062005698500|  1|MAA|AUH| 9W| 9W| 56.79|USD|  1|  H|   H|0526|150904|  OK|IAF0|\n",
            "|79062005698500|  2|AUH|CDG| 9W| 9W| 84.34|USD|  1|  H|   H|6120|150905|  OK|IAF0|\n",
            "|79062005924069|  1|CJB|MAA| 9W| 9W|  60.0|USD|  1|  H|   H|2768|150721|  OK|IAA0|\n",
            "|79065668570385|  1|DEL|DXB| 9W| 9W|160.63|USD|  2|  S|   S|0546|150804|  OK|INA0|\n",
            "|79065668737021|  1|AUH|IXE| 9W| 9W|152.46|USD|  1|  V|   V|0501|150803|  OK|INA0|\n",
            "+--------------+---+---+---+---+---+------+---+---+---+----+----+------+----+----+\n",
            "only showing top 5 rows\n",
            "\n"
          ],
          "name": "stdout"
        }
      ]
    },
    {
      "cell_type": "markdown",
      "metadata": {
        "id": "9cn5929eryoL"
      },
      "source": [
        "1) Extract the fields you need (c0,c1,c2,c3,c4 and c6) into a dataframe with proper names and types\n",
        "\n",
        "Remember, you want to calculate:\n",
        "\n",
        "Total ticket amounts per origin\n",
        "\n",
        "Top 10 airlines by average amount"
      ]
    },
    {
      "cell_type": "code",
      "metadata": {
        "colab": {
          "base_uri": "https://localhost:8080/"
        },
        "id": "oWR9_0FzKFYd",
        "outputId": "25f1582e-9d14-4aab-8ee4-e1cdb7d8dd22"
      },
      "source": [
        "clean_coupons = coupons.select(coupons['_c0'].cast(types.LongType()).alias('tkt_number'),\n",
        "                               coupons['_c1'].cast(types.IntegerType()).alias('cpn_number'),\n",
        "                               coupons['_c2'].alias('origin'),\n",
        "                               coupons['_c3'].alias('destination'),\n",
        "                               coupons['_c4'].alias('carrier'),\n",
        "                               coupons['_c6'].cast(types.FloatType()).alias('amount'))\n",
        "clean_coupons.show(5)"
      ],
      "execution_count": 138,
      "outputs": [
        {
          "output_type": "stream",
          "text": [
            "+--------------+----------+------+-----------+-------+------+\n",
            "|    tkt_number|cpn_number|origin|destination|carrier|amount|\n",
            "+--------------+----------+------+-----------+-------+------+\n",
            "|79062005698500|         1|   MAA|        AUH|     9W| 56.79|\n",
            "|79062005698500|         2|   AUH|        CDG|     9W| 84.34|\n",
            "|79062005924069|         1|   CJB|        MAA|     9W|  60.0|\n",
            "|79065668570385|         1|   DEL|        DXB|     9W|160.63|\n",
            "|79065668737021|         1|   AUH|        IXE|     9W|152.46|\n",
            "+--------------+----------+------+-----------+-------+------+\n",
            "only showing top 5 rows\n",
            "\n"
          ],
          "name": "stdout"
        }
      ]
    },
    {
      "cell_type": "markdown",
      "metadata": {
        "id": "Kmt1QvFnryoL"
      },
      "source": [
        "2) Total ticket amounts per origin"
      ]
    },
    {
      "cell_type": "code",
      "metadata": {
        "colab": {
          "base_uri": "https://localhost:8080/"
        },
        "id": "m034x4ysryoM",
        "outputId": "f684db9c-90f9-4256-f698-db31a6b12efc"
      },
      "source": [
        "result1 = clean_coupons.groupby('origin').agg(functions.sum('amount'))\n",
        "result1.show(5)"
      ],
      "execution_count": 147,
      "outputs": [
        {
          "output_type": "stream",
          "text": [
            "+------+------------------+\n",
            "|origin|       sum(amount)|\n",
            "+------+------------------+\n",
            "|   YUL|323423.65907496214|\n",
            "|   NWI| 5704.390048027039|\n",
            "|   PMI|510402.77947580814|\n",
            "|   KGL|17421.039969682693|\n",
            "|   SCW|1252.5400085449219|\n",
            "+------+------------------+\n",
            "only showing top 5 rows\n",
            "\n"
          ],
          "name": "stdout"
        }
      ]
    },
    {
      "cell_type": "markdown",
      "metadata": {
        "id": "rcZs5TbFryoM"
      },
      "source": [
        "3) Top 10 Airlines by average amount\n",
        "\n"
      ]
    },
    {
      "cell_type": "code",
      "metadata": {
        "colab": {
          "base_uri": "https://localhost:8080/"
        },
        "id": "-ASFAZswryoM",
        "outputId": "40b18b4a-2c47-4135-a9af-b8a300127c3b"
      },
      "source": [
        "result2 = clean_coupons.groupby('carrier')\\\n",
        "                       .agg(functions.mean('amount').alias('avg_amount'))\\\n",
        "                       .sort('avg_amount', ascending=False)\n",
        "\n",
        "result2.show(10)                "
      ],
      "execution_count": 145,
      "outputs": [
        {
          "output_type": "stream",
          "text": [
            "+-------+------------------+\n",
            "|carrier|        avg_amount|\n",
            "+-------+------------------+\n",
            "|     S3| 5225.068852659132|\n",
            "|     9V|1488.6739863189491|\n",
            "|     GA| 991.2527673277024|\n",
            "|     TN| 964.6472629731701|\n",
            "|     7F| 668.0350036621094|\n",
            "|     DT| 579.0006969363191|\n",
            "|     B8| 443.2950134277344|\n",
            "|     V0|438.61227978411614|\n",
            "|     NE| 430.1000061035156|\n",
            "|     4M| 377.7557483212701|\n",
            "+-------+------------------+\n",
            "only showing top 10 rows\n",
            "\n"
          ],
          "name": "stdout"
        }
      ]
    },
    {
      "cell_type": "markdown",
      "metadata": {
        "id": "cY7HYJo7ryoM"
      },
      "source": [
        "## Further Reading\n",
        "\n",
        "https://databricks.com/blog/2016/07/14/a-tale-of-three-apache-spark-apis-rdds-dataframes-and-datasets.html\n",
        "\n",
        "https://www.datacamp.com/community/tutorials/apache-spark-python\n",
        "\n",
        "https://spark.apache.org/docs/2.2.0/sql-programming-guide.html\n",
        "\n",
        "https://ogirardot.wordpress.com/2015/05/29/rdds-are-the-new-bytecode-of-apache-spark/\n",
        "\n",
        "https://stackoverflow.com/questions/36822224/what-are-the-pros-and-cons-of-parquet-format-compared-to-other-formats\n",
        "\n",
        "https://s3.amazonaws.com/assets.datacamp.com/blog_assets/PySpark_SQL_Cheat_Sheet_Python.pdf"
      ]
    }
  ]
}