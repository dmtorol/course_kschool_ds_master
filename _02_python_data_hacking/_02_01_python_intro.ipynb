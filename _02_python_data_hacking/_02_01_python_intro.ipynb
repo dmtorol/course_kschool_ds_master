{
 "cells": [
  {
   "cell_type": "markdown",
   "metadata": {},
   "source": [
    "# 1. Python\n",
    "\n",
    "## 1.1. Intro\n",
    "\n",
    "Python es un lenguaje de programación interpretado de tipado dinámico cuya filosofía hace hincapié en una sintaxis que favorezca un código legible. Se trata de un lenguaje de programación multiparadigma y disponible en varias plataformas.\n",
    "\n",
    "Características de Python:\n",
    "\n",
    "- Propósito general: sirve para multitud de propósitos diferentes: desarrollo web, apps, data science...etc.\n",
    "\n",
    "- Multiplataforma: se puede correr en culquier sistema operativo.\n",
    "\n",
    "- Interpretado: no es necesario compilar (traducir a lenguaje máquina) el código antes de su ejecución. En verdad se realiza, pero es una tarea transparente para el desarrollador, es por lo tanto un lenguaje de alto nivel.\n",
    "\n",
    "- Orientado a objetos: la programación orientada a objetos está soportada en Python y ofrece en muchos casos una manera sencilla de crear programas con componentes reutilizables.\n",
    "\n",
    "- Tipado dinámico: Las variables se comprueban en tiempo de ejecución y no es necesario declarar su tipología antes de utilizarlas.\n",
    "\n",
    "- Funciones y librerías: dispone de muchas funciones incorporadas en el propio lenguaje, para el tratamiento de strings, números, estructuras de datos...etc. Además, existen muchos módulos que podemos importar en los programas para tratar temas específicos donde se puede disponer de funciones y métodos adicionales.\n",
    "\n",
    "- Sintaxis clara: destacar que Python tiene una sintaxis muy visual, gracias a una notación identada (con márgenes) de obligado cumplimiento. Esto ayuda a que todos los programadores adopten unas mismas notaciones y que los programas de cualquier persona tengan un aspecto muy similar.\n",
    "\n",
    "¿Por qué Python en Data Science?\n",
    "\n",
    "Python está en movimiento y en pleno desarrollo, pero ya es una realidad y una interesante opción para realizar todo tipo de programas que se ejecuten en cualquier máquina. El equipo de desarrolladores está trabajando de manera cada vez más organizada, y cuentan con el apoyo de una comunidad que está creciendo rápidamente.\n",
    "\n",
    "Debido a esto y a que un lenguaje de código abierto, la comundad puede ir desarrollando librerías que permitan la apliación de Python en campos de conocimiento concretos. Dentro de la escena del tratamiento de datos existen numérosos módulos que permiten que Python sea competente en el ámbito del data science, si sumamos a esto la versatilidad del lenguaje y su curva de aprendizaje moderada, es una opción muy buena para inciarse en el mundo de la ciencia de datos."
   ]
  },
  {
   "cell_type": "markdown",
   "metadata": {},
   "source": [
    "## 1.2. Nociones básicas en Python"
   ]
  },
  {
   "cell_type": "markdown",
   "metadata": {},
   "source": [
    "### 1.2.1. Objetos\n",
    "\n",
    "Todo en Python es un objeto. Cada objeto tiene en Python un tipo asociado, datos internos, y unos atributos determinados en función de su tipo. Se puede ejecutar el comando `type()` para saber el tipo de objeto de cualquier elemento en Python.\n",
    "\n",
    "También se puede utlizar la función `isinstance(object,(type_of_object)` para comprobar si un objeto pertenece a un tipo en particular. Ejemplo: `isinstance(a, (int, float))`.\n",
    "\n",
    "**Escalares:**\n",
    "\n",
    "- int: número entero\n",
    "- long: número entero grande\n",
    "- float: número decimal\n",
    "- str: string (cadena de caracteres)\n",
    "- bool: True (1) or False (0)\n",
    "- None: valor \"null\" en Python\n",
    "\n",
    "**Estructuras de datos:**\n",
    "\n",
    "- lista: secuencia mutable unidimensional de objetos de Python. Se escribe entre corchetes `[]`.\n",
    "- tupla: sucuencia inmutable unidimensional de objetos de Python. Se escribe entre paréntesis `()`.\n",
    "- diccionario: colección de pares llave-valor, donde las llaves y valores son objetos de Python. Se escribe entre llaves `{}`.\n",
    "- set: colección única (sin duplicados) de valores. Se escribe entre llaves `{}`."
   ]
  },
  {
   "cell_type": "code",
   "execution_count": 5,
   "metadata": {},
   "outputs": [
    {
     "data": {
      "text/plain": [
       "(int, str, list, tuple, bool, dict, set)"
      ]
     },
     "execution_count": 5,
     "metadata": {},
     "output_type": "execute_result"
    }
   ],
   "source": [
    "## Definimos diferentes tipos de objetos\n",
    "a = 7\n",
    "b = \"hola\"\n",
    "c = [1, 2, 3]\n",
    "d = (1, 2, 3)\n",
    "e = False\n",
    "f = {\"nombre\": \"Carlos\", \"altura\": 182, \"peso\": 57}\n",
    "g = {1, 2, 3, \"hola\"}\n",
    "\n",
    "## Consultamos el tipo de objeto de cada uno\n",
    "type(a), type(b), type(c), type(d), type(e), type(f), type(g)"
   ]
  },
  {
   "cell_type": "markdown",
   "metadata": {},
   "source": [
    "### 1.2.2. Atributos y métodos\n",
    "\n",
    "Los atributos pueden definirse como objetos de Python alojados en el interior de otro objeto; o métodos, que son funciones asociadas a un objeto que permite obtener información interna de ese objeto. Se puede acceder a los atributos de un objeto mediante la sintaxis `object_name.attribute_name`.\n",
    "\n",
    "Cada tipo de objeto tiene unos atributos asociados diferentes, para saber cuales de ellos están disponibles en función del tipo de objeto, se pueden utilizar las siguientes funciones:\n",
    "\n",
    "- `hasattr(object, attribute)`: consulta si el objeto tiene el atributo indicado, devuelve un valor booleano.\n",
    "- `dir(object)`: devuelve una lista con todos los atributos y métodos vinculados a ese objeto."
   ]
  },
  {
   "cell_type": "code",
   "execution_count": 11,
   "metadata": {},
   "outputs": [
    {
     "data": {
      "text/plain": [
       "['__add__',\n",
       " '__class__',\n",
       " '__contains__',\n",
       " '__delattr__',\n",
       " '__dir__',\n",
       " '__doc__',\n",
       " '__eq__',\n",
       " '__format__',\n",
       " '__ge__',\n",
       " '__getattribute__',\n",
       " '__getitem__',\n",
       " '__getnewargs__',\n",
       " '__gt__',\n",
       " '__hash__',\n",
       " '__init__',\n",
       " '__init_subclass__',\n",
       " '__iter__',\n",
       " '__le__',\n",
       " '__len__',\n",
       " '__lt__',\n",
       " '__mod__',\n",
       " '__mul__',\n",
       " '__ne__',\n",
       " '__new__',\n",
       " '__reduce__',\n",
       " '__reduce_ex__',\n",
       " '__repr__',\n",
       " '__rmod__',\n",
       " '__rmul__',\n",
       " '__setattr__',\n",
       " '__sizeof__',\n",
       " '__str__',\n",
       " '__subclasshook__',\n",
       " 'capitalize',\n",
       " 'casefold',\n",
       " 'center',\n",
       " 'count',\n",
       " 'encode',\n",
       " 'endswith',\n",
       " 'expandtabs',\n",
       " 'find',\n",
       " 'format',\n",
       " 'format_map',\n",
       " 'index',\n",
       " 'isalnum',\n",
       " 'isalpha',\n",
       " 'isascii',\n",
       " 'isdecimal',\n",
       " 'isdigit',\n",
       " 'isidentifier',\n",
       " 'islower',\n",
       " 'isnumeric',\n",
       " 'isprintable',\n",
       " 'isspace',\n",
       " 'istitle',\n",
       " 'isupper',\n",
       " 'join',\n",
       " 'ljust',\n",
       " 'lower',\n",
       " 'lstrip',\n",
       " 'maketrans',\n",
       " 'partition',\n",
       " 'replace',\n",
       " 'rfind',\n",
       " 'rindex',\n",
       " 'rjust',\n",
       " 'rpartition',\n",
       " 'rsplit',\n",
       " 'rstrip',\n",
       " 'split',\n",
       " 'splitlines',\n",
       " 'startswith',\n",
       " 'strip',\n",
       " 'swapcase',\n",
       " 'title',\n",
       " 'translate',\n",
       " 'upper',\n",
       " 'zfill']"
      ]
     },
     "execution_count": 11,
     "metadata": {},
     "output_type": "execute_result"
    }
   ],
   "source": [
    "## Definimos una variable tipo string y consultamos los atributos disponibles\n",
    "a = \"hola\"\n",
    "dir(a)"
   ]
  },
  {
   "cell_type": "markdown",
   "metadata": {},
   "source": [
    "### 1.2.3. Referenciar objetos\n",
    "\n",
    "Al asignar (`=`) una variable en Python, lo que en verdad se está haciendo es crear una referencia al objeto en el lado derecho del signo igual. Al referenciar objetos, se aplican por igual los cambios realizados en la parte izquierda de la igualdad en la parte derecha."
   ]
  },
  {
   "cell_type": "code",
   "execution_count": 6,
   "metadata": {},
   "outputs": [
    {
     "name": "stdout",
     "output_type": "stream",
     "text": [
      "La lista a contiene los valores: [1, 2, 3]\n",
      "La lista a contiene los valores: [1, 2, 3]\n"
     ]
    }
   ],
   "source": [
    "## Creamos una lista a con 3 objetos, y referenciamos \"b\" a \"a\"\n",
    "a = [1, 2, 3]\n",
    "b = a\n",
    "print(f\"La lista a contiene los valores: {a}\")\n",
    "print(f\"La lista b contiene los valores: {b}\")"
   ]
  },
  {
   "cell_type": "code",
   "execution_count": 7,
   "metadata": {},
   "outputs": [
    {
     "name": "stdout",
     "output_type": "stream",
     "text": [
      "La lista a contiene los valores: [1, 2, 3, 4]\n",
      "La lista b contiene los valores: [1, 2, 3, 4]\n"
     ]
    }
   ],
   "source": [
    "## Añadimos un objeto adicional a la lista \"a\"\n",
    "a.append(4)\n",
    "\n",
    "## Al estar \"b\" referenciada a \"a\" también habrá sido modificada\n",
    "print(f\"La lista a contiene los valores: {a}\")\n",
    "print(f\"La lista b contiene los valores: {b}\")"
   ]
  },
  {
   "cell_type": "code",
   "execution_count": 9,
   "metadata": {},
   "outputs": [
    {
     "data": {
      "text/plain": [
       "(1838939602184, 1838939602184)"
      ]
     },
     "execution_count": 9,
     "metadata": {},
     "output_type": "execute_result"
    }
   ],
   "source": [
    "## Se puede realizar una comprobación adicional y ver que ambas variables apuntan a la mism posición de memoria\n",
    "id(a), id(b)"
   ]
  },
  {
   "cell_type": "markdown",
   "metadata": {},
   "source": [
    "## 1.3. Estructuras de control de flujo\n",
    "\n",
    "Una estructura de control, es un bloque de código que permite agrupar instrucciones de manera controlada en base a una serie de condiciones. En Python, como en el resto de los lenguajes de programación, tenemos varios modos de controlar el flujo del programa:\n",
    "\n",
    "- `if`: ejecuta un bloque particular de comandos en función del resultado de un test.\n",
    "- `while`: ejecuta un bloque de comandos mientras que se cumpla un test determinado.\n",
    "- `for`: ejecuta un bloque de comandos un cierto número de veces.\n",
    "\n",
    "Cuando se emplea estas estructuras, es obligatoria la identación, que no es otra cosa que realizar una sangría de 4 espacios en blanco o una tabulación. Esta identación facilita la lectura y escritura de código en Python. La mayoría de IDE's o editores de texto identifican cuando comienza un estructura de control de flujo e identan automaticamente las siguientes lineas."
   ]
  },
  {
   "cell_type": "markdown",
   "metadata": {},
   "source": [
    "### 1.3.1. Estructura de control condicional - If\n",
    "\n",
    "Los condicionales nos permiten comprobar condiciones y hacer que nuestro programa se comporte de una forma u otra, y que ejecute un bloque de código particular dependiendo de esta condición.\n",
    "\n",
    "Mediante los comandos `if`, `elif` y `else`, le indicamos a Python que queremos ejecutar una porción de código solo si se cumple una determinada condición, es decir, si el resultado del condicional es `True`."
   ]
  },
  {
   "cell_type": "code",
   "execution_count": 22,
   "metadata": {},
   "outputs": [
    {
     "name": "stdout",
     "output_type": "stream",
     "text": [
      "Cruzar la calle\n"
     ]
    }
   ],
   "source": [
    "## Control de flujo que indica si cruzar una calle en función del sem´foro:\n",
    "semaforo = \"verde\"\n",
    "\n",
    "if semaforo == \"verde\": \n",
    "    print(\"Cruzar la calle\")\n",
    "elif semaforo == \"ambar\":\n",
    "    print(\"No cruces, está en ambar...\")\n",
    "else: \n",
    "    print(\"Espera verde\")"
   ]
  },
  {
   "cell_type": "markdown",
   "metadata": {},
   "source": [
    "### 1.3.2. Estructura de control iterativa - While\n",
    "\n",
    "El comando `while` permite ejecutar una porción de código de forma repetida hasta que la condición especificada sea `False`; o, dicho de otro modo, ejecuta una porción de código mientras que la condición sea verdadera."
   ]
  },
  {
   "cell_type": "code",
   "execution_count": 1,
   "metadata": {},
   "outputs": [
    {
     "name": "stdout",
     "output_type": "stream",
     "text": [
      "¡Hola, mundo!\n",
      "¡Hola, mundo!\n",
      "¡Hola, mundo!\n"
     ]
    }
   ],
   "source": [
    "a = 1\n",
    "\n",
    "while a < 4:\n",
    "    print(\"¡Hola, mundo!\")\n",
    "    a = a + 1"
   ]
  },
  {
   "cell_type": "markdown",
   "metadata": {},
   "source": [
    "Mediante los comandos `break` y `continue` podemos establecer condiciones de parada o continuidad dentro del bucle."
   ]
  },
  {
   "cell_type": "code",
   "execution_count": 5,
   "metadata": {},
   "outputs": [
    {
     "name": "stdout",
     "output_type": "stream",
     "text": [
      "1\n",
      "2\n",
      "3\n",
      "4\n"
     ]
    }
   ],
   "source": [
    "a = 1\n",
    "\n",
    "while a < 10:\n",
    "    print(a)\n",
    "    if a == 4:\n",
    "        break\n",
    "    a = a + 1"
   ]
  },
  {
   "cell_type": "markdown",
   "metadata": {},
   "source": [
    "### 1.3.3. Estructura de control iterativa - For\n",
    "\n",
    "El bucle `for` permite iterar sobre una estructura de datos, del tipo lista o tupla, y realizar una acción sobre cada uno de los objetos de éstas."
   ]
  },
  {
   "cell_type": "code",
   "execution_count": 3,
   "metadata": {},
   "outputs": [
    {
     "name": "stdout",
     "output_type": "stream",
     "text": [
      "1\n",
      "2\n",
      "3\n",
      "4\n",
      "Hola\n"
     ]
    }
   ],
   "source": [
    "seq = [1, 2, 3, 4, \"Hola\"]\n",
    "\n",
    "for i in seq:\n",
    "    print(i)"
   ]
  },
  {
   "cell_type": "markdown",
   "metadata": {},
   "source": [
    "Mediante los comandos `break` y `continue` podemos establecer condiciones de parada o continuidad dentro del bucle."
   ]
  },
  {
   "cell_type": "code",
   "execution_count": 7,
   "metadata": {},
   "outputs": [
    {
     "name": "stdout",
     "output_type": "stream",
     "text": [
      "1\n",
      "3\n",
      "7\n",
      "13\n"
     ]
    }
   ],
   "source": [
    "sequence=[1, 2, None, 4, None, 6]\n",
    "total = 0\n",
    "\n",
    "for i in sequence:\n",
    "    if i is None:\n",
    "        continue\n",
    "    total = total + i\n",
    "    print(total)"
   ]
  },
  {
   "cell_type": "markdown",
   "metadata": {},
   "source": [
    "Los bucles `for` permiten también correr el proceso con dos variables, o incluso realizar bucles dentro de otros bucles."
   ]
  },
  {
   "cell_type": "code",
   "execution_count": 22,
   "metadata": {},
   "outputs": [
    {
     "name": "stdout",
     "output_type": "stream",
     "text": [
      "0 1\n",
      "1 2\n",
      "2 3\n",
      "3 4\n",
      "4 Hola\n"
     ]
    }
   ],
   "source": [
    "seq = [1, 2, 3, 4, \"Hola\"]\n",
    "\n",
    "for i, j in enumerate(seq):\n",
    "    print(i, j)"
   ]
  },
  {
   "cell_type": "markdown",
   "metadata": {},
   "source": [
    "## 1.4. Funciones\n",
    "\n",
    "Una función es un bloque de código, que recibe cero o más argumentos como entrada, sigue una secuencia de sentencias las cuales ejecutan una operación deseada, y devuelve un valor y/o realiza una tarea. Una vez definido este bloque, puede ser llamado cuando se necesite.\n",
    "\n",
    "El uso de funciones es una componente muy importante en el paradigma de la programación estructurada, y tiene varias ventajas:\n",
    "\n",
    "- Modularización: permite segmentar un programa complejo en una serie de partes o módulos más simples, facilitando así la programación y el depurado.\n",
    "- Reutilización: permite encapsular una serie de tareas, y reutilizarlas en distintos programas o partes de un mismo script.\n",
    "\n",
    "Python dispone de una serie de funciones integradas que son nativas del lenguaje, pero también permite crear funciones definidas por el usuario para ser usadas en su propios desarrollos."
   ]
  },
  {
   "cell_type": "markdown",
   "metadata": {},
   "source": [
    "### 1.4.1. Definir funciones\n",
    "\n",
    "Para definir una función se emplea la siguiente sintaxis:"
   ]
  },
  {
   "cell_type": "code",
   "execution_count": null,
   "metadata": {},
   "outputs": [],
   "source": [
    "def function_name(param1, param2...):    # Se define el nombre de la función y se indican los paráemtros de entrada                         \n",
    "    '''Description                       # Se describe el funcionamiento de la función\n",
    "    '''\n",
    "    actions                              # Se indica lo que debe hacer\n",
    "    return                               # Devuelve el output"
   ]
  },
  {
   "cell_type": "markdown",
   "metadata": {},
   "source": [
    "Las funciones pueden comunicarse con el exterior de las mismas usando la sentencia `return`. Si este parámetro no es indicado, el valor de salida de la función por defecto será `None`.\n",
    "\n",
    "Se puede acceder a la información de una función mediante el comando `help(function)`. Como salida de este proceso se obtiene el descriptivo que haya indicado el desarrollador, o el propio Python, dentro de esa función."
   ]
  },
  {
   "cell_type": "markdown",
   "metadata": {},
   "source": [
    "### 1.4.2. Funciones lambda"
   ]
  },
  {
   "cell_type": "markdown",
   "metadata": {},
   "source": [
    "Una función lambda o función anónima, como su nombre indica, es una función sin nombre. Esto significa que podemos ejecutar una función sin definirla mediante la sintaxis `def function_name():`.\n",
    "\n",
    "La diferencia fundamental entre una función definida y una anónima, es que el contenido de una función lambda debe ser una única expresión en lugar de un bloque de acciones. Por tanto podríamos decir que, mientras las funciones anónimas lambda sirven para realizar funciones simples, las funciones definidas con def sirven para manejar tareas más extensas.\n",
    "\n",
    "Las funciones anónimas tienen la siguiente sintaxis: `function_name = lambda var: expr`."
   ]
  },
  {
   "cell_type": "code",
   "execution_count": 2,
   "metadata": {},
   "outputs": [
    {
     "data": {
      "text/plain": [
       "26"
      ]
     },
     "execution_count": 2,
     "metadata": {},
     "output_type": "execute_result"
    }
   ],
   "source": [
    "## Definir una función que devuelve el doble de un número\n",
    "def double_num(num):\n",
    "    return 2 * num\n",
    "\n",
    "double_num(13)"
   ]
  },
  {
   "cell_type": "code",
   "execution_count": 3,
   "metadata": {},
   "outputs": [
    {
     "data": {
      "text/plain": [
       "26"
      ]
     },
     "execution_count": 3,
     "metadata": {},
     "output_type": "execute_result"
    }
   ],
   "source": [
    "## Definir una función anónima que devuelve el doble de un número\n",
    "lambda_double_num = lambda num: 2 * num\n",
    "\n",
    "lambda_double_num(13)"
   ]
  },
  {
   "cell_type": "markdown",
   "metadata": {},
   "source": [
    "Estas funciones son muy útiles dentro del análisis de datos ya que existen métodos que pueden tomar como argumentos el resultado de una función, abriendo un abanico de posibilidades muy elevado. Adicionalmente, las funciones lambda en combinación con las funciones `filter()` y `map()`, permiten una variedad aún mayor."
   ]
  },
  {
   "cell_type": "markdown",
   "metadata": {},
   "source": [
    "**Función filter():**\n",
    "\n",
    "Tal como su nombre indica, `filter()` significa filtrar, ya que a partir de una lista o iterador y una función condicional, es capaz de devolver una nueva colección con los elementos filtrados que cumplan esa condición dada `True`.\n",
    "\n",
    "La sintaxis de esta función es: `filter(function, iterable)`."
   ]
  },
  {
   "cell_type": "code",
   "execution_count": 6,
   "metadata": {},
   "outputs": [
    {
     "data": {
      "text/plain": [
       "<filter at 0x1ffef62af48>"
      ]
     },
     "execution_count": 6,
     "metadata": {},
     "output_type": "execute_result"
    }
   ],
   "source": [
    "def multiple(numero):    # Primero declaramos una función condicional\n",
    "    if numero % 5 == 0:  # Comprobamos si un numero es múltiple de cinco\n",
    "        return True      # Sólo devolvemos True si lo es\n",
    "\n",
    "numeros = [2, 5, 10, 23, 50, 33]\n",
    "\n",
    "filter(multiple, numeros)"
   ]
  },
  {
   "cell_type": "code",
   "execution_count": 9,
   "metadata": {},
   "outputs": [
    {
     "data": {
      "text/plain": [
       "[5, 10, 50]"
      ]
     },
     "execution_count": 9,
     "metadata": {},
     "output_type": "execute_result"
    }
   ],
   "source": [
    "list(filter(multiple, numeros))  # El resultado de filter() es un objeto tipo filtro, hay que convertirlo en una lista"
   ]
  },
  {
   "cell_type": "code",
   "execution_count": 10,
   "metadata": {},
   "outputs": [
    {
     "data": {
      "text/plain": [
       "[5, 10, 50]"
      ]
     },
     "execution_count": 10,
     "metadata": {},
     "output_type": "execute_result"
    }
   ],
   "source": [
    "list(filter(lambda numero: numero%5 == 0, numeros))  # La función \"multiple\" se puede sustituir por una lambda"
   ]
  },
  {
   "cell_type": "markdown",
   "metadata": {},
   "source": [
    "**Función map():**\n",
    "\n",
    "Esta función trabaja de una forma muy similar a `filter()`, con la diferencia de que en lugar de aplicar una condición a un elemento de una lista o secuencia que cumpla determinada condición, aplica una función sobre todos los elementos y como resultado se devuelve un iterable de tipo map.\n",
    "\n",
    "La función `map()` se utiliza mucho junto a expresiones lambda ya que permite ahorrarnos el esfuerzo de crear bucles `for`.\n",
    "\n",
    "La sintaxis de esta función es: `map(function, iterable)`."
   ]
  },
  {
   "cell_type": "code",
   "execution_count": 11,
   "metadata": {},
   "outputs": [
    {
     "data": {
      "text/plain": [
       "<map at 0x1fff14a4448>"
      ]
     },
     "execution_count": 11,
     "metadata": {},
     "output_type": "execute_result"
    }
   ],
   "source": [
    "def doblar(numero):\n",
    "    return numero*2\n",
    "\n",
    "numeros = [2, 5, 10, 23, 50, 33]\n",
    "\n",
    "map(doblar, numeros)"
   ]
  },
  {
   "cell_type": "code",
   "execution_count": 12,
   "metadata": {},
   "outputs": [
    {
     "data": {
      "text/plain": [
       "[4, 10, 20, 46, 100, 66]"
      ]
     },
     "execution_count": 12,
     "metadata": {},
     "output_type": "execute_result"
    }
   ],
   "source": [
    "list(map(doblar, numeros))"
   ]
  },
  {
   "cell_type": "code",
   "execution_count": 13,
   "metadata": {},
   "outputs": [
    {
     "data": {
      "text/plain": [
       "[4, 10, 20, 46, 100, 66]"
      ]
     },
     "execution_count": 13,
     "metadata": {},
     "output_type": "execute_result"
    }
   ],
   "source": [
    "list(map(lambda x: x*2, numeros))"
   ]
  },
  {
   "cell_type": "markdown",
   "metadata": {},
   "source": [
    "### 1.4.3. Importar módulos\n",
    "\n",
    "Un módulo es un fichero con extensión `.py` que contiene funciones y variables adicionales. Los módulos pueden ser creados por un desarrollador para mejorar y extender las funcionalidades de python, como por ejemplo un módulo con funciones matemáticas avanzadas.\n",
    "\n",
    "Estos módulos permiten organizar el código, y hacerlo más modular y escalable.\n",
    "\n",
    "La sintaxis para llamar a un módulo es: `import [module] as [alias]`, o `from [module] import [function] as [alias]`.\n",
    "\n",
    "Dentro del ámbito del data science existen una serie de módulos que son de uso frecuente, y qué ademas se importan siempre bajo el mismo nombre, de modo que si otra persona leyera nuestro código supiera a que módulo pertenece cada función.\n",
    "\n",
    "```python\n",
    "import pandas as pd                # módulo data wrangling\n",
    "import numpy as np                 # módulo arrays y álgebra lineal\n",
    "import matplotlib.pyplot as plt    # módulo visualización\n",
    "import seaborn as sns              # módulo visualización\n",
    "```\n",
    "\n",
    "Una buena práctica es extraer de cada módulo, solo aquellas funciones que vayan a utilizarse. De este modo quedan definidas al principio del script, y si se encontrara alguna función desconocida durante el código se puede analizar rápidamente si pertenece a uno de los módulo cargados, o no."
   ]
  },
  {
   "cell_type": "markdown",
   "metadata": {},
   "source": [
    "## 1.5. Escalares\n",
    "\n",
    "Dentro de los objetos escalares podemos identificar:\n",
    "\n",
    "- int: número entero\n",
    "- long: número entero grande\n",
    "- float: número decimal\n",
    "- str: string (cadena de caracteres)\n",
    "- bool: True (1) or False (0)\n",
    "- None: valor \"null\" en Python"
   ]
  },
  {
   "cell_type": "markdown",
   "metadata": {},
   "source": [
    "### 1.5.1. Numéricos\n",
    "\n",
    "Son aquellos datos que hacen referencia exclusivamente a valores numéricos."
   ]
  },
  {
   "cell_type": "code",
   "execution_count": 11,
   "metadata": {},
   "outputs": [
    {
     "data": {
      "text/plain": [
       "(12342, int)"
      ]
     },
     "execution_count": 11,
     "metadata": {},
     "output_type": "execute_result"
    }
   ],
   "source": [
    "k = 12342\n",
    "k, type(k)"
   ]
  },
  {
   "cell_type": "code",
   "execution_count": 4,
   "metadata": {},
   "outputs": [
    {
     "data": {
      "text/plain": [
       "(3.141592, float)"
      ]
     },
     "execution_count": 4,
     "metadata": {},
     "output_type": "execute_result"
    }
   ],
   "source": [
    "k = 3.141592\n",
    "k, type(k)"
   ]
  },
  {
   "cell_type": "markdown",
   "metadata": {},
   "source": [
    "Con estos objetos se pueden llevar a cabo las operaciones matemáticas más clásicas como sumas, restas, multiplicaciones...etc. Para operaciones más avanzadas puede que sea necesario importar módulos específicos."
   ]
  },
  {
   "cell_type": "code",
   "execution_count": 6,
   "metadata": {},
   "outputs": [
    {
     "name": "stdout",
     "output_type": "stream",
     "text": [
      "28\n"
     ]
    }
   ],
   "source": [
    "a = 3\n",
    "b = 4\n",
    "c = 5\n",
    "\n",
    "print(a*b + (c-a)**b)"
   ]
  },
  {
   "cell_type": "markdown",
   "metadata": {},
   "source": [
    "### 1.5.2. Strings\n",
    "\n",
    "Los objetos de tipo string son aquellos que concatenan carácteres de tipo texto. Se introducen entre comillas simples o dobles. Un valor numérico se puede pasar como string si es entrecomillado.\n",
    "\n",
    "Este tipo de objeto es inmutable, por lo que para modificarse debe ser alojado en una nueva variable."
   ]
  },
  {
   "cell_type": "code",
   "execution_count": 6,
   "metadata": {},
   "outputs": [
    {
     "data": {
      "text/plain": [
       "str"
      ]
     },
     "execution_count": 6,
     "metadata": {},
     "output_type": "execute_result"
    }
   ],
   "source": [
    "a = 'this is a string'\n",
    "type(a)"
   ]
  },
  {
   "cell_type": "markdown",
   "metadata": {},
   "source": [
    "### 1.5.3. Booleanos\n",
    "\n",
    "El tipo booleano sólo puede tener dos valores: `True` y `False`. Estos valores son especialmente importantes dentro de las estructuras de control de flujo.\n",
    "\n",
    "En el contexto de las operaciones booleanas, y también cuando las expresiones son usadas bajo sentencias de flujo de control, los siguientes valores son interpretados como False:\n",
    "\n",
    "- False\n",
    "- None\n",
    "- Número cero\n",
    "- Cadena de caracteres vacia\n",
    "- Contenedores, incluyendo cadenas de caracteres, tuplas, listas, diccionarios y conjuntos mutables e inmutables."
   ]
  },
  {
   "cell_type": "code",
   "execution_count": 19,
   "metadata": {},
   "outputs": [
    {
     "name": "stdout",
     "output_type": "stream",
     "text": [
      "False\n",
      "False\n",
      "False\n",
      "False\n"
     ]
    }
   ],
   "source": [
    "print(bool(0))\n",
    "print(bool(0.))\n",
    "print(bool(\"\"))\n",
    "print(bool([]))"
   ]
  },
  {
   "cell_type": "markdown",
   "metadata": {},
   "source": [
    "## 1.6. Estructuras de datos"
   ]
  },
  {
   "cell_type": "markdown",
   "metadata": {},
   "source": [
    "### 1.6.1. Listas"
   ]
  },
  {
   "cell_type": "markdown",
   "metadata": {},
   "source": [
    "Es una secuencia de obejetos, unidimensional, de longitud variable, y mutable. Se escriben entre corchetes `[]`. También pueden ser creadas pasando una lista de objetos como argumentos del comando `list()`.\n",
    "\n",
    "Ejemplo de lista:"
   ]
  },
  {
   "cell_type": "code",
   "execution_count": 25,
   "metadata": {},
   "outputs": [
    {
     "data": {
      "text/plain": [
       "list"
      ]
     },
     "execution_count": 25,
     "metadata": {},
     "output_type": "execute_result"
    }
   ],
   "source": [
    "stars = ['Alderaan', 'Arcturus', 'Vega']\n",
    "type(stars)"
   ]
  },
  {
   "cell_type": "markdown",
   "metadata": {},
   "source": [
    "A continuación se indican algunos de los métodos más comunes de las listas:"
   ]
  },
  {
   "cell_type": "markdown",
   "metadata": {},
   "source": [
    "**Unpack:**\n",
    "\n",
    "Esta estructura permite asignar valores a más de una variable."
   ]
  },
  {
   "cell_type": "code",
   "execution_count": 63,
   "metadata": {},
   "outputs": [
    {
     "data": {
      "text/plain": [
       "2"
      ]
     },
     "execution_count": 63,
     "metadata": {},
     "output_type": "execute_result"
    }
   ],
   "source": [
    "lista = [1, 2, 3]\n",
    "a, b, c = lista\n",
    "\n",
    "b"
   ]
  },
  {
   "cell_type": "markdown",
   "metadata": {},
   "source": [
    "**Swap variables:**"
   ]
  },
  {
   "cell_type": "markdown",
   "metadata": {},
   "source": [
    "Esta estructura permite intercambiar el valor de dos variables de forma rápida y sencilla."
   ]
  },
  {
   "cell_type": "code",
   "execution_count": 72,
   "metadata": {},
   "outputs": [
    {
     "name": "stdout",
     "output_type": "stream",
     "text": [
      "1 2\n"
     ]
    }
   ],
   "source": [
    "a = 1\n",
    "b = 2\n",
    "print(a, b)"
   ]
  },
  {
   "cell_type": "code",
   "execution_count": 73,
   "metadata": {},
   "outputs": [
    {
     "data": {
      "text/plain": [
       "(2, 1)"
      ]
     },
     "execution_count": 73,
     "metadata": {},
     "output_type": "execute_result"
    }
   ],
   "source": [
    "[a, b] = [b, a]\n",
    "a, b"
   ]
  },
  {
   "cell_type": "markdown",
   "metadata": {},
   "source": [
    "**Slicing:**\n",
    "\n",
    "Las listas tienen un índice (base 0) que permite acceder a los diferentes elementos de la misma para leerlos, modificarlos o aplicar una determinada operación."
   ]
  },
  {
   "cell_type": "code",
   "execution_count": 26,
   "metadata": {},
   "outputs": [
    {
     "data": {
      "text/plain": [
       "('Alderaan', 'Arcturus', 'Vega')"
      ]
     },
     "execution_count": 26,
     "metadata": {},
     "output_type": "execute_result"
    }
   ],
   "source": [
    "stars = ['Alderaan', 'Arcturus', 'Vega']\n",
    "stars[0], stars[1], stars[2]"
   ]
  },
  {
   "cell_type": "markdown",
   "metadata": {},
   "source": [
    "En ocasiones, las listas pueden estar formadas por listas adicionales, el índex funcionaría de forma similar solo que añadiendo más parámetros."
   ]
  },
  {
   "cell_type": "code",
   "execution_count": 1,
   "metadata": {},
   "outputs": [
    {
     "data": {
      "text/plain": [
       "('earth', 3)"
      ]
     },
     "execution_count": 1,
     "metadata": {},
     "output_type": "execute_result"
    }
   ],
   "source": [
    "planets = [['mercury', 1], ['venus', 2], ['earth', 3]]\n",
    "planets[-1][0], planets[-1][-1]"
   ]
  },
  {
   "cell_type": "markdown",
   "metadata": {},
   "source": [
    "**Append:**\n",
    "\n",
    "Mediante el método `.append(arguments)` se puede añadir a una lista existente objetos adicionales."
   ]
  },
  {
   "cell_type": "code",
   "execution_count": 31,
   "metadata": {},
   "outputs": [
    {
     "data": {
      "text/plain": [
       "[1, 2, 3, 4]"
      ]
     },
     "execution_count": 31,
     "metadata": {},
     "output_type": "execute_result"
    }
   ],
   "source": [
    "list_1 = [1, 2, 3]\n",
    "object_1 = 4\n",
    "\n",
    "list_1.append(object_1)\n",
    "list_1"
   ]
  },
  {
   "cell_type": "code",
   "execution_count": 35,
   "metadata": {},
   "outputs": [
    {
     "data": {
      "text/plain": [
       "[1, 2, 3, [5, 6]]"
      ]
     },
     "execution_count": 35,
     "metadata": {},
     "output_type": "execute_result"
    }
   ],
   "source": [
    "list_1 = [1, 2, 3]\n",
    "list_2 = [5, 6]\n",
    "\n",
    "list_1.append(list_2)\n",
    "list_1"
   ]
  },
  {
   "cell_type": "markdown",
   "metadata": {},
   "source": [
    "Si se quisiera adjuntar los objetos uno a uno, se puede recurrir a un bucle `for` y concatenar cada elemento de una lista con el comando `+`, o con el método `.extend()`."
   ]
  },
  {
   "cell_type": "markdown",
   "metadata": {},
   "source": [
    "**Remove:**\n",
    "\n",
    "Mediante el método `.remove(arguments)` se puede eliminar un objeto de una lista. Existe una variante de este método que permite guardar de forma adicional el objeto eliminado, `.pop(arguments)`."
   ]
  },
  {
   "cell_type": "code",
   "execution_count": 40,
   "metadata": {},
   "outputs": [
    {
     "data": {
      "text/plain": [
       "[1, 2, 3, 4, 5, 6, 7]"
      ]
     },
     "execution_count": 40,
     "metadata": {},
     "output_type": "execute_result"
    }
   ],
   "source": [
    "list_1 = [1, 2, 3, 4, 5, 6, 7, 'Hola']\n",
    "object_1 = 'Hola'\n",
    "\n",
    "list_1.remove(object_1)\n",
    "list_1"
   ]
  },
  {
   "cell_type": "code",
   "execution_count": 43,
   "metadata": {},
   "outputs": [
    {
     "data": {
      "text/plain": [
       "([1, 2, 3, 4, 5, 7, 'Hola'], 6)"
      ]
     },
     "execution_count": 43,
     "metadata": {},
     "output_type": "execute_result"
    }
   ],
   "source": [
    "list_1 = [1, 2, 3, 4, 5, 6, 7, 'Hola']\n",
    "object_nth = 5\n",
    "\n",
    "seis = list_1.pop(object_nth)\n",
    "list_1, seis"
   ]
  },
  {
   "cell_type": "markdown",
   "metadata": {},
   "source": [
    "**Count:**\n",
    "\n",
    "Mediante el método `.count()` se puede obtener el número de ocurrencias de un objeto en una lista."
   ]
  },
  {
   "cell_type": "code",
   "execution_count": 45,
   "metadata": {},
   "outputs": [
    {
     "data": {
      "text/plain": [
       "2"
      ]
     },
     "execution_count": 45,
     "metadata": {},
     "output_type": "execute_result"
    }
   ],
   "source": [
    "actores = ['antonio banderas', 'penelope cruz', 'veronica echegui', 'antonio banderas']\n",
    "actores.count('antonio banderas')"
   ]
  },
  {
   "cell_type": "markdown",
   "metadata": {},
   "source": [
    "**Index:**\n",
    "\n",
    "Mediante el método `.index()` se puede obtener la posición que ocupa un objeto dentro de una lista."
   ]
  },
  {
   "cell_type": "code",
   "execution_count": 48,
   "metadata": {},
   "outputs": [
    {
     "data": {
      "text/plain": [
       "1"
      ]
     },
     "execution_count": 48,
     "metadata": {},
     "output_type": "execute_result"
    }
   ],
   "source": [
    "actores = ['antonio banderas', 'penelope cruz', 'veronica echegui', 'antonio banderas']\n",
    "actores.index('penelope cruz')"
   ]
  },
  {
   "cell_type": "markdown",
   "metadata": {},
   "source": [
    "**Extend:**\n",
    "\n",
    "Mediante el método `.extend()` se pueden añadir elementos adicionales a una lista, es equivalente a concatenar `+`, solo que desde el punto de vista computacional es más eficiente."
   ]
  },
  {
   "cell_type": "code",
   "execution_count": 52,
   "metadata": {},
   "outputs": [
    {
     "data": {
      "text/plain": [
       "['antonio banderas',\n",
       " 'penelope cruz',\n",
       " 'veronica echegui',\n",
       " 'antonio banderas',\n",
       " 'brays efe',\n",
       " 'belen cuesta']"
      ]
     },
     "execution_count": 52,
     "metadata": {},
     "output_type": "execute_result"
    }
   ],
   "source": [
    "actores = ['antonio banderas', 'penelope cruz', 'veronica echegui', 'antonio banderas']\n",
    "actores.extend(['brays efe', 'belen cuesta'])\n",
    "actores"
   ]
  },
  {
   "cell_type": "markdown",
   "metadata": {},
   "source": [
    "**Sort:**\n",
    "\n",
    "Mediante el método `.sort()` se pueden ordenar los objetos de una lista."
   ]
  },
  {
   "cell_type": "code",
   "execution_count": 55,
   "metadata": {},
   "outputs": [
    {
     "data": {
      "text/plain": [
       "['antonio banderas', 'antonio banderas', 'penelope cruz', 'veronica echegui']"
      ]
     },
     "execution_count": 55,
     "metadata": {},
     "output_type": "execute_result"
    }
   ],
   "source": [
    "actores = ['antonio banderas', 'penelope cruz', 'veronica echegui', 'antonio banderas']\n",
    "actores.sort()\n",
    "actores"
   ]
  },
  {
   "cell_type": "markdown",
   "metadata": {},
   "source": [
    "El método `.sort()` tiene como argumento un parámetro denominado `key` que permite personalizar el criterio para ordenar una lista. El argumento `key` se puede combinar tanto con métodos propios de los tipos de objeto de python, como con funciones anónimas definidas por el usuario."
   ]
  },
  {
   "cell_type": "code",
   "execution_count": 57,
   "metadata": {},
   "outputs": [
    {
     "data": {
      "text/plain": [
       "['Charizard', 'charmander', 'Ekans', 'ekans', 'pikachu']"
      ]
     },
     "execution_count": 57,
     "metadata": {},
     "output_type": "execute_result"
    }
   ],
   "source": [
    "## Ordenr la lista de palabras alfabeticamente sin tener en cuenta las mayúsculas\n",
    "pokemons = ['pikachu', 'charmander', 'Charizard', 'Ekans', 'ekans']\n",
    "pokemons.sort(key = str.lower)\n",
    "pokemons"
   ]
  },
  {
   "cell_type": "code",
   "execution_count": 1,
   "metadata": {},
   "outputs": [
    {
     "data": {
      "text/plain": [
       "['man', 'foxes', 'small', 'hell', 'hello']"
      ]
     },
     "execution_count": 1,
     "metadata": {},
     "output_type": "execute_result"
    }
   ],
   "source": [
    "## Ordenar la lista de palabras por el número de \"l's\" que contiene cada elemento de la lista\n",
    "palabras = ['small', 'hell', 'hello', 'man', 'foxes']\n",
    "palabras.sort(key = lambda l_count: l_count.count('l'))\n",
    "palabras"
   ]
  },
  {
   "cell_type": "markdown",
   "metadata": {},
   "source": [
    "Ejercicios:"
   ]
  },
  {
   "cell_type": "code",
   "execution_count": 17,
   "metadata": {},
   "outputs": [
    {
     "data": {
      "text/plain": [
       "['AAaaa', 'Alderaan', 'Vega', 'Arcturus', 'AAAAA']"
      ]
     },
     "execution_count": 17,
     "metadata": {},
     "output_type": "execute_result"
    }
   ],
   "source": [
    "## Ordenar la lista de palabras por el número de \"a's\" que contiene cada iterable de forma descendente\n",
    "stars = ['Alderaan', 'Arcturus', 'Vega', 'AAaaa', 'AAAAA']\n",
    "\n",
    "stars.sort(key = lambda a_count: a_count.count('a'), reverse = True)\n",
    "stars"
   ]
  },
  {
   "cell_type": "code",
   "execution_count": 19,
   "metadata": {},
   "outputs": [
    {
     "data": {
      "text/plain": [
       "['AAaaa', 'AAAAA', 'Alderaan', 'Arcturus', 'Vega']"
      ]
     },
     "execution_count": 19,
     "metadata": {},
     "output_type": "execute_result"
    }
   ],
   "source": [
    "## Ordenar la lista de palabras por el número de \"a's\" (not case sensitive) que contiene cada iterable de forma descendente\n",
    "stars = ['Alderaan', 'Arcturus', 'Vega', 'AAaaa', 'AAAAA']\n",
    "\n",
    "stars.sort(key = lambda a_count: a_count.lower().count('a'), reverse = True)\n",
    "stars"
   ]
  },
  {
   "cell_type": "markdown",
   "metadata": {},
   "source": [
    "**List comprehensions:**\n",
    "\n",
    "La comprensión de listas, del inglés *list comprehensions*, es una funcionalidad que nos permite crear listas avanzadas en una misma línea de código. La filosofía que subyace detrás de este método es similar al de las funciones lambda.\n",
    "\n",
    "La sintaxis de esta estructura de código es: `list = [action for object in iterable if condition]`."
   ]
  },
  {
   "cell_type": "code",
   "execution_count": 28,
   "metadata": {},
   "outputs": [
    {
     "data": {
      "text/plain": [
       "[4, 8]"
      ]
     },
     "execution_count": 28,
     "metadata": {},
     "output_type": "execute_result"
    }
   ],
   "source": [
    "## Crear una lista con el doble de los valores numéricos de otra lista si estos son pares\n",
    "numbers = [1, 2, 3, 4, 5]\n",
    "\n",
    "double_numbers = []\n",
    "for number in numbers:\n",
    "    if number % 2 == 0:\n",
    "        double_numbers.append(number*2)\n",
    "    \n",
    "double_numbers"
   ]
  },
  {
   "cell_type": "code",
   "execution_count": 31,
   "metadata": {},
   "outputs": [
    {
     "data": {
      "text/plain": [
       "[4, 8]"
      ]
     },
     "execution_count": 31,
     "metadata": {},
     "output_type": "execute_result"
    }
   ],
   "source": [
    "## Crear una lista con el doble de los valores numéricos de otra lista si estos son pares, utilizando list comprehension\n",
    "numbers = [1, 2, 3, 4, 5]\n",
    "\n",
    "double_numbers = [number*2 for number in numbers if number % 2 == 0]\n",
    "\n",
    "double_numbers"
   ]
  },
  {
   "cell_type": "markdown",
   "metadata": {},
   "source": [
    "Al igual que se puede realizar un for dentro de otro for, también se pueden anidar las *list comprehensions*."
   ]
  },
  {
   "cell_type": "markdown",
   "metadata": {},
   "source": [
    "### 1.6.2. Tuplas"
   ]
  },
  {
   "cell_type": "markdown",
   "metadata": {},
   "source": [
    "Es una secuencia de obejetos, unidimensional, de longitud variable, e inmutable (los propios objetos si pueden ser mutables). Se escriben entre paréntesis `()`. También pueden ser creadas pasando una lista de objetos como argumentos del comando `tuple()`.\n",
    "\n",
    "Ejemplo de tupla:"
   ]
  },
  {
   "cell_type": "code",
   "execution_count": 56,
   "metadata": {},
   "outputs": [
    {
     "data": {
      "text/plain": [
       "tuple"
      ]
     },
     "execution_count": 56,
     "metadata": {},
     "output_type": "execute_result"
    }
   ],
   "source": [
    "stars = ('Alderaan', 'Arcturus', 'Vega')\n",
    "type(stars)"
   ]
  },
  {
   "cell_type": "markdown",
   "metadata": {},
   "source": [
    "Mediante el comando `tuple()` se pueden crear tuplas siempre que se pase como argumento un objeto iterable. Existe una excepción con los diccionarios, los cuales son un conjunto de pares llave-valor; si se pasa un diccionario como argumento de esta función, python devuelve una tupla que contiene exclusivamente las llaves del diccionario."
   ]
  },
  {
   "cell_type": "code",
   "execution_count": 75,
   "metadata": {},
   "outputs": [
    {
     "data": {
      "text/plain": [
       "('color_1', 'color_2')"
      ]
     },
     "execution_count": 75,
     "metadata": {},
     "output_type": "execute_result"
    }
   ],
   "source": [
    "diccionario = {'color_1': 'rojo', 'color_2': 'verde'}\n",
    "tuple(diccionario)"
   ]
  },
  {
   "cell_type": "markdown",
   "metadata": {},
   "source": [
    "Muchos de los métodos que se han explicado en el epígrafe aplican igual para las tuplas. Se debe tener en cuenta que las tuplas por su naturaleza no pueden ser modificadas, por lo que métodos como `.sort()` por ejemplo no tendrían sentido."
   ]
  },
  {
   "cell_type": "markdown",
   "metadata": {},
   "source": [
    "### 1.6.3. Diccionarios"
   ]
  },
  {
   "cell_type": "markdown",
   "metadata": {},
   "source": [
    "Son junto a las listas, las colecciones más utilizadas y se basan en una estructura mapeada donde cada elemento de la colección se encuentra identificado con una clave única, por lo que no puede haber dos claves iguales. En otros lenguajes se conocen como arreglos asociativos.\n",
    "\n",
    "Los diccionarios se definen igual que los conjuntos, utilizando llaves, pero también se pueden crear vacíos con ellas."
   ]
  },
  {
   "cell_type": "code",
   "execution_count": 76,
   "metadata": {},
   "outputs": [
    {
     "data": {
      "text/plain": [
       "dict"
      ]
     },
     "execution_count": 76,
     "metadata": {},
     "output_type": "execute_result"
    }
   ],
   "source": [
    "diccionario = {'rojo': 'red', 'verde': 'green', 'azul': 'blue'}\n",
    "type(diccionario)"
   ]
  },
  {
   "cell_type": "markdown",
   "metadata": {},
   "source": [
    "Se puede acceder a los valores de un diccionario si conocemos su llave. Para ello se utiliza una estructura similar a la que se emplea en el slicing de listas y tuplas, solo que pasando como argumento la llave: `dict[key]`."
   ]
  },
  {
   "cell_type": "code",
   "execution_count": 77,
   "metadata": {},
   "outputs": [
    {
     "data": {
      "text/plain": [
       "'red'"
      ]
     },
     "execution_count": 77,
     "metadata": {},
     "output_type": "execute_result"
    }
   ],
   "source": [
    "diccionario['rojo']"
   ]
  },
  {
   "cell_type": "markdown",
   "metadata": {},
   "source": [
    "Los diccionarios son mutables, por lo que cualquier de los valores asociados a una de las claves puede ser modificado:"
   ]
  },
  {
   "cell_type": "code",
   "execution_count": 83,
   "metadata": {},
   "outputs": [
    {
     "data": {
      "text/plain": [
       "{'rojo': 'rouge', 'azul': 'blue', 'verde': 'green', 'amarillo': 'yellow'}"
      ]
     },
     "execution_count": 83,
     "metadata": {},
     "output_type": "execute_result"
    }
   ],
   "source": [
    "diccionario['rojo'] = 'rouge'\n",
    "diccionario"
   ]
  },
  {
   "cell_type": "markdown",
   "metadata": {},
   "source": [
    "Se puede crear un diccionario mediante el comando `dict()`, y pasando como argumento de la función cualquier conjunto de datos que tenga una estructura similar a un diccionario, es decir string-objeto.\n",
    "\n",
    "- tupla de tuplas: `dict((('key1', 1), ('key2', 2)))`\n",
    "- tupla de listas: `dict((['key1', 1], ['key2', 2]))`\n",
    "- lista de lista: `dict([['key1', 1], ['key2', 2]])`\n",
    "- lista de tuplas: `dict([('key1', 1), ('key2', 2)])`"
   ]
  },
  {
   "cell_type": "markdown",
   "metadata": {},
   "source": [
    "A continuación se muestran algunas de las funciones y métodos más comunes en el tratamiento de diccionarios."
   ]
  },
  {
   "cell_type": "markdown",
   "metadata": {},
   "source": [
    "**Keys:**\n",
    "\n",
    "Mediante el método `.keys()` se puede obtener una lista con los valores de las llaves."
   ]
  },
  {
   "cell_type": "code",
   "execution_count": 4,
   "metadata": {},
   "outputs": [
    {
     "data": {
      "text/plain": [
       "['alumno', 'asignatura', 'notas']"
      ]
     },
     "execution_count": 4,
     "metadata": {},
     "output_type": "execute_result"
    }
   ],
   "source": [
    "dict1 = {'alumno': ['juan', 'juana'], 'asignatura': ['musica', 'lengua'], 'notas': [5, 6]}\n",
    "list(dict1.keys())"
   ]
  },
  {
   "cell_type": "markdown",
   "metadata": {},
   "source": [
    "**Values:**\n",
    "\n",
    "Mediante el método `.values()` se puede obtener una lista de los valores para cada llave."
   ]
  },
  {
   "cell_type": "code",
   "execution_count": 5,
   "metadata": {},
   "outputs": [
    {
     "data": {
      "text/plain": [
       "[['juan', 'juana'], ['musica', 'lengua'], [5, 6]]"
      ]
     },
     "execution_count": 5,
     "metadata": {},
     "output_type": "execute_result"
    }
   ],
   "source": [
    "dict1 = {'alumno': ['juan', 'juana'], 'asignatura': ['musica', 'lengua'], 'notas': [5, 6]}\n",
    "list(dict1.values())"
   ]
  },
  {
   "cell_type": "markdown",
   "metadata": {},
   "source": [
    "**Items:**\n",
    "\n",
    "Mediante el método `.items()` se puede obtener una lista de tuplas con las claves y valores de un diccionario."
   ]
  },
  {
   "cell_type": "code",
   "execution_count": 7,
   "metadata": {},
   "outputs": [
    {
     "data": {
      "text/plain": [
       "[('alumno', ['juan', 'juana']),\n",
       " ('asignatura', ['musica', 'lengua']),\n",
       " ('notas', [5, 6])]"
      ]
     },
     "execution_count": 7,
     "metadata": {},
     "output_type": "execute_result"
    }
   ],
   "source": [
    "dict1 = {'alumno': ['juan', 'juana'], 'asignatura': ['musica', 'lengua'], 'notas': [5, 6]}\n",
    "list(dict1.items())"
   ]
  },
  {
   "cell_type": "markdown",
   "metadata": {},
   "source": [
    "**Zip:**"
   ]
  },
  {
   "cell_type": "markdown",
   "metadata": {},
   "source": [
    "Esta función combina dos iterables uno a uno y devuelve una tupla. La sintaxis es `zip(iter_1, iter_2)`."
   ]
  },
  {
   "cell_type": "code",
   "execution_count": 82,
   "metadata": {},
   "outputs": [
    {
     "data": {
      "text/plain": [
       "{'rojo': 'red', 'azul': 'blue', 'verde': 'green', 'amarillo': 'yellow'}"
      ]
     },
     "execution_count": 82,
     "metadata": {},
     "output_type": "execute_result"
    }
   ],
   "source": [
    "colores_esp = ('rojo', 'azul', 'verde', 'amarillo')\n",
    "colores_eng = ('red', 'blue', 'green', 'yellow')\n",
    "\n",
    "diccionario = dict(zip(colores_esp, colores_eng))\n",
    "diccionario"
   ]
  },
  {
   "cell_type": "markdown",
   "metadata": {},
   "source": [
    "### 1.6.4. Sets"
   ]
  },
  {
   "cell_type": "markdown",
   "metadata": {},
   "source": [
    "Son colecciones desordenadas de elementos únicos utilizados para hacer pruebas de pertenencia a grupos y eliminación de elementos duplicados. Se dice que son desordenados porque gestionan automáticamente la posición de sus elementos, en lugar de conservarlos en la posición que nosotros los añadimos.\n",
    "\n",
    "Los sets se definen igual que los diccionarios, utilizando llaves. Para crearlos vacíos es necesario recurrir al comando `set()`."
   ]
  },
  {
   "cell_type": "code",
   "execution_count": 17,
   "metadata": {},
   "outputs": [
    {
     "data": {
      "text/plain": [
       "set"
      ]
     },
     "execution_count": 17,
     "metadata": {},
     "output_type": "execute_result"
    }
   ],
   "source": [
    "set_prueba = {1, 3, 3, 5, 5, 99, 'Hola'}\n",
    "type(set_prueba)"
   ]
  },
  {
   "cell_type": "code",
   "execution_count": 18,
   "metadata": {},
   "outputs": [
    {
     "data": {
      "text/plain": [
       "{1, 3, 5, 99, 'Hola'}"
      ]
     },
     "execution_count": 18,
     "metadata": {},
     "output_type": "execute_result"
    }
   ],
   "source": [
    "set_prueba"
   ]
  },
  {
   "cell_type": "markdown",
   "metadata": {},
   "source": [
    "También se puede definir un set mediante el comando `set()` y pasando como argumento una lista."
   ]
  },
  {
   "cell_type": "code",
   "execution_count": 21,
   "metadata": {},
   "outputs": [
    {
     "data": {
      "text/plain": [
       "{1, 2, 5, 'hola otra vez'}"
      ]
     },
     "execution_count": 21,
     "metadata": {},
     "output_type": "execute_result"
    }
   ],
   "source": [
    "set([1, 2, 5, 'hola otra vez'])"
   ]
  },
  {
   "cell_type": "markdown",
   "metadata": {},
   "source": [
    "Algunos de los métodos más comunes de los conjuntos, son uniones, intersecciones...etc, que tienen similitud con las teorías de conjuntos del álgebra:"
   ]
  },
  {
   "cell_type": "markdown",
   "metadata": {},
   "source": [
    "**Union - OR:**\n",
    "\n",
    "Une un conjunto a otro y devuelve el resultado en un nuevo conjunto. La sintaxis es `set_1.union(set_2)`, un método alternativo es mediante el símbolo pipeline `|`, `set_1 | set_2`."
   ]
  },
  {
   "cell_type": "code",
   "execution_count": 22,
   "metadata": {},
   "outputs": [
    {
     "data": {
      "text/plain": [
       "{1, 2, 3, 4, 5, 6, 7, 8}"
      ]
     },
     "execution_count": 22,
     "metadata": {},
     "output_type": "execute_result"
    }
   ],
   "source": [
    "a = {1, 2, 3, 4, 5}\n",
    "b = {4, 5, 6, 7, 8}\n",
    "\n",
    "a.union(b)"
   ]
  },
  {
   "cell_type": "code",
   "execution_count": 23,
   "metadata": {},
   "outputs": [
    {
     "data": {
      "text/plain": [
       "{1, 2, 3, 4, 5, 6, 7, 8}"
      ]
     },
     "execution_count": 23,
     "metadata": {},
     "output_type": "execute_result"
    }
   ],
   "source": [
    "a = {1, 2, 3, 4, 5}\n",
    "b = {4, 5, 6, 7, 8}\n",
    "\n",
    "a | b"
   ]
  },
  {
   "cell_type": "markdown",
   "metadata": {},
   "source": [
    "**Intersection - AND:**\n",
    "\n",
    "Devuelve un conjunto con los elementos comunes de dos conjuntos. La sintaxis es `set_1.intersection(set_2)`, un método alternativo es mediante el símbolo `&`, `set_1 & set_2`."
   ]
  },
  {
   "cell_type": "code",
   "execution_count": 24,
   "metadata": {},
   "outputs": [
    {
     "data": {
      "text/plain": [
       "{4, 5}"
      ]
     },
     "execution_count": 24,
     "metadata": {},
     "output_type": "execute_result"
    }
   ],
   "source": [
    "a = {1, 2, 3, 4, 5}\n",
    "b = {4, 5, 6, 7, 8}\n",
    "\n",
    "a.intersection(b)"
   ]
  },
  {
   "cell_type": "code",
   "execution_count": 25,
   "metadata": {},
   "outputs": [
    {
     "data": {
      "text/plain": [
       "{4, 5}"
      ]
     },
     "execution_count": 25,
     "metadata": {},
     "output_type": "execute_result"
    }
   ],
   "source": [
    "a = {1, 2, 3, 4, 5}\n",
    "b = {4, 5, 6, 7, 8}\n",
    "\n",
    "a & b"
   ]
  },
  {
   "cell_type": "markdown",
   "metadata": {},
   "source": [
    "**Difference:**\n",
    "\n",
    "Devuelve un conjunto con los elementos no comunes del primero de los conjuntos. La sintaxis es `set_1.difference(set_2)`, un método alternativo es mediante el símbolo `-`, `set_1 - set_2`."
   ]
  },
  {
   "cell_type": "code",
   "execution_count": 26,
   "metadata": {},
   "outputs": [
    {
     "data": {
      "text/plain": [
       "{1, 2, 3}"
      ]
     },
     "execution_count": 26,
     "metadata": {},
     "output_type": "execute_result"
    }
   ],
   "source": [
    "a = {1, 2, 3, 4, 5}\n",
    "b = {4, 5, 6, 7, 8}\n",
    "\n",
    "a.difference(b)"
   ]
  },
  {
   "cell_type": "code",
   "execution_count": 27,
   "metadata": {},
   "outputs": [
    {
     "data": {
      "text/plain": [
       "{1, 2, 3}"
      ]
     },
     "execution_count": 27,
     "metadata": {},
     "output_type": "execute_result"
    }
   ],
   "source": [
    "a = {1, 2, 3, 4, 5}\n",
    "b = {4, 5, 6, 7, 8}\n",
    "\n",
    "a - b"
   ]
  },
  {
   "cell_type": "markdown",
   "metadata": {},
   "source": [
    "**Symmetric difference - XOR:**\n",
    "\n",
    "Devuelve los elementos simétricamente diferentes entre dos conjuntos, es decir, todos los elementos que no concuerdan entre los dos conjuntos. La sintaxis es `set_1.symmetric_difference(set_2)`, un método alternativo es mediante el símbolo `^`, `set_1 ^ set_2`."
   ]
  },
  {
   "cell_type": "code",
   "execution_count": 28,
   "metadata": {},
   "outputs": [
    {
     "data": {
      "text/plain": [
       "{1, 2, 3, 6, 7, 8}"
      ]
     },
     "execution_count": 28,
     "metadata": {},
     "output_type": "execute_result"
    }
   ],
   "source": [
    "a = {1, 2, 3, 4, 5}\n",
    "b = {4, 5, 6, 7, 8}\n",
    "\n",
    "a.symmetric_difference(b)"
   ]
  },
  {
   "cell_type": "code",
   "execution_count": 30,
   "metadata": {},
   "outputs": [
    {
     "data": {
      "text/plain": [
       "{1, 2, 3, 6, 7, 8}"
      ]
     },
     "execution_count": 30,
     "metadata": {},
     "output_type": "execute_result"
    }
   ],
   "source": [
    "a = {1, 2, 3, 4, 5}\n",
    "b = {4, 5, 6, 7, 8}\n",
    "\n",
    "a ^ b"
   ]
  },
  {
   "cell_type": "markdown",
   "metadata": {},
   "source": [
    "**Issubset:**\n",
    "\n",
    "Comprueba si el conjunto es subconjunto de otro conjunto, es decir, si sus ítems se encuentran todos dentro de otro. La sintaxis de este método es `set_1.issubset(set_2)`."
   ]
  },
  {
   "cell_type": "code",
   "execution_count": 33,
   "metadata": {},
   "outputs": [
    {
     "data": {
      "text/plain": [
       "False"
      ]
     },
     "execution_count": 33,
     "metadata": {},
     "output_type": "execute_result"
    }
   ],
   "source": [
    "a = {1, 2, 3, 4, 5}\n",
    "b = {3, 4, 5}\n",
    "\n",
    "a.issubset(b)"
   ]
  },
  {
   "cell_type": "code",
   "execution_count": 34,
   "metadata": {},
   "outputs": [
    {
     "data": {
      "text/plain": [
       "True"
      ]
     },
     "execution_count": 34,
     "metadata": {},
     "output_type": "execute_result"
    }
   ],
   "source": [
    "a = {1, 2, 3, 4, 5}\n",
    "b = {3, 4, 5}\n",
    "\n",
    "b.issubset(a)"
   ]
  },
  {
   "cell_type": "markdown",
   "metadata": {},
   "source": [
    "## 1.7. Programación orientada a objetos - POO\n",
    "\n",
    "En Python todo es un objeto. Cuando creas una variable y le asignas un valor entero, ese valor es un objeto; una función es un objeto; las listas, tuplas, diccionarios, conjuntos...etc, son objetos; una cadena de caracteres es un objeto. Y así podría seguir indefinidamente.\n",
    "\n",
    "Pero, ¿por qué es tan importante la programación orientada a objetos? Bien, este tipo de programación introduce un nuevo paradigma que nos permite encapsular y aislar datos y operaciones que se pueden realizar sobre dichos datos, reduciendo de forma considerable la cantidad de código, y definiendo funciones que sean autoexplicativas y faciliten la legibilidad del código.\n",
    "\n",
    "Dentro de la POO de python, podemos encontrar dos elementos principales:\n",
    "\n",
    "- Clases\n",
    "- Objetos\n",
    "\n",
    "Podéis imaginaros los objetos como un nuevo tipo de dato cuya definición viene dada en una estructura llamada clase.\n",
    "\n",
    "Suelo hacer una metáfora y comparar las clases con moldes de galletas y los objetos con las galletas en sí mismas. Si bien todas las galletas que se hacen con el mismo molde tienen la misma forma, cada una adquiere atributos individuales después del horneado. Atributos como el color, la textura, o el sabor, pueden llegar a ser muy distintas.\n",
    "\n",
    "En otras palabras, las galletas comparten un proceso de fabricación y unos atributos, pero son independientes entre ellas y del propio molde, y eso hace que cada una sea única. Extrapolando el ejemplo, una clase es sólo un guión sobre como deben ser los objetos que se crearán con ella."
   ]
  },
  {
   "cell_type": "markdown",
   "metadata": {},
   "source": [
    "### 1.7.1. Clases y objetos\n",
    "\n",
    "Para crear una clase se utiliza la palabra reservada de python `class`. Una buena práctica a la hora de definir una clase, es poner la primera letra en mayúscula."
   ]
  },
  {
   "cell_type": "code",
   "execution_count": 1,
   "metadata": {},
   "outputs": [],
   "source": [
    "# Definir una clase\n",
    "class Galleta:\n",
    "    pass"
   ]
  },
  {
   "cell_type": "markdown",
   "metadata": {},
   "source": [
    "Esta es una definición muy simple de lo que es una galleta, ya que con `pass` la dejo vacía. Luego añadiremos más información, pero por ahora veamos como crear galletas con este molde.\n",
    "\n",
    "Es importante tener claro que los objetos existen sólo durante la ejecución del programa y se almacenan en la memoria del sistema operativo. Es decir, mientras las clases están ahí en el código haciendo su papel de instrucciones, los objetos no existen hasta que el programa se ejecuta y se crean en la memoria.\n",
    "\n",
    "Este proceso de crear los objetos en la memoria se denomina instanciación y para realizarlo es tan fácil como llamar a la clase como si fuera una función:"
   ]
  },
  {
   "cell_type": "code",
   "execution_count": 9,
   "metadata": {},
   "outputs": [],
   "source": [
    "# Definir un objeto de una clase\n",
    "una_galleta = Galleta()\n",
    "otra_galleta = Galleta()"
   ]
  },
  {
   "cell_type": "markdown",
   "metadata": {},
   "source": [
    "Demostrar que las galletas existen como entes independientes dentro de la memoria, es tan sencillo como imprimirlas por pantalla:"
   ]
  },
  {
   "cell_type": "code",
   "execution_count": 4,
   "metadata": {},
   "outputs": [
    {
     "name": "stdout",
     "output_type": "stream",
     "text": [
      "<__main__.Galleta object at 0x000001EE6ABCBEE0>\n",
      "<__main__.Galleta object at 0x000001EE6ABCBFA0>\n"
     ]
    }
   ],
   "source": [
    "print(una_galleta)\n",
    "print(otra_galleta)"
   ]
  },
  {
   "cell_type": "markdown",
   "metadata": {},
   "source": [
    "Cada instancia tiene su propia referencia, demostrando que están en lugares distintos de la memoria. En cambio la clase no tiene una referencia porque es sólo un guión de instrucciones:"
   ]
  },
  {
   "cell_type": "code",
   "execution_count": 5,
   "metadata": {},
   "outputs": [
    {
     "name": "stdout",
     "output_type": "stream",
     "text": [
      "<class '__main__.Galleta'>\n"
     ]
    }
   ],
   "source": [
    "print(Galleta)"
   ]
  },
  {
   "cell_type": "markdown",
   "metadata": {},
   "source": [
    "Es posible consultar la clase de un objeto con la función type(), pero también se puede consultar a través de su atributo especial class:"
   ]
  },
  {
   "cell_type": "code",
   "execution_count": 6,
   "metadata": {},
   "outputs": [
    {
     "name": "stdout",
     "output_type": "stream",
     "text": [
      "<class '__main__.Galleta'>\n",
      "<class '__main__.Galleta'>\n",
      "<class '__main__.Galleta'>\n"
     ]
    }
   ],
   "source": [
    "print(Galleta)\n",
    "print(type(una_galleta))\n",
    "print(una_galleta.__class__)"
   ]
  },
  {
   "cell_type": "markdown",
   "metadata": {},
   "source": [
    "A su vez las clases tienen un atributo especial name que nos devuelve su nombre en forma de cadena sin adornos:"
   ]
  },
  {
   "cell_type": "code",
   "execution_count": 7,
   "metadata": {},
   "outputs": [
    {
     "name": "stdout",
     "output_type": "stream",
     "text": [
      "Galleta\n",
      "Galleta\n",
      "Galleta\n"
     ]
    }
   ],
   "source": [
    "print(Galleta.__name__)\n",
    "print(type(una_galleta).__name__)\n",
    "print(una_galleta.__class__.__name__)"
   ]
  },
  {
   "cell_type": "markdown",
   "metadata": {},
   "source": [
    "Resumiendo, los objetos son instancias de una clase."
   ]
  },
  {
   "cell_type": "markdown",
   "metadata": {},
   "source": [
    "### 1.7.2. Atributos y métodos\n",
    "\n",
    "Si hay algo que ilustre el potencial de la POO esa es la capacidad de definir variables y funciones dentro de las clases, aunque aquí se conocen como atributos y métodos respectivamente.\n",
    "\n",
    "- Atributos: variables internas dentro de la clae\n",
    "- Métodos: funciones internas dentro de la clase\n",
    "\n",
    "**Atributos**\n",
    "\n",
    "Dado que Python es muy flexible los atributos pueden manejarse de distintas formas, por ejemplo se pueden crear dinámicamente (al vuelo) en los objetos:"
   ]
  },
  {
   "cell_type": "code",
   "execution_count": 6,
   "metadata": {},
   "outputs": [],
   "source": [
    "# Crear el atributo sabor par la clase Galleta\n",
    "class Galleta:\n",
    "    pass\n",
    "\n",
    "galleta = Galleta()\n",
    "galleta.sabor = \"salado\""
   ]
  },
  {
   "cell_type": "markdown",
   "metadata": {},
   "source": [
    "Aunque la flexibilidad de los atributos dinámicos puede llegar a ser muy útil, tener que definir los atributos de esa forma es tedioso. Es más práctico definir unos atributos básicos en la clase. De esa manera todas las galletas podrían tener unos atributos por defecto:"
   ]
  },
  {
   "cell_type": "code",
   "execution_count": 7,
   "metadata": {},
   "outputs": [
    {
     "data": {
      "text/plain": [
       "False"
      ]
     },
     "execution_count": 7,
     "metadata": {},
     "output_type": "execute_result"
    }
   ],
   "source": [
    "class Galleta:\n",
    "    chocolate = False\n",
    "    \n",
    "galleta = Galleta()\n",
    "galleta.chocolate"
   ]
  },
  {
   "cell_type": "markdown",
   "metadata": {},
   "source": [
    "Luego podemos cambiar su valor en cualquier momento.\n",
    "\n",
    "Por lo menos de esta forma nos aseguraremos de que el atributo chocolate existe en todas las galletas desde el principio. Además es posible consultar el valor por defecto que deben tener las galletas haciendo referencia al atributo en la definición de la clase.\n",
    "\n",
    "Lo curioso es que si cambiamos ese atributo de clase (que no de objeto) a True, las siguientes galletas se crearán con chocolate, es decir, habremos modificado las instrucciones de creación de los objetos."
   ]
  },
  {
   "cell_type": "markdown",
   "metadata": {},
   "source": [
    "**Métodos:**\n",
    "\n",
    "Si por un lado tenemos las variables de las clases, por otro tenemos sus funciones, que evidentemente nos permiten definir funcionalidades para llamarlas desde las instancias.\n",
    "\n",
    "Definir un método es bastante simple, sólo tenemos que añadirlo en la clase y luego llamarlo desde el objeto con los paréntesis, como si de una función se tratase:"
   ]
  },
  {
   "cell_type": "code",
   "execution_count": 8,
   "metadata": {},
   "outputs": [
    {
     "ename": "TypeError",
     "evalue": "saludar() takes 0 positional arguments but 1 was given",
     "output_type": "error",
     "traceback": [
      "\u001b[1;31m---------------------------------------------------------------------------\u001b[0m",
      "\u001b[1;31mTypeError\u001b[0m                                 Traceback (most recent call last)",
      "\u001b[1;32m<ipython-input-8-391642e0dee4>\u001b[0m in \u001b[0;36m<module>\u001b[1;34m\u001b[0m\n\u001b[0;32m      6\u001b[0m \u001b[1;33m\u001b[0m\u001b[0m\n\u001b[0;32m      7\u001b[0m \u001b[0mgalleta\u001b[0m \u001b[1;33m=\u001b[0m \u001b[0mGalleta\u001b[0m\u001b[1;33m(\u001b[0m\u001b[1;33m)\u001b[0m\u001b[1;33m\u001b[0m\u001b[1;33m\u001b[0m\u001b[0m\n\u001b[1;32m----> 8\u001b[1;33m \u001b[0mgalleta\u001b[0m\u001b[1;33m.\u001b[0m\u001b[0msaludar\u001b[0m\u001b[1;33m(\u001b[0m\u001b[1;33m)\u001b[0m\u001b[1;33m\u001b[0m\u001b[1;33m\u001b[0m\u001b[0m\n\u001b[0m",
      "\u001b[1;31mTypeError\u001b[0m: saludar() takes 0 positional arguments but 1 was given"
     ]
    }
   ],
   "source": [
    "class Galleta:\n",
    "    chocolate = False\n",
    "\n",
    "    def saludar():\n",
    "        print(\"Hola, soy una galleta muy sabrosa\")\n",
    "\n",
    "galleta = Galleta()\n",
    "galleta.saludar()"
   ]
  },
  {
   "cell_type": "markdown",
   "metadata": {},
   "source": [
    "Sin embargo, al intentar ejecutar el código anterior desde una galleta veréis que no funciona. Nos indica que el método saludar() requiere 0 argumentos pero se está pasando uno.\n",
    "\n",
    "Lo que tenemos aquí, es la diferencia fundamental entre métodos de clase y métodos de instancia. Probamos a ejecutar el método llamando a la clase en lugar del objeto:"
   ]
  },
  {
   "cell_type": "code",
   "execution_count": 9,
   "metadata": {},
   "outputs": [
    {
     "name": "stdout",
     "output_type": "stream",
     "text": [
      "Hola, soy una galleta muy sabrosa\n"
     ]
    }
   ],
   "source": [
    "class Galleta:\n",
    "    chocolate = False\n",
    "\n",
    "    def saludar():\n",
    "        print(\"Hola, soy una galleta muy sabrosa\")\n",
    "\n",
    "Galleta.saludar()"
   ]
  },
  {
   "cell_type": "markdown",
   "metadata": {},
   "source": [
    "Los objetos tienen una característica muy importante: son conscientes de que existen. Cuando se ejecuta un método desde un objeto (que no desde una clase), se envía un primer argumento implícito que hace referencia al propio objeto. Si lo definimos en nuestro método podremos capturarlo y ver qué es:"
   ]
  },
  {
   "cell_type": "code",
   "execution_count": 10,
   "metadata": {},
   "outputs": [
    {
     "name": "stdout",
     "output_type": "stream",
     "text": [
      "Hola, soy una galleta muy sabrosa\n",
      "<__main__.Galleta object at 0x0000016E1B25E070>\n"
     ]
    }
   ],
   "source": [
    "class Galleta:\n",
    "    chocolate = False\n",
    "\n",
    "    def saludar(soy_el_propio_objeto):\n",
    "        print(\"Hola, soy una galleta muy sabrosa\")\n",
    "        print(soy_el_propio_objeto)\n",
    "\n",
    "galleta = Galleta()\n",
    "galleta.saludar()"
   ]
  },
  {
   "cell_type": "markdown",
   "metadata": {},
   "source": [
    "Podemos acceder al propio objeto desde el interior de sus métodos. Lo único que como este argumento hace referencia al objeto en sí mismo por convención se le llama `self`.\n",
    "\n",
    "Poder acceder al propio objeto desde un método es muy útil, ya que nos permite acceder a sus atributos. Fijaros, el siguiente código no funcionaría como esperamos:"
   ]
  },
  {
   "cell_type": "code",
   "execution_count": 11,
   "metadata": {},
   "outputs": [
    {
     "name": "stdout",
     "output_type": "stream",
     "text": [
      "False\n"
     ]
    }
   ],
   "source": [
    "class Galleta:\n",
    "    chocolate = False\n",
    "\n",
    "    def chocolatear(self):\n",
    "        chocolate = True\n",
    "\n",
    "galleta = Galleta()\n",
    "galleta.chocolatear()\n",
    "print(galleta.chocolate)"
   ]
  },
  {
   "cell_type": "markdown",
   "metadata": {},
   "source": [
    "En cambio, si hacemos ver que `self` es el propio objeto:"
   ]
  },
  {
   "cell_type": "code",
   "execution_count": 12,
   "metadata": {},
   "outputs": [
    {
     "name": "stdout",
     "output_type": "stream",
     "text": [
      "True\n"
     ]
    }
   ],
   "source": [
    "class Galleta:\n",
    "    chocolate = False\n",
    "\n",
    "    def chocolatear(self):\n",
    "        self.chocolate = True\n",
    "\n",
    "galleta = Galleta()\n",
    "galleta.chocolatear()\n",
    "print(galleta.chocolate)"
   ]
  },
  {
   "cell_type": "markdown",
   "metadata": {},
   "source": [
    "Como se explicaba antes de que las instancias tienen que saber quienes son porque sino no pueden acceder sus atributos internos, y por eso tienen que enviarse asimismas a los métodos.\n",
    "\n",
    "Sea como sea con este ejemplo podemos entender que por defecto el valor de un atributo se busca en la clase, pero para modificarlo en la instancia es necesario hacer referencia al objeto."
   ]
  },
  {
   "cell_type": "markdown",
   "metadata": {},
   "source": [
    "**Métodos especiales:**\n",
    "\n",
    "Ahora que sabemos crear métodos y hemos aprendido para qué sirve el argumento `self`, es momento de introducir algunos métodos especiales de las clases.\n",
    "\n",
    "Se llaman especiales porque la mayoría ya existen de forma oculta y sirven para tareas específicas.\n",
    "\n",
    "- Constructor `__init__`: el constructor es un método que se llama automáticamente al crear un objeto. La finalidad del constructor es, como su nombre indica, construir los objetos. Por esa razón permite sobreescribir el método que crea los objetos, permitiéndonos enviar datos desde el principio para construirlo.\n",
    "\n"
   ]
  },
  {
   "cell_type": "code",
   "execution_count": 14,
   "metadata": {},
   "outputs": [
    {
     "name": "stdout",
     "output_type": "stream",
     "text": [
      "Se acaba de crear una galleta amarga y marrón.\n",
      "Se acaba de crear una galleta dulce y blanca.\n"
     ]
    }
   ],
   "source": [
    "class Galleta:\n",
    "    chocolate = False\n",
    "\n",
    "    def __init__(self, sabor = None, color = None):\n",
    "        self.sabor = sabor\n",
    "        self.color = color\n",
    "        print(f\"Se acaba de crear una galleta {self.color} y {self.sabor}.\")\n",
    "\n",
    "galleta_1 = Galleta(\"marrón\", \"amarga\")\n",
    "galleta_2 = Galleta(\"blanca\", \"dulce\")"
   ]
  },
  {
   "cell_type": "markdown",
   "metadata": {},
   "source": [
    "Como los métodos se comportan como funciones tienen sus mismas características, permitiéndonos definir valores nulos, valores por posición y nombre, argumentos indeterminadas, etc."
   ]
  },
  {
   "cell_type": "markdown",
   "metadata": {},
   "source": [
    "- Destructor `__del__`: existe un destructor que se llame al eliminar el objeto para que encargue de las tareas de limpieza como vaciar la memoria. Ese es el papel del método especial `__del__`. Es muy raro sobreescribir este método porque se maneja automáticamente, pero es interesante saber que existe. Todos los objetos se borran automáticamente de la memoria al finalizar el programa, aunque también podemos eliminarlos automáticamente pasándolos a la función `del()`."
   ]
  },
  {
   "cell_type": "code",
   "execution_count": 16,
   "metadata": {},
   "outputs": [
    {
     "name": "stdout",
     "output_type": "stream",
     "text": [
      "La galleta se está borrando de la memoria\n"
     ]
    }
   ],
   "source": [
    "class Galleta:\n",
    "\n",
    "    def __del__(self):\n",
    "        print(\"La galleta se está borrando de la memoria\")\n",
    "\n",
    "galleta = Galleta()\n",
    "\n",
    "del(galleta)"
   ]
  },
  {
   "cell_type": "markdown",
   "metadata": {},
   "source": [
    "En este punto vale comentar algo respecto a los métodos especiales como éste, y es que pese a que tienen accesores en forma de función para facilitar su llamada, es totalmente posible ejecutarlos directamente como si fueran métodos normales `object.__del__()`."
   ]
  },
  {
   "cell_type": "markdown",
   "metadata": {},
   "source": [
    "- String `__str__`: el método `__str__` es el que devuelve la representación de un objeto en forma de cadena. Un momento en que se llama automáticamente es cuando imprimirmos una variable por pantalla. Por defecto los objetos imprimen su clase y una dirección de memoria, pero eso puede cambiarse sobreescribiendo el comportamiento:"
   ]
  },
  {
   "cell_type": "code",
   "execution_count": 17,
   "metadata": {},
   "outputs": [
    {
     "name": "stdout",
     "output_type": "stream",
     "text": [
      "Soy una galleta blanca y dulce.\n",
      "Soy una galleta blanca y dulce.\n",
      "Soy una galleta blanca y dulce.\n"
     ]
    }
   ],
   "source": [
    "class Galleta:\n",
    "\n",
    "    def __init__(self, sabor, color):\n",
    "        self.sabor = sabor\n",
    "        self.color = color\n",
    "\n",
    "    def __str__(self):\n",
    "        return f\"Soy una galleta {self.color} y {self.sabor}.\"\n",
    "\n",
    "galleta = Galleta(\"dulce\", \"blanca\")\n",
    "\n",
    "print(galleta)\n",
    "print(str(galleta))\n",
    "print(galleta.__str__())"
   ]
  },
  {
   "cell_type": "markdown",
   "metadata": {},
   "source": [
    "Hay que tener en cuenta que este método debe devolver la cadena en lugar de mostrar algo por pantalla, ese es el funcionamiento que se espera de él."
   ]
  },
  {
   "cell_type": "markdown",
   "metadata": {},
   "source": [
    "- Length `__len__`: otro método especial interesante es el que devuelve la longitud. Normalmente está ligado a colecciones, pero nada impide definirlo en una clase. Y sí, digo definirlo y no redefinirlo porque por defecto no existe en los objetos aunque sea el que se ejecuta al pasarlos a la función len()."
   ]
  },
  {
   "cell_type": "code",
   "execution_count": 19,
   "metadata": {},
   "outputs": [
    {
     "name": "stdout",
     "output_type": "stream",
     "text": [
      "210\n",
      "210\n"
     ]
    }
   ],
   "source": [
    "class Cancion:\n",
    "\n",
    "    def __init__(self, autor, titulo, duracion):  # en segundos\n",
    "        self.duracion = duracion\n",
    "\n",
    "    def __len__(self):\n",
    "        return self.duracion\n",
    "\n",
    "cancion = Cancion(\"Queen\", \"Don't Stop Me Now\", 210)\n",
    "\n",
    "print(len(cancion))\n",
    "print(cancion.__len__())"
   ]
  },
  {
   "cell_type": "markdown",
   "metadata": {},
   "source": [
    "### 1.7.3. Objetos dentro de objetos:\n",
    "\n",
    "Hasta ahora no lo hemos comentado, pero al ser las clases un nuevo tipo de dato resulta más que obvio que se pueden poner en colecciones e incluso utilizarlos dentro de otras clases.\n",
    "\n",
    "Os voy a dejar un pequeño código de ejemplo sobre un catálogo de películas para que lo estudiéis detenidamente:"
   ]
  },
  {
   "cell_type": "code",
   "execution_count": 26,
   "metadata": {},
   "outputs": [],
   "source": [
    "# Se define la clase Película\n",
    "class Pelicula:\n",
    "\n",
    "    # Constructor de clase\n",
    "    def __init__(self, titulo, duracion, lanzamiento):\n",
    "        self.titulo = titulo\n",
    "        self.duracion = duracion\n",
    "        self.lanzamiento = lanzamiento\n",
    "        print(f'Se ha creado la película {self.titulo}')\n",
    "\n",
    "    def __str__(self):\n",
    "        return f'{self.titulo} ({self.lanzamiento})'"
   ]
  },
  {
   "cell_type": "code",
   "execution_count": 27,
   "metadata": {},
   "outputs": [],
   "source": [
    "# Se define la clase Catálogo, hecha de clases Película\n",
    "class Catalogo:\n",
    "\n",
    "    peliculas = []  # Esta lista contendrá objetos de la clase Pelicula\n",
    "\n",
    "    def __init__(self, peliculas=[]):\n",
    "        self.peliculas = peliculas\n",
    "\n",
    "    def agregar(self, p):  # p será un objeto Pelicula\n",
    "        self.peliculas.append(p)\n",
    "\n",
    "    def mostrar(self):\n",
    "        for p in self.peliculas:\n",
    "            print(p)  # Print toma por defecto str(p)"
   ]
  },
  {
   "cell_type": "code",
   "execution_count": 28,
   "metadata": {},
   "outputs": [
    {
     "name": "stdout",
     "output_type": "stream",
     "text": [
      "Se ha creado la película El Padrino\n",
      "El Padrino (1972)\n"
     ]
    }
   ],
   "source": [
    "p1 = Pelicula(\"El Padrino\", 175, 1972)\n",
    "c = Catalogo([p1])  # Añado una lista con una película desde el principio\n",
    "c.mostrar()"
   ]
  },
  {
   "cell_type": "code",
   "execution_count": 29,
   "metadata": {},
   "outputs": [
    {
     "name": "stdout",
     "output_type": "stream",
     "text": [
      "Se ha creado la película El Padrino: Parte 2\n",
      "El Padrino (1972)\n",
      "El Padrino: Parte 2 (1974)\n"
     ]
    }
   ],
   "source": [
    "p2 = Pelicula(\"El Padrino: Parte 2\", 202, 1974)\n",
    "c.agregar(p2)  # Añadimos otra\n",
    "c.mostrar()"
   ]
  },
  {
   "cell_type": "markdown",
   "metadata": {},
   "source": [
    "# 2. Shell con Python y magic functions\n",
    "\n",
    "Desde jupyter también se pueden ejecutar comandos en la shell. La forma de realizar esto depende del sistema operativo:\n",
    "\n",
    "- `!`: Linux y MacOS\n",
    "- `!wsl`: Windows Subsystem for Linux\n",
    "\n",
    "Es importante tener en cuenta que la shell donde se ejecutan estos comandos es descartada automáticamente una vez se muestra la salida. Debido a esto, comandos como `cd` no tienen efecto cuando se ejecutan con el símbolo `!` delante.\n",
    "\n",
    "Para solventar algunos de estos inconvenientes, se puede recurrir a los magic commands:\n",
    "\n",
    "- `%`: magic line\n",
    "- `%%`: magic cell\n",
    "\n",
    "Las magic functions son comandos propios del intérprete de Python (IPython) que permiten controlar el comportamiento del intérprete en sí, además de algunas características de tipo sistema.\n",
    "\n",
    "Dado que no son comandos de Python, si se ejecutan en cualquier otro intérprete que no sea este mostrará *SyntaxError*. Cuando se indica con una exclamación `!` que un comando de shell va a ser introducido, en verdad se está haciendo referencia a la magic cell `%%!`.\n",
    "\n",
    "Con la función `%lsmagic` se pueden listar todas las funciones mágicas disponibles. Con `%magic` se puede obtener información general sobre qué son las funciones mágicas."
   ]
  },
  {
   "cell_type": "code",
   "execution_count": 41,
   "metadata": {},
   "outputs": [
    {
     "name": "stdout",
     "output_type": "stream",
     "text": [
      "/mnt/c/Users/Guillermo/Desktop/Developer/github_repositories/kschool_ds_master\n"
     ]
    }
   ],
   "source": [
    "!wsl pwd"
   ]
  },
  {
   "cell_type": "code",
   "execution_count": 71,
   "metadata": {},
   "outputs": [
    {
     "name": "stdout",
     "output_type": "stream",
     "text": [
      "/mnt/c/Users/Guillermo/Desktop/Developer\n"
     ]
    }
   ],
   "source": [
    "%%bash\n",
    "pwd"
   ]
  },
  {
   "cell_type": "markdown",
   "metadata": {},
   "source": [
    "Se le puede asignar a variables de Python, los outputs de los comandos ejecutados en la shell."
   ]
  },
  {
   "cell_type": "code",
   "execution_count": 2,
   "metadata": {},
   "outputs": [
    {
     "name": "stdout",
     "output_type": "stream",
     "text": [
      "total 180\n",
      "-rwxrwxrwx 1 gmachin gmachin   1180 Oct  5 23:19 README.md\n",
      "-rwxrwxrwx 1 gmachin gmachin 144604 Oct  1 12:19 _01_shell_git.ipynb\n",
      "-rwxrwxrwx 1 gmachin gmachin  31019 Oct  6 11:47 _02_python_algebra_estadistica.ipynb\n",
      "drwxrwxrwx 1 gmachin gmachin   4096 Sep 29 13:43 _data_open_travel_data\n",
      "drwxrwxrwx 1 gmachin gmachin   4096 Sep 29 17:43 _images\n"
     ]
    }
   ],
   "source": [
    "%%bash\n",
    "ls -l"
   ]
  },
  {
   "cell_type": "code",
   "execution_count": 8,
   "metadata": {},
   "outputs": [
    {
     "data": {
      "text/plain": [
       "IPython.utils.text.SList"
      ]
     },
     "execution_count": 8,
     "metadata": {},
     "output_type": "execute_result"
    }
   ],
   "source": [
    "fichero_readme = ! cat README.md\n",
    "type(fichero_readme)"
   ]
  },
  {
   "cell_type": "markdown",
   "metadata": {},
   "source": [
    "Los output en python pueden tener los siguientes atributos especiales que permiten modificar la forma de mostrar información almacenada en la variable:\n",
    "\n",
    "- .l (o .list) : lista\n",
    "- .n (o .nlstr): newline-separated string\n",
    "- .s (o .spstr): space-separated string"
   ]
  },
  {
   "cell_type": "code",
   "execution_count": 4,
   "metadata": {},
   "outputs": [
    {
     "name": "stdout",
     "output_type": "stream",
     "text": [
      "6.45 µs ± 964 ns per loop (mean ± std. dev. of 7 runs, 100000 loops each)\n"
     ]
    }
   ],
   "source": [
    "# Por ejemplo con la función %%timeit puede obtener una estimación del tiempo que tarda en ejecutarse una celda:\n",
    "\n",
    "%%timeit\n",
    "\n",
    "suma = 0\n",
    "for i in range(100):\n",
    "    suma += i\n",
    "    \n",
    "suma"
   ]
  },
  {
   "cell_type": "markdown",
   "metadata": {},
   "source": [
    "# 3. Ficheros con Python"
   ]
  },
  {
   "cell_type": "markdown",
   "metadata": {},
   "source": [
    "En la mayoría de casos cuando se requiere cargar un fichero en Python desde una herramienta externa, se pueden utilizar herramientas de alto nivel como `pd.read_csv()`. Este tipo de herramientas permite pasar de forma sencilla de un fichero plano de texto, a uno con formato etructurado de datos tipo tabla.\n",
    "\n",
    "Sin embargo, es necesario conocer herramientas adcionales como el comando `open(path, [opt])` de Python."
   ]
  },
  {
   "cell_type": "code",
   "execution_count": 11,
   "metadata": {},
   "outputs": [
    {
     "name": "stdout",
     "output_type": "stream",
     "text": [
      "ï»¿\n",
      "The Project Gutenberg EBook of Adventures of Huckleberry Finn, Complete\n",
      "by Mark Twain (Samuel Clemens)\n",
      "\n",
      "This eBook is for the use of anyone anywhere at no cost and with almost\n",
      "no restrictions whatsoever. You may copy it, give it away or re-use\n",
      "it under the terms of the Project Gutenberg License included with this\n",
      "eBook or online at www.gutenberg.net\n",
      "\n",
      "Title: Adventures of Huckleberry Finn, Complete\n"
     ]
    }
   ],
   "source": [
    "## Descargar mediante la shell el contenido de la url dada a un fichero .txt\n",
    "!wsl curl -s http://www.gutenberg.org/files/76/76-0.txt > Adventures.txt\n",
    "!wsl head Adventures.txt"
   ]
  },
  {
   "cell_type": "code",
   "execution_count": 17,
   "metadata": {},
   "outputs": [
    {
     "data": {
      "text/plain": [
       "<_io.TextIOWrapper name='Adventures.txt' mode='r' encoding='cp1252'>"
      ]
     },
     "execution_count": 17,
     "metadata": {},
     "output_type": "execute_result"
    }
   ],
   "source": [
    "## Guardar en una variable el contenido del fichero\n",
    "file = open('Adventures.txt', mode='r')\n",
    "file"
   ]
  },
  {
   "cell_type": "code",
   "execution_count": 18,
   "metadata": {},
   "outputs": [
    {
     "data": {
      "text/plain": [
       "_io.TextIOWrapper"
      ]
     },
     "execution_count": 18,
     "metadata": {},
     "output_type": "execute_result"
    }
   ],
   "source": [
    "type(file)"
   ]
  },
  {
   "cell_type": "markdown",
   "metadata": {},
   "source": [
    "# 4. Ejercicios"
   ]
  },
  {
   "cell_type": "markdown",
   "metadata": {},
   "source": [
    "## 4.1. Funciones y escalares"
   ]
  },
  {
   "cell_type": "code",
   "execution_count": 23,
   "metadata": {},
   "outputs": [
    {
     "name": "stdout",
     "output_type": "stream",
     "text": [
      "Guille will reach 100 years in 2093\n"
     ]
    }
   ],
   "source": [
    "## 1. Escribe una función que indicando el nombre y el año de nacimiento de una persona, indique en qué año cunplirá 100 años. La función debe preever que el año de nacimiento pueda ser numérico o string.\n",
    "\n",
    "def centenario(name, birth):\n",
    "    if isinstance(birth, int):\n",
    "        print(f\"{name} will reach 100 years in {birth+100}\")\n",
    "    else:\n",
    "        print(f\"{name} will reach 100 years in {int(birth)+100}\")\n",
    "        \n",
    "\n",
    "centenario(\"Guille\", \"1993\")"
   ]
  },
  {
   "cell_type": "code",
   "execution_count": 26,
   "metadata": {},
   "outputs": [
    {
     "name": "stdout",
     "output_type": "stream",
     "text": [
      "La longitud es 28\n",
      "El número de palabras es 5\n",
      "El número de lineas es 2\n"
     ]
    }
   ],
   "source": [
    "## 2. Define una función que contabilice la longitud de un texto, el número de palabras, y el número de lineas.\n",
    "\n",
    "def word_count(string1):\n",
    "    longitud = len(string1)\n",
    "    palabras = len(string1.split(\" \"))\n",
    "    lineas = len(string1.split(\"\\n\"))\n",
    "    print(f\"La longitud es {longitud}\")\n",
    "    print(f\"El número de palabras es {palabras}\")\n",
    "    print(f\"El número de lineas es {lineas}\")\n",
    "\n",
    "word_count(\"Vaya vaya,\\n que tenemos aquí\")"
   ]
  },
  {
   "cell_type": "code",
   "execution_count": 28,
   "metadata": {},
   "outputs": [
    {
     "data": {
      "text/plain": [
       "'Pythn'"
      ]
     },
     "execution_count": 28,
     "metadata": {},
     "output_type": "execute_result"
    }
   ],
   "source": [
    "## 3. Escribe una función para eliminar el n-ésimo carácter de un string. Si el string estuviera vacío, indicarlo.\n",
    "\n",
    "def remove_nth(word, n):\n",
    "    if word == \"\":\n",
    "        print(\"El string se encuentra en blanco.\")\n",
    "    else:\n",
    "        first_part = word[:n]\n",
    "        last_part = word[n+1:]\n",
    "    return first_part + last_part\n",
    "\n",
    "remove_nth('Python', 4)"
   ]
  },
  {
   "cell_type": "markdown",
   "metadata": {},
   "source": [
    "## 4.2. Listas"
   ]
  },
  {
   "cell_type": "code",
   "execution_count": 44,
   "metadata": {},
   "outputs": [
    {
     "data": {
      "text/plain": [
       "[1, 4, 9, 16, 25, 36, 49, 64]"
      ]
     },
     "execution_count": 44,
     "metadata": {},
     "output_type": "execute_result"
    }
   ],
   "source": [
    "## 1. Obtener el cuadrado de cada elemento de una lista del 1 al 8, utilizando lambda functiones\n",
    "\n",
    "list(map(lambda num: num**2, range(1, 9)))"
   ]
  },
  {
   "cell_type": "code",
   "execution_count": 47,
   "metadata": {},
   "outputs": [
    {
     "data": {
      "text/plain": [
       "[1, 4, 9, 16, 25, 36, 49, 64]"
      ]
     },
     "execution_count": 47,
     "metadata": {},
     "output_type": "execute_result"
    }
   ],
   "source": [
    "## 2. Obtener el cuadrado de cada elemento de una lista del 1 al 8, utilizando list comprehensions\n",
    "\n",
    "[num**2 for num in range(1, 9)]"
   ]
  },
  {
   "cell_type": "code",
   "execution_count": 37,
   "metadata": {},
   "outputs": [
    {
     "data": {
      "text/plain": [
       "['jUAn', 'jUAnItA', 'jUAnA dE ArcO', 'jUAnjO', 'jOsEjA', 'jOrgEjA']"
      ]
     },
     "execution_count": 37,
     "metadata": {},
     "output_type": "execute_result"
    }
   ],
   "source": [
    "## 3. Para una lista de nombres, devolver un lista nueva con todas las consonantes como minúsculas, y todas las vocales como mayúsculas.\n",
    "\n",
    "names = ['Juan', 'Juanita', 'Juana de Arco', 'Juanjo', 'Joseja', 'Jorgeja']\n",
    "\n",
    "def transform_letter(word):\n",
    "    new_word = \"\"\n",
    "    for letter in word:\n",
    "        if letter in 'aeiouAEIOU':\n",
    "            new_word += letter.upper()\n",
    "        else:\n",
    "            new_word += letter.lower()\n",
    "    return new_word\n",
    "\n",
    "list(map(transform_letter, names))"
   ]
  },
  {
   "cell_type": "code",
   "execution_count": 51,
   "metadata": {},
   "outputs": [
    {
     "data": {
      "text/plain": [
       "'this was easy'"
      ]
     },
     "execution_count": 51,
     "metadata": {},
     "output_type": "execute_result"
    }
   ],
   "source": [
    "## 4. Crear una función que devuelve un string al revés\n",
    "\n",
    "def new_order(word):\n",
    "    return word[::-1]\n",
    "\n",
    "new_order('ysae saw siht')"
   ]
  },
  {
   "cell_type": "code",
   "execution_count": 55,
   "metadata": {},
   "outputs": [
    {
     "data": {
      "text/plain": [
       "18"
      ]
     },
     "execution_count": 55,
     "metadata": {},
     "output_type": "execute_result"
    }
   ],
   "source": [
    "## 5. Escribe una función que dada una lista de palabras, de la longitud de la más larga\n",
    "\n",
    "def max_length(words_list):\n",
    "    return max([len(word) for word in words_list])\n",
    "\n",
    "lista = ['uno', 'dos', 'tres', 'siete', 'muchas letras aquí']\n",
    "\n",
    "max_length(lista)"
   ]
  },
  {
   "cell_type": "code",
   "execution_count": 1,
   "metadata": {},
   "outputs": [],
   "source": [
    "## 6. Dada una lista de int y un target, devolver el índice de aquellos 2 números cuya suma sea igual al target\n",
    "\n",
    "def two_sum(nums, target):\n",
    "    for i, x in enumerate(nums):\n",
    "        for j, y in enumerate(nums):\n",
    "            if i != j and x + y == target:\n",
    "                return [i, j]"
   ]
  },
  {
   "cell_type": "markdown",
   "metadata": {},
   "source": [
    "## 4.3. Diccionarios"
   ]
  },
  {
   "cell_type": "code",
   "execution_count": 9,
   "metadata": {},
   "outputs": [
    {
     "data": {
      "text/plain": [
       "{'min': 1, 'max': 21, 'avg': 7.571428571428571}"
      ]
     },
     "execution_count": 9,
     "metadata": {},
     "output_type": "execute_result"
    }
   ],
   "source": [
    "## 1. Escribe una función que para una lista de número de vuelva el mínimo, el máximo, y la media\n",
    "\n",
    "def stats(list_num):\n",
    "    return {'min': min(list_num), 'max': max(list_num), 'avg': sum(list_num)/len(list_num)}\n",
    "\n",
    "numbers = [1, 2, 3, 5, 8, 13, 21]\n",
    "stats(numbers)"
   ]
  },
  {
   "cell_type": "code",
   "execution_count": 11,
   "metadata": {},
   "outputs": [
    {
     "data": {
      "text/plain": [
       "{'min': 1,\n",
       " 'max': 21,\n",
       " 'avg': 7.571428571428571,\n",
       " 'first': 1,\n",
       " 'last': 21,\n",
       " 'length': 7}"
      ]
     },
     "execution_count": 11,
     "metadata": {},
     "output_type": "execute_result"
    }
   ],
   "source": [
    "## 2. En la función anterior, añadir el primer número, el último, y el número de elemetos de la lista\n",
    "\n",
    "def stats_2(list_num):\n",
    "    return {'min': min(list_num), 'max': max(list_num), 'avg': sum(list_num)/len(list_num), 'first': list_num[0],\n",
    "            'last': list_num[-1], 'length': len(list_num)}\n",
    "\n",
    "numbers = [1, 2, 3, 5, 8, 13, 21]\n",
    "stats_2(numbers)"
   ]
  },
  {
   "cell_type": "code",
   "execution_count": 3,
   "metadata": {},
   "outputs": [
    {
     "data": {
      "text/plain": [
       "'TTACGCT'"
      ]
     },
     "execution_count": 3,
     "metadata": {},
     "output_type": "execute_result"
    }
   ],
   "source": [
    "## 3. Dentro de una cadena de ADN, cambiar cada elemento por su complementario\n",
    "\n",
    "dict_dna = {'A':'T','T':'A','C':'G','G':'C'}  ## Se indica cada complementario en un diccionario\n",
    "\n",
    "def DNA_strand(dna):\n",
    "    return ''.join([dict_dna[letter] for letter in dna])\n",
    "\n",
    "DNA_strand('AATGCGA')"
   ]
  },
  {
   "cell_type": "markdown",
   "metadata": {},
   "source": [
    "## 4.4. Programación Orientada a Objetos - POO"
   ]
  },
  {
   "cell_type": "markdown",
   "metadata": {},
   "source": [
    "**Ejercicio 1:**\n",
    "    \n",
    "- Crea una clase llamada Rectangulo con dos puntos (inicial y final) que formarán la diagonal del rectángulo. Crea para ello también la clase Punto con dos coordenadas x e y.\n",
    "\n",
    "- Añade un método constructor para crear ambos puntos fácilmente, si no se envían se crearán dos puntos en el origen por defecto.\n",
    "\n",
    "- Añade al rectángulo un método llamado base que muestre la base.\n",
    "\n",
    "- Añade al rectángulo un método llamado altura que muestre la altura.\n",
    "\n",
    "- Añade al rectángulo un método llamado area que muestre el area."
   ]
  },
  {
   "cell_type": "code",
   "execution_count": 33,
   "metadata": {},
   "outputs": [],
   "source": [
    "# Clase Punto\n",
    "class Punto:\n",
    "    def __init__(self, x=0, y=0):\n",
    "        self.x = x\n",
    "        self.y = y\n",
    "\n",
    "# Clase Rectangulo\n",
    "class Rectangulo:\n",
    "    def __init__(self, pInicial=Punto(), pFinal=Punto()):\n",
    "        self.pInicial = pInicial\n",
    "        self.pFinal = pFinal\n",
    "        # Hago los cálculos, pero no llamo los atributos igual que los métodos\n",
    "        # porque sino podríamos sobreescribirlos\n",
    "        self.vBase = abs(self.pFinal.x - self.pInicial.x)\n",
    "        self.vAltura = abs(self.pFinal.y - self.pInicial.y)\n",
    "        self.vArea = self.vBase * self.vAltura\n",
    "        \n",
    "    def base(self):\n",
    "        print(f'La base del rectángulo es {self.vBase}')\n",
    "        \n",
    "    def altura(self):\n",
    "        print(f'La altura del rectángulo es {self.vAltura}')\n",
    "        \n",
    "    def area(self):\n",
    "        print(f'El area del rectángulo es {self.vArea}')"
   ]
  },
  {
   "cell_type": "code",
   "execution_count": 34,
   "metadata": {},
   "outputs": [],
   "source": [
    "A = Punto(2,3)\n",
    "B = Punto(5,5)"
   ]
  },
  {
   "cell_type": "code",
   "execution_count": 35,
   "metadata": {},
   "outputs": [
    {
     "name": "stdout",
     "output_type": "stream",
     "text": [
      "La base del rectángulo es 3\n",
      "La altura del rectángulo es 2\n",
      "El area del rectángulo es 6\n"
     ]
    }
   ],
   "source": [
    "R = Rectangulo(A, B)\n",
    "R.base()\n",
    "R.altura()\n",
    "R.area()"
   ]
  },
  {
   "cell_type": "markdown",
   "metadata": {},
   "source": [
    "## 4.5. Shell"
   ]
  },
  {
   "cell_type": "code",
   "execution_count": null,
   "metadata": {},
   "outputs": [],
   "source": [
    "## 1. Contar las palabras en la frase \"this is shell in python\".\n",
    "\n",
    "text = 'this is shell in python'\n",
    "! echo {text} | wc -w"
   ]
  },
  {
   "cell_type": "code",
   "execution_count": null,
   "metadata": {},
   "outputs": [],
   "source": [
    "## 2. Para cada directorio del historial de directorios (_dh, %dhist), obtener el número de archivos.\n",
    "\n",
    "for folder in _dh:\n",
    "    n_files = ! ls $folder | wc -l    ## Las variables en shell se introducen mediante el símobolo $.\n",
    "    print(folder, n_files)"
   ]
  },
  {
   "cell_type": "code",
   "execution_count": null,
   "metadata": {},
   "outputs": [],
   "source": [
    "## 3. Mediante comandos de shell, crea un fichero .py que al ejcutarse imprima \"Hello World!\".\n",
    "\n",
    "! echo 'print(\"Hello World!\")' > hello_world.py"
   ]
  },
  {
   "cell_type": "markdown",
   "metadata": {},
   "source": [
    "# 5. Bibliografía\n",
    "\n",
    "- KSchool Data Science Master Ed. 23.\n",
    "- Python for Data Analysis. ISBN: 978-1-491-95766-0.\n",
    "- Udemy - Curso Maestro de Python 3. Héctor Costa Guzmán.\n",
    "- https://es.wikipedia.org/wiki/Python\n",
    "- https://docs.hektorprofe.net/python/"
   ]
  }
 ],
 "metadata": {
  "kernelspec": {
   "display_name": "Python 3",
   "language": "python",
   "name": "python3"
  },
  "language_info": {
   "codemirror_mode": {
    "name": "ipython",
    "version": 3
   },
   "file_extension": ".py",
   "mimetype": "text/x-python",
   "name": "python",
   "nbconvert_exporter": "python",
   "pygments_lexer": "ipython3",
   "version": "3.8.5"
  }
 },
 "nbformat": 4,
 "nbformat_minor": 4
}
