{
 "cells": [
  {
   "cell_type": "markdown",
   "metadata": {},
   "source": [
    "# 1. Estadística con Python"
   ]
  },
  {
   "cell_type": "markdown",
   "metadata": {},
   "source": [
    "## 1.1. Intro\n",
    "\n",
    "La estadística es una disciplina científica que se ocupa de la obtención, orden y análisis de un conjunto de datos con el fin de obtener explicaciones y predicciones sobre fenómenos observados.\n",
    "\n",
    "La estadística consiste en métodos, procedimientos y fórmulas que permiten recolectar información para luego analizarla y extraer de ella conclusiones relevantes. Se puede decir que es la Ciencia de los Datos y que su principal objetivo es mejorar la comprensión de los hechos a partir de la información disponible.\n",
    "\n",
    "La estadística se divide en dos grandes áreas:\n",
    "\n",
    "- Estadística descriptiva: Se refiere a los métodos de recolección, organización, resumen y presentación de un conjunto de datos. Se trata principalmente de describir las características fundamentales de los datos y para ellos se suelen utilizar indicadores, gráficos y tablas.\n",
    "\n",
    "- Estadística inferencial: Se trata de un paso más allá de la mera descripción. Se refiere a los métodos utilizados para poder hacer predicciones, generalizaciones y obtener conclusiones a partir de los datos analizados teniendo en cuenta el grado de incertidumbre existente.\n",
    "\n",
    "La estadística inferencial se subdivide a su vez en dos grandes tipos: estadística paramétrica y no paramétrica.\n",
    "\n",
    "- Estadística paramétrica: Se caracteriza porque asume que los datos tienen una determinada distribución o se especifican determinados parámetros que deberían cumplirse. Así por ejemplo, en un análisis paramétrico podemos trabajar bajo el supuesto de que la población se distribuye como una Normal (hay que justificar nuestro supuesto) y luego sacar conclusiones bajo el supuesto que esta condición se cumple.\n",
    "\n",
    "- Estadística no paramétrica: En ella no es posible asumir ningún tipo de distribución subyacente en los datos ni tampoco un parámetro específico. Un ejemplo de este tipo de análisis es la prueba binomial."
   ]
  },
  {
   "cell_type": "markdown",
   "metadata": {},
   "source": [
    "## 1.2. Terminología básica\n",
    "\n",
    "Existen algunos términos que se utilizan con mucha frecuencia en el ámbito estadístico, y que es necesario conocer ya que tienen implicaciones diferentes a la hora de realizar un análisis de un tipo u otro.\n",
    "\n",
    "- Población: conjunto de elementos a los que se les estudia una característica.\n",
    "- Individuo: cada uno de los elementos de la población.\n",
    "- Muestra: subconjunto representativo de la población.\n",
    "- Tamaño: número de elementos o de la muestra. Cuando la muestra es del mismo tamaño que la población, se denomina censo.\n",
    "- Variable estadística: característica propia del individuo objeto del estudio estadístico.\n",
    "\n",
    "Tipos de variables estadísticas:\n",
    "\n",
    "- Cualitativas o categóricas: también llamados atributos, son aquellas variables que no podemos representar numéricamente y describen cualidades:\n",
    "    - Dicotómicas $\\rightarrow$ Género: masculino o femenino.\n",
    "    - Nominales $\\rightarrow$ País de origen: España, Colombia, Indonesia...etc.\n",
    "    - Ordinales $\\rightarrow$ Severida de una patología: leve, moderada, severa.\n",
    "    \n",
    "    \n",
    "- Cuantitativas o numéricas: aquellas que toman valores numéricos\n",
    "    - Discretas $\\rightarrow$ Los valores de un dado, están acotados del 1 al 6.\n",
    "    - Continuas $\\rightarrow$ Resultado de mediciones: la estatura o el peso."
   ]
  },
  {
   "cell_type": "markdown",
   "metadata": {},
   "source": [
    "## 1.3. Estadística descriptiva"
   ]
  },
  {
   "cell_type": "markdown",
   "metadata": {},
   "source": [
    "### 1.3.1. Medidas de centralidad\n",
    "\n",
    "Entre las medidas características de una distribución destacan las llamadas medidas de centralización, que nos indicarán el valor promedio de los datos, o en torno a qué valor se distribuyen estos.\n",
    "\n",
    "**Media aritmética:**\n",
    "\n",
    "Supongamos que tenemos una muestra de tamaño $N$, donde la variable estadística $x$ toma los valores: $x_1$, $x_2$, ... $x_n$, la media aritmética $\\bar x$.\n",
    "\n",
    "$$\\bar{x} = \\frac{\\sum_{i=1}^{n}x_i}{n}$$\n",
    "\n",
    "Una propiedad importante de la media aritmética es que la suma de las desviaciones de un conjunto de datos respecto a su media es cero. Es decir, la media equilibra las desviaciones positivas y negativas respecto a su valor.\n",
    "\n",
    "La media representa entonces una especie de centro de gravedad, o centro geométrico, del conjunto de medidas. Una característica importante de la media como medida de tendencia central es que es muy poco robusta, es decir depende mucho de valores particulares de los datos.\n",
    "\n",
    "**Mediana:**\n",
    "\n",
    "Una medida de centralización importante es la mediana $M_e$. Se define ésta como una medida central tal que, con los datos ordenados de menor a mayor, el 50% de los datos son inferiores a su valor y el 50% de los datos tienen valores superiores. Es decir, la mediana divide en dos partes iguales la distribución de frecuencias o, gráficamente, divide el histograma en dos partes de áreas iguales.\n",
    "\n",
    "La fórmula general para calcular la mediana de una muestra de tamaño $N$ dependerá de sí $N$ es par o impar. Si es impar la fórmula es $M_e = N/2$, mientras que si $N$ es par, la mediana se calculará como la media aritmética de los dos valores centrales de la muestra.\n",
    "\n",
    "En comparacióon con la media aritmética la mediana, como medida de centralización, tiene propiedades muy distintas, presentando sus ventajas e inconvenientes. Por un lado, la mayor ventaja de la media es que se utiliza toda la información de la distribución de frecuencias (todos los valores particulares de la variable), en contraste con la mediana, que solo utiliza el orden en que se distribuyen los valores. Podría pues considerarse, desde este punto de vista, que la media aritmética es una medida más fiable del valor central de los datos. Sin embargo, como hemos visto anteriormente, la media es muy poco robusta, en el sentidode que es muy sensible a valores extremos de la variable y, por lo tanto, a posibles errores en las medidas. La mediana, por otro lado, es una medida robusta, siendo muy insensible a valores que se desvíen mucho.\n",
    "\n",
    "En general, lo mejor es considerar media aritmética y mediana como medidas complementarias. Es más, la comparación de sus valores puede suministrar información muy útil sobre la distribución de los datos.\n",
    "\n",
    "**Moda:**\n",
    "\n",
    "Se define la moda $M_o$ de una muestra como aquel valor de la variable que tiene una frecuencia maxima. En otras palabras, es el valor que más se repite. Hay que indicar que puede suceder que la moda no sea única, es decir que aparezcan varios máximos en la distribución de frecuencias. En ese caso diremos que tenemos una distribución bimodal, trimodal, etc. Evidentemente, en el caso de una variable discreta que no toma valores repetidos, la moda no tiene sentido. Cuando sí existen valores repetidos su cálculo es directo ya que puede leerse directamente de la tabla de distribución de frecuencias.\n",
    "\n",
    "**Cuartiles, deciles y percentiles:**\n",
    "\n",
    "Vamos a generalizar ahora el concepto de mediana. Vimos que ésta era el valor de la variable que dividía a la muestra (ordenada) en dos mitades iguales. Definimos ahora los cuartiles como los tres valores que divididen la muestra en cuatro partes iguales.\n",
    "\n",
    "Así el primer cuartil $Q_{1/4}$ será la medida tal que el 25% de los datos sean inferiores a su valor y el 75% de los datos sean superiores. El segundo cuartil $Q_{2/4}$ coincide con la mediana, mientras que el tercer cuartil $Q_{3/4}$ marcará el valor tal que las tres cuartas partes de las observaciones sean inferiores a él y una cuarta parte sea superior.\n",
    "\n",
    "La forma de calcular los cuartiles es igual a la ya vista para la mediana pero sustituyendo $N/2$, por $N/4$ y $3N/4$ para $Q_{1/4}$ y $Q_{3/4}$ respectivamente.\n",
    "\n",
    "De la misma forma podemos definir los deciles como aquellos valores de la variable que dividen la muestra, ordenada, en 10 partes iguales, y los percentiles, también llamados centiles, como aquellos valores que dividen la muestra en 100 partes iguales.\n",
    "\n",
    "La forma de calcular deciles y percentiles es igual a la de la mediana y los cuartiles, sustituyendo $N/2$ por la fracción del número total de datos correspondiente. Evidentemente algunos valores de cuartiles, deciles y centiles coinciden, cumpliéndose por ejemplo:\n",
    "\n",
    "$$ P_{50} = D_5 = Q_{1/2} = M_e $$"
   ]
  },
  {
   "cell_type": "markdown",
   "metadata": {},
   "source": [
    "**Ejercicio:**\n",
    "\n",
    "Vamos a analizar mediante un ejercicio, las medidas de centralidad de un conjunto de datos. Los datos:\n",
    "\n",
    "National Survey of Family Growth, taken from https://github.com/AllenDowney/ThinkStats2. También se encuentra en el directorio *_data* de este repositorio.\n",
    "\n",
    "- `caseid`: is the integer ID of the respondent.\n",
    "- `prglngth` is the integer duration of the pregnancy in weeks.\n",
    "- `outcome` is an integer code for the outcome of the pregnancy. The code 1 indicates a live birth.\n",
    "- `pregordr` is a pregnancy serial number; for example, the code for a respondent’s first pregnancy is 1, for the second pregnancy is 2, and so on.\n",
    "- `birthord` is a serial number for live births; the code for a respondent’s first child is 1, and so on. For outcomes other than live birth, this field is blank.\n",
    "- `birthwgt_lb` and `birthwgt_oz` contain the pounds and ounces parts of the birth weight of the baby.\n",
    "- `agepreg` is the mother’s age at the end of the pregnancy.\n",
    "- `finalwgt` is the statistical weight associated with the respondent. It is a floating-point value that indicates the number of people in the U.S. population this respondent represents.\n",
    "- `poverty`: poverty level income\n",
    "\n",
    "Cargamos los siguientes módulos:"
   ]
  },
  {
   "cell_type": "code",
   "execution_count": 275,
   "metadata": {},
   "outputs": [],
   "source": [
    "import pandas as pd                                           # Módulo de data wrangling\n",
    "import matplotlib.pyplot as plt; plt.style.use('seaborn')     # Módulo de visualización, estilo 'seaborn'\n",
    "import seaborn as sns                                         # Módulo de visualización\n",
    "import numpy as np                                            # Módulo de álgebra\n",
    "import scipy as sp                                            # Módulo de operaciones matemáticas\n",
    "from scipy import stats                                       # Módulo de datos estadísticos\n",
    "import statsmodels.api as sm                                  # Módulo de datos estadísticos"
   ]
  },
  {
   "cell_type": "markdown",
   "metadata": {},
   "source": [
    "Cargar los datos. Como en los ejemplos se va a trabajar con las variables *birthwgt_lb* y *birthwgt_oz* que vienen dadas en libras y en onzas, vamos a crear una variable que contenga esta información en gramos, que permite una lectura de los datos adaptada a las unidades de medida del SI y por lo tanto, más legibles."
   ]
  },
  {
   "cell_type": "code",
   "execution_count": 276,
   "metadata": {},
   "outputs": [
    {
     "data": {
      "image/png": "[encoded data removed]",
      "text/plain": [
       "<Figure size 576x396 with 1 Axes>"
      ]
     },
     "metadata": {},
     "output_type": "display_data"
    }
   ],
   "source": [
    "# Cargamos los datos de la carpeta _data/_national_survey_family_growth\n",
    "df = pd.read_csv('../_data/_national_survey_family_growth/nsfg.csv')\n",
    "\n",
    "# Creamos una variable nueva para tener el peso de nacimiento en gramos.\n",
    "df['birthwgt_g'] = df['birthwgt_lb']*454 + df['birthwgt_oz']*28.35\n",
    "\n",
    "# Graficamos en forma de histograma la nueva variable, e incluimos la media y la mediana\n",
    "plt.hist(df['birthwgt_g'], bins = range(0, 7000, 100));\n",
    "plt.axvline(df['birthwgt_g'].mean(), color = 'orange')\n",
    "plt.axvline(df['birthwgt_g'].median(), color = 'green');"
   ]
  },
  {
   "cell_type": "markdown",
   "metadata": {},
   "source": [
    "### 1.3.2. Medidas de dispersión\n",
    "\n",
    "Las medidas de centralización vistas anteriormente reducen la información recogida de la muestra a un solo valor. Sin embargo, dicho valor central, o medio, será más o menos representativo de los valores de la muestra dependiendo de la dispersión que las medidas individuales tengan respecto a dicho centro. Para analizar la representatividad de las medidas de centralización se definen las llamadas medidas de dispersión.\n",
    "\n",
    "Estas nos indican la variabilidad de los datos en torno a su valor promedio, es decir si se encuentran muy o poco esparcidos en torno a su centro. Se pueden definir entonces, diversas medidas de desviación o dispersión, siendo éstas fundamentales para la descripción estadística de la muestra.\n",
    "\n",
    "**Recorrido:**\n",
    "\n",
    "Una evaluación rápida de la dispersión de los datos se puede realizar calculando el recorrido (también llamado rango), o diferencia entre el valor máximo y mínimo que toma la variable estadística. Con el fin de eliminar la excesiva influencia de los valores extremos en el recorrido, se define el recorrido intercuartílico como la diferencia entre el trecer y primer cuartil.\n",
    "\n",
    "$$ R_I = Q_{3/4} - Q_{1/4} $$\n",
    "\n",
    "**Varianza y desviación típica:**\n",
    "\n",
    "Sin lugar a dudas la medida más usada para estimar la dispersión de los datos es la desviación típica. Esta es especialmente aconsejable cuando se usa la media aritmética como medida de tendencia central. Al igual que la desviación media, está basada en un valor promedio de las desviaciones respecto a la media.\n",
    "\n",
    "En este caso, en vez de tomar valores absolutos de las desviaciones, para evitar así que se compensen desviaciones positivas y negativas, se usan los cuadrados de las desviaciones. Esto hace además que los datos con desviaciones grandes influyan mucho en el resultado final. Se define entonces la varianza de una muestra como:\n",
    "\n",
    "$$s^2 = \\frac{\\sum_{i=1}^{n}(x_i - \\bar{x})^2}{n-1}$$\n",
    "\n",
    "Evidentemente la varianza no tiene las mismas unidades que los datos de la muestra. Para conseguir las mismas unidades se define la desviación típica (algunas veces llamada desviación estándar) como la raíz cuadrada de la varianza:\n",
    "\n",
    "$$s = \\sigma = \\sqrt{s^2}$$\n",
    "\n",
    "En muchas ocasiones se definen varianza y desviación típica utilizando $N$ en vez de $N − 1$ en el denominador, representando entonces la varianza una verdadera media aritmética del cuadrado de las desviaciones. \n",
    "\n",
    "El motivo de haber optado aquí por la definición con $N − 1$ es que ésta da una mejor estimación de la dispersión de los datos.\n",
    "Téngase en cuenta que como la suma de las desviaciones $x_i − \\bar x$ es siempre 0, la desviación del último dato puede calcularse una vez que se conozcan las $N − 1$ anteriores. Es decir, sólo se tienen $N − 1$ desviaciones independientes (se dice que el sistema tiene $N − 1$ grados de libertad) y se promedia entonces dividiendo por $N−1$, ya que no tiene mucho sentido promediar $N$ números no independientes. Está claro que ambas definiciones llevan a valores muy parecidos cuando $N$ es grande.\n",
    "\n",
    "Hay que indicar que la desviación típica no es una medida robusta de la dispersión. El hecho de que se calcule evaluando los cuadrados de las desviaciones hace que sea muy sensible a observaciones extremas, bastante más que la desviación media (dado que aparece un cuadrado). En definitiva, la desviación típica no es una buena medida de dispersión cuando se tiene algún dato muy alejado de la media. El rango intercuartílico nos daría en ese caso una idea más aproximada de cuál es la dispersión de los datos. El que la desviación típica sea la medida de dispersión más común se debe a su íntima conexión con la distribución normal, como se verá en los siguientes apartados."
   ]
  },
  {
   "cell_type": "markdown",
   "metadata": {},
   "source": [
    "**Ejercicio:**\n",
    "\n",
    "Vamos a analizar mediante un ejercicio, las medidas de dispersión del conjunto de datos anterior."
   ]
  },
  {
   "cell_type": "code",
   "execution_count": 97,
   "metadata": {},
   "outputs": [
    {
     "data": {
      "text/plain": [
       "408728.8667588338"
      ]
     },
     "execution_count": 97,
     "metadata": {},
     "output_type": "execute_result"
    }
   ],
   "source": [
    "## Calculamos para cada observación la diferencia entre la media y su valor\n",
    "diffs = (df['birthwgt_g'] - df['birthwgt_g'].mean()).dropna()\n",
    "\n",
    "## Calculamos la varianza (el numerador es un producto escalar)\n",
    "varianza = diffs.dot(diffs) / diffs.size\n",
    "varianza"
   ]
  },
  {
   "cell_type": "code",
   "execution_count": 98,
   "metadata": {},
   "outputs": [
    {
     "data": {
      "text/plain": [
       "639.3190649111239"
      ]
     },
     "execution_count": 98,
     "metadata": {},
     "output_type": "execute_result"
    }
   ],
   "source": [
    "desv_tip = np.sqrt(varianza)\n",
    "desv_tip"
   ]
  },
  {
   "cell_type": "code",
   "execution_count": 99,
   "metadata": {},
   "outputs": [
    {
     "name": "stdout",
     "output_type": "stream",
     "text": [
      "La variable birthwgt_g tiene una media aritmética de 3298.4223722062566 y una desviación típica de 639.3190649111239.\n"
     ]
    }
   ],
   "source": [
    "print(f\"La variable birthwgt_g tiene una media aritmética de {df['birthwgt_g'].mean()} y una desviación típica de {desv_tip}.\")"
   ]
  },
  {
   "cell_type": "markdown",
   "metadata": {},
   "source": [
    "### 1.3.3. Z-valor\n",
    "\n",
    "El z-valor sirve para analizar el número de desviaciones estándar que están comprendidas entre el promedio y un cierto valor de variable x. En otras palabras, se puede decir que es la diferencia entre un valor de la variable y la media aritmética $\\mu$, siendo expresada esta diferencia en cantidad de desviaciones estándar $\\sigma$.\n",
    "\n",
    "$$z_i = \\frac{x_i - \\mu}{\\sigma}$$\n",
    "\n",
    "Si para todos los valores de una variable dada se calcula el z-valor, se obtiene una distribución con la misma forma que la primera, pero centrada en el valor cero.\n",
    "\n",
    "**Ejercicios:**\n",
    "\n",
    "Vamos a analizar mediante un ejercicio, como de alejados están ciertos valores de la media aritmética."
   ]
  },
  {
   "cell_type": "code",
   "execution_count": 100,
   "metadata": {},
   "outputs": [
    {
     "name": "stdout",
     "output_type": "stream",
     "text": [
      "El niño pesa 0.9409141372859572 desviaciones estandar más que el promedio de niños.\n"
     ]
    }
   ],
   "source": [
    "# Analizar en términos de z-valor la diferencia de peso que ha nacido con un peso de 3.900 gramos respecto a la media\n",
    "z_3900 = (3900 - df['birthwgt_g'].mean()) / df['birthwgt_g'].std()\n",
    "print(f\"El niño pesa {z_3900} desviaciones estandar más que el promedio de niños.\")"
   ]
  },
  {
   "cell_type": "code",
   "execution_count": 102,
   "metadata": {},
   "outputs": [
    {
     "data": {
      "image/png": "[encoded data removed]",
      "text/plain": [
       "<Figure size 576x396 with 1 Axes>"
      ]
     },
     "metadata": {},
     "output_type": "display_data"
    }
   ],
   "source": [
    "# Graficar el z-valor de todos los registros de la variable birthwgt_g\n",
    "z_values = (df['birthwgt_g'] - df['birthwgt_g'].mean()) / df['birthwgt_g'].std()\n",
    "plt.hist(z_values, bins = 100);"
   ]
  },
  {
   "cell_type": "markdown",
   "metadata": {},
   "source": [
    "Se observa que el gráfico mantiene la forma (simetría, curtosis), pero las medidas de centralidad se han modificado. Ahora la media tiene el valor 0."
   ]
  },
  {
   "cell_type": "markdown",
   "metadata": {},
   "source": [
    "### 1.3.4. Asimetría y curtosis\n",
    "\n",
    "La descripción estadística de una muestra de datos no concluye con el cálculo de su tendencia central y su dispersión. Para dar una descripción completa es necesario estudiar también el grado de simetríaa de los datos respecto a su medida central y la concentración de los datos alrededor de dicho valor.\n",
    "\n",
    "**Asimetría:**\n",
    "\n",
    "Se dice que una distribución de medidas es simétrica cuando valores de la variable equidistantes, a uno y otro lado, del valor central tienen la misma frecuencia.\n",
    "\n",
    "En caso de una distribución perfectamente simétrica los valores de media aritmética, mediana y moda coinciden.\n",
    "\n",
    "Existen diferentes coeficientes como el de Fisher o de Pearson para cuantificar la asimetría de una variable. La asimetría de una varibale puede diferir ligeramente en función del coeficiente utilizado, pero los resultados se interpretran de la misma forma:\n",
    "\n",
    "- Asimetría positiva: mayor concentración de valores a la derecha de la media\n",
    "- Asimetría negativa: mayor concentración de valores a la izquierda de la media\n",
    "- Asimetría nula: distribución simétrica\n",
    "\n",
    "**Curtosis:**\n",
    "\n",
    "Además de la simetría, otra característica importante de la forma en que se distribuyen los datos de la muestra es cómo es el agrupamiento (vertical) en torno al valor central.\n",
    "\n",
    "Los datos se pueden distribuir de forma que tengamos un gran apuntamiento (o pico en el histograma) alrededor del valor central, en cuyo caso diremos que tenemos una distribución leptocúrtica, o en el extremo contrario, el histograma puede ser muy aplanado, lo que corresponde a una distribución platicúrtica. En el caso intermedio, diremos que la distribución es mesocúrtica y el agrupamiento corresponderá al de una distribución llamada normal, o en forma de campana de Gauss.\n",
    "\n",
    "Esta característica del agrupamiento de los datos se denomina curtosis y para cuantificarla se define el coeficiente de curtosis como el cociente entre el momento de cuarto orden respecto a la media y la cuarta potencia de la desviación típica.\n",
    "\n",
    "Este coeficiente adimensional alcanza valores mayores cuanto más puntiaguda es la distribución, teniendo un valor de 3 para la distribución mesocúrtica (o normal), mayor que 3 para la leptocúrtica y menor para la platicúrtica.\n",
    "\n",
    "**Ejercicio:**\n",
    "\n",
    "Vamos a analizar mediante un ejercicio, los coeficientes de asimetría y curtosis del conjunto de datos anterior."
   ]
  },
  {
   "cell_type": "code",
   "execution_count": 103,
   "metadata": {},
   "outputs": [
    {
     "data": {
      "image/png": "[encoded data removed]",
      "text/plain": [
       "<Figure size 576x396 with 1 Axes>"
      ]
     },
     "metadata": {},
     "output_type": "display_data"
    }
   ],
   "source": [
    "# Graficamos en forma de histograma la nueva variable, e incluimos la media y la mediana\n",
    "plt.hist(df['birthwgt_g'], bins = range(0, 7000, 100));\n",
    "plt.axvline(df['birthwgt_g'].mean(), color = 'orange')\n",
    "plt.axvline(df['birthwgt_g'].median(), color = 'green');"
   ]
  },
  {
   "cell_type": "markdown",
   "metadata": {},
   "source": [
    "Como se puede observar en el histograma anterior, existe un conjunto elevado de valores bajos en la zona de la izquierda, esto provoca que la media que está marcada por los valores más extremos se encuentre a la izquierda de la mediana. Si se calcula la simetría debería salir negativa al tener un mayor número de valores a la izquierda del valor central."
   ]
  },
  {
   "cell_type": "code",
   "execution_count": 104,
   "metadata": {},
   "outputs": [
    {
     "data": {
      "text/plain": [
       "-0.5895805029179113"
      ]
     },
     "execution_count": 104,
     "metadata": {},
     "output_type": "execute_result"
    }
   ],
   "source": [
    "# Calculamos la asimetría\n",
    "df['birthwgt_g'].skew(axis = 0, skipna = True)"
   ]
  },
  {
   "cell_type": "code",
   "execution_count": 105,
   "metadata": {},
   "outputs": [
    {
     "data": {
      "text/plain": [
       "2.5084711282552394"
      ]
     },
     "execution_count": 105,
     "metadata": {},
     "output_type": "execute_result"
    }
   ],
   "source": [
    "# Calculamos la curtosis\n",
    "df['birthwgt_g'].kurtosis(axis = 0, skipna = True)"
   ]
  },
  {
   "cell_type": "markdown",
   "metadata": {},
   "source": [
    "### 1.3.5. Covarianza y correlación\n",
    "\n",
    "Una distribución bidimensional o de dos variables es aquella en la que para cada elemento de la población o muestra se consideran dos caracteres cuantitativos distintos, $X$ e $Y$. Así, a cada individuo le corresponden los valores de dos variables que representamos mediante el par ordenado $(x_i, y_i)$, siendo $x_i$ el valor del primer carácter e $y_i$ el del segundo.\n",
    "\n",
    "Cuando se tiene una distribución binomial, o bien se quiere analizar la relación existente entre dos variables se recurre a dos coeficientes denominados covarianza y correlación.\n",
    "\n",
    "Representar las dos variables de estudio en un gráfico de dispersión o de nube de puntos, puede resultar realmente útil para determinar también si éstas guardan alguna relación de dependencia.\n",
    "\n",
    "**Covarianza:**\n",
    "\n",
    "En probabilidad y estadística, la covarianza es un valor que indica el grado de variación conjunta de dos variables aleatorias respecto a sus medias. Es el dato básico para determinar si existe una dependencia entre ambas variables, y además, es el dato necesario para estimar otros parámetros básicos como el coeficiente de correlación lineal o la recta de regresión.\n",
    "\n",
    "$$cov_{x,y}=\\frac{\\sum(x_{i}-\\bar{x})(y_{i}-\\bar{y})}{n}$$\n",
    "\n",
    "Dado que es un producto vectorial, la covarianza se maximiza cuando los dos vectores que contienen los valores de cada variable tienen una dirección similar, siendo el valor máximo 1, y el mínimo el 0. En caso de que las variables crecieran de forma opuesta, este coeficiente tendría valor -1.\n",
    "\n",
    "La covarianza indica si ambas variables varían en la misma dirección (covarianza positiva) o en dirección opuesta (covarianza negativa). No hay importancia en el valor numérico de la covarianza, solo el signo es útil.\n",
    "\n",
    "**Correlación r de Pearson:**\n",
    "\n",
    "Para saber si dos variables tienen una relación de dependencia, es común analizar la correlación de éstas. La correlación $r$ de Pearson, es una medida de dependencia lineal entre dos variables aleatorias cuantitativas. A diferencia de otras medidas como la covarianza, la correlación de Pearson es independiente de la escala de medida de las variables. El valor de este coeficiente oscila entre el intervalo [-1, 1], siendo los extremos donde se encuentra la correlación máxima. La fórmula es la siguiente:\n",
    "\n",
    "$$r = \\frac{\\sum(x_i-\\bar{x})(y_i-\\bar{y})}{\\sqrt{\\sum(x_i-\\bar{x})^2\\sum(y_i-\\bar{y})^2}}$$\n",
    "\n",
    "Mientras que la covarianza solo indica si dos variables crecen o no en la misma dirección, los coeficientes de correlación también indican la fuerza y proporcionalidad de las dos variables.\n",
    "\n",
    "Es importante matizar que estos coeficientes están ideados para trabajar con relaciones entre variables de tipo lineal, es posible que si las variables siguen otro tipo de relación, ésta no pueda ser identificada de forma precisa a través de la covarianza y la $r$ de Pearson. Una manera fácil y sencilla de analizar este punto es graficar las dos variables.\n",
    "\n",
    "<center><img src=\"../_images\\r_pearson.png\" alt=\"Drawing\" style=\"width: 500px;\"/></center>\n",
    "\n",
    "**Correlación $\\rho$ de Spearman:**\n",
    "\n",
    "La correlación de Spearman evalúa la relación monótona entre dos variables continuas u ordinales. En una relación monótona, las variables tienden a cambiar al mismo tiempo, pero no necesariamente a un ritmo constante o lineal. El coeficiente de correlación de Spearman se basa en los valores jerarquizados de cada variable y no en los datos sin procesar. La fórmula es la siguiente:\n",
    "\n",
    "$$\\rho = 1 - \\frac{6 \\sum (x_i - y_i)^2}{n(n^2-1)} $$\n",
    "\n",
    "La interpretación de coeficiente de Spearman es igual que la del coeficiente de correlación de Pearson. Oscila en el intervalo [-1, 1], indicándonos asociaciones negativas o positivas respectivamente. El cero 0, significa no correlación, pero no independencia.\n",
    "\n",
    "Este coeficiente trabaja mejor que el de Pearson cuando la varianza o desviación típica no es constante en función de la observación, también presenta mayor robustez frente a valores extremos. Un ejemplo sería analizar cuanto tarda un empleado en realizar un informe en función del tiempo que lleva en la empresa, que presumiblemente será más extenso al principio, y se irá reduciendo de forma asintótica hasta un valor determinado."
   ]
  },
  {
   "cell_type": "markdown",
   "metadata": {},
   "source": [
    "**Ejercicio:**\n",
    "\n",
    "*Vamos a crear 3 funciones que definan la relación entre dos conjuntos de variables X e Y. Para cada uno de ellos analizamos sus covarianzas y correlaciones.*\n",
    "\n",
    "- $f_1(x)=y_1=200 + 13x$\n",
    "- $f_2(x)=y_2=200 + 13x + 2x^2$\n",
    "- $f_3(x)=y_3=-1000 + 0.4x + 0.01x^2 + 0.01x^3$\n",
    "\n",
    "*Para que no sean relaciones lineales perfectas vamos a crear una función que introduzca ruido (noise, jitter) en las variables de salida $y$.*"
   ]
  },
  {
   "cell_type": "code",
   "execution_count": 73,
   "metadata": {},
   "outputs": [],
   "source": [
    "# Función de ruido\n",
    "def jitter(series, noise_factor = 0.05):\n",
    "    return series + np.random.randn(series.size) * noise_factor * (series.mean() + series.std())"
   ]
  },
  {
   "cell_type": "code",
   "execution_count": 120,
   "metadata": {},
   "outputs": [
    {
     "data": {
      "image/png": "[encoded data removed]",
      "text/plain": [
       "<Figure size 576x396 with 1 Axes>"
      ]
     },
     "metadata": {},
     "output_type": "display_data"
    }
   ],
   "source": [
    "# Creamos los conjuntos de variables x e y y los graficamos\n",
    "n = 1000\n",
    "x = np.random.uniform(-200, 400, size = n)\n",
    "\n",
    "y1 = 200 + 13*x\n",
    "y2 = 200 + 13*x + 2*x**2\n",
    "y3 = -1000 + 0.4*x + 0.01*x**2 + 0.01*x**3\n",
    "\n",
    "y1j = jitter(y1)\n",
    "y2j = jitter(y2)\n",
    "y3j = jitter(y3)\n",
    " \n",
    "plt.scatter(x, y1j, alpha = 0.6);\n",
    "plt.scatter(x, y2j, alpha = 0.6);\n",
    "plt.scatter(x, y3j, alpha = 0.6);"
   ]
  },
  {
   "cell_type": "code",
   "execution_count": 108,
   "metadata": {},
   "outputs": [
    {
     "data": {
      "text/plain": [
       "378968.9881943617"
      ]
     },
     "execution_count": 108,
     "metadata": {},
     "output_type": "execute_result"
    }
   ],
   "source": [
    "# Analizamos la covarianza entre x e y1 mediante matrices\n",
    "x_diffs = x - x.mean()\n",
    "y_diffs = y1j - y1j.mean()\n",
    "x_diffs.dot(y_diffs) / x_diffs.size"
   ]
  },
  {
   "cell_type": "code",
   "execution_count": 110,
   "metadata": {},
   "outputs": [
    {
     "data": {
      "text/plain": [
       "array([[2.92015531e+04, 3.79348337e+05, 1.20239471e+07, 2.40563835e+07],\n",
       "       [3.79348337e+05, 4.96437021e+06, 1.56007189e+08, 3.12010844e+08],\n",
       "       [1.20239471e+07, 1.56007189e+08, 7.67962198e+09, 1.39586154e+10],\n",
       "       [2.40563835e+07, 3.12010844e+08, 1.39586154e+10, 2.78533822e+10]])"
      ]
     },
     "execution_count": 110,
     "metadata": {},
     "output_type": "execute_result"
    }
   ],
   "source": [
    "# Analizamos la covarianza entre x y todas las y\n",
    "all_vars = np.array([x, y1j, y2j, y3j])\n",
    "all_covs = np.cov(all_vars)\n",
    "all_covs"
   ]
  },
  {
   "cell_type": "code",
   "execution_count": 111,
   "metadata": {},
   "outputs": [
    {
     "data": {
      "text/plain": [
       "array([[1.        , 0.99632982, 0.80292348, 0.84350642],\n",
       "       [0.99632982, 1.        , 0.79899233, 0.83907086],\n",
       "       [0.80292348, 0.79899233, 1.        , 0.95440664],\n",
       "       [0.84350642, 0.83907086, 0.95440664, 1.        ]])"
      ]
     },
     "execution_count": 111,
     "metadata": {},
     "output_type": "execute_result"
    }
   ],
   "source": [
    "# Analizamos la correlaciñon entre x y todas las y\n",
    "np.corrcoef(all_vars)"
   ]
  },
  {
   "cell_type": "code",
   "execution_count": 114,
   "metadata": {},
   "outputs": [
    {
     "data": {
      "image/png": "[encoded data removed]",
      "text/plain": [
       "<Figure size 576x396 with 2 Axes>"
      ]
     },
     "metadata": {},
     "output_type": "display_data"
    }
   ],
   "source": [
    "## Con matrices de correlaciones es necesario utilizar una gama de colores que resalten los valores extremos\n",
    "sns.heatmap(np.corrcoef(all_vars), vmin = -1, vmax = 1, cmap = 'BrBG');"
   ]
  },
  {
   "cell_type": "code",
   "execution_count": 117,
   "metadata": {},
   "outputs": [
    {
     "data": {
      "text/plain": [
       "(SpearmanrResult(correlation=0.9451478251478252, pvalue=0.0),\n",
       " (0.8435064229596291, 1.2202443592636113e-271))"
      ]
     },
     "execution_count": 117,
     "metadata": {},
     "output_type": "execute_result"
    }
   ],
   "source": [
    "# Comparar la correlación de Pearson y la de Spearman pra las variables x e y3j:\n",
    "stats.spearmanr(x, y3j), stats.pearsonr(x, y3j)"
   ]
  },
  {
   "cell_type": "markdown",
   "metadata": {},
   "source": [
    "# 2. Probabilidad con Python"
   ]
  },
  {
   "cell_type": "markdown",
   "metadata": {},
   "source": [
    "## 2.1. Intro\n",
    "\n",
    "El objetivo fundamental de la estadística es inferir las propiedades de una población a partir de la observación de una muestra, o subconjunto, de ésta. La construcción y estudio de los modelos estadísticos están entonces íntimamente ligados al cálculo de probabilidades, cuyas bases se explican a continuación."
   ]
  },
  {
   "cell_type": "markdown",
   "metadata": {},
   "source": [
    "## 2.2. Terminología básica\n",
    "\n",
    "- Espacio muestral ($S$): conjunto de todos los resultados posibles de un experimento aleatorio. No siempre es posible describir el espacio muestral enumerando sus diferentes elementos. A veces se define por medio de una condición, o regla, que han de cumplir sus elementos. \n",
    "\n",
    "> *Lanzar un dado: S = {1, 2, 3, 4, 5, 6 }*\n",
    "\n",
    "- Suceso ($A$): se define un suceso como un subconjunto $A$ del espacio muestral $S$, es decir es un subconjunto de resultados posibles. Los sucesos más simples son los sucesos elementales, que consisten en un único punto del espacio muestral; de forma más exacta se puede definir los sucesos elementales de un experimento aleatorio como aquellos sucesos que verifican que siempre ocurre alguno de ellos, y que son mutuamente excluyentes. Por otra parte, diremos que un suceso es compuesto cuando, al contrario que con los sucesos elementales, puede ser descompuesto en sucesos más simples.\n",
    "\n",
    "> *Suceso elemental: A = {3}*\n",
    "\n",
    "> *Suceso compuesto: A = {3, 4}*\n",
    "\n",
    "- Suceso imposible ($\\varnothing$): subconjunto vacío del espacio muestral\n",
    "\n",
    "- Suceso seguro ($S$): el propio espacio muestral $S$ también puede considerarse como un suceso. Será el suceso seguro, que ocurrirá siempre.\n",
    "\n",
    "Cuando un suceso no coincide ni con el suceso imposible ni con el seguro, diremos que es un suceso probable.\n",
    "\n",
    "Puesto que los sucesos aleatorios se definen como conjuntos, podemos definir entre ellos las mismas operaciones que se realizan sobre los conjuntos abstractos. Se definen así:\n",
    "\n",
    "- Unión: la unión de dos sucesos $A$ y $B$ como el suceso, representado por $A \\cup B$, que ocurrirá siempre que ocurra el suceso $A$ o el suceso $B$.\n",
    "\n",
    "- Intersección: la unión de dos sucesos $A$ y $B$ como el suceso, representado por $A \\cap B$, que ocurrirá siempre que ocurran simultáneamente los sucesos $A$ y $B$.\n",
    "\n",
    "- Suceso complementario: llamaremos suceso complementario de $A$ al suceso $A'$ que ocurrirá siempre que no ocurra $A$. Este axioma cumple las siguientes propiedades:\n",
    "\n",
    "$$A \\cup A' = S \\hspace{1cm} A \\cap A' = \\varnothing \\hspace{1cm} S' = \\varnothing \\hspace{1cm} \\varnothing' = S$$\n",
    "\n",
    "- Suceso incompatible: diremos que dos sucesos $A$ y $B$ son incompatibles, o mutuamente excluyentes, si nunca pueden ocurrir a la vez. Es decir cuando $A \\cap B = \\emptyset$.\n",
    "\n",
    "<center><img src=\"../_images\\probability_venn_diagrams.png\" alt=\"Drawing\" style=\"width: 500px;\"/></center>"
   ]
  },
  {
   "cell_type": "markdown",
   "metadata": {},
   "source": [
    "## 2.3. Definición y propiedades de la probabilidad"
   ]
  },
  {
   "cell_type": "markdown",
   "metadata": {},
   "source": [
    "### 2.3.1. Concepto clásico de probabilidad\n",
    "\n",
    "El cálculo de la probabilidad se puede simplificar mucho en el caso en que todos los sucesos elementales sean equiprobables (es decir, sus frecuencias sean iguales cuando el experimento se repite un gran número de veces). En este caso, la probabilidad de un suceso se puede establecer a partir de la definición, introducida por Laplace, según la cual $P(A)$ es el cociente entre el número a de casos favorables $a$ al suceso $A$ (o número de sucesos elementales en que se da $A$) y el número $N$ de casos posibles (o número de sucesos elementales del espacio muestral).\n",
    "\n",
    "$$P(A) = \\frac{a}{N} = \\frac{\\text{casos favorables}}{\\text{casos posibles}}$$"
   ]
  },
  {
   "cell_type": "markdown",
   "metadata": {},
   "source": [
    "### 2.3.2. Definición axiomática de probabilidad\n",
    "\n",
    "La definición anterior presenta serias dificultades: o bien se necesita repetir el experimento un número muy grande de veces, o se ha de estar seguro que todos los sucesos elementales son equiprobables (lo cual no siempre es obvio). Por estos motivos se utiliza la siguiente definición, más correcta, de probabilidad:\n",
    "\n",
    "Dado un experimento aleatorio con un espacio muestral $S$, y representando con $A$ un suceso o subconjunto cualquiera del espacio muestral, se define la probabilidad $P(A)$ como una función real que hace corresponder a cada $A$ un número real de forma que se cumplen los tres axiomas siguientes:\n",
    "\n",
    "- Para cada suceso de $A$: $P(A) \\geq 0$\n",
    "\n",
    "- Para el suceso seguro: $P(S) = 1$\n",
    "\n",
    "- Para dos sucesos $A$ y $B$ incompatibles $A \\cap B = \\varnothing$: $P(A \\cup B) = P(A) + P(B)$\n",
    "\n",
    "Estos axiomas constituyen la base sobre la que se puede construir toda la teoría del cálculo de probabilidades. Nótese que las propiedades anteriores son coherentes con la definición de la probabilidad basada en las frecuencias relativas de un gran número de experimentos."
   ]
  },
  {
   "cell_type": "markdown",
   "metadata": {},
   "source": [
    "### 2.3.3. Propiedades de la probabilidad\n",
    "\n",
    "A partir de los axiomas anteriores se pueden deducir algunas propiedades importantes de la probabilidad. Estas propiedades van a ser útiles para calcular la probabilidad de sucesos a partir de las probabilidades conocidas de otros sucesos más sencillos, simplificando así el cálculo. Hay que indicar además que estas propiedades son consistentes con las propiedades de las frecuencias relativas.\n",
    "\n",
    "**Suceso complementario:**\n",
    "\n",
    "Si $A'$ es el suceso complementario de $A$, entonces:\n",
    "\n",
    "$$P(A')=1-P(A)$$\n",
    "\n",
    "**Suceso imposible:**\n",
    "\n",
    "La probabilidad del suceso imposible es cero, siendo:\n",
    "\n",
    "$$P(\\varnothing)=1-P(S)=1-1=0$$\n",
    "\n",
    "**Probabilidad de un suceso:**\n",
    "\n",
    "A partir del primer axioma y de la probabilidad del suceso imposible:\n",
    "\n",
    "$$0 \\leq P(A) \\leq 1 $$\n",
    "\n",
    "**Probabilidad de un suceso contenido en otro:**\n",
    "\n",
    "Si un suceso $A$ está contenido en otro $B$, se cumple (por definición de un suceso contenido en otro):\n",
    "\n",
    "$$A \\subset B \\longrightarrow P(A) \\leq P(B)$$\n",
    "\n",
    "**Probabilidad de la unión de dos sucesos:**\n",
    "\n",
    "Si $A$ y $B$ son dos sucesos cualesquiera, siempre se cumple:\n",
    "\n",
    "$$P(A \\cup B) = P(A) + P(B) - P(A \\cap B)$$\n",
    "\n",
    "En el caso particular de que los sucesos fuesen incompatibles ($A \\cap B = \\varnothing$) esta propiedad se reduciría al tercer axioma de la probabilidad.\n",
    "\n",
    "<center><img src=\"../_images\\probability_venn_diagrams_2.png\" alt=\"Drawing\" style=\"width: 250px;\"/></center>"
   ]
  },
  {
   "cell_type": "markdown",
   "metadata": {},
   "source": [
    "## 2.4. Probabilidad condicionada"
   ]
  },
  {
   "cell_type": "markdown",
   "metadata": {},
   "source": [
    "### 2.4.1. Definición de probabilidad condicionada\n",
    "\n",
    "En muchos casos interesa conocer la probabilidad de un suceso $A$ en el caso de que se haya cumplido otro suceso $B$. A esta probabilidad de que se cumpla $A$ bajo la condición de que se cumpla $B$, se le llama probabilidad de $A$ condicionada a $B$, y se denota por $P(A|B)$. La definición matemática de la probabilidad condicionada es:\n",
    "\n",
    "$$P(A|B) = \\frac{P(A \\cap B)}{P(B)}$$\n",
    "\n",
    "Como es lógico, esta definición sólo tiene sentido si $P(B) > 0$. Al calcular la probabilidad condicionada hemos sustituido el espacio muestral $S$ por el suceso $B$, de forma que, haciendo corresponder probabilidades a áreas en el espacio muestral, $P(A|B)$ será la fracción del nuevo espacio muestral $B$ en que ocurre $A$.\n",
    "\n",
    "**Ejercicio:**\n",
    "\n",
    "*En el caso del lanzamiento de un dado, ¿cuál es la probabilidad de que ocurra A una vez se haya cumplido B?*\n",
    "\n",
    "- *Suceso A, obtener un número par {2, 4, 6}:* $P(A) = 1/2$\n",
    "- *Suceso B, obtener un número mayor que tres {4, 5, 6}:* $P(B) = 1/2$\n",
    "\n",
    "$$P(A|B) = \\frac{P(A \\cap B)}{P(B)} = \\frac{2/6}{1/2} = \\frac{2}{3}$$\n",
    "\n",
    "*Que coincide con el cociente entre casos favorables 2 ({4, 6}) y casos posibles 3 ({4, 5, 6}).*"
   ]
  },
  {
   "cell_type": "markdown",
   "metadata": {},
   "source": [
    "### 2.4.2. Sucesos dependientes e independientes\n",
    "\n",
    "La definición de la probabilidad condicionada permite calcular la probabilidad de la intersección de dos sucesos dependientes, es decir, la probabilidad de que se den ambos sucesos $A$ y $B$ a la vez.\n",
    "\n",
    "$$P(A \\cap B) = P(A|B)P(B)$$\n",
    "$$P(A \\cap B) = P(B|A)P(A)$$\n",
    "\n",
    "De esta forma, la probabilidad de que tanto $A$ como $B$ ocurran es igual a la probabilidad de que $A$ ocurra dado que $B$ haya ocurrido multiplicado por la probabilidad de que $B$ ocurra. Esto se puede generalizar a la intersección de más sucesos.\n",
    "\n",
    "Un caso importante es cuando se cumple:\n",
    "\n",
    "$$P(A|B) = P(A)$$\n",
    "\n",
    "En este caso, la probabilidad de que $A$ ocurra no esá afectada por la ocurrencia o no ocurrencia de $B$ y se dice que los dos sucesos son independientes:\n",
    "\n",
    "$$P(A \\cap B) = P(A)P(B)$$\n",
    "\n",
    "Es decir, la probabilidad de la intersección de dos sucesos independientes (en otras palabras, la probabilidad de que se den ambos sucesos) es el producto de sus probabilidades."
   ]
  },
  {
   "cell_type": "markdown",
   "metadata": {},
   "source": [
    "**Ejercicio:**\n",
    "\n",
    "*Tenemos en una urna 4 bolas blancas y 6 bolas negras. Si extraemos 2 bolas sucesivamente, calcular la probabilidad de que las 2 sean blancas. Consideremos dos casos:*\n",
    "\n",
    "*a) Se reemplaza la 1a despues de sacarla, entonces los dos sucesos son independientes: la naturaleza de la 2a bola no está condicionada por la naturaleza de la 1a.\n",
    "A: bola blanca en la primera extracción\n",
    "B: idem en la segunda*\n",
    "\n",
    "$$P(A \\cap B) = P(A)P(B) = \\frac{4}{10}·\\frac{4}{10} = \\frac{16}{100} = 0.16 $$\n",
    "\n",
    "*b) No se reemplaza la 1a despues de sacarla, entonces los dos sucesos ya no son independientes y el color de la 2a bola sí está condicionada por el color de la 1a.*\n",
    "\n",
    "$$P(A \\cap B) = P(A)P(B|A) = \\frac{4}{10}·\\frac{3}{9} = \\frac{12}{90} = 0.13 $$"
   ]
  },
  {
   "cell_type": "code",
   "execution_count": 19,
   "metadata": {},
   "outputs": [
    {
     "data": {
      "text/plain": [
       "(0.4999958, 0.5001431, 0.2501425)"
      ]
     },
     "execution_count": 19,
     "metadata": {},
     "output_type": "execute_result"
    }
   ],
   "source": [
    "# Ejercicio: Tirar dos monedas (sucesos independientes) al aire y analizar la probabilidad de que salga cara en ambas (intersección).\n",
    "\n",
    "n = 10000000\n",
    "p = 0.5\n",
    "\n",
    "coin_1 = np.random.uniform(size = n) > p\n",
    "coin_2 = np.random.uniform(size = n) > p\n",
    "\n",
    "coin_1.mean(), coin_2.mean(), (coin_1 & coin_2).mean()"
   ]
  },
  {
   "cell_type": "markdown",
   "metadata": {},
   "source": [
    "Al realizar el ejercicio mediante generación de número aleatorios los resultados no son exactos, aunque si aumentarmos el número de experimentos hasta el infinito los resultados tenderían a los valores de cálculo mediante fórmulas: (0.5, 0.5, 0.25)."
   ]
  },
  {
   "cell_type": "code",
   "execution_count": 20,
   "metadata": {},
   "outputs": [
    {
     "data": {
      "text/plain": [
       "(0.4999656, 0.5002277, 0.7503014)"
      ]
     },
     "execution_count": 20,
     "metadata": {},
     "output_type": "execute_result"
    }
   ],
   "source": [
    "# Ejercicio: Tirar dos monedas (sucesos independientes) al aire y analizar la probabilidad de que salga cara en una de las dos (unión).\n",
    "\n",
    "n = 10000000\n",
    "p = 0.5\n",
    "\n",
    "coin_1 = np.random.uniform(size = n) > p\n",
    "coin_2 = np.random.uniform(size = n) > p\n",
    "\n",
    "coin_1.mean(), coin_2.mean(), (coin_1 | coin_2).mean()"
   ]
  },
  {
   "cell_type": "markdown",
   "metadata": {},
   "source": [
    "### 2.4.3. Teorema de la probabilidad total\n",
    "\n",
    "Sea un conjunto de sucesos {$A_i, i$ = $1$,$\\ldots$, $n$} tales la unión de todos ellos es el suceso seguro y además son\n",
    "incompatibles entre sí. Este conjunto de sucesos recibe el nombre de conjunto completo de sucesos y se dice que constituye una partición del espacio muestral.\n",
    "\n",
    "Entonces, el teorema de la probabilidad total establece que la probabilidad de cualquier suceso $B$ se puede calcular como:\n",
    "\n",
    "$$P(B) = \\sum_{i=1}^n P(A_i)P(B|A_i)$$\n",
    "\n",
    "es decir, la probabilidad de que ocurra $B$ es la suma de las probabilidades de los sucesos $A_i$ por las probabilidades de $B$ condicionadas a cada $A_i$.\n",
    "\n",
    "**Ejercicio:**\n",
    "\n",
    "*Supongamos que en unas elecciones las probabilidades de que ganen tres partidos A1, A2 y A3 son 0.5, 0.3 y 0.2 respectivamente. Si ganara A1, la probabilidad de que suban los impuestos es 0.8, mientras que en los casos en que salgan elegidos A2 y A3 son 0.2 y 0.5 respectivamente. ¿Cual es la probabilidad de que suban los impuestos?.*\n",
    "\n",
    "$$P(B) = P(A_1)P(B|A_1) + P(A_2)P(B|A_2) +  P(A_3)P(B|A_3)$$\n",
    "\n",
    "$$P(B) = 0.5·0.8 + 0.3·0.2 + 0.2·0.5 = 0.56$$"
   ]
  },
  {
   "cell_type": "markdown",
   "metadata": {},
   "source": [
    "### 2.3.5. Teorema de Bayes\n",
    "\n",
    "Supongamos que tenemos un conjunto completo de sucesos {$A_i, i$ = $1$,$\\ldots$, $n$} y un suceso $B$ cualquiera del\n",
    "espacio muestral. A veces es necesario conocer la probabilidad de uno de los sucesos $A_j$ condicionada a que haya ocurrido $B$. Esto se puede hacer por el teorema de Bayes, que establece:\n",
    "\n",
    "$$P(A_j|B) = \\frac{P(B|A_j)P(A_j)}{P(B)}$$\n",
    "\n",
    "El teorema es útil cuando, conociéndose que se cumple un cierto suceso $B$, queremos conocer la probabilidad de que la causa que lo haya producido sea el suceso $A_j$.\n",
    "\n",
    "**Ejercicio (continuación):**\n",
    "\n",
    "*Continuando el ejemplo anterior, si se sabe que han subido los impuestos ¿cual es la probabilidad de que haya ganado el partido A1?*\n",
    "\n",
    "$$P(A_1|B) = \\frac{P(B|A_1)P(A_1)}{P(B)} = \\frac{0.8·0.5}{0.56} = 0.71$$"
   ]
  },
  {
   "cell_type": "markdown",
   "metadata": {},
   "source": [
    "## 2.5. Variables aleatorias\n",
    "\n",
    "Con el fin de estudiar estadísticamente un cierto experimento aleatorio es imprescindible realizar una descripción numérica de los resultados de dicho experimento. Para ello se define una variable, llamada aleatoria, asignando a cada resultado del experimento aleatorio un cierto valor numérico. En este capítulo veremos cómo para describir el experimento aleatorio será necesario especificar qué valores puede tomar la variable aleatoria en cuestión, junto con las probabilidades de cada uno de ellos."
   ]
  },
  {
   "cell_type": "markdown",
   "metadata": {},
   "source": [
    "### 2.5.1. Concepto de variable aleatoria\n",
    "\n",
    "Dado un experimento aleatorio, definimos una variable aleatoria como una función definida sobre el espacio muestral que asigna un número real a cada uno de los puntos, o resultados posibles, de dicho espacio muestral.\n",
    "\n",
    "Por ejemplo, en el experimento del lanzamiento de dos dados, se puede definir la variable aleatoria que asigna a cada resultado del experimento un número dado por la suma de los dos dados. En este caso, la variable aleatoria puede tomar los\n",
    "valores X = {2, 3, ... , 11, 12}.\n",
    "\n",
    "Una variable aleatoria que toma un número finito o infinito, pero numerable, de valores, se denomina variable aleatoria discreta. Un ejemplo es la suma de las puntuaciones de los dados del experimento visto anteriormente. Por el contrario, cuando la variable puede tomar un número infinito no numerable de valores (o todos los valores posibles de un intervalo) se la denomina variable aleatoria continua.\n",
    "\n",
    "- Variable aleatoria discreta: la suma del lanzamiento de dos dados.\n",
    "- Variable aleatoria continua: el peso de todos los niños de un colegio."
   ]
  },
  {
   "cell_type": "markdown",
   "metadata": {},
   "source": [
    "### 2.5.2. Variable aleatoria discreta\n",
    "\n",
    "Sea una variable aleatoria discreta $X$ supongamos que puede tomar los valores $x_1$, $x_2$, $x_3$,... . Como\n",
    "ya se ha indicado, para describir completamente la variable aleatoria hay que indicar las probabilidades de que tome cada uno de sus valores posibles. De esta forma a cada valor de la variable aleatoria se le asigna como probabilidad la probabilidad de que ocurra el subconjunto del espacio muestral asociado con ese valor particular. Para esto se define una función $f(x)$ que indica la probabilidad de cada valor $x$ de la variable aleatoria. Esta es la función de probabilidad, también llamada distribución de probabilidad, de la variable aleatoria discreta $X$.\n",
    "\n",
    "$$f(x) \\equiv P(X = x) $$\n",
    "\n",
    "Otra forma de caracterizar la distribución de una variable aleatoria es mediante la función de distribución $F(x)$, o función de probabilidad acumulativa, definida para cada $x$ como la probabilidad de que la variable aleatoria $X$ tome un valor menor o igual que $x$. Es decir:\n",
    "\n",
    "$$F(x) = P(X \\leq x)$$\n",
    "\n",
    "<center><img src=\"../_images\\pdf_cdf.png\" alt=\"Drawing\" style=\"width: 500px;\"/><center>\n",
    "\n",
    "Es fácil ver que, por su definición, $F(x)$ es una función no decreciente y toma los valores en el rango [0, 1]."
   ]
  },
  {
   "cell_type": "code",
   "execution_count": 279,
   "metadata": {},
   "outputs": [
    {
     "data": {
      "image/png": "[encoded data removed]",
      "text/plain": [
       "<Figure size 576x396 with 1 Axes>"
      ]
     },
     "metadata": {},
     "output_type": "display_data"
    }
   ],
   "source": [
    "# El número de mujeres que tienen un hijo, dos hijos...etc es una variable discreta\n",
    "x, y = np.unique(df['pregordr'], return_counts = True)\n",
    "plt.bar(x, y);"
   ]
  },
  {
   "cell_type": "markdown",
   "metadata": {},
   "source": [
    "### 2.5.2. Variable aleatoria continua\n",
    "\n",
    "Veamos ahora el caso de las variables aleatorias continuas, es decir, aquellas que pueden tomar cualquier\n",
    "valor en un intervalo $(a, b)$, o incluso $(−\\infty,+\\infty)$. En este caso, la probabilidad de que la variable $X$ tome\n",
    "un valor determinado dentro de ese intervalo es cero, ya que existen infinitos valores posibles en cualquier intervalo, por pequeño que sea, alrededor del valor en cuestión.\n",
    "\n",
    "Por ejemplo, la probabilidad de que la altura de una persona sea exactamente 1.75 cm, con infinitos ceros en las cifras decimales, es cero. Por tanto no se puede definir una función de probabilidad igual que se hacía para las variables discretas, dando la probabilidad de cada valor de la variable. Lo que se si puede especificar es la probabilidad de que la\n",
    "variable esté en un cierto intervalo. Para ello se define una función $f(x)$ llamada función de densidad, o distribución de probabilidad, de la variable aleatoria continua $X$ de forma que, para todo $x$, cumpla:\n",
    "\n",
    "$$\\int_{-\\infty}^{\\infty} f(x) dx = 1   \\longrightarrow   f(x) \\geq 0$$\n",
    "\n",
    "De forma que la probabilidad de que $X$ se encuentre entre dos valores $x_1$ y $x_2$ se puede calcular como:\n",
    "\n",
    "$$P(x_1 < X < x_2) = \\int_{x_1}^{x_2} f(x) dx $$\n",
    "\n",
    "Puede observarse que, la representación gráfica de la función de densidad será la de una curva, normalmente continua, que toma siempre valores positivos o nulos, y con área, comprendida entre la curva y el eje x, unidad. De igual forma, la probabilidad de que la variable tome un valor entre $x_1$ y $x_2$ será el área bajo la función de densidad entre las abscisas $x_1$ y $x_2$. Esta asociación de probabilidad a área es sumamente útil para el estudio de la distribuciones continuas de probabilidad.\n",
    "\n",
    "Al igual que para el caso discreto, se puede definir la función de distribución $F(x)$ en cada punto $x$ de una variable aleatoria continua como la probabilidad de que la variable $X$ tome un valor inferior a $x$.\n",
    "\n",
    "$$F(x) = P(X < x)$$\n",
    "\n",
    "\n",
    "<center><img src=\"../_images\\pdf_cdf_continous.png\" alt=\"Drawing\" style=\"width: 400px;\"/></center>"
   ]
  },
  {
   "cell_type": "code",
   "execution_count": 141,
   "metadata": {},
   "outputs": [
    {
     "data": {
      "image/png": "[encoded data removed]",
      "text/plain": [
       "<Figure size 576x396 with 1 Axes>"
      ]
     },
     "metadata": {},
     "output_type": "display_data"
    }
   ],
   "source": [
    "# El peso al nacer es una variable aleatoria continua\n",
    "peso_g = np.array(df['birthwgt_g'].dropna())\n",
    "plt.hist(peso_g, bins = range(0, 7000, 100));"
   ]
  },
  {
   "cell_type": "markdown",
   "metadata": {},
   "source": [
    "## 2.6. Distribuciones discretas de probabilidad"
   ]
  },
  {
   "cell_type": "markdown",
   "metadata": {},
   "source": [
    "### 2.6.1. Distribución discreta uniforme\n",
    "\n",
    "La distribución uniforme es la más simple de todas las distribuciones discretas de probabilidad. Diremos que tenemos una distribución discreta uniforme cuando todos los posibles valores de la variable aleatoria sean igualmente probables. En este caso, si la variable aleatoria $X$ puede tomar los valores $x_1$, $x_2$, ... , $x_n$ con probabilidades iguales, la función de probabilidad vendrá dada por\n",
    "\n",
    "$$f(x,n) = \\frac{1}{n} \\hspace{0.3cm} \\text{;} \\hspace{0.3cm} x = x_1, x_2, \\ldots, x_n$$\n",
    "\n",
    "Las expresiones para la media, varianza y desviación típica de esta distribución son:\n",
    "\n",
    "$$\\mu = \\frac{\\sum_{i=1}^n x_i}{n}$$\n",
    "\n",
    "$$\\sigma^2 = \\frac{\\sum_{i=1}^n (x_i-\\mu)^2}{n}$$\n",
    "\n",
    "$$\\sigma = \\sqrt{\\sigma^2}$$"
   ]
  },
  {
   "cell_type": "code",
   "execution_count": 305,
   "metadata": {},
   "outputs": [
    {
     "data": {
      "image/png": "[encoded data removed]",
      "text/plain": [
       "<Figure size 576x396 with 1 Axes>"
      ]
     },
     "metadata": {},
     "output_type": "display_data"
    }
   ],
   "source": [
    "# El resultado de tirar un dado 100.000 veces es una distribución uniforme\n",
    "n = 10000\n",
    "x, y = np.unique(np.random.randint(1, 7, size = n), return_counts = True)\n",
    "plt.bar(x, y);"
   ]
  },
  {
   "cell_type": "markdown",
   "metadata": {},
   "source": [
    "*Se observa que para cada valor del dado, se obtiene prácticamente el mismo número de resultados.*"
   ]
  },
  {
   "cell_type": "markdown",
   "metadata": {},
   "source": [
    "### 2.6.2. Distribución binomial\n",
    "\n",
    "Supongamos un experimento aleatorio consistente en realizar un número de ensayos o pruebas repetidas, cada una de ellas con únicamente dos posibles resultados mutuamente excluyentes, que denominaremos éxito o fracaso. Supongamos que la probabilidad de obtener un éxito en un ensayo es siempre constante y que los diferentes ensayos son independientes, en el sentido de que el resultado de un ensayo no afecta a los otros. En este caso diremos que tenemos un proceso de Bernoulli. En concreto, el proceso de Bernoulli debe tener las siguientes propiedades:\n",
    "\n",
    "- El experimento consiste en $n$ ensayos repetidos.\n",
    "- El resultado de cada uno de los ensayos puede clasificarse en éxito o fracaso (excluyentes).\n",
    "- La probabilidad de éxito, que denotaremos por $p$, es constante en todos los ensayos.\n",
    "- Los diferentes ensayos son independientes.\n",
    "\n",
    "Se define la variable aleatoria binomial como la función que da el número de éxitos en un proceso de Bernoulli. Evidentemente, la variable binomial $X$ podrá tener valores en el rango X = {0, 1, 2, . . . , n}, donde\n",
    "$n$ es el número de veces que se repite el ensayo. La distribución de probabilidad asociada con esta variable aleatoria se denomina distribución binomial y vendrá representada por:\n",
    "\n",
    "$$f(x) = P(X = x) = b(x;n,p) = \\binom{n}{x}p^x q^{n-x}$$\n",
    "\n",
    "ya que depende del número de ensayos $n$ y la probabilidad de éxito $p$ en un solo ensayo. La variable $q$ se corrsponde con la probabilidad de fracaso $q = 1 - p$.\n",
    "\n",
    "Las expresiones para la media, varianza y desviación típica de esta distribución son:\n",
    "\n",
    "$$\\mu = np$$\n",
    "\n",
    "$$\\sigma^2 = npq$$\n",
    "\n",
    "$$\\sigma = \\sqrt{npq}$$"
   ]
  },
  {
   "cell_type": "code",
   "execution_count": 311,
   "metadata": {},
   "outputs": [
    {
     "data": {
      "image/png": "[encoded data removed]",
      "text/plain": [
       "<Figure size 576x396 with 1 Axes>"
      ]
     },
     "metadata": {},
     "output_type": "display_data"
    }
   ],
   "source": [
    "# Tirar una moneda al aire es un proceso de Bernouilli:\n",
    "\n",
    "n = 100           # número de tiros por experimento\n",
    "p = 0.5           # probabilidad de cara o cruz\n",
    "size = 100000     # número de repeticiones del experimento \n",
    "\n",
    "tries = np.random.binomial(n, p, size)\n",
    "plt.hist(tries, bins = range(tries.min(), tries.max()));"
   ]
  },
  {
   "cell_type": "markdown",
   "metadata": {},
   "source": [
    "Mediante el módulo `stats` de `SciPy` se puede generar una distribución binomial mediante el método `stats.binom(n, p)`. Una vez se tiene este objeto se pueden generar números aleatorios que sigan la distribución, y acceder a valores dado por la función de probabilidad y de distribución."
   ]
  },
  {
   "cell_type": "code",
   "execution_count": 192,
   "metadata": {},
   "outputs": [],
   "source": [
    "# Crear una distribución que modelice 8 tiros de una moneda, con una probabilidad de cara y cruz del 0.5 c/u\n",
    "n = 8\n",
    "p = 0.5\n",
    "binomial_dist = stats.binom(n, p)"
   ]
  },
  {
   "cell_type": "code",
   "execution_count": 191,
   "metadata": {},
   "outputs": [
    {
     "data": {
      "text/plain": [
       "array([2, 6, 3, 4, 3, 6, 4, 4, 2, 5, 3, 2, 4, 5, 4, 4, 4, 5, 1, 3])"
      ]
     },
     "execution_count": 191,
     "metadata": {},
     "output_type": "execute_result"
    }
   ],
   "source": [
    "# Generar 20 valores aleatorios que sigan la distribución anterior\n",
    "binomial_dist.rvs(20)"
   ]
  },
  {
   "cell_type": "code",
   "execution_count": 206,
   "metadata": {},
   "outputs": [
    {
     "data": {
      "text/plain": [
       "0.27343750000000017"
      ]
     },
     "execution_count": 206,
     "metadata": {},
     "output_type": "execute_result"
    }
   ],
   "source": [
    "# Calcular la probabilidad de que salgan 4 caras \n",
    "binomial_dist.pmf(4)"
   ]
  },
  {
   "cell_type": "code",
   "execution_count": 208,
   "metadata": {},
   "outputs": [
    {
     "data": {
      "image/png": "[encoded data removed]",
      "text/plain": [
       "<Figure size 576x396 with 1 Axes>"
      ]
     },
     "metadata": {},
     "output_type": "display_data"
    }
   ],
   "source": [
    "x = range(n + 1)\n",
    "y = binomial_dist.pmf(x)\n",
    "plt.bar(x, y);"
   ]
  },
  {
   "cell_type": "code",
   "execution_count": 195,
   "metadata": {},
   "outputs": [
    {
     "data": {
      "text/plain": [
       "(0.003906250000000001,\n",
       " 0.031250000000000014,\n",
       " 0.10937500000000006,\n",
       " 0.21875000000000014,\n",
       " 0.27343750000000017)"
      ]
     },
     "execution_count": 195,
     "metadata": {},
     "output_type": "execute_result"
    }
   ],
   "source": [
    "# Calcular la probabilidad de que salgan 4 caras o menos\n",
    "binomial_dist.pmf(0), binomial_dist.pmf(1), binomial_dist.pmf(2), binomial_dist.pmf(3), binomial_dist.pmf(4)"
   ]
  },
  {
   "cell_type": "code",
   "execution_count": 198,
   "metadata": {},
   "outputs": [
    {
     "data": {
      "text/plain": [
       "0.6367187499999999"
      ]
     },
     "execution_count": 198,
     "metadata": {},
     "output_type": "execute_result"
    }
   ],
   "source": [
    "binomial_dist.cdf(4)"
   ]
  },
  {
   "cell_type": "code",
   "execution_count": 211,
   "metadata": {},
   "outputs": [
    {
     "data": {
      "image/png": "[encoded data removed]",
      "text/plain": [
       "<Figure size 576x396 with 1 Axes>"
      ]
     },
     "metadata": {},
     "output_type": "display_data"
    }
   ],
   "source": [
    "x = range(n + 1)\n",
    "y = binomial_dist.cdf(x)\n",
    "plt.bar(x, y);"
   ]
  },
  {
   "cell_type": "markdown",
   "metadata": {},
   "source": [
    "### 2.6.3. Distribución de Poisson\n",
    "\n",
    "Consideremos un experimento aleatorio consistente en medir el número de resultados, o sucesos de un tipo dado, que se producen en un cierto intervalo continuo. Este intervalo puede ser un intervalo de tiempo, de espacio, una región dada, etc. Ejemplos de este experimento podrían ser: el número de partículas radiactivas emitidas por un material en un tiempo dado, el número de fotones que llegan a un detector en un tiempo fijado, el número de días al año en que llueve en un cierto lugar, el número de estrellas que se observan en el cielo en cuadrículas del mismo tamañoo, etc. Diremos que un experimento de este tipo sigue un proceso de Poisson cuando se cumplan las siguientes condiciones:\n",
    "\n",
    "- El número de resultados que ocurren en un intervalo es independiente del número que ocurre en otro intervalo disjunto. Es decir, los sucesos aparecen aleatoriamente de forma independiente. Se dice entonces que el proceso no tiene memoria.\n",
    "\n",
    "- La probabilidad de que un resultado sencillo ocurra en un intervalo pequeño es proporcional a la longitud de dicho intervalo. Además dicha probabilidad permanece constante, de forma que se puede definir un número medio de resultados por unidad de intervalo. Se dice que el proceso es estable.\n",
    "\n",
    "- La probabilidad de que ocurra más de un resultado en un intervalo suficientemente pequeño es despreciable.\n",
    "\n",
    "Se define entonces la variable aleatoria de Poisson como el número de resultados que aparecen en un experimento que sigue el proceso de Poisson. Nótese que el campo de variabilidad de la variable de Poisson será: X = {0, 1, 2, ...}. La distribución de probabilidad asociada con esta variable se denomina distribución de Poisson y dependerá fundamentalmente del número medio de resultados (o sucesos) por intervalo, que denotaremos por $\\lambda$. De esta forma, la distribución de Poisson se escribe:\n",
    "\n",
    "$$f(x) = P(X = x) = p(x; \\lambda) = \\frac{\\lambda^x}{x!}e^{-\\lambda}$$\n",
    "\n",
    "Para calcular una expresión para $p(x; \\lambda)$ es importante relacionar la distribución de Poisson con la binomial. Efectivamente, la distribución de Poisson aparece como límite de la distribución binomial cuando el número de observaciones en ésta última es muy grande y la probabilidad de que en una observación se dé el suceso (se obtenga un éxito, en la nomenclatura de la distribución binomial) es muy pequeña.\n",
    "\n",
    "Las expresiones para la media, varianza y desviación típica de esta distribución son:\n",
    "\n",
    "$$\\mu = \\lambda$$\n",
    "\n",
    "$$\\sigma^2 = \\lambda$$\n",
    "\n",
    "$$\\sigma = \\sqrt{\\lambda}$$\n",
    "\n",
    "Mediante el módulo `stats` de `SciPy` se puede generar una distribución de Poisson mediante el método `stats.poisson(rate)`, donde *rate* equivale al parámetro $\\lambda$. Una vez se tiene este objeto se pueden generar números aleatorios que sigan la distribución, y acceder a valores dado por la función de probabilidad y de distribución."
   ]
  },
  {
   "cell_type": "code",
   "execution_count": 227,
   "metadata": {},
   "outputs": [],
   "source": [
    "# Crear una distribución que modelice que recibo una media 4.2 emails cada día\n",
    "rate = 4.2\n",
    "dist_poisson = stats.poisson(rate)"
   ]
  },
  {
   "cell_type": "code",
   "execution_count": 228,
   "metadata": {},
   "outputs": [
    {
     "data": {
      "text/plain": [
       "0.11432110720443431"
      ]
     },
     "execution_count": 228,
     "metadata": {},
     "output_type": "execute_result"
    }
   ],
   "source": [
    "# Calcular la probabilidad de recibir en un día 6 emails\n",
    "dist_poisson.pmf(6)"
   ]
  },
  {
   "cell_type": "code",
   "execution_count": 231,
   "metadata": {},
   "outputs": [
    {
     "data": {
      "image/png": "[encoded data removed]",
      "text/plain": [
       "<Figure size 576x396 with 1 Axes>"
      ]
     },
     "metadata": {},
     "output_type": "display_data"
    }
   ],
   "source": [
    "x = range(15)\n",
    "y = dist_poisson.pmf(x)\n",
    "plt.bar(x, y);"
   ]
  },
  {
   "cell_type": "code",
   "execution_count": 230,
   "metadata": {},
   "outputs": [
    {
     "data": {
      "text/plain": [
       "0.8674639959499184"
      ]
     },
     "execution_count": 230,
     "metadata": {},
     "output_type": "execute_result"
    }
   ],
   "source": [
    "# Calcular la posibilidad de recibir 6 emails o menos\n",
    "dist_poisson.cdf(6)"
   ]
  },
  {
   "cell_type": "code",
   "execution_count": 232,
   "metadata": {},
   "outputs": [
    {
     "data": {
      "image/png": "[encoded data removed]",
      "text/plain": [
       "<Figure size 576x396 with 1 Axes>"
      ]
     },
     "metadata": {},
     "output_type": "display_data"
    }
   ],
   "source": [
    "x = range(15)\n",
    "y = dist_poisson.cdf(x)\n",
    "plt.bar(x, y);"
   ]
  },
  {
   "cell_type": "code",
   "execution_count": 234,
   "metadata": {},
   "outputs": [
    {
     "data": {
      "text/plain": [
       "0.6045966303976438"
      ]
     },
     "execution_count": 234,
     "metadata": {},
     "output_type": "execute_result"
    }
   ],
   "source": [
    "# Calcular la posibilidad de recibir 4 emails o más\n",
    "1 - dist_poisson.cdf(3)"
   ]
  },
  {
   "cell_type": "markdown",
   "metadata": {},
   "source": [
    "## 2.7. Distribuciones continuas de probabilidad"
   ]
  },
  {
   "cell_type": "markdown",
   "metadata": {},
   "source": [
    "### 2.7.1. Distribución continua uniforme\n",
    "\n",
    "Se dice que una variable aleatoria $X$ sigue una distribución continua uniforme cuando su función de densidad $f(x)$ toma valores constantes en el intervalo $[a, b]$. Es decir, $f(x) = K$ en ese intervalo y, por tanto, la probabilidad de que tome un valor en cualquier incremento (de la misma anchura) dentro de ese intervalo es la misma.\n",
    "\n",
    "<center><img src=\"../_images\\pdf_cdf_continous_uniform.png\" alt=\"Drawing\" style=\"width: 500px;\"/></center>\n",
    "\n",
    "Las expresiones para la media, varianza y desviación típica de esta distribución son:\n",
    "\n",
    "$$\\mu = \\frac{a+b}{2}$$\n",
    "\n",
    "$$\\sigma^2 = \\frac{(b-a)^3}{12}$$\n",
    "\n",
    "$$\\sigma = \\frac{b-a}{\\sqrt{12}}$$"
   ]
  },
  {
   "cell_type": "markdown",
   "metadata": {},
   "source": [
    "### 2.7.2. Distribución normal\n",
    "\n",
    "La distribución continua de probabilidad más importante de toda la estadística es, sin duda alguna, la distribución normal. La importancia de esta distribución se debe a que describe con gran aproximación la distribución de las variables asociadas con muchos fenómenos de la naturaleza. En particular, las medidas de magnitudes físicas suelen distribuirse según una distribución normal. Por ejemplo, la distribución de alturas de un grupo de población, las medidas de calidad de procesos industriales, o la distribución de temperaturas de una población, se pueden aproximar por distribuciones normales. Además, los errores en las medidas también se aproximan con mucha exactitud a la distribución normal.\n",
    "\n",
    "Por otra parte, bajo ciertas condiciones, la distribución normal constituye una buena aproximación a otras distribuciones de probabilidad, como la binomial y la de Poisson. Frecuentemente, a la distribución normal se la denomina también distribución gaussiana.\n",
    "\n",
    "**Definición y propiedades:**\n",
    "\n",
    "Por definición, se dice que una variable aleatoria continua $X$ sigue una distribución normal de media $\\mu$ y desviación típica $\\sigma$ si su función de densidad es:\n",
    "\n",
    "$$f(x) = N(\\mu, \\sigma) = \\frac{1}{\\sigma \\sqrt{2\\pi}}e^{-\\frac{(x-\\mu)^2}{2\\sigma^2}} \\hspace{0.6cm} \\text{;} \\hspace{0.3cm} -\\infty < x < \\infty$$\n",
    "\n",
    "De esta forma, una vez que se especifican $\\mu$ y $\\sigma$ la distribución queda determinada completamente.\n",
    "\n",
    "Gráficamente, la distribución de probabilidad normal tiene forma de campana (llamada campana de Gauss, o curva normal), simétrica (por depender de $x$ a través del término $(x−\\mu)^2$), centrada en $\\mu$ y con anchura proporcional a $\\sigma$ (como es lógico esperar del significado de la desviación típica). Evidentemente, el máximo de la función de densidad ocurre para $x = \\mu$ y, por tanto, media, mediana y moda coinciden en ese punto.\n",
    "\n",
    "<center><img src=\"../_images\\pdf_cdf_normal.png\" alt=\"Drawing\" style=\"width: 500px;\"/></center>\n",
    "\n",
    "Mediante el módulo `stats` de `SciPy` se puede generar una distribución normal mediante el método `stats.norm(mu, sigma)`, donde *mu* y *sigma* equivalen respectivamente a la media y desviación típica muestral. Una vez se tiene este objeto se pueden generar números aleatorios que sigan la distribución, y acceder a valores dado por la función de probabilidad y de distribución.\n",
    "\n",
    "**Distribución normal tipificada:**\n",
    "\n",
    "La dificultad de integración de las ecuaciones para calcular probabilidades de una distribución hace que sea sumamente útil presentar las áreas bajo la curva normal en forma tabular. Para no tener que presentar estas tablas para todos los posibles valores de $\\mu$ y $\\sigma$ se define la variable normal tipificada $Z$ a partir de una transformación lineal de la variable original $X$ de la forma:\n",
    "\n",
    "$$Z = \\frac{X-\\mu}{\\sigma}$$\n",
    "\n",
    "Haciendo esta sustitución en la función de densidad de $X$:\n",
    "\n",
    "$$f(x) = N(\\mu, \\sigma) = \\frac{1}{\\sigma \\sqrt{2\\pi}}e^{-\\frac{(x-\\mu)^2}{2\\sigma^2}} \\hspace{0.2cm} \\Longrightarrow \\hspace{0.2cm} f(z) = N(0, 1) = \\frac{1}{\\sqrt{2\\pi}}e^{-\\frac{(z)^2}{2}}$$\n",
    "\n",
    "Por lo tanto, la variable tipificada sigue una distribución normal con media 0 y desviación típica 1, llamada función de densidad tipificada, o estándar. Es claro que esta distribución no depende de ningún parámetro y su representación gráfica es una campana simétrica respecto al eje $z=0$, en el que alcanza el máximo valor.\n",
    "\n",
    "El problema de calcular la probabilidad de que $X$ se encuentre en un intervalo $(x_1, x_2)$ se puede reducir entonces a calcular la probabilidad de que $Z$ esté en un intervalo equivalente $(z_1, z_2)$."
   ]
  },
  {
   "cell_type": "code",
   "execution_count": 253,
   "metadata": {},
   "outputs": [],
   "source": [
    "# Modelar la estatura de un país a partir de una muestra cuya altura media es de 170 cm y su desviación típica 10 cm\n",
    "mu = 171\n",
    "sigma = 15\n",
    "normal_dist = stats.norm(mu, sigma)"
   ]
  },
  {
   "cell_type": "code",
   "execution_count": 254,
   "metadata": {},
   "outputs": [
    {
     "data": {
      "text/plain": [
       "(0.025667124973067598, 0.009981831042382991)"
      ]
     },
     "execution_count": 254,
     "metadata": {},
     "output_type": "execute_result"
    }
   ],
   "source": [
    "# Calcular la probabilidad de que un niño mida 1.75, y otro 1.92 \n",
    "normal_dist.pdf(175), normal_dist.pdf(192)"
   ]
  },
  {
   "cell_type": "code",
   "execution_count": 267,
   "metadata": {},
   "outputs": [
    {
     "data": {
      "image/png": "[encoded data removed]",
      "text/plain": [
       "<Figure size 576x396 with 1 Axes>"
      ]
     },
     "metadata": {},
     "output_type": "display_data"
    }
   ],
   "source": [
    "x = range(100, 240)\n",
    "y = normal_dist.pdf(x)\n",
    "plt.plot(x, y);"
   ]
  },
  {
   "cell_type": "code",
   "execution_count": 259,
   "metadata": {},
   "outputs": [
    {
     "data": {
      "text/plain": [
       "0.23167757463479827"
      ]
     },
     "execution_count": 259,
     "metadata": {},
     "output_type": "execute_result"
    }
   ],
   "source": [
    "# Calcular la posibilidad de medir 1.60 o menos\n",
    "normal_dist.cdf(160)"
   ]
  },
  {
   "cell_type": "code",
   "execution_count": 270,
   "metadata": {},
   "outputs": [
    {
     "data": {
      "text/plain": [
       "0.3948629104640251"
      ]
     },
     "execution_count": 270,
     "metadata": {},
     "output_type": "execute_result"
    }
   ],
   "source": [
    "# Calcular la posibilidad de medir más 1.75\n",
    "1 - normal_dist.cdf(175)"
   ]
  },
  {
   "cell_type": "code",
   "execution_count": 274,
   "metadata": {},
   "outputs": [
    {
     "data": {
      "text/plain": [
       "0.4940693076151282"
      ]
     },
     "execution_count": 274,
     "metadata": {},
     "output_type": "execute_result"
    }
   ],
   "source": [
    "# Calcular la posibilidad de medir entre 1.60 y 1.80\n",
    "normal_dist.cdf(180) - normal_dist.cdf(160)"
   ]
  },
  {
   "cell_type": "code",
   "execution_count": 269,
   "metadata": {},
   "outputs": [
    {
     "data": {
      "image/png": "[encoded data removed]",
      "text/plain": [
       "<Figure size 576x396 with 1 Axes>"
      ]
     },
     "metadata": {},
     "output_type": "display_data"
    }
   ],
   "source": [
    "x = range(100, 240)\n",
    "y = normal_dist.cdf(x)\n",
    "plt.plot(x, y);"
   ]
  },
  {
   "cell_type": "code",
   "execution_count": 313,
   "metadata": {},
   "outputs": [
    {
     "data": {
      "image/png": "[encoded data removed]",
      "text/plain": [
       "<Figure size 576x396 with 1 Axes>"
      ]
     },
     "metadata": {},
     "output_type": "display_data"
    }
   ],
   "source": [
    "# Analizar si el peso de los bebes al nacer del dataset nsfg.csv sigue una distribución normal\n",
    "norm_like_weight = stats.norm(df['birthwgt_g'].mean(), df['birthwgt_g'].std())\n",
    "plt.hist(df['birthwgt_g'], bins=range(0, 7000, 100));\n",
    "plt.plot(range(0, 7000, 100), norm_like_weight.pdf(np.arange(0, 7000, 100))*1e6);  #Factor multiplicador."
   ]
  },
  {
   "cell_type": "markdown",
   "metadata": {},
   "source": [
    "**Teorema del límite central:**\n",
    "\n",
    "Existe un teorema básico en estadística que explica porqué la distribución normal es tan frecuente en el mundo en el que vivimos. El teorema es el siguiente:\n",
    "\n",
    "Si $X_1$, $X_2$, ..., $X_n$ son variables aleatorias independientes con medias $\\mu_i$, desviaciones típicas $\\sigma_i$, y distribuciones de probabilidad cualesquiera (y no necesariamente la misma), y definimos la variable suma $Y = X_1 + X_2 + \\ldots + X_n$, entonces, cuando $n$ crece, la variable\n",
    "\n",
    "$$Z = \\frac{Y-\\sum_{i=1}^n \\mu_i}{\\sqrt{\\sum_{i=1}^n \\sigma_i^2}}$$\n",
    "\n",
    "tiende hacia una distribución normal estándar $N(0, 1)$. Es decir, las probabilidades de $Y$ las podremos calcular utilizando la distribución normal $N(\\sum \\mu_i, \\sqrt{\\sum \\sigma_i^2})$ . Esto explica por qué una medida de un fenómeno\n",
    "natural que está influenciado por un gran número de efectos (con cualquier distribución) ha de de seguir una distribución normal. Hay que indicar además que, cuando las variables $X_i$ siguen distribuciones normales, no es necesario que $n$ sea grande para que la variable suma siga una distribución normal."
   ]
  },
  {
   "cell_type": "markdown",
   "metadata": {},
   "source": [
    "**Relación de la distribución normal con la distribución binomial:**\n",
    "\n",
    "El teorema del límite central además nos permite relacionar otras distribuciones con la distribución normal. En particular, el cálculo de probabilidades de la distribución binomial puede efectuarse usando tablas, pero puede hacerse muy complicado cuando $n$ (número de ensayos) se hace muy grande, superando los valores tabulados. Para estos casos, la distribución normal supone una buena aproximación a la distribución binomial. En particular, si $X$ es una variable aleatoria binomial con media $\\mu = np$ y desviación típica $\\sigma = \\sqrt{npq}$, la variable\n",
    "\n",
    "$$Z = \\frac{X - np}{\\sqrt{npq}}$$\n",
    "\n",
    "sigue la distribución normal tipificada (o estándar) cuando $n$ tiende a infinito (teorema de Moivre).\n",
    "\n",
    "Esta importante propiedad se puede comprobar además empíricamente calculando probabilidades binomiales y normales. Como la distribución binomial se hace más simétrica cuando $p$ es próximo a 0.5, la distribución tiende más rápidamente a la normal para esos valores de $p$. Para $p$ próximos a 0 ó 1, habrá que aumentar mucho $n$ para que la asimetría, clara para un $n$ número pequeñoo de ensayos, desaparezca.\n",
    "\n",
    "Como regla práctica podemos considerar que la distribución normal es una aproximación aceptable de la distribución binomial\n",
    "cuando tanto $np$ como $nq$ sean mayor que 5 $(np > 5;nq > 5)$. Esto quiere decir que si $p = 0.5$, bastará con que $n = 10$ para que la aproximación sea aceptable, pero para $p = 0.1$, será necesario que el número de ensayos sea, al menos, 50."
   ]
  },
  {
   "cell_type": "markdown",
   "metadata": {},
   "source": [
    "**Relación de la distribución normal con la distribución de Poisson:**\n",
    "\n",
    "De forma similar existe una relación entre la distribución normal y la de Poisson. En particular, si $X$ es una variable aleatoria de Poisson con parámetro $\\lambda$, la variable\n",
    "\n",
    "$$Z = \\frac{X - \\lambda}{\\sqrt{\\lambda}}$$\n",
    "\n",
    "sigue la distribución normal estándar cuando $\\lambda$ tiende a infinito. Es decir, la distribución de Poisson se puede\n",
    "aproximar a la normal con parámetros $\\mu = \\lambda$ y $\\sigma = \\sqrt{\\sigma}$, (recordemos que $\\lambda$ era la media y la varianza de la distribución de Poisson). Esta aproximación empieza a ser aceptable para $\\lambda > 5$. Es también una\n",
    "consecuencia del teorema del límite central, ya que la variable de Poisson se puede considerar como la suma de muchas variables de Poisson subdiviendo el intervalo de medida."
   ]
  },
  {
   "cell_type": "markdown",
   "metadata": {},
   "source": [
    "La aplicación de la distribución normal es entonces muy útil para calcular probabilidades de la distribución binomial o de Poisson cuando $n$ o $\\lambda$ es grande. Hay que tener en cuenta que al pasar de una variable discreta $X$ a una continua $X'$ habr´a que utilizar, la llamada corrección de continuidad, que consiste en calcular las probabilidades como\n",
    "\n",
    "$$P(x_1 \\leq X \\leq x_2) = P(x_1 - 0.5 < X' < x_2 + 0.5)$$"
   ]
  },
  {
   "cell_type": "markdown",
   "metadata": {},
   "source": [
    "### 2.7.3. Distribución $\\chi^2$ chi-cuadrado de Pearson\n",
    "\n",
    "Sean $X_1$, $X_2$, $\\ldots$, $X_n$ $n$ variables aleatorias normales con media 0 y varianza 1 independientes entre sí,\n",
    "entonces la variable\n",
    "\n",
    "$$\\chi_n^2 = X_1^2 + X_2^2 + \\ldots + X_n^2$$\n",
    "\n",
    "recibe el nombre de $\\chi^2$ *(chi-cuadrado)* con $n$ grados de libertad.\n",
    "\n",
    "Nótese que la variable $\\chi^2$ toma únicamente valores positivos, al ser una suma de cuadrados. Además su distribución depende únicamente del parámetro $n$, o número de grados de libertad. Gráficamente, su función de densidad es muy asimétrica (para $n = 1$ corresponde a elevar al cuadrado una curva normal tipificada), pero se va haciendo más simétrica a medida que $n$ aumenta.\n",
    "\n",
    "En particular, para $n \\geq 30$, es una buena aproximación suponer que la variable $\\sqrt{2\\chi_n^2}$ se distribuye como\n",
    "una distribución normal con media $\\sqrt{2n-1}$ y varianza 1; $N(\\sqrt{2n-1},1)$.\n",
    "\n",
    "<center><img src=\"../_images\\pdf_cdf_chi.png\" alt=\"Drawing\" style=\"width: 450px;\"/><center>\n",
    "\n",
    "Una propiedad importante de la distribución chi-cuadrado es que si $\\chi_{n1}^2$ y $\\chi_{n2}^2$ son dos variables $\\chi^2$ con grados de libertad $n_1$ y $n_2$ respectivamente, entonces la variable suma $\\chi_{n}^2 = \\chi_{n1}^2 + \\chi_{n2}^2$ será una chi-cuadrado con $n = n_1 + n_2$ grados de libertad.\n",
    "\n",
    "Las expresiones para la media, varianza y desviación típica de esta distribución son:\n",
    "\n",
    "$$\\mu = n$$\n",
    "\n",
    "$$\\sigma^2 = 2n$$\n",
    "\n",
    "$$\\sigma = \\sqrt{2n}$$\n",
    "\n",
    "Mediante el módulo `stats` de `SciPy` se puede generar una distribución normal mediante el método `stats.chi2(n)`, donde $n$ equivale a los grados de libertad. Una vez se tiene este objeto se pueden generar números aleatorios que sigan la distribución, y acceder a valores dado por la función de probabilidad y de distribución."
   ]
  },
  {
   "cell_type": "markdown",
   "metadata": {},
   "source": [
    "### 2.7.4. Distribución t de Student\n",
    "\n",
    "Sean $X_1$, $X_2$, $\\ldots$, $X_n$, y $X$, $n+1$ variables aleatorias normales con media 0 y varianza $\\sigma$ (todas la misma) independientes entre sí, entonces la variable\n",
    "\n",
    "$$t_n = \\frac{X}{\\sqrt{\\frac{1}{n}\\sum_{i=1}^n X_i^2}}$$\n",
    "\n",
    "recibe el nombre de t de Student con $n$ grados de libertad. Podemos llegar a una expresión más usual de la variable t dividiendo numerador y denominador por la desviación tíıpica $\\sigma$\n",
    "\n",
    "$$t_n = \\frac{\\frac{X}{\\sigma}}{\\sqrt{\\frac{1}{n}\\sum_{i=1}^n (\\frac{X_i}{\\sigma})^2}} = \\frac{Z}{\\sqrt{\\frac{1}{n}\\chi_n^2}}$$\n",
    "\n",
    "donde $Z$ es una variable que sigue una distribución normal estándar $N(0, 1)$ y $\\chi_n^2$ es una $\\chi^2$ con $n$ grados de libertad, siendo ambas independientes.\n",
    "\n",
    "El campo de variabilidad de la variable t de Student será de $(-\\infty, \\infty)$ y su función de densidad dependerá únicamente del parámetro $n$ (grados de libertad). Nótese que, al depender $f(t)$ de t a través de $t^2$, la función de densidad será simétrica alrededor de $t = 0$. Su forma será campaniforme, siendo más achatada para valores bajos de $n$.\n",
    "\n",
    "Cuando $n$ aumenta $f(t)$ se va haciendo cada vez más apuntada, tendiendo a la curva normal tipificada. En general, la curva normal es una buena aproximación de la distribución t cuando $n \\geq 30$.\n",
    "\n",
    "<center><img src=\"../_images\\pdf_cdf_t_student.png\" alt=\"Drawing\" style=\"width: 450px;\"/></center>\n",
    "\n",
    "Las expresiones para la media, varianza y desviación típica de esta distribución son:\n",
    "\n",
    "$$\\mu = 0$$\n",
    "\n",
    "$$\\sigma^2 = \\frac{n}{n-2}$$\n",
    "\n",
    "$$\\sigma = \\sqrt{\\frac{n}{n-2}}$$\n",
    "\n",
    "La distribución t de Student es sumamente importante para la estimación y el contraste de hipótesis sobre la media de una población, como se verá en temas posteriores. Si se tiene una población que sigue una distribución normal con media $\\mu$ y desviación típica $\\sigma$, $N(\\mu, \\sigma)$, y se extrae una muestra aleatoria de tamañoo $n$ sobre la que se calcula una media $\\bar{x}$ y una desviación típica $s$, entonces la variable aleatoria dada por\n",
    "\n",
    "$$t_{n-1} = \\frac{\\bar{x} - \\mu}{s/\\sqrt{n}}$$\n",
    "\n",
    "obedece a una distribución t de Student con $(n − 1)$ grados de libertad.\n",
    "\n",
    "Mediante el módulo `stats` de `SciPy` se puede generar una distribución normal mediante el método `stats.t(n)`, donde $n$ equivale a los grados de libertad. Una vez se tiene este objeto se pueden generar números aleatorios que sigan la distribución, y acceder a valores dado por la función de probabilidad y de distribución."
   ]
  },
  {
   "cell_type": "markdown",
   "metadata": {},
   "source": [
    "### 2.7.5. Distribución F de Fisher\n",
    "\n",
    "Sean $\\chi_{n_1}^2$ y $\\chi_{n_2}^2$ dos variables $\\chi^2$ de Pearson con $n_1$ y $n_2$ grados de libertad e independientes entre sí. Entonces, la variable aleatoria definida como\n",
    "\n",
    "$$F_{n_1,n_2} = \\frac{\\frac{\\chi_{n_1}^2}{n_1}}{\\frac{\\chi_{n_2}^2}{n_2}}$$\n",
    "\n",
    "recibe el nombre de F de Fisher con $n_1$ y $n_2$ grados de libertad.\n",
    "\n",
    "Nótese que el campo de variabilidad de la variable F es entre 0 e $\\infty$ (al ser un cociente de cuadrados) y que su función de densidad depende exclusivamente de los dos parámetros $n_1$ y $n_2$, aunque es importante el orden en el que se dan estos.\n",
    "\n",
    "La representación gráfica de la distribución F será de la forma representada en la figura y dependerá, lógicamente, de $n_1$ y $n_2$.\n",
    "\n",
    "<center><img src=\"../_images\\pdf_cdf_Fisher.png\" alt=\"Drawing\" style=\"width: 450px;\"/></center>\n",
    "\n",
    "Se puede demostrar que la media y la varianza de la distribución F de Fisher vienen dadas por\n",
    "\n",
    "$$\\mu = \\frac{n_2}{n_2 - 2}$$\n",
    "\n",
    "$$\\sigma^2 = \\frac{2n_2^2(n_1+n_2-2)}{n_1(n_2-4)(n_2-2)^2}$$\n",
    "\n",
    "$$\\sigma = \\sqrt{\\sigma^2}$$\n",
    "\n",
    "Es importante notar que las distribuciones $\\chi^2$ y t son en realidad casos particulares de la distribución F,\n",
    "ya que como puede comprobarse fácilmente:\n",
    "\n",
    "$$F_{1, n} = t_n^2 \\hspace{0.3cm} \\text{;} \\hspace{0.3cm} F_{1, \\infty} = \\frac{\\chi_n^2}{n}$$\n",
    "\n",
    "La distribución F de Fisher es muy utilizada en el análisis de varianza y, en particular, es usada para comparar las varianzas de dos poblaciones normales. Efectivamente, sea $X_1$ una variable aletoria normal $N(\\mu_1, \\sigma_1)$ y $X_2$ una variable normal $N(\\mu_2, \\sigma_2)$ independientes entre sí. Si de la primera población se extrae una muestra aleatoria de tamañoo $n_1$ en la cual se mide una desviación íıpica $s_1$, y de la segunda población se extrae una muestra de tamaño $n_2$, con desviación típica $s_2$, entonces se pueden definir las variables\n",
    "\n",
    "$$\\chi_{n_1 - 1}^2 = (n_1 - 1)\\frac{s_1^2}{\\sigma_1^2} \\hspace{0.3cm} \\text{;} \\hspace{0.3cm} \\chi_{n_2 - 1}^2 = (n_2 - 1)\\frac{s_2^2}{\\sigma_2^2}$$\n",
    "\n",
    "de forma que se puede construir la variable F dada por\n",
    "\n",
    "$$F_{n_1 - 1, n_2 - 1} = \\frac{\\frac{\\chi_{n_1}^2-1}{n_1-1}}{\\frac{\\chi_{n_2}^2-1}{n_2-1}}$$\n",
    "\n",
    "En otras palabras, si $s_1^2$ y $s_2^2$ son las varianzas de variables aleatorias independientes de tamaños $n_1$ y $n_2$ que se extraen de poblaciones normales con varianzas $\\sigma_1^2$ y $\\sigma_2^2$ respectivamente, entonces la variable\n",
    "\n",
    "$$F_{n_1 - 1, n_2 - 1} = \\frac{s_1^2/\\sigma_1^2}{s_2^2/\\sigma_2^2}$$\n",
    "\n",
    "sigue una distribución F de Fisher con $n_1 − 1$ y $n_2 − 1$ grados de libertad.\n",
    "\n",
    "Mediante el módulo `stats` de `SciPy` se puede generar una distribución normal mediante el método `stats.f(n1, n2)`, donde $n_1$ y $n_2$ equivale a los grados de libertad de cada distribución de la F de Fisher. Una vez se tiene este objeto se pueden generar números aleatorios que sigan la distribución, y acceder a valores dado por la función de probabilidad y de distribución."
   ]
  },
  {
   "cell_type": "markdown",
   "metadata": {},
   "source": [
    "# 3. Bibliografía.\n",
    "\n",
    "- KSchool Data Science Master Ed. 23.\n",
    "- Estadística Básica para Estudiantes de Ciencia. ISBN: 978-84-691-8981-8.\n",
    "- https://es.wikipedia.org/wiki/Estad%C3%ADstica"
   ]
  }
 ],
 "metadata": {
  "kernelspec": {
   "display_name": "Python 3",
   "language": "python",
   "name": "python3"
  },
  "language_info": {
   "codemirror_mode": {
    "name": "ipython",
    "version": 3
   },
   "file_extension": ".py",
   "mimetype": "text/x-python",
   "name": "python",
   "nbconvert_exporter": "python",
   "pygments_lexer": "ipython3",
   "version": "3.8.3"
  }
 },
 "nbformat": 4,
 "nbformat_minor": 4
}
