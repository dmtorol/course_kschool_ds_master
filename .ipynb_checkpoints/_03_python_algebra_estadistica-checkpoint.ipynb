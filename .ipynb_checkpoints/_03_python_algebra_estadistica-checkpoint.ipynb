{
 "cells": [
  {
   "cell_type": "markdown",
   "metadata": {},
   "source": [
    "# 1. Algebra con Python\n",
    "\n",
    "El álgebra lineal es la rama de las matemáticas que trata las ecuaciones y funciones lineales, y sus representaciones a través de matrices y espacios vectoriales. Nos ayuda a comprender términos geométricos en dimensiones superiores y a realizar operaciones matemáticas con ellos. Por definición, el álgebra trata principalmente con escalares (entidades unidimensionales), pero el álgebra lineal tiene vectores y matrices (entidades que poseen dos o más componentes dimensionales) para tratar con ecuaciones y funciones lineales.\n",
    "\n",
    "El álgebra lineal es el corazón de casi todas las áreas de las matemáticas como la geometría y el análisis funcional. Sus conceptos son un requisito previo crucial para comprender la teoría detrás de la ciencia de datos. El científico de datos no necesita comprender el álgebra lineal antes de comenzar con la ciencia de datos, pero en algún momento es necesario comprender cómo funcionan realmente los diferentes algoritmos."
   ]
  },
  {
   "cell_type": "markdown",
   "metadata": {},
   "source": [
    "# 2. Estadística con Python"
   ]
  },
  {
   "cell_type": "markdown",
   "metadata": {},
   "source": [
    "# X. Bibliografía\n",
    "\n",
    "- Research Article: Linear Algebra – A Powerful Tool for Data Science. Hasheema Ishchi."
   ]
  }
 ],
 "metadata": {
  "kernelspec": {
   "display_name": "Python 3",
   "language": "python",
   "name": "python3"
  },
  "language_info": {
   "codemirror_mode": {
    "name": "ipython",
    "version": 3
   },
   "file_extension": ".py",
   "mimetype": "text/x-python",
   "name": "python",
   "nbconvert_exporter": "python",
   "pygments_lexer": "ipython3",
   "version": "3.7.6"
  }
 },
 "nbformat": 4,
 "nbformat_minor": 4
}
