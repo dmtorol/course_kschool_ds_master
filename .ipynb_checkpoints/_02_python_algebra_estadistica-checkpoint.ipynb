{
 "cells": [
  {
   "cell_type": "markdown",
   "metadata": {},
   "source": [
    "# 1. Python\n",
    "\n",
    "## 1.1. Intro\n",
    "\n",
    "Python es un lenguaje de programación interpretado de tipado dinámico cuya filosofía hace hincapié en una sintaxis que favorezca un código legible. Se trata de un lenguaje de programación multiparadigma y disponible en varias plataformas.\n",
    "\n",
    "Características de Python:\n",
    "\n",
    "- Propósito general: sirve para multitud de propósitos diferentes: desarrollo web, apps, data science...etc.\n",
    "\n",
    "- Multiplataforma: se puede correr en culquier sistema operativo.\n",
    "\n",
    "- Interpretado: no es necesario compilar (traducir a lenguaje máquina) el código antes de su ejecución. En verdad se realiza, pero es una tarea transparente para el desarrollador, es por lo tanto un lenguaje de alto nivel.\n",
    "\n",
    "- Orientado a objetos: la programación orientada a objetos está soportada en Python y ofrece en muchos casos una manera sencilla de crear programas con componentes reutilizables.\n",
    "\n",
    "- Tipado dinámico: Las variables se comprueban en tiempo de ejecución.\n",
    "\n",
    "- Funciones y librerías: dispone de muchas funciones incorporadas en el propio lenguaje, para el tratamiento de strings, números, archivos, etc. Además, existen muchos módulos que podemos importar en los programas para tratar temas específicos.\n",
    "\n",
    "- Sintaxis clara: destacar que Python tiene una sintaxis muy visual, gracias a una notación identada (con márgenes) de obligado cumplimiento. Esto ayuda a que todos los programadores adopten unas mismas notaciones y que los programas de cualquier persona tengan un aspecto muy similar.\n",
    "\n",
    "¿Por qué Python en Data Science?\n",
    "\n",
    "Python está en movimiento y en pleno desarrollo, pero ya es una realidad y una interesante opción para realizar todo tipo de programas que se ejecuten en cualquier máquina. El equipo de desarrollo está trabajando de manera cada vez más organizada y cuentan con el apoyo de una comunidad que está creciendo rápidamente.\n",
    "\n",
    "Debido a esto y a que un lenguaje de código abierto, la comundad puede ir desarrollando librerías que permitan la apliación de Python en campos de conocimiento concretos. Dentro de la escena del tratamiento de datos existen numérosos módulos que permiten que Python sea competente en el ámbito del data science, si sumamos a esto la versatilidad del lenguaje y su curva de aprendizaje moderada, es una opción muy buena para inciarse en el mundo de la ciencia de datos."
   ]
  },
  {
   "cell_type": "markdown",
   "metadata": {},
   "source": [
    "## 1.2. Nociones básicas en Python"
   ]
  },
  {
   "cell_type": "markdown",
   "metadata": {},
   "source": [
    "### 1.2.1. Objetos\n",
    "\n",
    "Todo en Python es un objeto. Cada objeto tiene en Python un tipo asociado, datos internos, y unos atributos u otros en función de su tipo. Se puede ejecutar el comando `type()` para saber el tipo de objeto de un objeto.\n",
    "\n",
    "También se puede utlizar la función `isinstance(object,(type_of_object)` para comprobar si un objeto pertenece a un tipo en particular. Ejemplo: `isinstance(a, (int, float))`.\n",
    "\n",
    "**Escalares:**\n",
    "\n",
    "- int: número entero\n",
    "- long: número entero grande\n",
    "- float: número decimal\n",
    "- str: string (cadena de caracteres)\n",
    "- bool: True (1) or False (0)\n",
    "- None: valor \"null\" en Python\n",
    "\n",
    "**Estructuras de datos:**\n",
    "\n",
    "- lista: secuencia mutable unidimensional de objetos de Python. Se escribe entre corchetes `[]`.\n",
    "- tupla: sucuencia inmutable unidimensional de objetos de Python. Se escribe entre paréntesis `()`.\n",
    "- diccionario: colección de pares llave-valor, donde las llaves y valores son objetos de Python. Se escribe entre llaves `{}`.\n",
    "- set: colección única (sin duplicados) de valores. Se escribe entre llaves `{}`."
   ]
  },
  {
   "cell_type": "code",
   "execution_count": 5,
   "metadata": {},
   "outputs": [
    {
     "data": {
      "text/plain": [
       "(int, str, list, tuple, bool, dict, set)"
      ]
     },
     "execution_count": 5,
     "metadata": {},
     "output_type": "execute_result"
    }
   ],
   "source": [
    "## Definimos diferentes tipos de objetos\n",
    "a = 7\n",
    "b = \"hola\"\n",
    "c = [1, 2, 3]\n",
    "d = (1, 2, 3)\n",
    "e = False\n",
    "f = {\"nombre\": \"Carlos\", \"altura\": 182, \"peso\": 57}\n",
    "g = {1, 2, 3, \"hola\"}\n",
    "\n",
    "## Consultamos el tipo de objeto de cada uno\n",
    "type(a), type(b), type(c), type(d), type(e), type(f), type(g)"
   ]
  },
  {
   "cell_type": "markdown",
   "metadata": {},
   "source": [
    "### 1.2.2. Atributos\n",
    "\n",
    "Los atributos pueden definirse como objetos de Python alojados en el interior de otro objeto; o métodos, que son funciones asociadas a un objeto que permite obtener información interna de ese objeto.\n",
    "\n",
    "Se puede acceder a los atributos de un objeto mediante la sintaxis `object_name.attribute_name`.\n",
    "\n",
    "Cada tipo de objeto tiene unos atributos asociados diferentes, para saber cuales de ellos están disponibles en función del tipo de objeto, se pueden utilizar las siguientes funciones:\n",
    "\n",
    "- `hasattr(object, attribute)`: consulta si el objeto tiene el atributo indicado, devuelve un valor booleano.\n",
    "- `dir(object)`: devuelve el listado de atributos de ese objeto."
   ]
  },
  {
   "cell_type": "code",
   "execution_count": 11,
   "metadata": {},
   "outputs": [
    {
     "data": {
      "text/plain": [
       "['__add__',\n",
       " '__class__',\n",
       " '__contains__',\n",
       " '__delattr__',\n",
       " '__dir__',\n",
       " '__doc__',\n",
       " '__eq__',\n",
       " '__format__',\n",
       " '__ge__',\n",
       " '__getattribute__',\n",
       " '__getitem__',\n",
       " '__getnewargs__',\n",
       " '__gt__',\n",
       " '__hash__',\n",
       " '__init__',\n",
       " '__init_subclass__',\n",
       " '__iter__',\n",
       " '__le__',\n",
       " '__len__',\n",
       " '__lt__',\n",
       " '__mod__',\n",
       " '__mul__',\n",
       " '__ne__',\n",
       " '__new__',\n",
       " '__reduce__',\n",
       " '__reduce_ex__',\n",
       " '__repr__',\n",
       " '__rmod__',\n",
       " '__rmul__',\n",
       " '__setattr__',\n",
       " '__sizeof__',\n",
       " '__str__',\n",
       " '__subclasshook__',\n",
       " 'capitalize',\n",
       " 'casefold',\n",
       " 'center',\n",
       " 'count',\n",
       " 'encode',\n",
       " 'endswith',\n",
       " 'expandtabs',\n",
       " 'find',\n",
       " 'format',\n",
       " 'format_map',\n",
       " 'index',\n",
       " 'isalnum',\n",
       " 'isalpha',\n",
       " 'isascii',\n",
       " 'isdecimal',\n",
       " 'isdigit',\n",
       " 'isidentifier',\n",
       " 'islower',\n",
       " 'isnumeric',\n",
       " 'isprintable',\n",
       " 'isspace',\n",
       " 'istitle',\n",
       " 'isupper',\n",
       " 'join',\n",
       " 'ljust',\n",
       " 'lower',\n",
       " 'lstrip',\n",
       " 'maketrans',\n",
       " 'partition',\n",
       " 'replace',\n",
       " 'rfind',\n",
       " 'rindex',\n",
       " 'rjust',\n",
       " 'rpartition',\n",
       " 'rsplit',\n",
       " 'rstrip',\n",
       " 'split',\n",
       " 'splitlines',\n",
       " 'startswith',\n",
       " 'strip',\n",
       " 'swapcase',\n",
       " 'title',\n",
       " 'translate',\n",
       " 'upper',\n",
       " 'zfill']"
      ]
     },
     "execution_count": 11,
     "metadata": {},
     "output_type": "execute_result"
    }
   ],
   "source": [
    "## Definimos una variable tipo string y consultamos los atributos disponibles\n",
    "a = \"hola\"\n",
    "dir(a)"
   ]
  },
  {
   "cell_type": "markdown",
   "metadata": {},
   "source": [
    "### 1.2.3. Referenciar objetos\n",
    "\n",
    "Al asignar (`=`) una variable en Python, lo que en verdad se está haciendo es crear una referencia al objeto en el lado derecho del signo igual. Al referenciar objetos, se aplican por igual los cambios realizados en la parte izquierda de la igualdad en la parte derecha."
   ]
  },
  {
   "cell_type": "code",
   "execution_count": 6,
   "metadata": {},
   "outputs": [
    {
     "name": "stdout",
     "output_type": "stream",
     "text": [
      "La lista a contiene los valores: [1, 2, 3]\n",
      "La lista a contiene los valores: [1, 2, 3]\n"
     ]
    }
   ],
   "source": [
    "## Creamos una lista a con 3 objetos, y referenciamos \"b\" a \"a\"\n",
    "a = [1, 2, 3]\n",
    "b = a\n",
    "print(f\"La lista a contiene los valores: {a}\")\n",
    "print(f\"La lista b contiene los valores: {b}\")"
   ]
  },
  {
   "cell_type": "code",
   "execution_count": 7,
   "metadata": {},
   "outputs": [
    {
     "name": "stdout",
     "output_type": "stream",
     "text": [
      "La lista a contiene los valores: [1, 2, 3, 4]\n",
      "La lista b contiene los valores: [1, 2, 3, 4]\n"
     ]
    }
   ],
   "source": [
    "## Añadimos un objeto adicional a la lista \"a\"\n",
    "a.append(4)\n",
    "\n",
    "## Al estar \"b\" referenciada a \"a\" también habrá sido modificada\n",
    "print(f\"La lista a contiene los valores: {a}\")\n",
    "print(f\"La lista b contiene los valores: {b}\")"
   ]
  },
  {
   "cell_type": "code",
   "execution_count": 9,
   "metadata": {},
   "outputs": [
    {
     "data": {
      "text/plain": [
       "(1838939602184, 1838939602184)"
      ]
     },
     "execution_count": 9,
     "metadata": {},
     "output_type": "execute_result"
    }
   ],
   "source": [
    "## Se puede realizar una comprobación adicional y ver que ambas variables apuntan al mismo hueco de memoria\n",
    "id(a), id(b)"
   ]
  },
  {
   "cell_type": "markdown",
   "metadata": {},
   "source": [
    "## 1.3. Estructuras de control de flujo\n",
    "\n",
    "Una estructura de control, es un bloque de código que permite agrupar instrucciones de manera controlada en base a una serie de condiciones. En Python, como en el resto de los lenguajes de programación, tenemos varios modos de controlar el flujo del programa:\n",
    "\n",
    "- `if`: ejecuta un bloque particular de comandos en función del resultado de un test.\n",
    "- `while`: ejecuta un bloque de comandos mientras que se cumpla un test determinado.\n",
    "- `for`: ejecuta un bloque de comandos un cierto número de veces.\n",
    "\n",
    "Es obligatoria la identación, que no es otra cosa que realizar una sangría de 4 espacios en blanco. La mayoría de IDE's o editores de texto identifican cuando comienza un estructura de control de flujo e identan automaticamente las siguientes lineas."
   ]
  },
  {
   "cell_type": "markdown",
   "metadata": {},
   "source": [
    "### 1.3.1. Estructura de control condicional - If\n",
    "\n",
    "Los condicionales nos permiten comprobar condiciones y hacer que nuestro programa se comporte de una forma u otra, y que ejecute un bloque de código particular dependiendo de esta condición.\n",
    "\n",
    "Mediante los comandos `if`, `elif` y `else`, le indicamos a Python que queremos ejecutar una porción de código solo si se cumple una determinada condición, es decir, si el resultado del condicional es `True`."
   ]
  },
  {
   "cell_type": "code",
   "execution_count": 22,
   "metadata": {},
   "outputs": [
    {
     "name": "stdout",
     "output_type": "stream",
     "text": [
      "Cruzar la calle\n"
     ]
    }
   ],
   "source": [
    "## Control de flujo que indica si cruzar una calle en función del sem´foro:\n",
    "semaforo = \"verde\"\n",
    "\n",
    "if semaforo == \"verde\": \n",
    "    print(\"Cruzar la calle\")\n",
    "elif semaforo == \"ambar\":\n",
    "    print(\"No cruces, está en ambar...\")\n",
    "else: \n",
    "    print(\"Espera verde\")"
   ]
  },
  {
   "cell_type": "markdown",
   "metadata": {},
   "source": [
    "### 1.3.2. Estructura de control iterativa - While\n",
    "\n",
    "El comando `while` permite ejecutar una porción de código de forma repetida hasta que la condición especificada sea `False`; o, dicho de otro modo, ejecuta una porción de código mientras que la condición sea verdadera."
   ]
  },
  {
   "cell_type": "code",
   "execution_count": 1,
   "metadata": {},
   "outputs": [
    {
     "name": "stdout",
     "output_type": "stream",
     "text": [
      "¡Hola, mundo!\n",
      "¡Hola, mundo!\n",
      "¡Hola, mundo!\n"
     ]
    }
   ],
   "source": [
    "a = 1\n",
    "while a < 4:\n",
    "    print(\"¡Hola, mundo!\")\n",
    "    a = a + 1"
   ]
  },
  {
   "cell_type": "markdown",
   "metadata": {},
   "source": [
    "Mediante los comandos `break` y `continue` podemos establecer condiciones de parada o continuidad dentro del bucle."
   ]
  },
  {
   "cell_type": "code",
   "execution_count": 5,
   "metadata": {},
   "outputs": [
    {
     "name": "stdout",
     "output_type": "stream",
     "text": [
      "1\n",
      "2\n",
      "3\n",
      "4\n"
     ]
    }
   ],
   "source": [
    "a = 1\n",
    "while a < 10:\n",
    "    print(a)\n",
    "    if a == 4:\n",
    "        break\n",
    "    a = a + 1"
   ]
  },
  {
   "cell_type": "markdown",
   "metadata": {},
   "source": [
    "### 1.3.3. Estructura de control iterativa - For\n",
    "\n",
    "El bucle `for` permite iterar sobre una estructura de datos, del tipo lista o tupla, y realizar una acción sobre cada uno de los objetos de éstas."
   ]
  },
  {
   "cell_type": "code",
   "execution_count": 3,
   "metadata": {},
   "outputs": [
    {
     "name": "stdout",
     "output_type": "stream",
     "text": [
      "1\n",
      "2\n",
      "3\n",
      "4\n",
      "Hola\n"
     ]
    }
   ],
   "source": [
    "seq = [1, 2, 3, 4, \"Hola\"]\n",
    "\n",
    "for i in seq:\n",
    "    print(i)"
   ]
  },
  {
   "cell_type": "markdown",
   "metadata": {},
   "source": [
    "Mediante los comandos `break` y `continue` podemos establecer condiciones de parada o continuidad dentro del bucle."
   ]
  },
  {
   "cell_type": "code",
   "execution_count": 7,
   "metadata": {},
   "outputs": [
    {
     "name": "stdout",
     "output_type": "stream",
     "text": [
      "1\n",
      "3\n",
      "7\n",
      "13\n"
     ]
    }
   ],
   "source": [
    "sequence=[1, 2, None, 4, None, 6]\n",
    "total = 0\n",
    "\n",
    "for i in sequence:\n",
    "    if i is None:\n",
    "        continue\n",
    "    total = total + i\n",
    "    print(total)"
   ]
  },
  {
   "cell_type": "markdown",
   "metadata": {},
   "source": [
    "Los bucles `for` permiten también correr el proceso con dos variables, o incluso realizar bucles dentro de otros bucles."
   ]
  },
  {
   "cell_type": "code",
   "execution_count": 22,
   "metadata": {},
   "outputs": [
    {
     "name": "stdout",
     "output_type": "stream",
     "text": [
      "0 1\n",
      "1 2\n",
      "2 3\n",
      "3 4\n",
      "4 Hola\n"
     ]
    }
   ],
   "source": [
    "seq = [1, 2, 3, 4, \"Hola\"]\n",
    "\n",
    "for i, j in enumerate(seq):\n",
    "    print(i, j)"
   ]
  },
  {
   "cell_type": "markdown",
   "metadata": {},
   "source": [
    "## 1.4. Funciones\n",
    "\n",
    "Una función es un bloque de código, que recibe cero o más argumentos como entrada, sigue una secuencia de sentencias las cuales ejecutan una operación deseada, y devuelve un valor y/o realiza una tarea. Una vez definido este bloque, puede ser llamado cuando se necesite.\n",
    "\n",
    "El uso de funciones es una componente muy importante en el paradigma de la programación estructurada, y tiene varias ventajas:\n",
    "\n",
    "- Modularización: permite segmentar un programa complejo en una serie de partes o módulos más simples, facilitando así la programación y el depurado.\n",
    "- Reutilización: permite reutilizar una misma función en distintos programas.\n",
    "\n",
    "Python dispone de una serie de funciones integradas que son nativas del lenguaje, pero también permite crear funciones definidas por el usuario para ser usadas en su propios programas."
   ]
  },
  {
   "cell_type": "markdown",
   "metadata": {},
   "source": [
    "### 1.4.1. Definir funciones\n",
    "\n",
    "Para definir una función se emplea la siguiente sintaxis:"
   ]
  },
  {
   "cell_type": "code",
   "execution_count": null,
   "metadata": {},
   "outputs": [],
   "source": [
    "def function_name(param1, param2...):    ## Se define el nombre de la función y se indican los paráemtros de entrada\n",
    "                                         ## Se describe el funcionamiento de la función\n",
    "    '''Description\n",
    "    '''\n",
    "    actions                              ## Se indica lo que debe hacer\n",
    "    return                               ## Devuelve el output"
   ]
  },
  {
   "cell_type": "markdown",
   "metadata": {},
   "source": [
    "Las funciones pueden comunicarse con el exterior de las mismas usando la sentencia `return`. Si este parámetro no se indica el valor de salida de la función por defecto es `None`.\n",
    "\n",
    "Se puede acceder a la información de una función mediante el comando `help(function)`. Como salida de este proceso se obtiene el descriptivo que haya indicado el desarrollador dentro de esa función."
   ]
  },
  {
   "cell_type": "markdown",
   "metadata": {},
   "source": [
    "### 1.4.2. Importar módulos\n",
    "\n",
    "Un módulo es un fichero con extensión `.py` que contiene funciones y variables adicionales. Los módulos pueden ser creados por un desarrollador para mejorar y extender las funcionalidades de python, como por ejemplo un módulo con funciones matemáticas avanzadas.\n",
    "\n",
    "Estos módulos permiten organizar el código, y hacerlo más modular y escalable.\n",
    "\n",
    "La sintaxis para llamar a un módulo es: `import [module] as [alias]`, o `from [module] import [function] as [alias]`.\n",
    "\n",
    "Dentro del ámbito del data science existen una serie de módulos que son de uso frecuente, y qué ademas se importan siempre bajo el mismo nombre, de modo que si otra persona leyera nuestro código supiera a que módulo pertenece cada función.\n",
    "\n",
    "- `import pandas as pd`\n",
    "- `import numpy as np`\n",
    "- `import matplotlib.pyplot as plt`\n",
    "- `import seaborn as sns`\n",
    "\n",
    "Una buena práctica es extraer de cada módulo, solo aquellas funciones que vayan a utilizarse. De este modo quedan definidas al principio del script, y si se encontrara alguna función desconocida durante el código se puede analizar rápidamente si pertenece a uno de los módulo cargados, o no."
   ]
  },
  {
   "cell_type": "markdown",
   "metadata": {},
   "source": [
    "## 1.5. Escalares\n",
    "\n",
    "Dentro de los objetos escalares podemos identificar:\n",
    "\n",
    "- int: número entero\n",
    "- long: número entero grande\n",
    "- float: número decimal\n",
    "- str: string (cadena de caracteres)\n",
    "- bool: True (1) or False (0)\n",
    "- None: valor \"null\" en Python"
   ]
  },
  {
   "cell_type": "markdown",
   "metadata": {},
   "source": [
    "### 1.5.1. Numéricos\n",
    "\n",
    "Son aquellos datos que hacen referencia exclusivamente a valores numéricos."
   ]
  },
  {
   "cell_type": "code",
   "execution_count": 11,
   "metadata": {},
   "outputs": [
    {
     "data": {
      "text/plain": [
       "(12342, int)"
      ]
     },
     "execution_count": 11,
     "metadata": {},
     "output_type": "execute_result"
    }
   ],
   "source": [
    "k = 12342\n",
    "k, type(k)"
   ]
  },
  {
   "cell_type": "code",
   "execution_count": 4,
   "metadata": {},
   "outputs": [
    {
     "data": {
      "text/plain": [
       "(3.141592, float)"
      ]
     },
     "execution_count": 4,
     "metadata": {},
     "output_type": "execute_result"
    }
   ],
   "source": [
    "k = 3.141592\n",
    "k, type(k)"
   ]
  },
  {
   "cell_type": "markdown",
   "metadata": {},
   "source": [
    "Con estos objetos se pueden llevar a cabo las operaciones matemáticas más clásicas como sumas, restas, multiplicaciones...etc. Para operaciones más avanzadas puede que sea necesario importar módulos específicos."
   ]
  },
  {
   "cell_type": "code",
   "execution_count": 6,
   "metadata": {},
   "outputs": [
    {
     "name": "stdout",
     "output_type": "stream",
     "text": [
      "28\n"
     ]
    }
   ],
   "source": [
    "a = 3\n",
    "b = 4\n",
    "c = 5\n",
    "\n",
    "print(a*b + (c-a)**b)"
   ]
  },
  {
   "cell_type": "markdown",
   "metadata": {},
   "source": [
    "### 1.5.2. Strings\n",
    "\n",
    "Los objetos de tipo string son aquellos que concatenan carácteres de tipo texto. Se introducen entre comillas simples o dobles. Un valor numérico se puede pasar como string si es entrecomillado.\n",
    "\n",
    "Este tipo de objeto es inmutable, por lo que para modificarse debe ser alojado en una nueva variable."
   ]
  },
  {
   "cell_type": "code",
   "execution_count": 6,
   "metadata": {},
   "outputs": [
    {
     "data": {
      "text/plain": [
       "str"
      ]
     },
     "execution_count": 6,
     "metadata": {},
     "output_type": "execute_result"
    }
   ],
   "source": [
    "a = 'this is a string'\n",
    "type(a)"
   ]
  },
  {
   "cell_type": "markdown",
   "metadata": {},
   "source": [
    "### 1.5.3. Booleanos\n",
    "\n",
    "El tipo booleano sólo puede tener dos valores: `True` y `False`. Estos valores son especialmente importantes dentro de las estructuras de control de flujo.\n",
    "\n",
    "En el contexto de las operaciones booleanas, y también cuando las expresiones son usadas bajo sentencias de flujo de control, los siguientes valores son interpretados como False:\n",
    "\n",
    "- False\n",
    "- None\n",
    "- Número cero\n",
    "- Cadena de caracteres vacia\n",
    "- Contenedores, incluyendo cadenas de caracteres, tuplas, listas, diccionarios y conjuntos mutables e inmutables."
   ]
  },
  {
   "cell_type": "code",
   "execution_count": 19,
   "metadata": {},
   "outputs": [
    {
     "name": "stdout",
     "output_type": "stream",
     "text": [
      "False\n",
      "False\n",
      "False\n",
      "False\n"
     ]
    }
   ],
   "source": [
    "print(bool(0))\n",
    "print(bool(0.))\n",
    "print(bool(\"\"))\n",
    "print(bool([]))"
   ]
  },
  {
   "cell_type": "markdown",
   "metadata": {},
   "source": [
    "# 2. Shell con Python"
   ]
  },
  {
   "cell_type": "markdown",
   "metadata": {},
   "source": [
    "Desde jupyter también se pueden ejecutar comandos en la shell. La forma de realizar esto depende del sistema operativo:\n",
    "\n",
    "- `!`: Linux y MacOS\n",
    "- `!wsl`: Windows Subsystem for Linux\n",
    "\n",
    "Como este notebook está escrito desde un Windows, se utilizará la segunda opción. También se puede recurrir a los magic commands:\n",
    "\n",
    "- `%`: magic line\n",
    "- `%%`: magic cell\n",
    "\n",
    "Las magic functions con comandos propios del intérprete de Python, por lo que si se ejecutan en cualquier otro intérprete que no sea este, podría dar fallo. Cuando se indica con una exclamación `!` que un comando de shell va a ser introducido, en verdad se está haciendo referencia a la magic cell `%%!`.\n",
    "\n",
    "Con la función `%lsmagic` se pueden listar todas las funciones mágicas disponibles. Con `%magic` se puede obtener información general sobre qué son las funciones mágicas."
   ]
  },
  {
   "cell_type": "code",
   "execution_count": 41,
   "metadata": {},
   "outputs": [
    {
     "name": "stdout",
     "output_type": "stream",
     "text": [
      "/mnt/c/Users/Guillermo/Desktop/Developer/github_repositories/kschool_ds_master\n"
     ]
    }
   ],
   "source": [
    "!wsl pwd"
   ]
  },
  {
   "cell_type": "code",
   "execution_count": 71,
   "metadata": {},
   "outputs": [
    {
     "name": "stdout",
     "output_type": "stream",
     "text": [
      "/mnt/c/Users/Guillermo/Desktop/Developer\n"
     ]
    }
   ],
   "source": [
    "%%bash\n",
    "pwd"
   ]
  },
  {
   "cell_type": "markdown",
   "metadata": {},
   "source": [
    "Se le puede asignar a variables de Python, los outputs de los comandos ejecutados en la shell."
   ]
  },
  {
   "cell_type": "code",
   "execution_count": 51,
   "metadata": {},
   "outputs": [
    {
     "name": "stdout",
     "output_type": "stream",
     "text": [
      "total 176\n",
      "-rwxrwxrwx 1 gmachin gmachin   1168 Oct  1 11:59 README.md\n",
      "-rwxrwxrwx 1 gmachin gmachin 144604 Oct  1 12:19 _01_shell_git.ipynb\n",
      "-rwxrwxrwx 1 gmachin gmachin  27445 Oct  5 19:19 _02_python_algebra_estadistica.ipynb\n",
      "drwxrwxrwx 1 gmachin gmachin   4096 Sep 29 13:43 _data_open_travel_data\n",
      "drwxrwxrwx 1 gmachin gmachin   4096 Sep 29 17:43 _images\n"
     ]
    }
   ],
   "source": [
    "%%bash\n",
    "ls -l"
   ]
  },
  {
   "cell_type": "code",
   "execution_count": 53,
   "metadata": {},
   "outputs": [
    {
     "data": {
      "text/plain": [
       "IPython.utils.text.SList"
      ]
     },
     "execution_count": 53,
     "metadata": {},
     "output_type": "execute_result"
    }
   ],
   "source": [
    "fichero_readme = ! cat README.md\n",
    "type(fichero_readme)"
   ]
  },
  {
   "cell_type": "markdown",
   "metadata": {},
   "source": [
    "Los output en python pueden tener los siguientes atributos especiales:\n",
    "\n",
    "- .l (o .list) : lista\n",
    "- .n (o .nlstr): newline-separated string\n",
    "- .s (o .spstr): space-separated string"
   ]
  },
  {
   "cell_type": "markdown",
   "metadata": {},
   "source": [
    "# 3. Algebra con Python"
   ]
  },
  {
   "cell_type": "markdown",
   "metadata": {},
   "source": [
    "# 4. Estadística con Python"
   ]
  },
  {
   "cell_type": "markdown",
   "metadata": {},
   "source": [
    "# 5. Ejercicios"
   ]
  },
  {
   "cell_type": "markdown",
   "metadata": {},
   "source": [
    "## 5.1. Funciones y escalares"
   ]
  },
  {
   "cell_type": "code",
   "execution_count": 23,
   "metadata": {},
   "outputs": [
    {
     "name": "stdout",
     "output_type": "stream",
     "text": [
      "Guille will reach 100 years in 2093\n"
     ]
    }
   ],
   "source": [
    "## 1. Escribe una función que indicando el nombre y el año de nacimiento de una persona,\n",
    "## indique en qué año cunplirá 100 años. La función debe preever que el año de nacimiento\n",
    "## pueda ser numérico o string.\n",
    "\n",
    "def centenario(name, birth):\n",
    "    if isinstance(birth, int):\n",
    "        print(f\"{name} will reach 100 years in {birth+100}\")\n",
    "    else:\n",
    "        print(f\"{name} will reach 100 years in {int(birth)+100}\")\n",
    "        \n",
    "\n",
    "centenario(\"Guille\", \"1993\")"
   ]
  },
  {
   "cell_type": "code",
   "execution_count": 26,
   "metadata": {},
   "outputs": [
    {
     "name": "stdout",
     "output_type": "stream",
     "text": [
      "La longitud es 28\n",
      "El número de palabras es 5\n",
      "El número de lineas es 2\n"
     ]
    }
   ],
   "source": [
    "## 2. Define una función que contabilice la longitud de un texto, el número de palabras,\n",
    "## y el número de lineas.\n",
    "\n",
    "def word_count(string1):\n",
    "    longitud = len(string1)\n",
    "    palabras = len(string1.split(\" \"))\n",
    "    lineas = len(string1.split(\"\\n\"))\n",
    "    print(f\"La longitud es {longitud}\")\n",
    "    print(f\"El número de palabras es {palabras}\")\n",
    "    print(f\"El número de lineas es {lineas}\")\n",
    "\n",
    "word_count(\"Vaya vaya,\\n que tenemos aquí\")"
   ]
  },
  {
   "cell_type": "code",
   "execution_count": 28,
   "metadata": {},
   "outputs": [
    {
     "data": {
      "text/plain": [
       "'Pythn'"
      ]
     },
     "execution_count": 28,
     "metadata": {},
     "output_type": "execute_result"
    }
   ],
   "source": [
    "## 3. Escribe una función para eliminar el n-ésimo carácter de un string. Si el string\n",
    "## estuviera vacío, indicarlo.\n",
    "\n",
    "def remove_nth(word, n):\n",
    "    if word == \"\":\n",
    "        print(\"El string se encuentra en blanco.\")\n",
    "    else:\n",
    "        first_part = word[:n]\n",
    "        last_part = word[n+1:]\n",
    "    return first_part + last_part\n",
    "\n",
    "remove_nth('Python', 4)"
   ]
  },
  {
   "cell_type": "markdown",
   "metadata": {},
   "source": [
    "## 5.2. Shell"
   ]
  },
  {
   "cell_type": "code",
   "execution_count": null,
   "metadata": {},
   "outputs": [],
   "source": [
    "## 1. Contar las palabras en la frase \"this is shell in python\".\n",
    "\n",
    "text = 'this is shell in python'\n",
    "! echo {text} | wc -w"
   ]
  },
  {
   "cell_type": "code",
   "execution_count": null,
   "metadata": {},
   "outputs": [],
   "source": [
    "## 2. Para cada directorio del historial de directorios (_dh, %dhist), obtener el número de archivos.\n",
    "\n",
    "for folder in _dh:\n",
    "    n_files = ! ls $folder | wc -l    ## Las variables en shell se introducen mediante el símobolo $.\n",
    "    print(folder, n_files)"
   ]
  },
  {
   "cell_type": "code",
   "execution_count": null,
   "metadata": {},
   "outputs": [],
   "source": [
    "## 3. Mediante comandos de shell, crea un fichero .py que al ejcutarse imprima \"Hello World!\".\n",
    "\n",
    "! echo 'print(\"Hello World!\")' > hello_world.py"
   ]
  },
  {
   "cell_type": "markdown",
   "metadata": {},
   "source": [
    "# 6. Bibliografía\n",
    "\n",
    "- KSchool Data Science Master Ed. 23.\n",
    "- Python for Data Analysis. ISBN: 978-1-491-95766-0.\n",
    "- https://es.wikipedia.org/wiki/Python"
   ]
  }
 ],
 "metadata": {
  "kernelspec": {
   "display_name": "Python 3",
   "language": "python",
   "name": "python3"
  },
  "language_info": {
   "codemirror_mode": {
    "name": "ipython",
    "version": 3
   },
   "file_extension": ".py",
   "mimetype": "text/x-python",
   "name": "python",
   "nbconvert_exporter": "python",
   "pygments_lexer": "ipython3",
   "version": "3.7.6"
  }
 },
 "nbformat": 4,
 "nbformat_minor": 4
}
