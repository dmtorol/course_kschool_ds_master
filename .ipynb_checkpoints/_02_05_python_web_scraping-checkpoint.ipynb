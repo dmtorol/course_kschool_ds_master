{
 "cells": [
  {
   "cell_type": "markdown",
   "metadata": {},
   "source": [
    "# Web APIs and Web Scraping\n",
    "\n",
    "El web scraping es una técnica que podría ayudarnos a transformar datos HTML no estructurados en datos estructurados en una hoja de cálculo o base de datos.\n",
    "\n",
    "Para algunos sitios web grandes como Airbnb, Twitter o Spotify, podemos encontrar APIs para que los desarrolladores accedan a sus datos. API (*application programming interface*) significa interfaz de programación de aplicaciones, que es el acceso para que dos aplicaciones se comuniquen entre sí. Para la mayoría de las personas, API es el enfoque más óptimo para obtener datos proporcionados por el propio sitio web.\n",
    "\n",
    "Sin embargo, la mayoría de los sitios web no tienen servicios API. A veces, incluso si proporcionan API, los datos que podría obtener no son los que desea. Por lo tanto, escribir una secuencia de comandos de Python para crear un rastreador web se convierte en otra solución poderosa y flexible, a estas técnicas se le denomina web scraping."
   ]
  },
  {
   "cell_type": "markdown",
   "metadata": {},
   "source": [
    "# 1. Web API's\n",
    "\n",
    "Una API, o *application programming interface*, es un forma que tienen diferentes programas de comunicarse entre ellos. Web APIs es por lo tanto, el método por que dos programas se comunican a través de internet.\n",
    "\n",
    "Las herramientas que generlmente vamos a utilizar con las API's son: `post` y `get`. Estas herramientas permiten obtener o remitir información a una URL definida. Estas dos herramientas forman parte del módulo `requests`, que es una librería para trabajar con el protocolo HTTP (*Hypertext Transfer Protocol*).\n",
    "\n",
    "- `get`: el método `get` solicita una representación del recurso especificado. Las solicitudes que usan `get` solo deben recuperar datos y no deben tener ningún otro efecto.\n",
    "\n",
    "- `post`: envía datos para que sean procesados por el recurso identificado en la URI de la línea petición. Los datos se incluirán en el cuerpo de la petición. A nivel semántico está orientado a crear un nuevo recurso."
   ]
  },
  {
   "cell_type": "code",
   "execution_count": 2,
   "metadata": {},
   "outputs": [],
   "source": [
    "import requests"
   ]
  },
  {
   "cell_type": "code",
   "execution_count": 10,
   "metadata": {},
   "outputs": [
    {
     "data": {
      "text/plain": [
       "requests.models.Response"
      ]
     },
     "execution_count": 10,
     "metadata": {},
     "output_type": "execute_result"
    }
   ],
   "source": [
    "req = requests.get('https://elpais.com')\n",
    "type(req)"
   ]
  },
  {
   "cell_type": "markdown",
   "metadata": {},
   "source": [
    "Toda la información sobre nuestra petición está ahora almacenada en un objeto Response llamado `req`. Por ejemplo, puedes obtener la codificación de la página web usando la propiedad `.encoding`. También puedes obtener el código de estado de la petición usando la propiedad `.status_code`."
   ]
  },
  {
   "cell_type": "code",
   "execution_count": 9,
   "metadata": {},
   "outputs": [
    {
     "data": {
      "text/plain": [
       "('utf-8', 200)"
      ]
     },
     "execution_count": 9,
     "metadata": {},
     "output_type": "execute_result"
    }
   ],
   "source": [
    "req.encoding, req.status_code"
   ]
  },
  {
   "cell_type": "markdown",
   "metadata": {},
   "source": [
    "Cuando ejecutamos un método de petición, lo que se obtiene es un código de respuesta `.status_code`, que es un número que indica que ha ocurrido con la petición:\n",
    "\n",
    "- Códigos con formato 1xx: Respuestas informativas. Indica que la petición ha sido recibida y se está procesando.\n",
    "- Códigos con formato 2xx: Respuestas correctas. Indica que la petición ha sido procesada correctamente.\n",
    "- Códigos con formato 3xx: Respuestas de redirección. Indica que el cliente necesita realizar más acciones para finalizar la petición.\n",
    "- Códigos con formato 4xx: Errores causados por el cliente. Indica que ha habido un error en el procesado de la petición a causa de que el cliente ha hecho algo mal.\n",
    "- Códigos con formato 5xx: Errores causados por el servidor. Indica que ha habido un error en el procesado de la petición a causa de un fallo en el servidor."
   ]
  },
  {
   "cell_type": "markdown",
   "metadata": {},
   "source": [
    "También se puede acceder al contenido de la petición mediante el atributo `.content`, o `.text`."
   ]
  },
  {
   "cell_type": "code",
   "execution_count": 15,
   "metadata": {},
   "outputs": [
    {
     "data": {
      "text/plain": [
       "b'<!DOCTYPE html><html lang=\"es\"><head><title>EL PA\\xc3\\x8dS: el peri\\xc3\\xb3dico global</title><meta name=\"lang\" content=\"es\"/><meta name=\"author\" content=\"Ediciones El Pa\\xc3\\xads\"/><meta name=\"robots\" content=\"index,follow\"/><meta name=\"description\" content=\"Noticias de \\xc3\\xbaltima hora sobre la actualidad en Espa\\xc3\\xb1a y el mundo: pol\\xc3\\xadtica, econom\\xc3\\xada, deportes, cultura, sociedad, tecnolog\\xc3\\xada, gente, opini\\xc3\\xb3n, viajes, moda, televisi\\xc3\\xb3n, los blogs y las firmas de EL PA\\xc3\\x8dS. Adem\\xc3\\xa1s especiales, v\\xc3\\xaddeos, fotos, audios, gr'"
      ]
     },
     "execution_count": 15,
     "metadata": {},
     "output_type": "execute_result"
    }
   ],
   "source": [
    "req.content[:500]"
   ]
  },
  {
   "cell_type": "markdown",
   "metadata": {},
   "source": [
    "## 1.1. Acceder a una API\n",
    "\n",
    "Para explicar parte se va a realizar mediante un ejercicio de tipo práctico. En la url http://open-notify.org/ podemos encontrar tres APIs que arrojan información relativa a la estación espacial internacional (*ISS*).\n",
    "\n",
    "En el primer ejercicio vamos a trabajar con l API *International Space Station Current Location*, la cual da la coordenadas a cada momento de la posición de la ISS. Para obtener esta información en cualquier programa de python, lo único que tendremos que realizar es un `get()`."
   ]
  },
  {
   "cell_type": "code",
   "execution_count": 23,
   "metadata": {},
   "outputs": [
    {
     "data": {
      "text/plain": [
       "b'{\"iss_position\": {\"longitude\": \"-80.8566\", \"latitude\": \"32.6177\"}, \"timestamp\": 1603731027, \"message\": \"success\"}'"
      ]
     },
     "execution_count": 23,
     "metadata": {},
     "output_type": "execute_result"
    }
   ],
   "source": [
    "url = 'http://api.open-notify.org/iss-now.json'\n",
    "iss_location = requests.get(url)\n",
    "iss_location.content"
   ]
  },
  {
   "cell_type": "markdown",
   "metadata": {},
   "source": [
    "El contenido de la petición es string con formato json, por lo que podemos acceder a él mediante la librería `json` y trabajar con sus elementos."
   ]
  },
  {
   "cell_type": "code",
   "execution_count": 24,
   "metadata": {},
   "outputs": [
    {
     "data": {
      "text/plain": [
       "{'iss_position': {'longitude': '-80.8566', 'latitude': '32.6177'},\n",
       " 'timestamp': 1603731027,\n",
       " 'message': 'success'}"
      ]
     },
     "execution_count": 24,
     "metadata": {},
     "output_type": "execute_result"
    }
   ],
   "source": [
    "import json\n",
    "\n",
    "iss_location_json = json.loads(iss_location.content)\n",
    "iss_location_json"
   ]
  },
  {
   "cell_type": "code",
   "execution_count": 25,
   "metadata": {},
   "outputs": [
    {
     "data": {
      "text/plain": [
       "'32.6177'"
      ]
     },
     "execution_count": 25,
     "metadata": {},
     "output_type": "execute_result"
    }
   ],
   "source": [
    "iss_location_json['iss_position']['latitude']"
   ]
  },
  {
   "cell_type": "markdown",
   "metadata": {},
   "source": [
    "También es accesible esta información mediante el método `.json()` de la request."
   ]
  },
  {
   "cell_type": "code",
   "execution_count": 36,
   "metadata": {},
   "outputs": [
    {
     "data": {
      "text/plain": [
       "{'iss_position': {'longitude': '-80.8566', 'latitude': '32.6177'},\n",
       " 'timestamp': 1603731027,\n",
       " 'message': 'success'}"
      ]
     },
     "execution_count": 36,
     "metadata": {},
     "output_type": "execute_result"
    }
   ],
   "source": [
    "iss_location.json()"
   ]
  },
  {
   "cell_type": "markdown",
   "metadata": {},
   "source": [
    "**Ejercicio:**\n",
    "\n",
    "Escribe una funión que devuelva la duration de los 5 próximos pases de la ISS para una latitud y longitud dada. Use http://open-notify.org/Open-Notify-API/ISS-Pass-Times/\n",
    "\n",
    "Necesitamos parametrizar las coordenadas en la petición como se define en las especificaciones de la API. Por ejemplo para Madrid:\n",
    "\n",
    "http://api.open-notify.org/iss-pass.json?lat=40.4&lon=-3.7"
   ]
  },
  {
   "cell_type": "code",
   "execution_count": 29,
   "metadata": {},
   "outputs": [
    {
     "data": {
      "text/plain": [
       "[{'duration': 598, 'risetime': 1603768345},\n",
       " {'duration': 646, 'risetime': 1603774117},\n",
       " {'duration': 574, 'risetime': 1603779999},\n",
       " {'duration': 563, 'risetime': 1603785877},\n",
       " {'duration': 637, 'risetime': 1603791694}]"
      ]
     },
     "execution_count": 29,
     "metadata": {},
     "output_type": "execute_result"
    }
   ],
   "source": [
    "# http://api.open-notify.org/iss-pass.json?lat=LAT&lon=LON\n",
    "# http://api.open-notify.org/iss-pass.json?lat=40.4&lon=-3.7\n",
    "\n",
    "def iss_pass_times(lat, lon):\n",
    "    url = f'http://api.open-notify.org/iss-pass.json?lat={lat}&lon={lon}'\n",
    "    iss_pass = requests.get(url)\n",
    "    iss_pass_json = json.loads(iss_pass.content)\n",
    "    passes = iss_pass_json['response']\n",
    "    return passes\n",
    "\n",
    "iss_pass_times('40.4', '-3.7')"
   ]
  },
  {
   "cell_type": "markdown",
   "metadata": {},
   "source": [
    "Aunque en el caso anterior resulta sencillo codificar los parámetros dentro de la URL, a veces puede ser una tarea más complicada y propiciar errores en la codificación. Para solventar este problema, el módulo `requests` permite pasar los parámetros mediante un diccionario como argumentos de la función `get()`."
   ]
  },
  {
   "cell_type": "code",
   "execution_count": 30,
   "metadata": {},
   "outputs": [
    {
     "data": {
      "text/plain": [
       "b'{\\n  \"message\": \"success\", \\n  \"request\": {\\n    \"altitude\": 100, \\n    \"datetime\": 1603731644, \\n    \"latitude\": 40.0, \\n    \"longitude\": -3.0, \\n    \"passes\": 5\\n  }, \\n  \"response\": [\\n    {\\n      \"duration\": 607, \\n      \"risetime\": 1603768342\\n    }, \\n    {\\n      \"duration\": 642, \\n      \"risetime\": 1603774123\\n    }, \\n    {\\n      \"duration\": 564, \\n      \"risetime\": 1603780011\\n    }, \\n    {\\n      \"duration\": 557, \\n      \"risetime\": 1603785890\\n    }, \\n    {\\n      \"duration\": 636, \\n      \"risetime\": 1603791705\\n    }\\n  ]\\n}\\n'"
      ]
     },
     "execution_count": 30,
     "metadata": {},
     "output_type": "execute_result"
    }
   ],
   "source": [
    "madrid = {'lat': 40, 'lon': -3}\n",
    "\n",
    "response = requests.get('http://api.open-notify.org/iss-pass.json', params = madrid)\n",
    "response.content"
   ]
  },
  {
   "cell_type": "markdown",
   "metadata": {},
   "source": [
    "En otros casos, la parametrización de la request puede ser tan complicada, que sea necesario enviarlos en formato json o con un formulario HTML, mediante la herramienta `post` mencionada al principio del notebook se puede realicar esta solicitud."
   ]
  },
  {
   "cell_type": "code",
   "execution_count": 38,
   "metadata": {},
   "outputs": [
    {
     "data": {
      "text/plain": [
       "'{\\n  \"args\": {}, \\n  \"data\": \"\", \\n  \"files\": {}, \\n  \"form\": {\\n    \"key1\": \"value1\", \\n    \"key2\": \"value2\"\\n  }, \\n  \"headers\": {\\n    \"Accept\": \"*/*\", \\n    \"Accept-Encoding\": \"gzip, deflate\", \\n    \"Content-Length\": \"23\", \\n    \"Content-Type\": \"application/x-www-form-urlencoded\", \\n    \"Host\": \"httpbin.org\", \\n    \"User-Agent\": \"python-requests/2.24.0\", \\n    \"X-Amzn-Trace-Id\": \"Root=1-5f970370-41c0974f78e117535e40efb9\"\\n  }, \\n  \"json\": null, \\n  \"origin\": \"83.50.213.41\", \\n  \"url\": \"http://httpbin.org/post\"\\n}\\n'"
      ]
     },
     "execution_count": 38,
     "metadata": {},
     "output_type": "execute_result"
    }
   ],
   "source": [
    "payload = {'key1': 'value1', 'key2': 'value2'}\n",
    "r = requests.post(\"http://httpbin.org/post\", data=payload)\n",
    "r.text"
   ]
  },
  {
   "cell_type": "markdown",
   "metadata": {},
   "source": [
    "# 2. Web Scraping\n",
    "\n",
    "En un navegador lo que hacemos es escribir una URL, lo que hace que se envíe una petición siguiendo el protocolo HTTP, a un servidor, el cual nos devuelve el código HTML que nuestro navegador consigue interpretar y transformar con ese aspecto visual que vemos en las páginas web.\n",
    "\n",
    "Con Python podemos hacer exactamente lo mismo, crear programas que generen peticiones al servidor y recibir el código fuente en formato HTML.\n",
    "\n",
    "En general, un código HTML, el código fuente de una página, contiene muchísima información, de la cual solo nos interesan ciertas partes. Es en este código dónde mediante diferentes librerías, podremos \"arañar\" la información que buscamos según una base de parámetros.\n",
    "\n",
    "Una de las librerías más utilizas para llevar a cabo web scraping es `BeautifulSoup`."
   ]
  },
  {
   "cell_type": "code",
   "execution_count": 50,
   "metadata": {},
   "outputs": [],
   "source": [
    "from bs4 import BeautifulSoup"
   ]
  },
  {
   "cell_type": "markdown",
   "metadata": {},
   "source": [
    "Para poder encontrar dentro del código HTML la información del elemento que nos interesa, es necesario inspeccionarlo (botón derecho del ratón) y encontrar su TAG *(<>, </>)* y jerarquía de etiquetas dentro del código.\n",
    "\n",
    "<img src=\"_images\\web_scraping_inspect.png\" alt=\"Drawing\" style=\"width: 800px;\"/>"
   ]
  },
  {
   "cell_type": "markdown",
   "metadata": {},
   "source": [
    "## 2.1. Ética del Web Scraping\n",
    "\n",
    "Ahora que tenemos los módulos que necesitamos, podemos empezar a realizar web scraping, pero primero, una serie de conductas éticas:\n",
    "\n",
    "- Es necesario revisar los términos y condiciones del sitio web que vayamos a scrapear. Son sus datos, y probablemente tengan algun reglamento de gobiernos del datos sobre ellos.\n",
    "\n",
    "- Se prudente, un ordenador es capaz de solicitar requests mucho más rápido que cualquier humano. Asegurate de espaciar tus requests en el tiempo para no sobrecargar los servidores.\n",
    "\n",
    "- La estructura de las páginas web cambia constantemente, por lo que debes estar preparado para reescribir tu código. Adicionalmente, las webs suelen presentar inconsistencias, por lo que muchas veces es necesario limpiar los datos un vez se han obtenido."
   ]
  },
  {
   "cell_type": "markdown",
   "metadata": {},
   "source": [
    "## 2.2. Métodos BeautifulSoup \n",
    "\n",
    "Dentro de `BeautifulSoup` podemos encontrar dos métodos para buscar información:\n",
    "\n",
    "- `find()`: encuentra el primer TAG coincidente, y devuelve un TAG object\n",
    "- `find_all()`: encuentra todos los TAG coincidentes, y devuelve un ResultSet object\n",
    "\n",
    "Una vez se tienen los TAG, se puede extraer información de los mismos mediante los siguientes métodos:\n",
    "\n",
    "- `.text`: extrae el texto del TAG y devuelve un string\n",
    "- `.content`: extrae todos los hijos del TAG, y devuelve una lista de TAGs y strings"
   ]
  },
  {
   "cell_type": "code",
   "execution_count": 43,
   "metadata": {},
   "outputs": [],
   "source": [
    "req = requests.get('https://www.elmundotoday.com/')\n",
    "soup = BeautifulSoup(req.content)"
   ]
  },
  {
   "cell_type": "code",
   "execution_count": 45,
   "metadata": {},
   "outputs": [
    {
     "data": {
      "text/plain": [
       "<ul class=\"td-mobile-main-menu\" id=\"menu-menu-mobile\"><li class=\"menu-item menu-item-type-custom menu-item-object-custom menu-item-first menu-item-65940\" id=\"menu-item-65940\"><a href=\"https://www.elmundotoday.com/login/\">Iniciar sesión</a></li>\n",
       "<li class=\"menu-item menu-item-type-taxonomy menu-item-object-category menu-item-65931\" id=\"menu-item-65931\"><a href=\"https://www.elmundotoday.com/noticias/internacional/\">Internacional</a></li>\n",
       "<li class=\"menu-item menu-item-type-taxonomy menu-item-object-category menu-item-65932\" id=\"menu-item-65932\"><a href=\"https://www.elmundotoday.com/noticias/espanya/\">España</a></li>\n",
       "<li class=\"menu-item menu-item-type-taxonomy menu-item-object-category menu-item-65933\" id=\"menu-item-65933\"><a href=\"https://www.elmundotoday.com/noticias/sociedad/\">Sociedad</a></li>\n",
       "<li class=\"menu-item menu-item-type-taxonomy menu-item-object-category menu-item-65934\" id=\"menu-item-65934\"><a href=\"https://www.elmundotoday.com/noticias/tecnologia/\">Ciencia y Tecnología</a></li>\n",
       "<li class=\"menu-item menu-item-type-taxonomy menu-item-object-category menu-item-65935\" id=\"menu-item-65935\"><a href=\"https://www.elmundotoday.com/noticias/cultura/\">Cultura</a></li>\n",
       "<li class=\"menu-item menu-item-type-taxonomy menu-item-object-category menu-item-65936\" id=\"menu-item-65936\"><a href=\"https://www.elmundotoday.com/noticias/gente/\">Gente</a></li>\n",
       "<li class=\"menu-item menu-item-type-taxonomy menu-item-object-category menu-item-65937\" id=\"menu-item-65937\"><a href=\"https://www.elmundotoday.com/noticias/deportes/\">Deportes</a></li>\n",
       "<li class=\"menu-item menu-item-type-taxonomy menu-item-object-category menu-item-65938\" id=\"menu-item-65938\"><a href=\"https://www.elmundotoday.com/noticias/videos/\">Vídeos</a></li>\n",
       "</ul>"
      ]
     },
     "execution_count": 45,
     "metadata": {},
     "output_type": "execute_result"
    }
   ],
   "source": [
    "section_header = soup.find('ul')\n",
    "section_header"
   ]
  },
  {
   "cell_type": "code",
   "execution_count": 46,
   "metadata": {},
   "outputs": [
    {
     "name": "stdout",
     "output_type": "stream",
     "text": [
      "Iniciar sesión\n",
      "https://www.elmundotoday.com/login/\n",
      "Internacional\n",
      "https://www.elmundotoday.com/noticias/internacional/\n",
      "España\n",
      "https://www.elmundotoday.com/noticias/espanya/\n",
      "Sociedad\n",
      "https://www.elmundotoday.com/noticias/sociedad/\n",
      "Ciencia y Tecnología\n",
      "https://www.elmundotoday.com/noticias/tecnologia/\n",
      "Cultura\n",
      "https://www.elmundotoday.com/noticias/cultura/\n",
      "Gente\n",
      "https://www.elmundotoday.com/noticias/gente/\n",
      "Deportes\n",
      "https://www.elmundotoday.com/noticias/deportes/\n",
      "Vídeos\n",
      "https://www.elmundotoday.com/noticias/videos/\n"
     ]
    }
   ],
   "source": [
    "for section in section_header.find_all('li'):\n",
    "    print(section.text)\n",
    "    print(section.find('a')['href'])"
   ]
  },
  {
   "cell_type": "code",
   "execution_count": 48,
   "metadata": {},
   "outputs": [
    {
     "data": {
      "text/plain": [
       "[('Un salón, un bar y una clase: así  contagia el fascismo',\n",
       "  'https://www.elmundotoday.com/2020/10/un-salon-un-bar-y-una-clase-asi-contagia-el-fascismo/'),\n",
       " ('Los chilenos votan a favor de modificar la Constitución para que Felipe VI sea su rey',\n",
       "  'https://www.elmundotoday.com/2020/10/los-chilenos-votan-a-favor-de-modificar-la-constitucion-para-que-felipe-vi-sea-su-rey/'),\n",
       " ('El Gobierno informa de que incumplir el toque de queda supondrá penalti a favor del Real Madrid',\n",
       "  'https://www.elmundotoday.com/2020/10/el-gobierno-informa-de-que-incumplir-el-toque-de-queda-supondra-penalti-a-favor-del-real-madrid/'),\n",
       " ('España se da cuenta ahora de que el «botellón» representa el 80% de su PIB',\n",
       "  'https://www.elmundotoday.com/2020/10/espana-se-da-cuenta-ahora-de-que-el-botellon-representa-el-80-de-su-pib/'),\n",
       " ('Desalojan el Congreso por una inundación de lágrimas de facha',\n",
       "  'https://www.elmundotoday.com/2020/10/desalojan-el-congreso-por-una-inundacion-de-lagrimas-de-facha/'),\n",
       " ('El Mundo Today lanza su suscripción digital: una innovadora apuesta por el periodismo, la información veraz y el dinero',\n",
       "  'https://www.elmundotoday.com/2020/05/el-mundo-today-lanza-su-suscripcion-digital-una-innovadora-apuesta-por-el-periodismo-la-informacion-veraz-y-el-dinero/'),\n",
       " ('██████████████████████████████████████████████████████████████████████████████████████████████████████████████████████████████████████████████',\n",
       "  'https://www.elmundotoday.com/2020/10/multada-una-familia/'),\n",
       " ('El confinamiento lleva a miles de personas a abandonar el epicureísmo y centrarse en el solipsismo de Ludwig Wittgenstein',\n",
       "  'https://www.elmundotoday.com/2020/10/el-confinamiento-lleva-a-miles-de-personas-a-abandonar-el-epicureismo-y-centrarse-en-el-solipsismo-de-ludwig-wittgenstein/'),\n",
       " ('Calabazas con la cara de Abascal y otros accesorios de la ultraderecha para asustar a tus visitas en Halloween',\n",
       "  'https://www.elmundotoday.com/2020/10/calabazas-con-la-cara-de-abascal-y-otros-accesorios-de-la-ultraderecha-para-asustar-a-tus-visitas-en-halloween/'),\n",
       " ('Las nueve mejores canciones de amor dedicadas a la vagina',\n",
       "  'https://www.elmundotoday.com/2020/10/las-nueve-mejores-canciones-de-amor-dedicadas-a-la-vagina/'),\n",
       " ('No lo verás en los medios ‘progres’: el feminismo está impidiendo que Juan Gutiérrez, de 33 años, tenga\\xa0novia',\n",
       "  'https://www.elmundotoday.com/2020/10/no-lo-veras-en-los-medios-progres-el-feminismo-esta-impidiendo-que-juan-gutierrez-de-33-anos-tenga-novia/'),\n",
       " ('Un hombre se queda fuera de la España que madruga por solo cinco minutos',\n",
       "  'https://www.elmundotoday.com/2020/10/un-hombre-se-queda-fuera-de-la-espana-que-madruga-por-solo-cinco-minutos/'),\n",
       " ('Pablo Casado confirma su «no» a Vox y su adhesión al socialcomunismo bolivariano del Gobierno',\n",
       "  'https://www.elmundotoday.com/2020/10/pablo-casado-confirma-su-no-a-vox-y-su-adhesion-al-socialcomunismo-bolivariano-del-gobierno/'),\n",
       " ('El papa Francisco apoya las uniones civiles entre homosexuales y presenta a su pareja, Antonio Ferrara',\n",
       "  'https://www.elmundotoday.com/2020/10/el-papa-francisco-apoya-las-uniones-civiles-entre-homosexuales-y-presenta-a-su-pareja-antonio-ferrara/'),\n",
       " ('███████████████████████████████████████████████████████████████████████████████████████████',\n",
       "  'https://www.elmundotoday.com/2020/10/un-repartidor-de-amazon/'),\n",
       " ('██████████████████████████████████████████████████████████████████████████████████████████',\n",
       "  'https://www.elmundotoday.com/2020/10/la-comunidad-trans/'),\n",
       " ('Se vuelve vegano después de haberse pinchado con un cactus',\n",
       "  'https://www.elmundotoday.com/2020/10/se-vuelve-vegano-despues-de-haberse-pinchado-con-un-cactus/'),\n",
       " ('La Eurocámara, incapaz de apreciar el arte, rechaza subvencionar la tauromaquia',\n",
       "  'https://www.elmundotoday.com/2020/10/la-eurocamara-incapaz-de-apreciar-el-arte-rechaza-subvencionar-la-tauromaquia/'),\n",
       " ('██████████████████████████████████████████████████████████████████████████████',\n",
       "  'https://www.elmundotoday.com/2020/10/el-ministerio-de-trabajo/'),\n",
       " ('Da un rodeo de 6520 kilómetros para repostar en una gasolinera de Arabia Saudí que él conoce y que es baratísima',\n",
       "  'https://www.elmundotoday.com/2020/10/da-un-rodeo-de-6520-kilometros-para-repostar-en-una-gasolinera-de-arabia-saudi-que-el-conoce-y-que-es-baratisima/'),\n",
       " ('Con total normalidad democrática, Santiago Abascal defiende su moción de censura con una pistola en el estrado',\n",
       "  'https://www.elmundotoday.com/2020/10/con-total-normalidad-democratica-santiago-abascal-defiende-su-mocion-de-censura-con-una-pistola-en-el-estrado/'),\n",
       " ('Así es el guion de la serie “Verdaderos Antidisturbios”, escrita por los propios agentes antidisturbios como respuesta a la ficción de Movistar',\n",
       "  'https://www.elmundotoday.com/2020/10/asi-es-el-primer-guion-de-la-serie-verdaderos-antidisturbios-escrita-por-los-propios-agentes-antidisturbios-como-respuesta-a-la-ficcion-de-movistar/'),\n",
       " ('El confinamiento lleva a miles de personas a abandonar el epicureísmo y centrarse en el solipsismo de Ludwig Wittgenstein',\n",
       "  'https://www.elmundotoday.com/2020/10/el-confinamiento-lleva-a-miles-de-personas-a-abandonar-el-epicureismo-y-centrarse-en-el-solipsismo-de-ludwig-wittgenstein/'),\n",
       " ('Se vuelve vegano después de haberse pinchado con un cactus',\n",
       "  'https://www.elmundotoday.com/2020/10/se-vuelve-vegano-despues-de-haberse-pinchado-con-un-cactus/'),\n",
       " ('Acusen l’OMS de plagiar paràgrafs sencers de l’Infern de Dante en el seu darrer informe',\n",
       "  'https://www.elmundotoday.com/2020/10/acusen-loms-de-plagiar-paragrafs-sencers-de-linfern-de-dante-en-el-seu-darrer-informe/'),\n",
       " ('Calabazas con la cara de Abascal y otros accesorios de la ultraderecha para asustar a tus visitas en Halloween',\n",
       "  'https://www.elmundotoday.com/2020/10/calabazas-con-la-cara-de-abascal-y-otros-accesorios-de-la-ultraderecha-para-asustar-a-tus-visitas-en-halloween/'),\n",
       " ('████████████████████████████████████████████████████████████████████████████████████████████████████████████████████████',\n",
       "  'https://www.elmundotoday.com/2020/10/horoscopo-de-la-semana-leo-iras-a/'),\n",
       " ('Vende un coche con diez mil kilómetros pero aclara que los hizo en un solo día intentando aparcar',\n",
       "  'https://www.elmundotoday.com/2020/09/vende-un-coche-con-diez-mil-kilometros-pero-aclara-que-los-hizo-en-un-solo-dia-intentando-aparcar/'),\n",
       " ('Mariano Rajoy cree que los catalanes ya se han independizado porque hace días que no dicen nada',\n",
       "  'https://www.elmundotoday.com/2018/05/mariano-rajoy-cree-que-los-catalanes-ya-se-han-independizado-porque-hace-dias-que-no-dicen-nada/'),\n",
       " ('Mi piso está en llamas. ¿Por cuánto puedo alquilarlo?',\n",
       "  'https://www.elmundotoday.com/2020/09/mi-piso-esta-en-llamas-por-cuanto-puedo-alquilarlo/'),\n",
       " ('El Sol explotará hoy acabando con todo rastro de vida en la Tierra pero está bien',\n",
       "  'https://www.elmundotoday.com/2013/08/el-sol-explotara-hoy-acabando-con-toda-la-vida-en-la-tierra-pero-esta-bien/')]"
      ]
     },
     "execution_count": 48,
     "metadata": {},
     "output_type": "execute_result"
    }
   ],
   "source": [
    "results = []\n",
    "for headline in soup.find_all('h3'):\n",
    "    text = headline.text\n",
    "    url = headline.find('a')['href']\n",
    "    results.append((text, url))\n",
    "    \n",
    "results"
   ]
  },
  {
   "cell_type": "markdown",
   "metadata": {},
   "source": [
    "https://github.com/emunozlorenzo/MasterDataScience/tree/master/10_Web_Scraping"
   ]
  },
  {
   "cell_type": "markdown",
   "metadata": {},
   "source": [
    "# X. Bibliografía\n",
    "\n",
    "- https://requests.readthedocs.io/es/latest/\n",
    "- https://es.wikipedia.org/wiki/Protocolo_de_transferencia_de_hipertexto\n",
    "- https://github.com/emunozlorenzo/MasterDataScience/tree/master/10_Web_Scraping"
   ]
  },
  {
   "cell_type": "code",
   "execution_count": null,
   "metadata": {},
   "outputs": [],
   "source": []
  }
 ],
 "metadata": {
  "kernelspec": {
   "display_name": "Python 3",
   "language": "python",
   "name": "python3"
  },
  "language_info": {
   "codemirror_mode": {
    "name": "ipython",
    "version": 3
   },
   "file_extension": ".py",
   "mimetype": "text/x-python",
   "name": "python",
   "nbconvert_exporter": "python",
   "pygments_lexer": "ipython3",
   "version": "3.8.3"
  }
 },
 "nbformat": 4,
 "nbformat_minor": 4
}
