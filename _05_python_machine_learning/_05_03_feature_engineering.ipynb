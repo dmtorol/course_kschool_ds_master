{
 "cells": [
  {
   "cell_type": "markdown",
   "metadata": {},
   "source": [
    "# Feature Engineering"
   ]
  },
  {
   "cell_type": "markdown",
   "metadata": {},
   "source": [
    "Todos los algoritmos de aprendizaje automático utilizan datos de entrada para crear datos de salida. Estos datos de entrada tienen una serie de características, que normalmente tienen forma de columnas estructuradas (texto, números). Sin embargo cada algoritmo requiere que los datos de entrada cumplan determinadas características, es aquí donde surge la necesidad de la ingeniería de características (*feature engineering*). El *feature engineering* tiene principalmente dos objetivos:\n",
    "\n",
    "- Adecuar el dataset a los requisitos del modelo o algoritmo\n",
    "- Mejorar el rendimiento del algoritmo, ya sea a nivel computacional, o en cuanto a la bondad del ajuste\n",
    "\n",
    "Algunas de estas acciones se deben a la propia naturaleza de la recogida de los datos. En la práctica mayoría de actividades en las que interviene la ciencia de datos, los datos recogidos en los dataset contendrán variables categóricas. Este tipo de variables es usualmente almacenada como texto. Dado que los modelos de machine learning están basados en ecuaciones matemáticas, introducir variables de tipo texto puede ocasionar en la mayoría de casos un resultado erróneo, o que ni si quiera se pueda ejecutar el algoritmo. Otro caso muy común es el tratamiento de outliers o datos extremos, o cómo actuar cuando ciertos datos no están disponibles.\n",
    "\n",
    "Algunas de las técnicas de *feature engineering* más comunes son:\n",
    "\n",
    "- Imputación\n",
    "- Tratamiento de outliers\n",
    "- Binning\n",
    "- Encoders\n",
    "- Scaling\n",
    "- Log Transform"
   ]
  },
  {
   "cell_type": "markdown",
   "metadata": {},
   "source": [
    "## 1. Binning\n",
    "\n",
    "El objetivo principal del *binning* (hacer *bins*, contenedores) es dotar al modelo de mayor robustez y evitar problemas de *overfitting*, aunque a costa del desempeño. Cada vez que se agrupa una variable, se sacrifica información y los datos quedan más regularizados.\n",
    "\n",
    ">*La regularización en ML evita que el modelo sea muy flexible a los datos de entrada, trando así de evitar el overfitting.*\n",
    "\n",
    "La clave de esta técnica radica en el balance entre desempeño y *overfitting*. De forma general para variables numéricas, este proceso es un poco redundante. Sin embargo suele ser muy útil cuando se trabaja con variables categóricas, por ejemplo asignando en una categoría general categorías con frecuencias muy bajas.\n",
    "\n",
    "<center><img src=\"../_images\\ml_fe_binning.png\" alt=\"Drawing\" style=\"width: 200px;\"/></center>\n",
    "\n"
   ]
  },
  {
   "cell_type": "markdown",
   "metadata": {},
   "source": [
    "## 2. Encoding\n",
    "\n",
    "En la práctica mayoría de actividades en las que interviene la ciencia de datos, los datos recogidos en los dataset contendrán variables categóricas. Este tipo de variables es usualmente almacenada como texto. Dado que los modelos de machine learning están basados en ecuaciones matemáticas, introducir variables de tipo texto puede ocasionar en la mayoría de casos un resultado erróneo, o que ni si quiera se pueda ejecutar el algoritmo.\n",
    "\n",
    "El proceso por el que se pasa de una variable categórica a una numérica se denomina *encoding*. Algunos de los encoders mas usuales son:\n",
    "\n",
    "- Label encoding\n",
    "- One-hot encoding\n",
    "- Target encoding\n",
    "- Frecuency encoding"
   ]
  },
  {
   "cell_type": "markdown",
   "metadata": {},
   "source": [
    "### 2.1. Label encoding\n",
    "\n",
    "Es el proceso por el que se asigna a cada valor de una variable categórica, un número aleatorio. Debido a la alatoriedad del proceso, esta técnica no es muy recomendable."
   ]
  },
  {
   "cell_type": "code",
   "execution_count": 5,
   "metadata": {},
   "outputs": [
    {
     "data": {
      "text/html": [
       "<div>\n",
       "<style scoped>\n",
       "    .dataframe tbody tr th:only-of-type {\n",
       "        vertical-align: middle;\n",
       "    }\n",
       "\n",
       "    .dataframe tbody tr th {\n",
       "        vertical-align: top;\n",
       "    }\n",
       "\n",
       "    .dataframe thead th {\n",
       "        text-align: right;\n",
       "    }\n",
       "</style>\n",
       "<table border=\"1\" class=\"dataframe\">\n",
       "  <thead>\n",
       "    <tr style=\"text-align: right;\">\n",
       "      <th></th>\n",
       "      <th>sex</th>\n",
       "    </tr>\n",
       "  </thead>\n",
       "  <tbody>\n",
       "    <tr>\n",
       "      <th>0</th>\n",
       "      <td>male</td>\n",
       "    </tr>\n",
       "    <tr>\n",
       "      <th>1</th>\n",
       "      <td>male</td>\n",
       "    </tr>\n",
       "    <tr>\n",
       "      <th>2</th>\n",
       "      <td>female</td>\n",
       "    </tr>\n",
       "    <tr>\n",
       "      <th>3</th>\n",
       "      <td>female</td>\n",
       "    </tr>\n",
       "    <tr>\n",
       "      <th>4</th>\n",
       "      <td>other</td>\n",
       "    </tr>\n",
       "  </tbody>\n",
       "</table>\n",
       "</div>"
      ],
      "text/plain": [
       "      sex\n",
       "0    male\n",
       "1    male\n",
       "2  female\n",
       "3  female\n",
       "4   other"
      ]
     },
     "execution_count": 5,
     "metadata": {},
     "output_type": "execute_result"
    }
   ],
   "source": [
    "# Creamos un dataset\n",
    "import pandas as pd\n",
    "\n",
    "data = {'sex': ['male', 'male', 'female', 'female', 'other']}\n",
    "df = pd.DataFrame(data)\n",
    "df"
   ]
  },
  {
   "cell_type": "code",
   "execution_count": 6,
   "metadata": {},
   "outputs": [
    {
     "data": {
      "text/html": [
       "<div>\n",
       "<style scoped>\n",
       "    .dataframe tbody tr th:only-of-type {\n",
       "        vertical-align: middle;\n",
       "    }\n",
       "\n",
       "    .dataframe tbody tr th {\n",
       "        vertical-align: top;\n",
       "    }\n",
       "\n",
       "    .dataframe thead th {\n",
       "        text-align: right;\n",
       "    }\n",
       "</style>\n",
       "<table border=\"1\" class=\"dataframe\">\n",
       "  <thead>\n",
       "    <tr style=\"text-align: right;\">\n",
       "      <th></th>\n",
       "      <th>sex</th>\n",
       "      <th>sex_label_encoded</th>\n",
       "    </tr>\n",
       "  </thead>\n",
       "  <tbody>\n",
       "    <tr>\n",
       "      <th>0</th>\n",
       "      <td>male</td>\n",
       "      <td>1</td>\n",
       "    </tr>\n",
       "    <tr>\n",
       "      <th>1</th>\n",
       "      <td>male</td>\n",
       "      <td>1</td>\n",
       "    </tr>\n",
       "    <tr>\n",
       "      <th>2</th>\n",
       "      <td>female</td>\n",
       "      <td>0</td>\n",
       "    </tr>\n",
       "    <tr>\n",
       "      <th>3</th>\n",
       "      <td>female</td>\n",
       "      <td>0</td>\n",
       "    </tr>\n",
       "    <tr>\n",
       "      <th>4</th>\n",
       "      <td>other</td>\n",
       "      <td>2</td>\n",
       "    </tr>\n",
       "  </tbody>\n",
       "</table>\n",
       "</div>"
      ],
      "text/plain": [
       "      sex  sex_label_encoded\n",
       "0    male                  1\n",
       "1    male                  1\n",
       "2  female                  0\n",
       "3  female                  0\n",
       "4   other                  2"
      ]
     },
     "execution_count": 6,
     "metadata": {},
     "output_type": "execute_result"
    }
   ],
   "source": [
    "# Cargamos el módulo e instanciamos la clase LabelEncoder\n",
    "from sklearn.preprocessing import LabelEncoder\n",
    "encoder = LabelEncoder()\n",
    "\n",
    "# Creamos la variable sex_econded\n",
    "df[\"sex_label_encoded\"] = encoder.fit_transform(df[\"sex\"])\n",
    "df.head()"
   ]
  },
  {
   "cell_type": "markdown",
   "metadata": {},
   "source": [
    "### 2.2. One-Hot encoding\n",
    "\n",
    "Es uno de los métodos más comunes en ML. Esta técnica expande los diferentes $n$ valores de una variable en $n-1$ columnas y las codifica con uno o cero. Los valores binarios expresan la relación entre la columna original y las codificadas. Esta técnica es similar a otro encoder denominado *get_dummies*, el cual realiza el mismo proceso pero con $n$ columnas.\n",
    "\n",
    "Un problema de este método, es que cuando se aplica sobre variables que tienen una cantidad de valores únicos elevada, puede disparar la volumetría del dataset."
   ]
  },
  {
   "cell_type": "code",
   "execution_count": 33,
   "metadata": {},
   "outputs": [
    {
     "data": {
      "text/html": [
       "<div>\n",
       "<style scoped>\n",
       "    .dataframe tbody tr th:only-of-type {\n",
       "        vertical-align: middle;\n",
       "    }\n",
       "\n",
       "    .dataframe tbody tr th {\n",
       "        vertical-align: top;\n",
       "    }\n",
       "\n",
       "    .dataframe thead th {\n",
       "        text-align: right;\n",
       "    }\n",
       "</style>\n",
       "<table border=\"1\" class=\"dataframe\">\n",
       "  <thead>\n",
       "    <tr style=\"text-align: right;\">\n",
       "      <th></th>\n",
       "      <th>sex</th>\n",
       "    </tr>\n",
       "  </thead>\n",
       "  <tbody>\n",
       "    <tr>\n",
       "      <th>0</th>\n",
       "      <td>male</td>\n",
       "    </tr>\n",
       "    <tr>\n",
       "      <th>1</th>\n",
       "      <td>male</td>\n",
       "    </tr>\n",
       "    <tr>\n",
       "      <th>2</th>\n",
       "      <td>female</td>\n",
       "    </tr>\n",
       "    <tr>\n",
       "      <th>3</th>\n",
       "      <td>female</td>\n",
       "    </tr>\n",
       "    <tr>\n",
       "      <th>4</th>\n",
       "      <td>other</td>\n",
       "    </tr>\n",
       "  </tbody>\n",
       "</table>\n",
       "</div>"
      ],
      "text/plain": [
       "      sex\n",
       "0    male\n",
       "1    male\n",
       "2  female\n",
       "3  female\n",
       "4   other"
      ]
     },
     "execution_count": 33,
     "metadata": {},
     "output_type": "execute_result"
    }
   ],
   "source": [
    "# Creamos un dataset\n",
    "import pandas as pd\n",
    "\n",
    "data = {'sex': ['male', 'male', 'female', 'female', 'other']}\n",
    "df = pd.DataFrame(data)\n",
    "df"
   ]
  },
  {
   "cell_type": "code",
   "execution_count": 35,
   "metadata": {},
   "outputs": [
    {
     "data": {
      "text/html": [
       "<div>\n",
       "<style scoped>\n",
       "    .dataframe tbody tr th:only-of-type {\n",
       "        vertical-align: middle;\n",
       "    }\n",
       "\n",
       "    .dataframe tbody tr th {\n",
       "        vertical-align: top;\n",
       "    }\n",
       "\n",
       "    .dataframe thead th {\n",
       "        text-align: right;\n",
       "    }\n",
       "</style>\n",
       "<table border=\"1\" class=\"dataframe\">\n",
       "  <thead>\n",
       "    <tr style=\"text-align: right;\">\n",
       "      <th></th>\n",
       "      <th>sex_female</th>\n",
       "      <th>sex_male</th>\n",
       "      <th>sex_other</th>\n",
       "    </tr>\n",
       "  </thead>\n",
       "  <tbody>\n",
       "    <tr>\n",
       "      <th>0</th>\n",
       "      <td>0</td>\n",
       "      <td>1</td>\n",
       "      <td>0</td>\n",
       "    </tr>\n",
       "    <tr>\n",
       "      <th>1</th>\n",
       "      <td>0</td>\n",
       "      <td>1</td>\n",
       "      <td>0</td>\n",
       "    </tr>\n",
       "    <tr>\n",
       "      <th>2</th>\n",
       "      <td>1</td>\n",
       "      <td>0</td>\n",
       "      <td>0</td>\n",
       "    </tr>\n",
       "    <tr>\n",
       "      <th>3</th>\n",
       "      <td>1</td>\n",
       "      <td>0</td>\n",
       "      <td>0</td>\n",
       "    </tr>\n",
       "    <tr>\n",
       "      <th>4</th>\n",
       "      <td>0</td>\n",
       "      <td>0</td>\n",
       "      <td>1</td>\n",
       "    </tr>\n",
       "  </tbody>\n",
       "</table>\n",
       "</div>"
      ],
      "text/plain": [
       "   sex_female  sex_male  sex_other\n",
       "0           0         1          0\n",
       "1           0         1          0\n",
       "2           1         0          0\n",
       "3           1         0          0\n",
       "4           0         0          1"
      ]
     },
     "execution_count": 35,
     "metadata": {},
     "output_type": "execute_result"
    }
   ],
   "source": [
    "sex_cat = pd.get_dummies(\n",
    "    df[\"sex\"],\n",
    "    prefix='sex',\n",
    "    prefix_sep='_'\n",
    ")\n",
    "\n",
    "sex_cat"
   ]
  },
  {
   "cell_type": "markdown",
   "metadata": {},
   "source": [
    "### 2.3. Target encoding"
   ]
  },
  {
   "cell_type": "code",
   "execution_count": null,
   "metadata": {},
   "outputs": [],
   "source": []
  },
  {
   "cell_type": "code",
   "execution_count": null,
   "metadata": {},
   "outputs": [],
   "source": []
  },
  {
   "cell_type": "code",
   "execution_count": null,
   "metadata": {},
   "outputs": [],
   "source": []
  },
  {
   "cell_type": "markdown",
   "metadata": {},
   "source": [
    "### 2.4. Frecuency encoding"
   ]
  },
  {
   "cell_type": "markdown",
   "metadata": {},
   "source": []
  },
  {
   "cell_type": "markdown",
   "metadata": {},
   "source": []
  },
  {
   "cell_type": "code",
   "execution_count": null,
   "metadata": {},
   "outputs": [],
   "source": []
  },
  {
   "cell_type": "code",
   "execution_count": null,
   "metadata": {},
   "outputs": [],
   "source": []
  },
  {
   "cell_type": "markdown",
   "metadata": {},
   "source": [
    "Encoders:\n",
    "- Label encoding: asignar un número arbitrario para cada categoría.\n",
    "\n",
    "- One-Hot-Encoder o get_dummies: diferencia en la última variable\n",
    "\n",
    "- Target encoder: calcular la media, o proproción de ocurrencias de los diferentes valores de una variable categórica. Target or Impact or Likelihood encoding: Target Encoding is similar to label encoding, except here labels are correlated directly with the target. For example, in mean target encoding for each category in the feature label is decided with the mean value of the target variable on a training data. This encoding method brings out the relation between similar categories, but the relations are bounded within the categories and target itself. The advantages of the mean target encoding are that it does not affect the volume of the data and helps in faster learning and the disadvantage is its harder to validate. Regularization is required in the implementation process of this encoding methodology. Visit target encoder in python and R.\n",
    "\n",
    "- Frequency encoding: It is a way to utilize the frequency of the categories as labels. In the cases where the frequency is related somewhat with the target variable, it helps the model to understand and assign the weight in direct and inverse proportion, depending on the nature of the data.\n",
    "\n",
    "Texto:\n",
    "- The lame approach: pasar de variables categóricas ordinales (bajo, medio, alto) a numéricas: 1, 2, 3\n",
    "- Bag of words: se estudia en detalle en NLP\n",
    "\n",
    "Cantidades y Dinero:\n",
    "- Cuando se trabaja con distribuciones de datos muy concentradas en una zona del histograma, se pueden tranformar mediante un logaritmo para obtener una distribución cn mayor dispersión y que arroje mayor información.\n",
    "\n",
    "Scaling:\n",
    "- Trabajas con variables que tienen órdenes de magnitud muy diferentes: StandardScaler, MinMaxScaler"
   ]
  },
  {
   "cell_type": "markdown",
   "metadata": {},
   "source": [
    "# X. Bibliografía\n",
    "\n",
    "- https://www.datacamp.com/community/tutorials/encoding-methodologies\n",
    "- https://towardsdatascience.com/feature-engineering-for-machine-learning-3a5e293a5114"
   ]
  }
 ],
 "metadata": {
  "kernelspec": {
   "display_name": "Python 3",
   "language": "python",
   "name": "python3"
  },
  "language_info": {
   "codemirror_mode": {
    "name": "ipython",
    "version": 3
   },
   "file_extension": ".py",
   "mimetype": "text/x-python",
   "name": "python",
   "nbconvert_exporter": "python",
   "pygments_lexer": "ipython3",
   "version": "3.8.5"
  }
 },
 "nbformat": 4,
 "nbformat_minor": 4
}
