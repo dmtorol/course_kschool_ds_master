{
 "cells": [
  {
   "cell_type": "markdown",
   "metadata": {},
   "source": [
    "# Machine Learning: Aprendizaje supervisado"
   ]
  },
  {
   "cell_type": "markdown",
   "metadata": {},
   "source": [
    "**Machine Learning:**\n",
    "\n",
    "El machine Learning o aprendizaje automático consiste básicamente en automatizar, mediante distintos algoritmos, la identificación de patrones o tendencias que se “esconden” en los datos. Es una rama de la inteligencia artificial que empezó a cobrar importancia a partir de los años 80. Se trata de un tipo de IA que ya no depende de unas reglas y un programador, sino que la computadora puede establecer sus propias reglas y aprender por sí misma.\n",
    "\n",
    "El objetivo del machine learning es crear un modelo que nos permita resolver una tarea dada. Luego se entrena el modelo usando gran cantidad de datos. El modelo aprende de estos datos y es capaz de hacer predicciones. Es, por lo tanto, un proceso de inducción del conocimiento, es decir, un método que permite obtener por generalización un enunciado general a partir de enunciados que describen casos particulares. Según la tarea que se quiera realizar, será más adecuado trabajar con un algoritmo u otro.\n",
    "\n",
    "Los tipos de implementación de machine Learning pueden clasificarse en tres categorías diferentes:\n",
    "\n",
    "- Aprendizaje supervisado\n",
    "- Aprendizaje no supervisado\n",
    "- Aprendizaje de refuerzo según la naturaleza de los datos que recibe.\n",
    "\n",
    "**Aprendizaje supervisado:**\n",
    "\n",
    "En el aprendizaje supervisado, los algoritmos trabajan con datos etiquetados (labeled data), intentado encontrar una función que, dadas las variables de entrada (input data), les asigne la etiqueta de salida adecuada. El algoritmo se entrena con un histórico de datos y así aprende a asignar la etiqueta de salida adecuada a un nuevo valor, es decir, predice el valor de salida.\n",
    "\n",
    "El aprendizaje supervisado se suele usar en:\n",
    "\n",
    "- Problemas de clasificación (identificación de dígitos, diagnósticos, o detección de fraude de identidad).\n",
    "- Problemas de regresión (predicciones meteorológicas, de expectativa de vida, de crecimiento etc).\n",
    "\n",
    "Los algoritmos más habituales que aplican para el aprendizaje supervisado son:\n",
    "\n",
    "- Árboles de decisión.\n",
    "- K-Nearest-Neighbourhoods\n",
    "- Clasificación de Naïve Bayes.\n",
    "- Regresión por mínimos cuadrados.\n",
    "- Regresión Logística.\n",
    "- Support Vector Machines (SVM).\n",
    "- Métodos Ensemble (Conjuntos de clasificadores)."
   ]
  },
  {
   "cell_type": "markdown",
   "metadata": {},
   "source": [
    "# X. Bibliografía\n",
    "\n",
    "- https://empresas.blogthinkbig.com/que-algoritmo-elegir-en-ml-aprendizaje/"
   ]
  },
  {
   "cell_type": "code",
   "execution_count": null,
   "metadata": {},
   "outputs": [],
   "source": []
  }
 ],
 "metadata": {
  "kernelspec": {
   "display_name": "Python 3",
   "language": "python",
   "name": "python3"
  },
  "language_info": {
   "codemirror_mode": {
    "name": "ipython",
    "version": 3
   },
   "file_extension": ".py",
   "mimetype": "text/x-python",
   "name": "python",
   "nbconvert_exporter": "python",
   "pygments_lexer": "ipython3",
   "version": "3.8.5"
  }
 },
 "nbformat": 4,
 "nbformat_minor": 4
}
