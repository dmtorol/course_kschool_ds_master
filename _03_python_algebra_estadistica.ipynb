{
 "cells": [
  {
   "cell_type": "markdown",
   "metadata": {},
   "source": [
    "# 1. Algebra con Python\n",
    "\n",
    "## 1.1. Intro\n",
    "\n",
    "El álgebra lineal es la rama de las matemáticas que trata las ecuaciones y funciones lineales, y sus representaciones a través de matrices y espacios vectoriales. Nos ayuda a comprender términos geométricos en dimensiones superiores y a realizar operaciones matemáticas con ellos. Por definición, el álgebra trata principalmente con escalares (entidades unidimensionales), pero el álgebra lineal tiene vectores y matrices (entidades que poseen dos o más componentes dimensionales) para tratar con ecuaciones y funciones lineales.\n",
    "\n",
    "El álgebra lineal es el corazón de casi todas las áreas de las matemáticas como la geometría y el análisis funcional. Sus conceptos son un requisito previo crucial para comprender la teoría detrás de la ciencia de datos. El científico de datos no necesita comprender el álgebra lineal antes de comenzar con la ciencia de datos, pero en algún momento es necesario comprender cómo funcionan realmente los diferentes algoritmos.\n",
    "\n",
    "Para trabajar con álgebra en Python se utiliza el módulo `NumPy`, que es una biblioteca que da soporte para crear vectores y matrices grandes multidimensionales, junto con una gran colección de funciones matemáticas de alto nivel para operar con ellas."
   ]
  },
  {
   "cell_type": "code",
   "execution_count": 2,
   "metadata": {},
   "outputs": [],
   "source": [
    "import numpy as np"
   ]
  },
  {
   "cell_type": "markdown",
   "metadata": {},
   "source": [
    "## 1.2. Elementos del álgebra lineal\n",
    "\n",
    "Existen diferentes tipos de objetos o estructuras dentro del algebra lineal:\n",
    "\n",
    "- Escalar: número\n",
    "- Vector: lista de números\n",
    "- Matrix: lista bidimensional de números\n",
    "- Tensor: lista n-dimensional de números, donde n > 2\n",
    "\n",
    "En `numpy` a las listas se le denomina *array*:\n",
    "\n",
    "<img src=\"_images\\numpy_array_dimensions.png\" alt=\"Drawing\" style=\"width: 400px;\"/>\n",
    "\n",
    "Los arrays tienen una característica muy especial y es que se encuentran referenciados en la memoria. Esto ocurre porque numpy hace una gestión óptima de la memoria y no va a malgastarla creando copias por valor. Para crear una copia real de un array y no modificar el original, tendremos que utilizar el método `.copy()`."
   ]
  },
  {
   "cell_type": "markdown",
   "metadata": {},
   "source": [
    "### 1.2.1. Escalares\n",
    "\n",
    "Un escalar es únicamente un número, a diferencia de la mayoría de los otros elementos del álgebra lineal que son conjuntos de valores como los vectores y matrices. Generalmente, por convención a los escalares los escribimos en letra cursiva minúscula o usando el alfabeto griego.\n",
    "\n",
    "Entre los principales conjuntos de escalares tenemos a:\n",
    "\n",
    "- Números Naturales (ℕ): los números que se utilizan para contar los elementos de cualquier conjunto. (1, 2, 3, 4, …)\n",
    "- Números Enteros (ℤ): el conjunto de los números enteros está dado por el conjunto de los naturales, sus negativos y el cero. (…, -2, -1, 0, 1, 2, …)\n",
    "- Números Reales (ℝ): el conjunto de los reales incluye tanto a los racionales como a los irracionales."
   ]
  },
  {
   "cell_type": "markdown",
   "metadata": {},
   "source": [
    "### 1.2.2. Vectores\n",
    "\n",
    "Un vector es un arreglo de números. Un vector $v$ de $n$ componentes se define como un conjunto ordenado de $n$ números escrito de la siguiente forma:\n",
    "\n",
    "- vector fila:\n",
    "\n",
    "\\begin{align}\n",
    "v = (v_1, v_2, \\ldots, v_n)\n",
    "\\end{align}\n",
    "\n",
    "- vector columna:\n",
    "\n",
    "\\begin{align}\n",
    "v = \\begin{bmatrix}v_1\\\\v_2\\\\\\ldots\\\\v_n\\end{bmatrix}\n",
    "\\end{align}"
   ]
  },
  {
   "cell_type": "markdown",
   "metadata": {},
   "source": [
    "Se puede crear un vector mediante la función `array(list)` del módulo `NumPy`, y pasando como argumento una lista."
   ]
  },
  {
   "cell_type": "code",
   "execution_count": 3,
   "metadata": {},
   "outputs": [
    {
     "name": "stdout",
     "output_type": "stream",
     "text": [
      "<class 'numpy.ndarray'>\n",
      "[8 0 3 1]\n"
     ]
    }
   ],
   "source": [
    "## Crear un vector de 4 elementos horizontal\n",
    "\n",
    "v = np.array([8, 0, 3, 1])\n",
    "\n",
    "print(type(v))\n",
    "print(v)"
   ]
  },
  {
   "cell_type": "code",
   "execution_count": 5,
   "metadata": {},
   "outputs": [
    {
     "name": "stdout",
     "output_type": "stream",
     "text": [
      "<class 'numpy.ndarray'>\n",
      "[[8]\n",
      " [0]\n",
      " [3]\n",
      " [1]]\n"
     ]
    }
   ],
   "source": [
    "## Crear un vector de 4 elementos vertical\n",
    "\n",
    "v = np.array([[8], [0], [3], [1]])\n",
    "\n",
    "print(type(v))\n",
    "print(v)"
   ]
  },
  {
   "cell_type": "code",
   "execution_count": 19,
   "metadata": {},
   "outputs": [
    {
     "name": "stdout",
     "output_type": "stream",
     "text": [
      "(5,)\n"
     ]
    }
   ],
   "source": [
    "print(v.shape)"
   ]
  },
  {
   "cell_type": "markdown",
   "metadata": {},
   "source": [
    "### 1.2.3. Matrices\n",
    "\n",
    "Una matriz es un arreglo bi-dimensional de números. Cada elemento de la misma está identificado por dos índices, en lugar de uno como en los vectores. Usualmente, a una matriz la denotamos por una letra mayúscula en negrita.\n",
    "\n",
    "\\begin{align}\n",
    "A = \n",
    "\\begin{bmatrix}a_{11}&a_{12}&\\ldots&a_{1j}&\\ldots&a_{1n}\\\\\n",
    "a_{21}&a_{22}&\\ldots&a_{2j}&\\ldots&a_{2n}\\\\\n",
    "\\vdots&\\vdots& &\\vdots& &\\vdots\\\\\n",
    "a_{i1}&a_{i2}&\\ldots&a_{ij}&\\ldots&a_{in}\\\\\n",
    "\\vdots&\\vdots& &\\vdots& &\\vdots\\\\\n",
    "a_{m1}&a_{m2}&\\ldots&a_{mj}&\\ldots&a_{mn}\\end{bmatrix}\\\n",
    "\\end{align}"
   ]
  },
  {
   "cell_type": "markdown",
   "metadata": {},
   "source": [
    "Se puede crear una matriz mediante la función `np.array(list)` del módulo `NumPy`, y pasando como argumento una lista de listas, esta función devuelve un objeto del tipo *np.ndarray*; o del mismo modo mendiante el comando `np.mat(list)`, el cual devuelve un objeto *np.matrix*.\n",
    "\n",
    "Las matrices (*np.matrix*) en `NumPy` son estrictamente bidimensionales, mientras que los arrays (*np.ndarray*) son n-dimensionales. Las matrices son una subclase de los arrays, por lo que heredan todos los atributos y métodos de los arrays.\n",
    "\n",
    "La ventaja principal de las matrices es que permiten utilizar una notación más cómodo para realizar el producto matricial: si $A$ y $B$ son matrices entonces $A*B$ será el proucto matricial. En contraste a esto, los arrays soportan operaciones elemento a elemento (*element wise*), por lo que el resultado de $A*B$ será una matriz que contenga el producto de los elementos en la misma posición de cada array.\n",
    "\n",
    "Tanto las matrices como los arrays tienen el método `.T` para obtener la transpuesta, pero solo las matrices tienen el método `.H` para la conjuada de la transpuesta, e `.I` paa obtener la inversa.\n",
    "\n",
    "Se recomienda utilizar el tipo de objeto *np.ndarray* sobre el *np.matrix*."
   ]
  },
  {
   "cell_type": "code",
   "execution_count": 6,
   "metadata": {},
   "outputs": [
    {
     "name": "stdout",
     "output_type": "stream",
     "text": [
      "<class 'numpy.ndarray'>\n",
      "[[5 4 7]\n",
      " [3 8 1]\n",
      " [1 1 1]]\n"
     ]
    }
   ],
   "source": [
    "## Crear una matriz de 3x3\n",
    "\n",
    "A = np.array([[5, 4, 7], [3, 8, 1], [1, 1, 1]])\n",
    "\n",
    "print(type(A))\n",
    "print(A)"
   ]
  },
  {
   "cell_type": "code",
   "execution_count": 8,
   "metadata": {},
   "outputs": [
    {
     "name": "stdout",
     "output_type": "stream",
     "text": [
      "<class 'numpy.matrix'>\n"
     ]
    }
   ],
   "source": [
    "A = np.mat(A)\n",
    "print(type(A))"
   ]
  },
  {
   "cell_type": "code",
   "execution_count": 79,
   "metadata": {},
   "outputs": [
    {
     "name": "stdout",
     "output_type": "stream",
     "text": [
      "(3, 3)\n"
     ]
    }
   ],
   "source": [
    "print(A.shape)"
   ]
  },
  {
   "cell_type": "markdown",
   "metadata": {},
   "source": [
    "### 1.2.4. Tensores\n",
    "\n",
    "Existen diversos casos en los cuales se precisan mas de dos ejes para almacenar valores. En el caso general, una matriz con un número regular de ejes se lo conoce como tensor.\n",
    "\n",
    "Simplificando mucho, un tensor sería un cubo de datos si el número de dimensiones es de 3, si las dimensiones son superiores a este valor no se puede representar en el mundo físico. El concepto es difícil de imaginar, ya que nosotros únicamente percibimos 3 dimensiones, pero si lo entendemos como una ramificación en dónde por cada elemento ahora hay otra lista con dos elementos, entonces no es tan imposible hacernos una idea."
   ]
  },
  {
   "cell_type": "code",
   "execution_count": 10,
   "metadata": {},
   "outputs": [
    {
     "name": "stdout",
     "output_type": "stream",
     "text": [
      "<class 'numpy.ndarray'>\n",
      "[[[ 1  2  3]\n",
      "  [ 5  6  7]]\n",
      "\n",
      " [[ 8  9 10]\n",
      "  [11 12 13]]]\n"
     ]
    }
   ],
   "source": [
    "## Crear un tensor de 2x2x3\n",
    "\n",
    "T = np.array([[[1, 2, 3], [5, 6, 7]],\n",
    "              [[8, 9, 10], [11, 12, 13]]])\n",
    "\n",
    "print(type(T))\n",
    "print(T)"
   ]
  },
  {
   "cell_type": "code",
   "execution_count": 11,
   "metadata": {},
   "outputs": [
    {
     "name": "stdout",
     "output_type": "stream",
     "text": [
      "(2, 2, 3)\n"
     ]
    }
   ],
   "source": [
    "print(T.shape)"
   ]
  },
  {
   "cell_type": "markdown",
   "metadata": {},
   "source": [
    "## 1.3. Operaciones algebraicas"
   ]
  },
  {
   "cell_type": "markdown",
   "metadata": {},
   "source": [
    "A continuación se muestran algunas de las operaciones algebraicas más útiles y frecuentes que se pueden realizar con vectores y matrices."
   ]
  },
  {
   "cell_type": "markdown",
   "metadata": {},
   "source": [
    "### 1.3.1. Operaciones con vectores"
   ]
  },
  {
   "cell_type": "markdown",
   "metadata": {},
   "source": [
    "**Index y slicing:**\n",
    "\n",
    "Al igual que con las listas, se puede extraer elementos de un vector en `numpy` del mismo modo."
   ]
  },
  {
   "cell_type": "code",
   "execution_count": 49,
   "metadata": {},
   "outputs": [
    {
     "data": {
      "text/plain": [
       "(1, 1, array([1, 0, 1]))"
      ]
     },
     "execution_count": 49,
     "metadata": {},
     "output_type": "execute_result"
    }
   ],
   "source": [
    "v = np.array([1, 0, 1,])\n",
    "v[0], v[-1], v[::-1]"
   ]
  },
  {
   "cell_type": "markdown",
   "metadata": {},
   "source": [
    "**Multiplicación escalar:**\n",
    "\n",
    "Consiste en multiplicar un vector $v$ por un escalar, el resultado es el de multiplicar cada elemento del vector por ese escalar."
   ]
  },
  {
   "cell_type": "code",
   "execution_count": 25,
   "metadata": {},
   "outputs": [
    {
     "data": {
      "text/plain": [
       "array([16,  0,  6,  2, 10])"
      ]
     },
     "execution_count": 25,
     "metadata": {},
     "output_type": "execute_result"
    }
   ],
   "source": [
    "v = np.array([8, 0, 3, 1, 5])\n",
    "v*2"
   ]
  },
  {
   "cell_type": "markdown",
   "metadata": {},
   "source": [
    "**Suma de vectores:**\n",
    "\n",
    "La suma o resta de vectores se realiza elemento a elemento (*element wise*). Para ello se emplean los símbolos habituales de adición y sustracción (`+/-`)."
   ]
  },
  {
   "cell_type": "code",
   "execution_count": 27,
   "metadata": {},
   "outputs": [
    {
     "data": {
      "text/plain": [
       "array([ 2, -2,  2])"
      ]
     },
     "execution_count": 27,
     "metadata": {},
     "output_type": "execute_result"
    }
   ],
   "source": [
    "v = np.array([1, 0, 1,])\n",
    "w = np.array([1, -2, 1,])\n",
    "\n",
    "v + w"
   ]
  },
  {
   "cell_type": "code",
   "execution_count": 28,
   "metadata": {},
   "outputs": [
    {
     "data": {
      "text/plain": [
       "array([0, 2, 0])"
      ]
     },
     "execution_count": 28,
     "metadata": {},
     "output_type": "execute_result"
    }
   ],
   "source": [
    "v = np.array([1, 0, 1,])\n",
    "w = np.array([1, -2, 1,])\n",
    "\n",
    "v - w"
   ]
  },
  {
   "cell_type": "markdown",
   "metadata": {},
   "source": [
    "**Producto escalar:**\n",
    "\n",
    "El producto escalar, o también conocido como *dot product*, consiste en multiplicar un vector por otro, el resultado es un escalar.\n",
    "\n",
    "Para obtener el producto escalar de los vectores $v$ y $w$ se emplea la siguiente fórmula:\n",
    "\n",
    "\\begin{equation*}\n",
    "v·w = \\sum v_iw_i = |v||w|\\cos\\theta\n",
    "\\end{equation*}\n",
    "\n",
    "En `numpy` se ejecuta mediante la función `np.dot(v1, v2)`."
   ]
  },
  {
   "cell_type": "code",
   "execution_count": 26,
   "metadata": {},
   "outputs": [
    {
     "data": {
      "text/plain": [
       "2"
      ]
     },
     "execution_count": 26,
     "metadata": {},
     "output_type": "execute_result"
    }
   ],
   "source": [
    "v = np.array([1, 0, 1,])\n",
    "w = np.array([1, -2, 1,])\n",
    "\n",
    "np.dot(v, w)"
   ]
  },
  {
   "cell_type": "markdown",
   "metadata": {},
   "source": [
    "### 1.3.2. Operaciones con matrices"
   ]
  },
  {
   "cell_type": "markdown",
   "metadata": {},
   "source": [
    "**Index y slicing:**\n",
    "\n",
    "Al igual que con las listas, se puede extraer elementos en `numpy` del mismo modo. Cuando se quiera realizar slicing en una matriz, al trabajar con dos dimensiones, se deben pasar dos argumentos separados por comas, siendo el primero de ellos el relativo a las filas y el segundo a las columnas."
   ]
  },
  {
   "cell_type": "code",
   "execution_count": 50,
   "metadata": {},
   "outputs": [
    {
     "data": {
      "text/plain": [
       "(array([5, 4, 7]), 4)"
      ]
     },
     "execution_count": 50,
     "metadata": {},
     "output_type": "execute_result"
    }
   ],
   "source": [
    "## Index\n",
    "A = np.array([[5, 4, 7], [3, 8, 1], [1, 1, 1]])\n",
    "A[0], A[0][1]"
   ]
  },
  {
   "cell_type": "code",
   "execution_count": 52,
   "metadata": {},
   "outputs": [
    {
     "data": {
      "text/plain": [
       "(array([[5, 4, 7],\n",
       "        [3, 8, 1]]),\n",
       " array([1, 1]))"
      ]
     },
     "execution_count": 52,
     "metadata": {},
     "output_type": "execute_result"
    }
   ],
   "source": [
    "## Slicing\n",
    "A = np.array([[5, 4, 7], [3, 8, 1], [1, 1, 1]])\n",
    "A[:2,:], A[-1, 1:]"
   ]
  },
  {
   "cell_type": "markdown",
   "metadata": {},
   "source": [
    "**Matriz transpuesta:**\n",
    "\n",
    "La matriz traspuesta de una matriz $A$ se denota por $A^T$, y se obtiene cambiando sus filas por columnas (o viceversa).\n",
    "\n",
    "La transposición de matrices tiene las siguientes reglas:\n",
    "\n",
    "- $(A^T)^T = A$\n",
    "- $(A+B)^T = A^T+B^T$\n",
    "- $(AB)^T = A^TB^T$\n",
    "\n",
    "Aunque es más dificil visualizarlo, también se puede transponer matrices de dimensiones supeiores 2."
   ]
  },
  {
   "cell_type": "code",
   "execution_count": 80,
   "metadata": {},
   "outputs": [
    {
     "data": {
      "text/plain": [
       "(numpy.ndarray,\n",
       " array([[5, 3, 4],\n",
       "        [7, 0, 5],\n",
       "        [5, 5, 0],\n",
       "        [0, 2, 0],\n",
       "        [8, 2, 3]]))"
      ]
     },
     "execution_count": 80,
     "metadata": {},
     "output_type": "execute_result"
    }
   ],
   "source": [
    "A = np.random.randint(10, size = (5, 3))\n",
    "type(A), A"
   ]
  },
  {
   "cell_type": "code",
   "execution_count": 81,
   "metadata": {},
   "outputs": [
    {
     "data": {
      "text/plain": [
       "(numpy.ndarray,\n",
       " array([[5, 7, 5, 0, 8],\n",
       "        [3, 0, 5, 2, 2],\n",
       "        [4, 5, 0, 0, 3]]))"
      ]
     },
     "execution_count": 81,
     "metadata": {},
     "output_type": "execute_result"
    }
   ],
   "source": [
    "type(A.T), A.T"
   ]
  },
  {
   "cell_type": "code",
   "execution_count": 82,
   "metadata": {},
   "outputs": [
    {
     "data": {
      "text/plain": [
       "(numpy.ndarray,\n",
       " array([[5, 3, 4],\n",
       "        [7, 0, 5],\n",
       "        [5, 5, 0],\n",
       "        [0, 2, 0],\n",
       "        [8, 2, 3]]))"
      ]
     },
     "execution_count": 82,
     "metadata": {},
     "output_type": "execute_result"
    }
   ],
   "source": [
    "type(A.T.T), A.T.T"
   ]
  },
  {
   "cell_type": "markdown",
   "metadata": {},
   "source": [
    "**Matriz de ceros:**\n",
    "\n",
    "Mediante el el comando `np.zeros()` se puede crear una matriz llena de ceros."
   ]
  },
  {
   "cell_type": "code",
   "execution_count": 83,
   "metadata": {},
   "outputs": [
    {
     "data": {
      "text/plain": [
       "(numpy.ndarray,\n",
       " array([[0., 0.],\n",
       "        [0., 0.],\n",
       "        [0., 0.]]))"
      ]
     },
     "execution_count": 83,
     "metadata": {},
     "output_type": "execute_result"
    }
   ],
   "source": [
    "zero_matrix = np.zeros((3, 2))\n",
    "type(zero_matrix), zero_matrix"
   ]
  },
  {
   "cell_type": "markdown",
   "metadata": {},
   "source": [
    "**Matriz de unos:**\n",
    "\n",
    "Mediante el el comando `np.ones()` se puede crear una matriz llena de unos."
   ]
  },
  {
   "cell_type": "code",
   "execution_count": 56,
   "metadata": {},
   "outputs": [
    {
     "data": {
      "text/plain": [
       "array([[1., 1.],\n",
       "       [1., 1.],\n",
       "       [1., 1.]])"
      ]
     },
     "execution_count": 56,
     "metadata": {},
     "output_type": "execute_result"
    }
   ],
   "source": [
    "ones_matrix = np.ones((3, 2))\n",
    "ones_matrix"
   ]
  },
  {
   "cell_type": "markdown",
   "metadata": {},
   "source": [
    "**Matriz identidad:**\n",
    "\n",
    "La matriz identidad es aquella que tiene como elementos de su diagonal todo valores 1, y el resto de elementos valor 0. \n",
    "\n",
    "Para obtener una matriz identidad de dimensiones $n · n$ se utiliza el comando `np.identity(n)`, por defecto utiliza floats para cada elemento de la matriz, se pueden definir como enteros utilizando el argumento `dtype = int`."
   ]
  },
  {
   "cell_type": "code",
   "execution_count": 36,
   "metadata": {},
   "outputs": [
    {
     "data": {
      "text/plain": [
       "array([[1, 0, 0, 0],\n",
       "       [0, 1, 0, 0],\n",
       "       [0, 0, 1, 0],\n",
       "       [0, 0, 0, 1]])"
      ]
     },
     "execution_count": 36,
     "metadata": {},
     "output_type": "execute_result"
    }
   ],
   "source": [
    "I = np.identity(4, dtype = int)\n",
    "I"
   ]
  },
  {
   "cell_type": "code",
   "execution_count": 35,
   "metadata": {},
   "outputs": [
    {
     "data": {
      "text/plain": [
       "array([[1, 0, 0, 0],\n",
       "       [0, 1, 0, 0],\n",
       "       [0, 0, 1, 0],\n",
       "       [0, 0, 0, 1]])"
      ]
     },
     "execution_count": 35,
     "metadata": {},
     "output_type": "execute_result"
    }
   ],
   "source": [
    "I = np.eye(4, dtype = int)\n",
    "I"
   ]
  },
  {
   "cell_type": "markdown",
   "metadata": {},
   "source": [
    "Un aspecto importante de la matriz identidad, es que a pesar de que el producto de matrices no tiene propiedad conmutativa, la matriz identidad si que la tiene."
   ]
  },
  {
   "cell_type": "markdown",
   "metadata": {},
   "source": [
    "**Multiplicación por un escalar:**\n",
    "\n",
    "Cuando multiplicamos un escalar por una matriz, cada uno de los elementos de la matriz es multiplicado por el escalar, como todas las operaciones relacionados con signos aritméticos (`+`, `-`, `/`, `*`, `**`..etc) es una operación *element wise*. \n",
    "\n",
    "Propiedades de la multiplicación por un escalar:\n",
    "\n",
    "- Conmutativa: $\\alpha·A = A·\\alpha$"
   ]
  },
  {
   "cell_type": "code",
   "execution_count": 13,
   "metadata": {},
   "outputs": [
    {
     "data": {
      "text/plain": [
       "(array([[ 2,  4,  6],\n",
       "        [ 8, 10, 12],\n",
       "        [14, 16, 18]]),\n",
       " array([[ 2,  4,  6],\n",
       "        [ 8, 10, 12],\n",
       "        [14, 16, 18]]))"
      ]
     },
     "execution_count": 13,
     "metadata": {},
     "output_type": "execute_result"
    }
   ],
   "source": [
    "A = np.array([[1, 2, 3], [4, 5, 6], [7, 8, 9]])\n",
    "\n",
    "2*A, A*2"
   ]
  },
  {
   "cell_type": "markdown",
   "metadata": {},
   "source": [
    "Esta operación produce el mismo resultado independientemente de que la matriz sea un objeto del tipo *np.matrix* o *np.ndarray*."
   ]
  },
  {
   "cell_type": "markdown",
   "metadata": {},
   "source": [
    "**Suma de matrices:**\n",
    "\n",
    "Para poder sumar (o restar) dos matrices $A$ y $B$, éstas tienen que tener la misma dimensión puesto que la suma (o resta) se calcula sumando (o restando) los elementos de la misma posición.\n",
    "\n",
    "Propiedades de la suma de matrices:\n",
    "\n",
    "- Conmutativa: $A+B = B+A$\n",
    "- Asociativa: $A+(B+C)=(A+B)+C$\n",
    "- Distributiva escalar: $\\alpha·(A+B)=\\alpha·A+\\alpha·B $"
   ]
  },
  {
   "cell_type": "code",
   "execution_count": 92,
   "metadata": {},
   "outputs": [
    {
     "data": {
      "text/plain": [
       "(array([[ 2,  4,  6],\n",
       "        [ 8, 10, 12],\n",
       "        [14, 16, 18]]),\n",
       " array([[0, 0, 0],\n",
       "        [0, 0, 0],\n",
       "        [0, 0, 0]]))"
      ]
     },
     "execution_count": 92,
     "metadata": {},
     "output_type": "execute_result"
    }
   ],
   "source": [
    "A = np.array([[1, 2, 3], [4, 5, 6], [7, 8, 9]])\n",
    "B = np.array([[1, 2, 3], [4, 5, 6], [7, 8, 9]])\n",
    "\n",
    "A + B, A - B"
   ]
  },
  {
   "cell_type": "markdown",
   "metadata": {},
   "source": [
    "**Producto escalar de matrices:**\n",
    "\n",
    "También conocido como producto punto, es una operación un poco más compleja. Sean las matrices $A$ de dimensiones $mxn$, y $B$ de dimensiones $nxp$, el número de columnas de $A$ debe coincidier con el número de filas de $B$. Esto se debe a que el producto matricial se calcula como el producto escalar de las filas de la matriz $A$, por las columnas de $B$.\n",
    "\n",
    "Propiedades del producto matricial:\n",
    "\n",
    "- No conmutativo: $A+B \\neq B+A$\n",
    "- Asociativo: $A·(B·C)=(A·B)·C$\n",
    "- Distributiva de la suma izquierda: $A·(B+A)=A·B+A·C$\n",
    "- Distributiva de la suma derecha: $(A+B)·C=A·C+B·C$"
   ]
  },
  {
   "cell_type": "code",
   "execution_count": 100,
   "metadata": {},
   "outputs": [
    {
     "data": {
      "text/plain": [
       "(array([[ 4, -1,  5],\n",
       "        [ 2,  5,  5],\n",
       "        [ 1,  2,  3]]),\n",
       " array([[1, 4, 3],\n",
       "        [0, 1, 0],\n",
       "        [3, 0, 0]]))"
      ]
     },
     "execution_count": 100,
     "metadata": {},
     "output_type": "execute_result"
    }
   ],
   "source": [
    "A = np.array([[1, 2, 1], [2, -1, 0], [1, 0, 0]])\n",
    "B = np.array([[1, 2, 3], [0, -1, 1], [3, -1, 0]])\n",
    "\n",
    "A.dot(B), A*B"
   ]
  },
  {
   "cell_type": "code",
   "execution_count": 14,
   "metadata": {},
   "outputs": [
    {
     "data": {
      "text/plain": [
       "(matrix([[ 4, -1,  5],\n",
       "         [ 2,  5,  5],\n",
       "         [ 1,  2,  3]]),\n",
       " matrix([[ 4, -1,  5],\n",
       "         [ 2,  5,  5],\n",
       "         [ 1,  2,  3]]))"
      ]
     },
     "execution_count": 14,
     "metadata": {},
     "output_type": "execute_result"
    }
   ],
   "source": [
    "A = np.mat(np.array([[1, 2, 1], [2, -1, 0], [1, 0, 0]]))\n",
    "B = np.mat(np.array([[1, 2, 3], [0, -1, 1], [3, -1, 0]]))\n",
    "\n",
    "A.dot(B), A*B"
   ]
  },
  {
   "cell_type": "markdown",
   "metadata": {},
   "source": [
    "Como se puede observar en los dos ejemplos, si utilizamos un objeto del tipo *np.ndarray* solo se podrá utilizar el método `.dot()`; mientras que si los objetos son del tipo *np.matrix* se podrá emplear tanto el método `.dot()` como `*`."
   ]
  },
  {
   "cell_type": "markdown",
   "metadata": {},
   "source": [
    "**Determinante de una matriz:**\n",
    "\n",
    "La función determinante es de gran importancia en el álgebra ya que, por ejemplo, nos permite saber si una matriz es regular (si tiene inversa) y, por tanto, si un sistema de ecuaciones lineales tiene solución. El determinante de una matriz $A$ se denota como $|A|$.\n",
    "\n",
    "Los determinantes tienen las siguientes propiedades:\n",
    "\n",
    "- $det(A) = det(A^T)$\n",
    "- $det(A^{-1}) = det(A)^{-1}$\n",
    "- $det(AB) = det(A)·det(B)$\n",
    "\n",
    "El determinante de una matriz de dimensiones 1x1 es el valor de su único elemento. Para una matriz de dimensiones 2x2 el determinante se calcula del siguiente modo:\n",
    "\n",
    "\\begin{align}\n",
    "A = \n",
    "\\begin{bmatrix}a_{11}&a_{12}\\\\\n",
    "a_{21}&a_{22}\\end{bmatrix}\\\n",
    "\\hspace{1cm} |A| = a_{11}·a_{22} - a_{12}·a_{21}\n",
    "\\end{align}\n",
    "\n",
    "Para una matriz de dimensiones 3x3 el determinante se calcula del siguiente modo:\n",
    "\n",
    "\\begin{align}\n",
    "A = \n",
    "\\begin{bmatrix}a_{11}&a_{12}&a_{13}\\\\\n",
    "a_{21}&a_{22}&a_{23}\\\\\n",
    "a_{31}&a_{32}&a_{33}\\end{bmatrix}\\\n",
    "\\end{align}\n",
    "\n",
    "\\begin{align}\n",
    "|A| = a_{11}·a_{22}·a_{33} + a_{12}·a_{23}·a_{31} + a_{21}·a_{32}·a_{13} - a_{13}·a_{22}·a_{31} - a_{12}·a_{21}·a_{33} - a_{11}·a_{23}·a_{32} \n",
    "\\end{align}\n",
    "\n",
    "Para matrices cuadradas de dimensiones mayores se emplea la regla de Laplace, para el desarrollo por la fila $i$ de la matriz $A$ es:\n",
    "\n",
    "\\begin{align}\n",
    "|A| = \\sum_{j=1}^n a_{ij}·(-1)^{i+j}·|A_{ij}|\n",
    "\\end{align}\n",
    "\n",
    "siendo $a_{ij}$ los elementos de la fila $i$, y $A_{ij}$ la matriz que se obtiene de eliminar la fila $i$ y la columna $j$ de la matriz $A$. Una buena práctica es escoger siempre la fila o la columna que más 0's tenga (en caso de haberlos), para evitar tantas operaciones.\n",
    "\n",
    "Para obtener el determinante de una matriz se emplea la función `np.linalg.det(matrix)`."
   ]
  },
  {
   "cell_type": "code",
   "execution_count": 20,
   "metadata": {},
   "outputs": [
    {
     "data": {
      "text/plain": [
       "-3.0000000000000004"
      ]
     },
     "execution_count": 20,
     "metadata": {},
     "output_type": "execute_result"
    }
   ],
   "source": [
    "A = np.array([[3, 3,], [1, 0]])\n",
    "np.linalg.det(A)"
   ]
  },
  {
   "cell_type": "code",
   "execution_count": 16,
   "metadata": {},
   "outputs": [
    {
     "data": {
      "text/plain": [
       "1.0000000000000002"
      ]
     },
     "execution_count": 16,
     "metadata": {},
     "output_type": "execute_result"
    }
   ],
   "source": [
    "A = np.array([[1, 2, 1], [2, -1, 0], [1, 0, 0]])\n",
    "np.linalg.det(A)"
   ]
  },
  {
   "cell_type": "markdown",
   "metadata": {},
   "source": [
    "**Matriz inversa:**\n",
    "\n",
    "La matriz inversa $A^{-1}$, de una matriz $A$, es aquella que verifica la expresión $AA^{-1} = A^{-1}A = I$.\n",
    "\n",
    "La matriz inversa de $A$ es:\n",
    "\n",
    "$A^{-1} = \\frac{1}{|A|} adj (A)$\n",
    "\n",
    "Donde $|A|$ es el determinante de $A$; y $adj(a)$, la matriz adjunta de $A$. De la expresión anterior podemos deducir que solamente tienen inversa las matrices cuadradas cuyo determinante es distinto de cero.\n",
    "\n",
    "La inversa de una matriz en Python se puede obtener de dos formas:\n",
    "\n",
    "- Mediante el método `.I`, es necesario que el tipo de objeto sea *np.matrix*.\n",
    "- Mediante la función `np.linalg.inv(A)` si el tipo de objeto es *np.ndarray* o *np.matrix*."
   ]
  },
  {
   "cell_type": "code",
   "execution_count": 76,
   "metadata": {},
   "outputs": [
    {
     "data": {
      "text/plain": [
       "(matrix([[-0.875, -0.375,  6.5  ],\n",
       "         [ 0.25 ,  0.25 , -2.   ],\n",
       "         [ 0.625,  0.125, -3.5  ]]),\n",
       " matrix([[ 1.0000000e+00, -8.8817842e-16,  0.0000000e+00],\n",
       "         [ 0.0000000e+00,  1.0000000e+00,  0.0000000e+00],\n",
       "         [ 4.4408921e-16,  0.0000000e+00,  1.0000000e+00]]))"
      ]
     },
     "execution_count": 76,
     "metadata": {},
     "output_type": "execute_result"
    }
   ],
   "source": [
    "A = np.mat(np.array([[5, 4, 7], [3, 8, 1], [1, 1, 1]]))\n",
    "A_inv = A.I\n",
    "A_inv, A_inv*A"
   ]
  },
  {
   "cell_type": "code",
   "execution_count": 75,
   "metadata": {},
   "outputs": [
    {
     "data": {
      "text/plain": [
       "(array([[-0.875, -0.375,  6.5  ],\n",
       "        [ 0.25 ,  0.25 , -2.   ],\n",
       "        [ 0.625,  0.125, -3.5  ]]),\n",
       " array([[ 1.0000000e+00, -8.8817842e-16,  0.0000000e+00],\n",
       "        [ 0.0000000e+00,  1.0000000e+00,  0.0000000e+00],\n",
       "        [ 4.4408921e-16,  0.0000000e+00,  1.0000000e+00]]))"
      ]
     },
     "execution_count": 75,
     "metadata": {},
     "output_type": "execute_result"
    }
   ],
   "source": [
    "A = np.array([[5, 4, 7], [3, 8, 1], [1, 1, 1]])\n",
    "A_inv = np.linalg.inv(A)\n",
    "A_inv, A_inv.dot(A)"
   ]
  },
  {
   "cell_type": "markdown",
   "metadata": {},
   "source": [
    "### 1.3.3. Autovalores y autovectores de una matriz\n",
    "\n",
    "Ampliar info aqui...\n",
    "\n",
    "- https://aga.frba.utn.edu.ar/autovalores-autovectores-definiciones-propiedades/\n",
    "- https://es.khanacademy.org/math/linear-algebra/alternate-bases#eigen-everything"
   ]
  },
  {
   "cell_type": "markdown",
   "metadata": {},
   "source": [
    "# 2. Estadística con Python"
   ]
  },
  {
   "cell_type": "markdown",
   "metadata": {},
   "source": [
    "# X. Bibliografía\n",
    "\n",
    "- Research Article: Linear Algebra – A Powerful Tool for Data Science. Hasheema Ishchi.\n",
    "- https://numpy.org/"
   ]
  }
 ],
 "metadata": {
  "kernelspec": {
   "display_name": "Python 3",
   "language": "python",
   "name": "python3"
  },
  "language_info": {
   "codemirror_mode": {
    "name": "ipython",
    "version": 3
   },
   "file_extension": ".py",
   "mimetype": "text/x-python",
   "name": "python",
   "nbconvert_exporter": "python",
   "pygments_lexer": "ipython3",
   "version": "3.7.6"
  }
 },
 "nbformat": 4,
 "nbformat_minor": 4
}
